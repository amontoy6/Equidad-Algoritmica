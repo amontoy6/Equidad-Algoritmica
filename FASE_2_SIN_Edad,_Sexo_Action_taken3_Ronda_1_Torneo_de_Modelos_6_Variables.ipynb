{
  "cells": [
    {
      "cell_type": "code",
      "execution_count": null,
      "metadata": {
        "colab": {
          "base_uri": "https://localhost:8080/"
        },
        "id": "-U4QUPjqqMoT",
        "outputId": "9ba235fb-a969-4b54-8653-70b601cc6334"
      },
      "outputs": [
        {
          "output_type": "stream",
          "name": "stdout",
          "text": [
            "Mounted at /content/drive\n"
          ]
        }
      ],
      "source": [
        "from google.colab import drive\n",
        "drive.mount('/content/drive')"
      ]
    },
    {
      "cell_type": "code",
      "source": [
        "pip install catboost"
      ],
      "metadata": {
        "colab": {
          "base_uri": "https://localhost:8080/"
        },
        "id": "dz_kMg_ifcod",
        "outputId": "6e1ac85f-9ade-4484-811b-4cc2294df163"
      },
      "execution_count": null,
      "outputs": [
        {
          "output_type": "stream",
          "name": "stdout",
          "text": [
            "Collecting catboost\n",
            "  Downloading catboost-1.2.3-cp310-cp310-manylinux2014_x86_64.whl (98.5 MB)\n",
            "\u001b[2K     \u001b[90m━━━━━━━━━━━━━━━━━━━━━━━━━━━━━━━━━━━━━━━━\u001b[0m \u001b[32m98.5/98.5 MB\u001b[0m \u001b[31m6.2 MB/s\u001b[0m eta \u001b[36m0:00:00\u001b[0m\n",
            "\u001b[?25hRequirement already satisfied: graphviz in /usr/local/lib/python3.10/dist-packages (from catboost) (0.20.1)\n",
            "Requirement already satisfied: matplotlib in /usr/local/lib/python3.10/dist-packages (from catboost) (3.7.1)\n",
            "Requirement already satisfied: numpy>=1.16.0 in /usr/local/lib/python3.10/dist-packages (from catboost) (1.25.2)\n",
            "Requirement already satisfied: pandas>=0.24 in /usr/local/lib/python3.10/dist-packages (from catboost) (1.5.3)\n",
            "Requirement already satisfied: scipy in /usr/local/lib/python3.10/dist-packages (from catboost) (1.11.4)\n",
            "Requirement already satisfied: plotly in /usr/local/lib/python3.10/dist-packages (from catboost) (5.15.0)\n",
            "Requirement already satisfied: six in /usr/local/lib/python3.10/dist-packages (from catboost) (1.16.0)\n",
            "Requirement already satisfied: python-dateutil>=2.8.1 in /usr/local/lib/python3.10/dist-packages (from pandas>=0.24->catboost) (2.8.2)\n",
            "Requirement already satisfied: pytz>=2020.1 in /usr/local/lib/python3.10/dist-packages (from pandas>=0.24->catboost) (2023.4)\n",
            "Requirement already satisfied: contourpy>=1.0.1 in /usr/local/lib/python3.10/dist-packages (from matplotlib->catboost) (1.2.0)\n",
            "Requirement already satisfied: cycler>=0.10 in /usr/local/lib/python3.10/dist-packages (from matplotlib->catboost) (0.12.1)\n",
            "Requirement already satisfied: fonttools>=4.22.0 in /usr/local/lib/python3.10/dist-packages (from matplotlib->catboost) (4.49.0)\n",
            "Requirement already satisfied: kiwisolver>=1.0.1 in /usr/local/lib/python3.10/dist-packages (from matplotlib->catboost) (1.4.5)\n",
            "Requirement already satisfied: packaging>=20.0 in /usr/local/lib/python3.10/dist-packages (from matplotlib->catboost) (24.0)\n",
            "Requirement already satisfied: pillow>=6.2.0 in /usr/local/lib/python3.10/dist-packages (from matplotlib->catboost) (9.4.0)\n",
            "Requirement already satisfied: pyparsing>=2.3.1 in /usr/local/lib/python3.10/dist-packages (from matplotlib->catboost) (3.1.2)\n",
            "Requirement already satisfied: tenacity>=6.2.0 in /usr/local/lib/python3.10/dist-packages (from plotly->catboost) (8.2.3)\n",
            "Installing collected packages: catboost\n",
            "Successfully installed catboost-1.2.3\n"
          ]
        }
      ]
    },
    {
      "cell_type": "markdown",
      "source": [
        "# CARGA DE LIBRERIAS"
      ],
      "metadata": {
        "id": "EjVbK7peB-JO"
      }
    },
    {
      "cell_type": "code",
      "execution_count": null,
      "metadata": {
        "id": "FOtPJP40qXVi"
      },
      "outputs": [],
      "source": [
        "import pandas as pd\n",
        "import numpy as np\n",
        "import seaborn as sns\n",
        "import matplotlib.pyplot as plt\n",
        "%matplotlib inline\n",
        "sns.set_theme(style=\"darkgrid\", palette=\"pastel\")\n",
        "sns.set(rc={'figure.figsize':(10,10)})\n",
        "from scipy.stats import ttest_ind\n",
        "import pandas as pd\n",
        "from sklearn.model_selection import StratifiedShuffleSplit\n",
        "from sklearn.metrics import confusion_matrix\n",
        "from sklearn.preprocessing import StandardScaler\n",
        "from sklearn.decomposition import PCA\n",
        "from sklearn.naive_bayes import GaussianNB\n",
        "from sklearn.neighbors import KNeighborsClassifier\n",
        "from sklearn.linear_model import LogisticRegression\n",
        "from sklearn.model_selection import GridSearchCV\n",
        "from sklearn.model_selection import StratifiedKFold\n",
        "from sklearn.preprocessing import LabelEncoder\n",
        "from sklearn.model_selection import train_test_split\n",
        "from sklearn.metrics import accuracy_score\n",
        "from sklearn.feature_selection import SelectFromModel\n",
        "from sklearn.preprocessing import LabelEncoder\n",
        "from catboost import CatBoostClassifier\n",
        "from sklearn.metrics import accuracy_score\n",
        "from sklearn.utils import resample\n",
        "from sklearn.model_selection import StratifiedShuffleSplit, StratifiedKFold\n",
        "from sklearn.metrics import confusion_matrix, classification_report\n",
        "from sklearn.preprocessing import StandardScaler, LabelEncoder\n",
        "from sklearn.decomposition import PCA\n",
        "from sklearn.naive_bayes import GaussianNB\n",
        "from sklearn.neighbors import KNeighborsClassifier\n",
        "from sklearn.linear_model import LogisticRegression\n",
        "from sklearn.ensemble import RandomForestClassifier, GradientBoostingClassifier\n",
        "from sklearn.model_selection import GridSearchCV, train_test_split\n",
        "from sklearn.feature_selection import SelectFromModel\n",
        "from catboost import CatBoostClassifier\n",
        "from xgboost import XGBClassifier\n",
        "from sklearn.metrics import accuracy_score\n",
        "from sklearn.utils import resample\n",
        "from sklearn.metrics import accuracy_score"
      ]
    },
    {
      "cell_type": "markdown",
      "source": [
        "# CARGA INFORMACIÓN"
      ],
      "metadata": {
        "id": "pcm9v2igCL7e"
      }
    },
    {
      "cell_type": "code",
      "execution_count": null,
      "metadata": {
        "id": "wQYOmU4zqab7"
      },
      "outputs": [],
      "source": [
        "import pandas as pd\n",
        "\n",
        "# Reemplaza la ruta con la ubicación de tu archivo Stata (.dta)\n",
        "file_path = \"/content/drive/MyDrive/Proyecto Grado/HDMA/Version Final/LAR_18_19_Muestra.dta\"\n",
        "\n",
        "# Cargar el archivo Stata en un DataFrame\n",
        "data = pd.read_stata(file_path)\n"
      ]
    },
    {
      "cell_type": "code",
      "source": [
        "# Convertir valores de action_taken2 a minúsculas\n",
        "data['action_taken2'] = data['action_taken2'].str.lower()\n",
        "\n",
        "# Mapeo de los valores de action_taken2 a los valores correspondientes en action_taken3\n",
        "mapping = {\n",
        "    'aprobado': 'Otorgado',\n",
        "    'negado': 'No Otorgado',\n",
        "    'no finalizado': 'No Otorgado'\n",
        "}\n",
        "\n",
        "# Crear la nueva columna action_taken3 basada en los valores de action_taken2\n",
        "data['action_taken3'] = data['action_taken2'].replace(mapping)"
      ],
      "metadata": {
        "id": "LSUBnFLWCa8k"
      },
      "execution_count": null,
      "outputs": []
    },
    {
      "cell_type": "code",
      "source": [
        "# Convertir valores a cadenas y guardar los originales en nuevas columnas\n",
        "columns_to_check = ['protegido_edad', 'no_protegido_edad', 'protegido_mujer', 'no_protegido_hombre', 'protegido_raza', 'no_protegido_raza']\n",
        "\n",
        "for column in columns_to_check:\n",
        "    # Crear una nueva columna con el nombre original + '_antes_conversion'\n",
        "    data[column + '_antes_conversion'] = data[column]\n",
        "    # Convertir los valores a numéricos\n",
        "    data[column] = pd.to_numeric(data[column], errors='coerce')\n",
        "\n",
        "import numpy as np\n",
        "\n",
        "# Crear la nueva columna 'poblacion_protegida' basada en las condiciones\n",
        "data['poblacion_protegida'] = np.where(\n",
        "    (data['protegido_edad'] == 1) |\n",
        "    (data['protegido_mujer'] == 1) |\n",
        "    (data['protegido_raza'] == 1),\n",
        "    1,  # Si alguna de las condiciones se cumple, asigna 1\n",
        "    np.where(\n",
        "        (data['no_protegido_edad'] == 1) |\n",
        "        (data['no_protegido_hombre'] == 1) |\n",
        "        (data['no_protegido_raza'] == 1),\n",
        "        0,  # Si alguna de las condiciones se cumple, asigna 0\n",
        "        np.nan  # Si ninguna de las condiciones se cumple, asigna NaN por defecto\n",
        "    )\n",
        ")\n",
        "\n",
        "# Crear una nueva columna 'poblacion_protegida_nueva' basada en las condiciones\n",
        "data['poblacion_protegida_nueva'] = np.where(\n",
        "    (data['protegido_edad'] == 1) |\n",
        "    (data['protegido_mujer'] == 1) |\n",
        "    (data['protegido_raza'] == 1),\n",
        "    1,  # Si alguna de las condiciones se cumple, asigna 1\n",
        "    np.where(\n",
        "        (data['no_protegido_edad'] == 1) |\n",
        "        (data['no_protegido_hombre'] == 1) |\n",
        "        (data['no_protegido_raza'] == 1),\n",
        "        0,  # Si alguna de las condiciones se cumple, asigna 0\n",
        "        np.nan  # Si ninguna de las condiciones se cumple, asigna NaN por defecto\n",
        "    )\n",
        ")\n"
      ],
      "metadata": {
        "id": "Y7jxybFbCeRG"
      },
      "execution_count": null,
      "outputs": []
    },
    {
      "cell_type": "code",
      "source": [
        "#{-2.0: 'Protegido', 3.000004: 'No Protegido' Se transforma a 1}\n",
        "print(data['poblacion_protegida'].value_counts())"
      ],
      "metadata": {
        "colab": {
          "base_uri": "https://localhost:8080/"
        },
        "id": "3-gBfQpgCmdR",
        "outputId": "a36e39f6-8bfe-4c0d-d771-c2f030152c81"
      },
      "execution_count": null,
      "outputs": [
        {
          "output_type": "stream",
          "name": "stdout",
          "text": [
            "1.0    531022\n",
            "0.0    468978\n",
            "Name: poblacion_protegida, dtype: int64\n"
          ]
        }
      ]
    },
    {
      "cell_type": "code",
      "source": [
        "#{-2.0: 'Protegido', 3.000004: 'No Protegido' Se transforma a 1}\n",
        "print(data['poblacion_protegida_nueva'].value_counts())"
      ],
      "metadata": {
        "colab": {
          "base_uri": "https://localhost:8080/"
        },
        "id": "zaSY1CGzCm91",
        "outputId": "0d4bdcc0-51a1-4f74-8dac-2ff30e5d2692"
      },
      "execution_count": null,
      "outputs": [
        {
          "output_type": "stream",
          "name": "stdout",
          "text": [
            "1.0    531022\n",
            "0.0    468978\n",
            "Name: poblacion_protegida_nueva, dtype: int64\n"
          ]
        }
      ]
    },
    {
      "cell_type": "code",
      "source": [
        "print(\"Valores únicos en protegido_edad:\", data['protegido_edad'].unique())\n",
        "print(\"Valores únicos en no_protegido_edad:\", data['protegido_edad'].unique())\n",
        "print(\"Valores únicos en protegido_mujer:\", data['protegido_mujer'].unique())\n",
        "print(\"Valores únicos en no_protegido_hombre:\", data['protegido_mujer'].unique())\n",
        "print(\"Valores únicos en protegido_raza:\", data['protegido_raza'].unique())\n",
        "print(\"Valores únicos en no_protegido_raza:\", data['protegido_raza'].unique())\n"
      ],
      "metadata": {
        "colab": {
          "base_uri": "https://localhost:8080/"
        },
        "id": "AB38IvntCstJ",
        "outputId": "d30b9442-4078-4d21-c669-439fdbb6a8a4"
      },
      "execution_count": null,
      "outputs": [
        {
          "output_type": "stream",
          "name": "stdout",
          "text": [
            "Valores únicos en protegido_edad: [0 1]\n",
            "Valores únicos en no_protegido_edad: [0 1]\n",
            "Valores únicos en protegido_mujer: [1 0]\n",
            "Valores únicos en no_protegido_hombre: [1 0]\n",
            "Valores únicos en protegido_raza: [1 0]\n",
            "Valores únicos en no_protegido_raza: [1 0]\n"
          ]
        }
      ]
    },
    {
      "cell_type": "code",
      "source": [
        "# Información sobre tipos de datos y valores nulos\n",
        "print(data.info())"
      ],
      "metadata": {
        "colab": {
          "base_uri": "https://localhost:8080/"
        },
        "id": "P6ouoPFVHGh-",
        "outputId": "0e875daa-a58d-48ea-82a9-aefc61fa9722"
      },
      "execution_count": null,
      "outputs": [
        {
          "output_type": "stream",
          "name": "stdout",
          "text": [
            "<class 'pandas.core.frame.DataFrame'>\n",
            "Int64Index: 1000000 entries, 0 to 999999\n",
            "Data columns (total 70 columns):\n",
            " #   Column                                Non-Null Count    Dtype   \n",
            "---  ------                                --------------    -----   \n",
            " 0   activity_year                         1000000 non-null  int16   \n",
            " 1   lei                                   1000000 non-null  object  \n",
            " 2   state_code                            1000000 non-null  object  \n",
            " 3   county_code                           1000000 non-null  object  \n",
            " 4   action_taken                          1000000 non-null  category\n",
            " 5   purchaser_type                        1000000 non-null  category\n",
            " 6   preapproval                           1000000 non-null  int8    \n",
            " 7   loan_type                             1000000 non-null  category\n",
            " 8   loan_purpose                          1000000 non-null  category\n",
            " 9   lien_status                           1000000 non-null  int8    \n",
            " 10  reverse_mortgage                      973978 non-null   float64 \n",
            " 11  open_end_line_of_credit               974190 non-null   float64 \n",
            " 12  business_or_commercial_purpose        974161 non-null   float64 \n",
            " 13  loan_amount                           1000000 non-null  int32   \n",
            " 14  combined_loan_to_value_ratio          701585 non-null   float64 \n",
            " 15  interest_rate                         628255 non-null   float64 \n",
            " 16  rate_spread                           537791 non-null   float64 \n",
            " 17  hoepa_status                          1000000 non-null  category\n",
            " 18  total_loan_costs                      489783 non-null   float64 \n",
            " 19  total_points_and_fees                 5839 non-null     float64 \n",
            " 20  origination_charges                   490672 non-null   float64 \n",
            " 21  discount_points                       170575 non-null   float64 \n",
            " 22  lender_credits                        196770 non-null   float64 \n",
            " 23  loan_term                             961136 non-null   float64 \n",
            " 24  prepayment_penalty_term               46380 non-null    float64 \n",
            " 25  intro_rate_period                     164157 non-null   float64 \n",
            " 26  negative_amortization                 973747 non-null   float64 \n",
            " 27  interest_only_payment                 973747 non-null   float64 \n",
            " 28  balloon_payment                       973747 non-null   float64 \n",
            " 29  other_nonamortizing_features          973747 non-null   float64 \n",
            " 30  property_value                        782201 non-null   float64 \n",
            " 31  construction_method                   1000000 non-null  category\n",
            " 32  occupancy_type                        1000000 non-null  category\n",
            " 33  manufactured_home_secured_proper      1000000 non-null  category\n",
            " 34  manufactured_home_land_property_      1000000 non-null  category\n",
            " 35  multifamily_affordable_units          212 non-null      float64 \n",
            " 36  income                                957551 non-null   float64 \n",
            " 37  applicant_credit_score_type           1000000 non-null  category\n",
            " 38  applicant_ethnicity_1                 999646 non-null   category\n",
            " 39  applicant_race_1                      1000000 non-null  category\n",
            " 40  applicant_sex                         1000000 non-null  category\n",
            " 41  submission_of_application             974115 non-null   category\n",
            " 42  initially_payable_to_institution      974115 non-null   category\n",
            " 43  denial_reason_1                       1000000 non-null  category\n",
            " 44  denial_reason_2                       39487 non-null    category\n",
            " 45  denial_reason_3                       6998 non-null     category\n",
            " 46  denial_reason_4                       652 non-null      category\n",
            " 47  applicant_age                         1000000 non-null  category\n",
            " 48  applicant_age_above_62                992442 non-null   float64 \n",
            " 49  total_units                           1000000 non-null  category\n",
            " 50  debt_to_income_ratio                  336026 non-null   category\n",
            " 51  conforming_loan_limit                 1000000 non-null  category\n",
            " 52  derived_loan_product_type             1000000 non-null  category\n",
            " 53  derived_dwelling_category             1000000 non-null  category\n",
            " 54  action_taken2                         1000000 non-null  object  \n",
            " 55  protegido_edad                        1000000 non-null  int8    \n",
            " 56  no_protegido_edad                     1000000 non-null  int8    \n",
            " 57  protegido_mujer                       1000000 non-null  int8    \n",
            " 58  no_protegido_hombre                   1000000 non-null  int8    \n",
            " 59  protegido_raza                        1000000 non-null  int8    \n",
            " 60  no_protegido_raza                     1000000 non-null  int8    \n",
            " 61  action_taken3                         1000000 non-null  object  \n",
            " 62  protegido_edad_antes_conversion       1000000 non-null  int8    \n",
            " 63  no_protegido_edad_antes_conversion    1000000 non-null  int8    \n",
            " 64  protegido_mujer_antes_conversion      1000000 non-null  int8    \n",
            " 65  no_protegido_hombre_antes_conversion  1000000 non-null  int8    \n",
            " 66  protegido_raza_antes_conversion       1000000 non-null  int8    \n",
            " 67  no_protegido_raza_antes_conversion    1000000 non-null  int8    \n",
            " 68  poblacion_protegida                   1000000 non-null  float64 \n",
            " 69  poblacion_protegida_nueva             1000000 non-null  float64 \n",
            "dtypes: category(25), float64(24), int16(1), int32(1), int8(14), object(5)\n",
            "memory usage: 271.8+ MB\n",
            "None\n"
          ]
        }
      ]
    },
    {
      "cell_type": "markdown",
      "source": [
        "# MODELAMIENTO Y SELECCION DE MEJOR MODELO"
      ],
      "metadata": {
        "id": "xvNT1_IxE0kv"
      }
    },
    {
      "cell_type": "markdown",
      "metadata": {
        "id": "eEbPOdckxAcE"
      },
      "source": [
        "Se abordan los siguientes pasos:\n",
        "\n",
        "Preparar el conjunto de datos\n",
        "Dividir en el entrenamiento y la prueba\n",
        "Transformar/Codificar las etiquetas de las variables\n",
        "PExplorar diferents modelos de clasificacion\n",
        "Compara el desempeño de todos los modelos.\n",
        "Seleccionar un  modelo ganador y ajuste los hiperparámetros para obtener una mayor precisión.\n",
        "Evaluación detallada de resultado con una matriz de confusión y diferentes medidas.\n",
        "Características más importantes para predecir la calificación."
      ]
    },
    {
      "cell_type": "markdown",
      "metadata": {
        "id": "sWQXJCIKxM3Y"
      },
      "source": [
        "Preparacion del Data SET"
      ]
    },
    {
      "cell_type": "code",
      "source": [
        "# Crear un nuevo DataFrame con solo las columnas seleccionadas\n",
        "from sklearn.preprocessing import LabelEncoder\n",
        "from sklearn.model_selection import train_test_split\n",
        "from sklearn.pipeline import Pipeline\n",
        "from sklearn.impute import SimpleImputer\n",
        "from sklearn.preprocessing import OneHotEncoder\n",
        "from sklearn.compose import ColumnTransformer\n",
        "\n",
        "\n",
        "# Lista de columnas seleccionadas\n",
        "columnas_seleccionadas = ['action_taken3', 'income', 'loan_amount', 'loan_purpose', 'loan_type', 'debt_to_income_ratio','combined_loan_to_value_ratio']\n",
        "df = data[columnas_seleccionadas].copy()\n",
        "\n",
        "\n",
        "# Usar LabelEncoder para transformar la columna 'action_taken2'\n",
        "\n",
        "label_encoder_action_taken3 = LabelEncoder()\n",
        "df['action_taken3'] = label_encoder_action_taken3.fit_transform(df['action_taken3'])\n",
        "\n",
        "# Convertir variables categóricas a numéricas y mapear clases de 'action_taken2' a números\n",
        "label_encoder = LabelEncoder()\n",
        "#df['purchaser_type'] = label_encoder.fit_transform(df['purchaser_type'])\n",
        "#df['preapproval'] = label_encoder.fit_transform(df['preapproval'])\n",
        "df['loan_type'] = label_encoder.fit_transform(df['loan_type'])\n",
        "df['loan_purpose'] = label_encoder.fit_transform(df['loan_purpose'])\n",
        "#df['lien_status'] = label_encoder.fit_transform(df['lien_status'])\n",
        "#f['hoepa_status'] = label_encoder.fit_transform(df['hoepa_status'])\n",
        "#df['occupancy_type'] = label_encoder.fit_transform(df['occupancy_type'])\n",
        "#df['applicant_credit_score_type'] = label_encoder.fit_transform(df['applicant_credit_score_type'])\n",
        "#df['manufactured_home_land_property_'] = label_encoder.fit_transform(df['manufactured_home_land_property_'])\n",
        "#df['applicant_sex'] = label_encoder.fit_transform(df['applicant_sex'])\n",
        "#df['conforming_loan_limit'] = label_encoder.fit_transform(df['conforming_loan_limit'])\n",
        "#df['derived_loan_product_type'] = label_encoder.fit_transform(df['derived_loan_product_type'])\n",
        "#df['applicant_race_1'] = label_encoder.fit_transform(df['applicant_race_1'])\n",
        "#df['applicant_ethnicity_1'] = label_encoder.fit_transform(df['applicant_ethnicity_1'])\n",
        "df['debt_to_income_ratio'] = label_encoder.fit_transform(df['debt_to_income_ratio'])\n",
        "\n",
        "# Definir la función para mapear 'action_taken2' a 'aprobado'\n",
        "def map_approval(action_taken3):\n",
        "    # Define aquí tus criterios para determinar si un préstamo fue aprobado o no\n",
        "    # Por ejemplo, si action_taken es 1, considera que el préstamo fue aprobado (1); de lo contrario, no aprobado (0)\n",
        "    if action_taken3 == 1:\n",
        "        return 1\n",
        "    else:\n",
        "        return 0\n",
        "\n",
        "# Aplicar la función para crear la columna 'aprobado'\n",
        "#df['otorgado'] = df['action_taken3'].apply(map_approval)\n",
        "\n",
        "# Dividir el conjunto de datos en características (X) y etiquetas (y)\n",
        "#X = df.drop(['otorgado', 'action_taken3'], axis=1)  # Excluir 'aprobado' y 'action_taken2' de las características\n",
        "#y = df['otorgado']  # Usar 'aprobado' como variable de respuesta\n",
        "\n",
        "# Dividir el conjunto de datos en características (X) y etiquetas (y)\n",
        "X = df.drop(['action_taken3'], axis=1)  # Excluir 'action_taken3' de las características\n",
        "y = df['action_taken3']  # Usar 'action_taken3' como variable de respuesta\n",
        "\n",
        "# Dividir el conjunto de datos en entrenamiento y prueba\n",
        "X_train, X_test, y_train, y_test = train_test_split(X, y, test_size=0.2, random_state=42)\n",
        "\n",
        "# Resto del código...\n",
        "# Definir las transformaciones para las variables numéricas y categóricas\n",
        "numeric_features = ['loan_amount',\n",
        "                    'income','combined_loan_to_value_ratio']\n",
        "categorical_features = ['applicant_sex','loan_purpose', 'loan_type', 'lien_status','debt_to_income_ratio']\n",
        "\n",
        "# Crear el transformador para datos numéricos\n",
        "numeric_transformer = Pipeline(steps=[\n",
        "    ('imputer', SimpleImputer(strategy='mean')),  # Imputación de valores faltantes con la media\n",
        "    ('scaler', StandardScaler())  # Estandarización de las variables\n",
        "])\n",
        "\n",
        "# Crear el transformador para datos categóricos\n",
        "categorical_transformer = Pipeline(steps=[\n",
        "    ('imputer', SimpleImputer(strategy='most_frequent')),  # Imputación de valores faltantes con la moda\n",
        "    ('encoder', OneHotEncoder(drop='first'))  # Codificación one-hot\n",
        "])\n",
        "\n",
        "# Combinar transformadores\n",
        "preprocessor = ColumnTransformer(\n",
        "    transformers=[\n",
        "        ('num', numeric_transformer, numeric_features),\n",
        "        ('cat', categorical_transformer, categorical_features)\n",
        "    ])\n",
        "\n"
      ],
      "metadata": {
        "id": "XxcgWfYrIQ2J"
      },
      "execution_count": null,
      "outputs": []
    },
    {
      "cell_type": "markdown",
      "metadata": {
        "id": "Q4Nm6TBvx6hV"
      },
      "source": [
        "Entrenamiento de Modelos"
      ]
    },
    {
      "cell_type": "markdown",
      "source": [
        "# XG BOOST"
      ],
      "metadata": {
        "id": "dfGFXxPIYsUk"
      }
    },
    {
      "cell_type": "code",
      "execution_count": null,
      "metadata": {
        "colab": {
          "base_uri": "https://localhost:8080/"
        },
        "id": "hIELCkYEye5b",
        "outputId": "785749a7-3993-43c8-9ba2-8bebb23583e0"
      },
      "outputs": [
        {
          "output_type": "stream",
          "name": "stdout",
          "text": [
            "XGB Accuracy: 0.80159\n",
            "XGB Confusion Matrix:\n",
            "[[ 46748  22308]\n",
            " [ 17374 113570]]\n",
            "XGB Classification Report:\n",
            "              precision    recall  f1-score   support\n",
            "\n",
            "           0       0.73      0.68      0.70     69056\n",
            "           1       0.84      0.87      0.85    130944\n",
            "\n",
            "    accuracy                           0.80    200000\n",
            "   macro avg       0.78      0.77      0.78    200000\n",
            "weighted avg       0.80      0.80      0.80    200000\n",
            "\n"
          ]
        }
      ],
      "source": [
        "\n",
        "# Entrenar el modelo XGBoost\n",
        "XGB_model = XGBClassifier(objective='multi:softmax', num_class=3, random_state=0)\n",
        "XGB_model.fit(X_train, y_train)\n",
        "\n",
        "# Hacer predicciones en el conjunto de prueba\n",
        "y_pred_XGB = XGB_model.predict(X_test)\n",
        "\n",
        "# Evaluar el rendimiento del modelo\n",
        "accuracy_XGB = accuracy_score(y_test, y_pred_XGB)\n",
        "conf_matrix_XGB = confusion_matrix(y_test, y_pred_XGB)\n",
        "classification_rep_XGB = classification_report(y_test, y_pred_XGB)\n",
        "\n",
        "# Imprimir métricas de rendimiento para XGBoost\n",
        "print(f'XGB Accuracy: {accuracy_XGB}')\n",
        "print(f'XGB Confusion Matrix:\\n{conf_matrix_XGB}')\n",
        "print(f'XGB Classification Report:\\n{classification_rep_XGB}')\n"
      ]
    },
    {
      "cell_type": "code",
      "source": [
        "import matplotlib.pyplot as plt\n",
        "import seaborn as sns\n",
        "from sklearn.metrics import confusion_matrix\n",
        "\n",
        "# Calcular la matriz de confusión\n",
        "conf_matrix = confusion_matrix(y_test, y_pred_XGB)\n",
        "\n",
        "# Visualizar la matriz de confusión con Seaborn\n",
        "plt.figure(figsize=(4, 4))\n",
        "sns.heatmap(conf_matrix, annot=True, fmt='d', cmap='Blues', cbar=False)\n",
        "plt.title('Matriz de Confusión - XGBoost')\n",
        "plt.xlabel('Etiqueta Predicha')\n",
        "plt.ylabel('Etiqueta Real')\n",
        "plt.show()\n",
        "\n"
      ],
      "metadata": {
        "colab": {
          "base_uri": "https://localhost:8080/",
          "height": 419
        },
        "id": "jZHXEDex4YNR",
        "outputId": "8369a50f-3c6e-4d96-a9cc-ace9c15bd0cc"
      },
      "execution_count": null,
      "outputs": [
        {
          "output_type": "display_data",
          "data": {
            "text/plain": [
              "<Figure size 400x400 with 1 Axes>"
            ],
            "image/png": "[encoded data removed]"
          },
          "metadata": {}
        }
      ]
    },
    {
      "cell_type": "code",
      "source": [
        "# Obtener las etiquetas originales del LabelEncoder\n",
        "labels = label_encoder_action_taken3.classes_\n",
        "\n",
        "# Crear una nueva matriz de confusión con etiquetas originales\n",
        "conf_matrix_labels = confusion_matrix(y_test, y_pred_XGB)\n",
        "\n",
        "# Crear un dataframe de la matriz de confusión con etiquetas originales\n",
        "conf_matrix_labels_df = pd.DataFrame(conf_matrix_labels, index=labels, columns=labels)\n",
        "classification_rep_XGB = classification_report(y_test, y_pred_XGB)\n",
        "\n",
        "# Imprimir métricas de rendimiento para XGBoost\n",
        "print(f'XGB Classification Report:\\n{classification_rep_XGB}')\n",
        "\n",
        "# Visualizar la matriz de confusión con etiquetas originales\n",
        "plt.figure(figsize=(4, 4))\n",
        "sns.heatmap(conf_matrix_labels_df, annot=True, fmt='d', cmap='Blues', cbar=False)\n",
        "plt.title('Matriz de Confusión - XGBoost')\n",
        "plt.xlabel('Etiqueta Predicha')\n",
        "plt.ylabel('Etiqueta Real')\n",
        "plt.show()\n"
      ],
      "metadata": {
        "colab": {
          "base_uri": "https://localhost:8080/",
          "height": 593
        },
        "id": "_pRTfpxRG1MT",
        "outputId": "06141942-7e1b-4898-fc96-7aa73388d64b"
      },
      "execution_count": null,
      "outputs": [
        {
          "output_type": "stream",
          "name": "stdout",
          "text": [
            "XGB Classification Report:\n",
            "              precision    recall  f1-score   support\n",
            "\n",
            "           0       0.73      0.68      0.70     69056\n",
            "           1       0.84      0.87      0.85    130944\n",
            "\n",
            "    accuracy                           0.80    200000\n",
            "   macro avg       0.78      0.77      0.78    200000\n",
            "weighted avg       0.80      0.80      0.80    200000\n",
            "\n"
          ]
        },
        {
          "output_type": "display_data",
          "data": {
            "text/plain": [
              "<Figure size 400x400 with 1 Axes>"
            ],
            "image/png": "[encoded data removed]"
          },
          "metadata": {}
        }
      ]
    },
    {
      "cell_type": "code",
      "source": [
        "# Obtener las etiquetas originales del LabelEncoder\n",
        "labels_original = label_encoder_action_taken3.inverse_transform([0, 1])\n",
        "\n",
        "# Crear una nueva matriz de confusión con etiquetas originales\n",
        "conf_matrix_labels_df = pd.DataFrame(conf_matrix_labels, index=labels_original, columns=labels_original)\n",
        "\n",
        "# Imprimir la matriz de confusión con etiquetas originales\n",
        "print('XGB Confusion Matrix:')\n",
        "print(conf_matrix_labels_df)\n",
        "\n",
        "# Imprimir el informe de clasificación con etiquetas originales\n",
        "classification_rep_XGB_original = classification_report(y_test, y_pred_XGB, target_names=labels_original)\n",
        "print(f'XGB Accuracy: {accuracy_XGB}')\n",
        "print(f'XGB Confusion Matrix:\\n{conf_matrix_XGB}')\n",
        "#print('XGB Classification Report:')\n",
        "#print(classification_rep_XGB_original)\n",
        "\n",
        "# Visualizar la matriz de confusión con etiquetas originales\n",
        "plt.figure(figsize=(4, 4))\n",
        "sns.heatmap(conf_matrix_labels_df, annot=True, fmt='d', cmap='Blues', cbar=False)\n",
        "plt.title('Matriz de Confusión - XGBoost')\n",
        "plt.xlabel('Etiqueta Predicha')\n",
        "plt.ylabel('Etiqueta Real')\n",
        "plt.show()\n",
        "\n"
      ],
      "metadata": {
        "colab": {
          "base_uri": "https://localhost:8080/",
          "height": 558
        },
        "id": "2neZb9MyUIEB",
        "outputId": "91747ec6-23e8-4c4c-a11a-b0024e2df72c"
      },
      "execution_count": null,
      "outputs": [
        {
          "output_type": "stream",
          "name": "stdout",
          "text": [
            "XGB Confusion Matrix:\n",
            "             No Otorgado  Otorgado\n",
            "No Otorgado        46748     22308\n",
            "Otorgado           17374    113570\n",
            "XGB Accuracy: 0.80159\n",
            "XGB Confusion Matrix:\n",
            "[[ 46748  22308]\n",
            " [ 17374 113570]]\n"
          ]
        },
        {
          "output_type": "display_data",
          "data": {
            "text/plain": [
              "<Figure size 400x400 with 1 Axes>"
            ],
            "image/png": "[encoded data removed]"
          },
          "metadata": {}
        }
      ]
    },
    {
      "cell_type": "markdown",
      "source": [
        "# Gradient Boosting Clasifier"
      ],
      "metadata": {
        "id": "Dmiy64XqYwLC"
      }
    },
    {
      "cell_type": "code",
      "execution_count": null,
      "metadata": {
        "colab": {
          "base_uri": "https://localhost:8080/"
        },
        "id": "Kr0C4vrTys7a",
        "outputId": "43a8781b-50bf-48bb-c219-9b733d1df27e"
      },
      "outputs": [
        {
          "output_type": "stream",
          "name": "stdout",
          "text": [
            "GBT Accuracy: 0.795715\n",
            "GBT Confusion Matrix:\n",
            "[[ 47069  21987]\n",
            " [ 18870 112074]]\n",
            "GBT Classification Report:\n",
            "              precision    recall  f1-score   support\n",
            "\n",
            "           0       0.71      0.68      0.70     69056\n",
            "           1       0.84      0.86      0.85    130944\n",
            "\n",
            "    accuracy                           0.80    200000\n",
            "   macro avg       0.77      0.77      0.77    200000\n",
            "weighted avg       0.79      0.80      0.79    200000\n",
            "\n"
          ]
        }
      ],
      "source": [
        "from sklearn.impute import SimpleImputer\n",
        "from sklearn.ensemble import GradientBoostingClassifier\n",
        "from sklearn.metrics import accuracy_score, confusion_matrix, classification_report\n",
        "\n",
        "# Crear un imputador para reemplazar los valores faltantes con la media\n",
        "imputer = SimpleImputer(strategy='mean')\n",
        "\n",
        "# Imputar valores faltantes en el conjunto de entrenamiento y prueba\n",
        "X_train_imputed = imputer.fit_transform(X_train)\n",
        "X_test_imputed = imputer.transform(X_test)\n",
        "\n",
        "# Entrenar el modelo Gradient Boosting\n",
        "GBT_model = GradientBoostingClassifier(random_state=123)\n",
        "GBT_model.fit(X_train_imputed, y_train)\n",
        "\n",
        "# Hacer predicciones en el conjunto de prueba\n",
        "y_pred_GBT = GBT_model.predict(X_test_imputed)\n",
        "\n",
        "# Evaluar el rendimiento del modelo\n",
        "accuracy_GBT = accuracy_score(y_test, y_pred_GBT)\n",
        "conf_matrix_GBT = confusion_matrix(y_test, y_pred_GBT)\n",
        "classification_rep_GBT = classification_report(y_test, y_pred_GBT)\n",
        "\n",
        "# Imprimir métricas de rendimiento para Gradient Boosting\n",
        "print(f'GBT Accuracy: {accuracy_GBT}')\n",
        "print(f'GBT Confusion Matrix:\\n{conf_matrix_GBT}')\n",
        "print(f'GBT Classification Report:\\n{classification_rep_GBT}')\n"
      ]
    },
    {
      "cell_type": "markdown",
      "source": [
        "# Random Forest"
      ],
      "metadata": {
        "id": "LJ0F_5-cY00K"
      }
    },
    {
      "cell_type": "code",
      "execution_count": null,
      "metadata": {
        "colab": {
          "base_uri": "https://localhost:8080/"
        },
        "id": "K83e4MOYy8Zb",
        "outputId": "6fd7aa6f-6c49-46d4-e413-4300753811d2"
      },
      "outputs": [
        {
          "output_type": "stream",
          "name": "stdout",
          "text": [
            "Random Forest Accuracy: 0.77547\n",
            "Random Forest Confusion Matrix:\n",
            "[[ 43648  25408]\n",
            " [ 19498 111446]]\n",
            "Random Forest Classification Report:\n",
            "              precision    recall  f1-score   support\n",
            "\n",
            "           0       0.69      0.63      0.66     69056\n",
            "           1       0.81      0.85      0.83    130944\n",
            "\n",
            "    accuracy                           0.78    200000\n",
            "   macro avg       0.75      0.74      0.75    200000\n",
            "weighted avg       0.77      0.78      0.77    200000\n",
            "\n"
          ]
        }
      ],
      "source": [
        "from sklearn.impute import SimpleImputer\n",
        "from sklearn.ensemble import RandomForestClassifier\n",
        "from sklearn.metrics import accuracy_score, confusion_matrix, classification_report\n",
        "\n",
        "# Crear un imputador para reemplazar los valores faltantes con la media\n",
        "imputer = SimpleImputer(strategy='mean')\n",
        "\n",
        "# Imputar valores faltantes en el conjunto de entrenamiento y prueba\n",
        "X_train_imputed = imputer.fit_transform(X_train)\n",
        "X_test_imputed = imputer.transform(X_test)\n",
        "\n",
        "# Entrenar el modelo Random Forest\n",
        "RF_model = RandomForestClassifier(n_estimators=100, random_state=0)\n",
        "RF_model.fit(X_train_imputed, y_train)\n",
        "\n",
        "# Hacer predicciones en el conjunto de prueba\n",
        "y_pred_RF = RF_model.predict(X_test_imputed)\n",
        "\n",
        "# Evaluar el rendimiento del modelo\n",
        "accuracy_RF = accuracy_score(y_test, y_pred_RF)\n",
        "conf_matrix_RF = confusion_matrix(y_test, y_pred_RF)\n",
        "classification_rep_RF = classification_report(y_test, y_pred_RF)\n",
        "\n",
        "# Imprimir métricas de rendimiento para Random Forest\n",
        "print(f'Random Forest Accuracy: {accuracy_RF}')\n",
        "print(f'Random Forest Confusion Matrix:\\n{conf_matrix_RF}')\n",
        "print(f'Random Forest Classification Report:\\n{classification_rep_RF}')\n",
        "\n"
      ]
    },
    {
      "cell_type": "markdown",
      "source": [
        "# CatBoost"
      ],
      "metadata": {
        "id": "_Zc0cQNwY4U-"
      }
    },
    {
      "cell_type": "code",
      "execution_count": null,
      "metadata": {
        "colab": {
          "base_uri": "https://localhost:8080/"
        },
        "id": "xozk5d23swOU",
        "outputId": "3aaa54ec-1b2e-40d2-9fa0-cec1843d77a6"
      },
      "outputs": [
        {
          "output_type": "stream",
          "name": "stdout",
          "text": [
            "0:\tlearn: 0.7812988\ttest: 0.7817400\tbest: 0.7817400 (0)\ttotal: 395ms\tremaining: 39.1s\n",
            "1:\tlearn: 0.7839287\ttest: 0.7842550\tbest: 0.7842550 (1)\ttotal: 848ms\tremaining: 41.6s\n",
            "2:\tlearn: 0.7829325\ttest: 0.7840450\tbest: 0.7842550 (1)\ttotal: 1.3s\tremaining: 42.2s\n",
            "3:\tlearn: 0.7845100\ttest: 0.7851500\tbest: 0.7851500 (3)\ttotal: 1.75s\tremaining: 41.9s\n",
            "4:\tlearn: 0.7870575\ttest: 0.7875350\tbest: 0.7875350 (4)\ttotal: 2.24s\tremaining: 42.6s\n",
            "5:\tlearn: 0.7893275\ttest: 0.7898000\tbest: 0.7898000 (5)\ttotal: 2.73s\tremaining: 42.8s\n",
            "6:\tlearn: 0.7904838\ttest: 0.7910950\tbest: 0.7910950 (6)\ttotal: 3.18s\tremaining: 42.2s\n",
            "7:\tlearn: 0.7901375\ttest: 0.7906150\tbest: 0.7910950 (6)\ttotal: 3.59s\tremaining: 41.2s\n",
            "8:\tlearn: 0.7915525\ttest: 0.7920500\tbest: 0.7920500 (8)\ttotal: 3.99s\tremaining: 40.4s\n",
            "9:\tlearn: 0.7921288\ttest: 0.7926700\tbest: 0.7926700 (9)\ttotal: 4.24s\tremaining: 38.2s\n",
            "10:\tlearn: 0.7909625\ttest: 0.7914350\tbest: 0.7926700 (9)\ttotal: 4.48s\tremaining: 36.3s\n",
            "11:\tlearn: 0.7919725\ttest: 0.7924850\tbest: 0.7926700 (9)\ttotal: 4.75s\tremaining: 34.8s\n",
            "12:\tlearn: 0.7919538\ttest: 0.7924750\tbest: 0.7926700 (9)\ttotal: 5.03s\tremaining: 33.6s\n",
            "13:\tlearn: 0.7918238\ttest: 0.7924400\tbest: 0.7926700 (9)\ttotal: 5.29s\tremaining: 32.5s\n",
            "14:\tlearn: 0.7921712\ttest: 0.7927950\tbest: 0.7927950 (14)\ttotal: 5.57s\tremaining: 31.6s\n",
            "15:\tlearn: 0.7929325\ttest: 0.7935200\tbest: 0.7935200 (15)\ttotal: 5.89s\tremaining: 30.9s\n",
            "16:\tlearn: 0.7930875\ttest: 0.7934150\tbest: 0.7935200 (15)\ttotal: 6.15s\tremaining: 30s\n",
            "17:\tlearn: 0.7932275\ttest: 0.7937850\tbest: 0.7937850 (17)\ttotal: 6.39s\tremaining: 29.1s\n",
            "18:\tlearn: 0.7939150\ttest: 0.7942950\tbest: 0.7942950 (18)\ttotal: 6.65s\tremaining: 28.3s\n",
            "19:\tlearn: 0.7939938\ttest: 0.7944450\tbest: 0.7944450 (19)\ttotal: 6.92s\tremaining: 27.7s\n",
            "20:\tlearn: 0.7940525\ttest: 0.7944600\tbest: 0.7944600 (20)\ttotal: 7.16s\tremaining: 26.9s\n",
            "21:\tlearn: 0.7940325\ttest: 0.7944100\tbest: 0.7944600 (20)\ttotal: 7.41s\tremaining: 26.3s\n",
            "22:\tlearn: 0.7942300\ttest: 0.7945800\tbest: 0.7945800 (22)\ttotal: 7.66s\tremaining: 25.6s\n",
            "23:\tlearn: 0.7941487\ttest: 0.7944550\tbest: 0.7945800 (22)\ttotal: 7.92s\tremaining: 25.1s\n",
            "24:\tlearn: 0.7941925\ttest: 0.7945150\tbest: 0.7945800 (22)\ttotal: 8.19s\tremaining: 24.6s\n",
            "25:\tlearn: 0.7941738\ttest: 0.7945200\tbest: 0.7945800 (22)\ttotal: 8.47s\tremaining: 24.1s\n",
            "26:\tlearn: 0.7941750\ttest: 0.7945450\tbest: 0.7945800 (22)\ttotal: 8.75s\tremaining: 23.6s\n",
            "27:\tlearn: 0.7942413\ttest: 0.7947250\tbest: 0.7947250 (27)\ttotal: 9.04s\tremaining: 23.2s\n",
            "28:\tlearn: 0.7946112\ttest: 0.7951450\tbest: 0.7951450 (28)\ttotal: 9.3s\tremaining: 22.8s\n",
            "29:\tlearn: 0.7947563\ttest: 0.7953950\tbest: 0.7953950 (29)\ttotal: 9.58s\tremaining: 22.4s\n",
            "30:\tlearn: 0.7947737\ttest: 0.7954200\tbest: 0.7954200 (30)\ttotal: 9.85s\tremaining: 21.9s\n",
            "31:\tlearn: 0.7949750\ttest: 0.7955750\tbest: 0.7955750 (31)\ttotal: 10.1s\tremaining: 21.6s\n",
            "32:\tlearn: 0.7949837\ttest: 0.7956100\tbest: 0.7956100 (32)\ttotal: 10.4s\tremaining: 21.1s\n",
            "33:\tlearn: 0.7950038\ttest: 0.7957350\tbest: 0.7957350 (33)\ttotal: 10.7s\tremaining: 20.7s\n",
            "34:\tlearn: 0.7949950\ttest: 0.7956950\tbest: 0.7957350 (33)\ttotal: 11s\tremaining: 20.4s\n",
            "35:\tlearn: 0.7950150\ttest: 0.7956200\tbest: 0.7957350 (33)\ttotal: 11.2s\tremaining: 20s\n",
            "36:\tlearn: 0.7950525\ttest: 0.7955850\tbest: 0.7957350 (33)\ttotal: 11.5s\tremaining: 19.6s\n",
            "37:\tlearn: 0.7950913\ttest: 0.7956500\tbest: 0.7957350 (33)\ttotal: 11.8s\tremaining: 19.2s\n",
            "38:\tlearn: 0.7951675\ttest: 0.7958600\tbest: 0.7958600 (38)\ttotal: 12.1s\tremaining: 18.9s\n",
            "39:\tlearn: 0.7952100\ttest: 0.7959350\tbest: 0.7959350 (39)\ttotal: 12.3s\tremaining: 18.5s\n",
            "40:\tlearn: 0.7952500\ttest: 0.7959700\tbest: 0.7959700 (40)\ttotal: 12.6s\tremaining: 18.1s\n",
            "41:\tlearn: 0.7952375\ttest: 0.7960050\tbest: 0.7960050 (41)\ttotal: 12.9s\tremaining: 17.8s\n",
            "42:\tlearn: 0.7953263\ttest: 0.7960800\tbest: 0.7960800 (42)\ttotal: 13.2s\tremaining: 17.4s\n",
            "43:\tlearn: 0.7953187\ttest: 0.7960350\tbest: 0.7960800 (42)\ttotal: 13.4s\tremaining: 17.1s\n",
            "44:\tlearn: 0.7953438\ttest: 0.7960500\tbest: 0.7960800 (42)\ttotal: 13.7s\tremaining: 16.8s\n",
            "45:\tlearn: 0.7953800\ttest: 0.7960850\tbest: 0.7960850 (45)\ttotal: 14s\tremaining: 16.4s\n",
            "46:\tlearn: 0.7953750\ttest: 0.7960650\tbest: 0.7960850 (45)\ttotal: 14.4s\tremaining: 16.3s\n",
            "47:\tlearn: 0.7953837\ttest: 0.7961250\tbest: 0.7961250 (47)\ttotal: 14.9s\tremaining: 16.1s\n",
            "48:\tlearn: 0.7954212\ttest: 0.7961050\tbest: 0.7961250 (47)\ttotal: 15.3s\tremaining: 16s\n",
            "49:\tlearn: 0.7954325\ttest: 0.7961650\tbest: 0.7961650 (49)\ttotal: 15.8s\tremaining: 15.8s\n",
            "50:\tlearn: 0.7954338\ttest: 0.7961600\tbest: 0.7961650 (49)\ttotal: 16.4s\tremaining: 15.7s\n",
            "51:\tlearn: 0.7955288\ttest: 0.7961600\tbest: 0.7961650 (49)\ttotal: 17.2s\tremaining: 15.9s\n",
            "52:\tlearn: 0.7956437\ttest: 0.7961750\tbest: 0.7961750 (52)\ttotal: 17.8s\tremaining: 15.8s\n",
            "53:\tlearn: 0.7957725\ttest: 0.7962950\tbest: 0.7962950 (53)\ttotal: 18.4s\tremaining: 15.7s\n",
            "54:\tlearn: 0.7957987\ttest: 0.7963550\tbest: 0.7963550 (54)\ttotal: 19s\tremaining: 15.5s\n",
            "55:\tlearn: 0.7957962\ttest: 0.7963850\tbest: 0.7963850 (55)\ttotal: 19.5s\tremaining: 15.3s\n",
            "56:\tlearn: 0.7958625\ttest: 0.7964350\tbest: 0.7964350 (56)\ttotal: 20s\tremaining: 15.1s\n",
            "57:\tlearn: 0.7959112\ttest: 0.7963950\tbest: 0.7964350 (56)\ttotal: 20.6s\tremaining: 14.9s\n",
            "58:\tlearn: 0.7958812\ttest: 0.7964150\tbest: 0.7964350 (56)\ttotal: 21.2s\tremaining: 14.7s\n",
            "59:\tlearn: 0.7959575\ttest: 0.7964550\tbest: 0.7964550 (59)\ttotal: 21.7s\tremaining: 14.4s\n",
            "60:\tlearn: 0.7959900\ttest: 0.7964450\tbest: 0.7964550 (59)\ttotal: 22.2s\tremaining: 14.2s\n",
            "61:\tlearn: 0.7960913\ttest: 0.7965600\tbest: 0.7965600 (61)\ttotal: 22.7s\tremaining: 13.9s\n",
            "62:\tlearn: 0.7960438\ttest: 0.7964150\tbest: 0.7965600 (61)\ttotal: 23.2s\tremaining: 13.6s\n",
            "63:\tlearn: 0.7960750\ttest: 0.7964200\tbest: 0.7965600 (61)\ttotal: 23.9s\tremaining: 13.5s\n",
            "64:\tlearn: 0.7961125\ttest: 0.7964500\tbest: 0.7965600 (61)\ttotal: 24.5s\tremaining: 13.2s\n",
            "65:\tlearn: 0.7961263\ttest: 0.7963900\tbest: 0.7965600 (61)\ttotal: 25.1s\tremaining: 12.9s\n",
            "66:\tlearn: 0.7961987\ttest: 0.7964350\tbest: 0.7965600 (61)\ttotal: 25.7s\tremaining: 12.7s\n",
            "67:\tlearn: 0.7961725\ttest: 0.7965000\tbest: 0.7965600 (61)\ttotal: 26.3s\tremaining: 12.4s\n",
            "68:\tlearn: 0.7962438\ttest: 0.7965800\tbest: 0.7965800 (68)\ttotal: 26.9s\tremaining: 12.1s\n",
            "69:\tlearn: 0.7962350\ttest: 0.7965750\tbest: 0.7965800 (68)\ttotal: 27.4s\tremaining: 11.7s\n",
            "70:\tlearn: 0.7962500\ttest: 0.7965900\tbest: 0.7965900 (70)\ttotal: 28s\tremaining: 11.4s\n",
            "71:\tlearn: 0.7962887\ttest: 0.7966600\tbest: 0.7966600 (71)\ttotal: 28.7s\tremaining: 11.2s\n",
            "72:\tlearn: 0.7963675\ttest: 0.7966900\tbest: 0.7966900 (72)\ttotal: 29.5s\tremaining: 10.9s\n",
            "73:\tlearn: 0.7964100\ttest: 0.7967450\tbest: 0.7967450 (73)\ttotal: 30.3s\tremaining: 10.6s\n",
            "74:\tlearn: 0.7964250\ttest: 0.7967500\tbest: 0.7967500 (74)\ttotal: 31s\tremaining: 10.3s\n",
            "75:\tlearn: 0.7964425\ttest: 0.7968250\tbest: 0.7968250 (75)\ttotal: 31.7s\tremaining: 9.99s\n",
            "76:\tlearn: 0.7964488\ttest: 0.7967700\tbest: 0.7968250 (75)\ttotal: 32.2s\tremaining: 9.63s\n",
            "77:\tlearn: 0.7964163\ttest: 0.7968050\tbest: 0.7968250 (75)\ttotal: 32.7s\tremaining: 9.23s\n",
            "78:\tlearn: 0.7965325\ttest: 0.7968950\tbest: 0.7968950 (78)\ttotal: 33.3s\tremaining: 8.86s\n",
            "79:\tlearn: 0.7965712\ttest: 0.7969500\tbest: 0.7969500 (79)\ttotal: 33.9s\tremaining: 8.48s\n",
            "80:\tlearn: 0.7966100\ttest: 0.7969900\tbest: 0.7969900 (80)\ttotal: 34.5s\tremaining: 8.1s\n",
            "81:\tlearn: 0.7965688\ttest: 0.7969850\tbest: 0.7969900 (80)\ttotal: 35.1s\tremaining: 7.7s\n",
            "82:\tlearn: 0.7966500\ttest: 0.7970900\tbest: 0.7970900 (82)\ttotal: 35.7s\tremaining: 7.31s\n",
            "83:\tlearn: 0.7966887\ttest: 0.7971050\tbest: 0.7971050 (83)\ttotal: 36.3s\tremaining: 6.92s\n",
            "84:\tlearn: 0.7966863\ttest: 0.7971200\tbest: 0.7971200 (84)\ttotal: 37s\tremaining: 6.53s\n",
            "85:\tlearn: 0.7967550\ttest: 0.7972200\tbest: 0.7972200 (85)\ttotal: 37.8s\tremaining: 6.14s\n",
            "86:\tlearn: 0.7967988\ttest: 0.7971900\tbest: 0.7972200 (85)\ttotal: 38.5s\tremaining: 5.76s\n",
            "87:\tlearn: 0.7968025\ttest: 0.7972800\tbest: 0.7972800 (87)\ttotal: 39.4s\tremaining: 5.38s\n",
            "88:\tlearn: 0.7968225\ttest: 0.7973100\tbest: 0.7973100 (88)\ttotal: 40.4s\tremaining: 4.99s\n",
            "89:\tlearn: 0.7968688\ttest: 0.7973600\tbest: 0.7973600 (89)\ttotal: 41s\tremaining: 4.55s\n",
            "90:\tlearn: 0.7968800\ttest: 0.7973650\tbest: 0.7973650 (90)\ttotal: 41.6s\tremaining: 4.11s\n",
            "91:\tlearn: 0.7968713\ttest: 0.7973400\tbest: 0.7973650 (90)\ttotal: 42.1s\tremaining: 3.66s\n",
            "92:\tlearn: 0.7968913\ttest: 0.7973600\tbest: 0.7973650 (90)\ttotal: 42.7s\tremaining: 3.21s\n",
            "93:\tlearn: 0.7969563\ttest: 0.7973950\tbest: 0.7973950 (93)\ttotal: 43.4s\tremaining: 2.77s\n",
            "94:\tlearn: 0.7969700\ttest: 0.7974350\tbest: 0.7974350 (94)\ttotal: 44.1s\tremaining: 2.32s\n",
            "95:\tlearn: 0.7969787\ttest: 0.7975000\tbest: 0.7975000 (95)\ttotal: 44.7s\tremaining: 1.86s\n",
            "96:\tlearn: 0.7969725\ttest: 0.7975000\tbest: 0.7975000 (95)\ttotal: 45.4s\tremaining: 1.4s\n",
            "97:\tlearn: 0.7969750\ttest: 0.7975200\tbest: 0.7975200 (97)\ttotal: 46s\tremaining: 939ms\n",
            "98:\tlearn: 0.7970550\ttest: 0.7975750\tbest: 0.7975750 (98)\ttotal: 46.6s\tremaining: 471ms\n",
            "99:\tlearn: 0.7970588\ttest: 0.7975600\tbest: 0.7975750 (98)\ttotal: 47s\tremaining: 0us\n",
            "\n",
            "bestTest = 0.797575\n",
            "bestIteration = 98\n",
            "\n",
            "Shrink model to first 99 iterations.\n",
            "CatBoost Accuracy: 0.797575\n",
            "CatBoost Confusion Matrix:\n",
            "[[ 47217  21839]\n",
            " [ 18646 112298]]\n",
            "CatBoost Classification Report:\n",
            "              precision    recall  f1-score   support\n",
            "\n",
            "           0       0.72      0.68      0.70     69056\n",
            "           1       0.84      0.86      0.85    130944\n",
            "\n",
            "    accuracy                           0.80    200000\n",
            "   macro avg       0.78      0.77      0.77    200000\n",
            "weighted avg       0.80      0.80      0.80    200000\n",
            "\n"
          ]
        }
      ],
      "source": [
        "from catboost import CatBoostClassifier, Pool\n",
        "from sklearn.metrics import accuracy_score, confusion_matrix, classification_report\n",
        "from sklearn.model_selection import train_test_split\n",
        "\n",
        "# Crear un conjunto de datos CatBoost para entrenamiento\n",
        "train_pool_catboost = Pool(X_train, label=y_train)\n",
        "\n",
        "# Crear un conjunto de datos CatBoost para prueba\n",
        "test_pool_catboost = Pool(X_test, label=y_test)\n",
        "\n",
        "# Configurar e instanciar el modelo CatBoost con hiperparámetros y métrica de evaluación\n",
        "CatBoost_model = CatBoostClassifier(\n",
        "    iterations=100,\n",
        "    learning_rate=0.1,\n",
        "    depth=6,\n",
        "    loss_function='MultiClass',  # Especificar la función de pérdida para clasificación multiclase\n",
        "    eval_metric='Accuracy',  # Especificar la métrica de evaluación para clasificación multiclase\n",
        "    random_state=0\n",
        "    # Puedes ajustar más hiperparámetros según sea necesario\n",
        ")\n",
        "\n",
        "# Entrenar el modelo CatBoost\n",
        "CatBoost_model.fit(train_pool_catboost, eval_set=test_pool_catboost)\n",
        "\n",
        "# Hacer predicciones en el conjunto de prueba\n",
        "y_pred_CatBoost = CatBoost_model.predict(X_test)\n",
        "\n",
        "# Evaluar el rendimiento del modelo\n",
        "Accuracy_CatBoost = accuracy_score(y_test, y_pred_CatBoost)\n",
        "conf_matrix_CatBoost = confusion_matrix(y_test, y_pred_CatBoost)\n",
        "classification_rep_CatBoost = classification_report(y_test, y_pred_CatBoost)\n",
        "\n",
        "# Imprimir métricas de rendimiento para CatBoost\n",
        "print(f'CatBoost Accuracy: {Accuracy_CatBoost}')\n",
        "print(f'CatBoost Confusion Matrix:\\n{conf_matrix_CatBoost}')\n",
        "print(f'CatBoost Classification Report:\\n{classification_rep_CatBoost}')\n",
        "\n",
        "\n",
        "\n",
        "\n"
      ]
    },
    {
      "cell_type": "markdown",
      "source": [
        "# Regresion Logistica"
      ],
      "metadata": {
        "id": "w0qy4eXfY8yW"
      }
    },
    {
      "cell_type": "code",
      "execution_count": null,
      "metadata": {
        "colab": {
          "base_uri": "https://localhost:8080/"
        },
        "id": "qaskEPxx1ACg",
        "outputId": "1de8347f-5447-4ace-b662-9bcc437d40c2"
      },
      "outputs": [
        {
          "output_type": "stream",
          "name": "stderr",
          "text": [
            "/usr/local/lib/python3.10/dist-packages/scipy/optimize/_linesearch.py:466: LineSearchWarning: The line search algorithm did not converge\n",
            "  warn('The line search algorithm did not converge', LineSearchWarning)\n",
            "/usr/local/lib/python3.10/dist-packages/scipy/optimize/_linesearch.py:314: LineSearchWarning: The line search algorithm did not converge\n",
            "  warn('The line search algorithm did not converge', LineSearchWarning)\n",
            "/usr/local/lib/python3.10/dist-packages/sklearn/utils/optimize.py:203: UserWarning: Line Search failed\n",
            "  warnings.warn(\"Line Search failed\")\n",
            "/usr/local/lib/python3.10/dist-packages/sklearn/metrics/_classification.py:1344: UndefinedMetricWarning: Precision and F-score are ill-defined and being set to 0.0 in labels with no predicted samples. Use `zero_division` parameter to control this behavior.\n",
            "  _warn_prf(average, modifier, msg_start, len(result))\n",
            "/usr/local/lib/python3.10/dist-packages/sklearn/metrics/_classification.py:1344: UndefinedMetricWarning: Precision and F-score are ill-defined and being set to 0.0 in labels with no predicted samples. Use `zero_division` parameter to control this behavior.\n",
            "  _warn_prf(average, modifier, msg_start, len(result))\n"
          ]
        },
        {
          "output_type": "stream",
          "name": "stdout",
          "text": [
            "LR Accuracy: 0.65472\n",
            "LR Confusion Matrix:\n",
            "[[     0  69056]\n",
            " [     0 130944]]\n",
            "LR Classification Report:\n",
            "              precision    recall  f1-score   support\n",
            "\n",
            "           0       0.00      0.00      0.00     69056\n",
            "           1       0.65      1.00      0.79    130944\n",
            "\n",
            "    accuracy                           0.65    200000\n",
            "   macro avg       0.33      0.50      0.40    200000\n",
            "weighted avg       0.43      0.65      0.52    200000\n",
            "\n"
          ]
        },
        {
          "output_type": "stream",
          "name": "stderr",
          "text": [
            "/usr/local/lib/python3.10/dist-packages/sklearn/metrics/_classification.py:1344: UndefinedMetricWarning: Precision and F-score are ill-defined and being set to 0.0 in labels with no predicted samples. Use `zero_division` parameter to control this behavior.\n",
            "  _warn_prf(average, modifier, msg_start, len(result))\n"
          ]
        }
      ],
      "source": [
        "from sklearn.impute import SimpleImputer\n",
        "from sklearn.linear_model import LogisticRegression\n",
        "from sklearn.metrics import accuracy_score, confusion_matrix, classification_report\n",
        "\n",
        "# Crear un imputador para reemplazar los valores faltantes con la media\n",
        "imputer = SimpleImputer(strategy='mean')\n",
        "\n",
        "# Imputar valores faltantes en el conjunto de entrenamiento y prueba\n",
        "X_train_imputed = imputer.fit_transform(X_train)\n",
        "X_test_imputed = imputer.transform(X_test)\n",
        "\n",
        "# Entrenar el modelo Logistic Regression (LR)\n",
        "LR_model = LogisticRegression(random_state=1234, multi_class='multinomial', solver='newton-cg')\n",
        "LR_model.fit(X_train_imputed, y_train)\n",
        "\n",
        "# Hacer predicciones en el conjunto de prueba\n",
        "y_pred_LR = LR_model.predict(X_test_imputed)\n",
        "\n",
        "# Evaluar el rendimiento del modelo\n",
        "accuracy_LR = accuracy_score(y_test, y_pred_LR)\n",
        "conf_matrix_LR = confusion_matrix(y_test, y_pred_LR)\n",
        "classification_rep_LR = classification_report(y_test, y_pred_LR)\n",
        "\n",
        "# Imprimir métricas de rendimiento para Logistic Regression (LR)\n",
        "print(f'LR Accuracy: {accuracy_LR}')\n",
        "print(f'LR Confusion Matrix:\\n{conf_matrix_LR}')\n",
        "print(f'LR Classification Report:\\n{classification_rep_LR}')\n",
        "\n",
        "\n"
      ]
    },
    {
      "cell_type": "markdown",
      "source": [
        "#HISTGRADIENT BOOSTING CLASSIFIER"
      ],
      "metadata": {
        "id": "IRRHQhYYZHG2"
      }
    },
    {
      "cell_type": "code",
      "source": [
        "from sklearn.experimental import enable_hist_gradient_boosting  # habilitar el soporte experimental para HistGradientBoostingClassifier\n",
        "from sklearn.ensemble import HistGradientBoostingClassifier\n",
        "from sklearn.metrics import accuracy_score, confusion_matrix, classification_report\n",
        "from sklearn.model_selection import train_test_split\n",
        "from sklearn.preprocessing import LabelEncoder\n",
        "import pandas as pd\n",
        "\n",
        "# Instanciar y entrenar el modelo HistGradientBoostingClassifier\n",
        "hgb_model = HistGradientBoostingClassifier()\n",
        "hgb_model.fit(X_train, y_train)\n",
        "\n",
        "# Hacer predicciones en el conjunto de prueba\n",
        "y_pred_hgb = hgb_model.predict(X_test)\n",
        "\n",
        "# Evaluar el rendimiento del modelo\n",
        "accuracy_hgb = accuracy_score(y_test, y_pred_hgb)\n",
        "conf_matrix_hgb = confusion_matrix(y_test, y_pred_hgb)\n",
        "classification_rep_hgb = classification_report(y_test, y_pred_hgb)\n",
        "\n",
        "# Imprimir métricas de rendimiento para HistGradientBoostingClassifier\n",
        "print(f'HistGradientBoostingClassifier Accuracy: {accuracy_hgb}')\n",
        "print(f'HistGradientBoostingClassifier Confusion Matrix:\\n{conf_matrix_hgb}')\n",
        "print(f'HistGradientBoostingClassifier Classification Report:\\n{classification_rep_hgb}')\n"
      ],
      "metadata": {
        "colab": {
          "base_uri": "https://localhost:8080/"
        },
        "id": "fyyUuGcaNWnv",
        "outputId": "add7ec91-6e3e-4e8d-d335-9c9461b97649"
      },
      "execution_count": null,
      "outputs": [
        {
          "output_type": "stream",
          "name": "stderr",
          "text": [
            "/usr/local/lib/python3.10/dist-packages/sklearn/experimental/enable_hist_gradient_boosting.py:16: UserWarning: Since version 1.0, it is not needed to import enable_hist_gradient_boosting anymore. HistGradientBoostingClassifier and HistGradientBoostingRegressor are now stable and can be normally imported from sklearn.ensemble.\n",
            "  warnings.warn(\n"
          ]
        },
        {
          "output_type": "stream",
          "name": "stdout",
          "text": [
            "HistGradientBoostingClassifier Accuracy: 0.800305\n",
            "HistGradientBoostingClassifier Confusion Matrix:\n",
            "[[ 47825  21231]\n",
            " [ 18708 112236]]\n",
            "HistGradientBoostingClassifier Classification Report:\n",
            "              precision    recall  f1-score   support\n",
            "\n",
            "           0       0.72      0.69      0.71     69056\n",
            "           1       0.84      0.86      0.85    130944\n",
            "\n",
            "    accuracy                           0.80    200000\n",
            "   macro avg       0.78      0.77      0.78    200000\n",
            "weighted avg       0.80      0.80      0.80    200000\n",
            "\n"
          ]
        }
      ]
    },
    {
      "cell_type": "code",
      "source": [
        "from lightgbm import LGBMClassifier\n",
        "from sklearn.metrics import accuracy_score, confusion_matrix, classification_report\n",
        "\n",
        "# Instanciar y entrenar el modelo LGBMClassifier\n",
        "lgbm_model = LGBMClassifier()\n",
        "lgbm_model.fit(X_train, y_train)\n",
        "\n",
        "# Hacer predicciones en el conjunto de prueba\n",
        "y_pred_lgbm = lgbm_model.predict(X_test)\n",
        "\n",
        "# Evaluar el rendimiento del modelo\n",
        "accuracy_lgbm = accuracy_score(y_test, y_pred_lgbm)\n",
        "conf_matrix_lgbm = confusion_matrix(y_test, y_pred_lgbm)\n",
        "classification_rep_lgbm = classification_report(y_test, y_pred_lgbm)\n",
        "\n",
        "# Imprimir métricas de rendimiento para LGBMClassifier\n",
        "print(f'LGBMClassifier Accuracy: {accuracy_lgbm}')\n",
        "print(f'LGBMClassifier Confusion Matrix:\\n{conf_matrix_lgbm}')\n",
        "print(f'LGBMClassifier Classification Report:\\n{classification_rep_lgbm}')\n",
        "\n"
      ],
      "metadata": {
        "colab": {
          "base_uri": "https://localhost:8080/"
        },
        "id": "LJGOktt5OCSP",
        "outputId": "525a9a48-8dad-4817-fe84-ef6b64282c20"
      },
      "execution_count": null,
      "outputs": [
        {
          "output_type": "stream",
          "name": "stdout",
          "text": [
            "[LightGBM] [Info] Number of positive: 523370, number of negative: 276630\n",
            "[LightGBM] [Info] Auto-choosing row-wise multi-threading, the overhead of testing was 0.032591 seconds.\n",
            "You can set `force_row_wise=true` to remove the overhead.\n",
            "And if memory is not enough, you can set `force_col_wise=true`.\n",
            "[LightGBM] [Info] Total Bins 777\n",
            "[LightGBM] [Info] Number of data points in the train set: 800000, number of used features: 6\n",
            "[LightGBM] [Info] [binary:BoostFromScore]: pavg=0.654212 -> initscore=0.637608\n",
            "[LightGBM] [Info] Start training from score 0.637608\n",
            "LGBMClassifier Accuracy: 0.800075\n",
            "LGBMClassifier Confusion Matrix:\n",
            "[[ 47779  21277]\n",
            " [ 18708 112236]]\n",
            "LGBMClassifier Classification Report:\n",
            "              precision    recall  f1-score   support\n",
            "\n",
            "           0       0.72      0.69      0.71     69056\n",
            "           1       0.84      0.86      0.85    130944\n",
            "\n",
            "    accuracy                           0.80    200000\n",
            "   macro avg       0.78      0.77      0.78    200000\n",
            "weighted avg       0.80      0.80      0.80    200000\n",
            "\n"
          ]
        }
      ]
    },
    {
      "cell_type": "markdown",
      "source": [
        "# COMPARACION DE MODELOS"
      ],
      "metadata": {
        "id": "zmjbLcSFZMSW"
      }
    },
    {
      "cell_type": "code",
      "execution_count": null,
      "metadata": {
        "id": "9qxqa9eP1I4a"
      },
      "outputs": [],
      "source": [
        "import seaborn as sns\n",
        "import matplotlib.pyplot as plt\n",
        "import matplotlib.ticker as mtick\n",
        "import pandas as pd\n",
        "\n",
        "accuracy_list = [accuracy_XGB, accuracy_GBT, accuracy_RF,\n",
        "                 accuracy_LR, Accuracy_CatBoost, accuracy_hgb , accuracy_lgbm]\n",
        "\n",
        "model_list = ['XGBboost', 'Gradient Boosting', 'Random Forest',\n",
        "               'Logistic Regresion', 'CatBoost_model', 'HistGradient Boost', 'LGBM Model']\n",
        "\n",
        "df_accuracy = pd.DataFrame({'Model': model_list, 'Accuracy': accuracy_list})\n",
        "\n"
      ]
    },
    {
      "cell_type": "code",
      "source": [
        "from tabulate import tabulate\n",
        "from IPython.display import display, HTML\n",
        "\n",
        "# Ordenar el DataFrame por Accuracy en orden descendente\n",
        "df_accuracy_sorted = df_accuracy.sort_values(by='Accuracy', ascending=False)\n",
        "\n",
        "# Imprimir la tabla en formato HTML\n",
        "table_html = tabulate(df_accuracy_sorted, tablefmt='html', headers='keys', showindex=False)\n",
        "\n",
        "# Visualizar la tabla en el notebook\n",
        "display(HTML(table_html))\n"
      ],
      "metadata": {
        "colab": {
          "base_uri": "https://localhost:8080/",
          "height": 183
        },
        "id": "nf-WyZUPPhxn",
        "outputId": "9811bf83-ac84-4549-cb89-d700a484f997"
      },
      "execution_count": null,
      "outputs": [
        {
          "output_type": "display_data",
          "data": {
            "text/plain": [
              "<IPython.core.display.HTML object>"
            ],
            "text/html": [
              "<table>\n",
              "<thead>\n",
              "<tr><th>Model             </th><th style=\"text-align: right;\">  Accuracy</th></tr>\n",
              "</thead>\n",
              "<tbody>\n",
              "<tr><td>XGBboost          </td><td style=\"text-align: right;\">  0.80159 </td></tr>\n",
              "<tr><td>HistGradient Boost</td><td style=\"text-align: right;\">  0.800305</td></tr>\n",
              "<tr><td>LGBM Model        </td><td style=\"text-align: right;\">  0.800075</td></tr>\n",
              "<tr><td>CatBoost_model    </td><td style=\"text-align: right;\">  0.797575</td></tr>\n",
              "<tr><td>Gradient Boosting </td><td style=\"text-align: right;\">  0.795715</td></tr>\n",
              "<tr><td>Random Forest     </td><td style=\"text-align: right;\">  0.77547 </td></tr>\n",
              "<tr><td>Logistic Regresion</td><td style=\"text-align: right;\">  0.65472 </td></tr>\n",
              "</tbody>\n",
              "</table>"
            ]
          },
          "metadata": {}
        }
      ]
    },
    {
      "cell_type": "code",
      "source": [
        "pip install plotly"
      ],
      "metadata": {
        "colab": {
          "base_uri": "https://localhost:8080/"
        },
        "id": "vEf0vXlOPj76",
        "outputId": "bdc9b948-ac75-42ca-f8fa-40f73c8330c8"
      },
      "execution_count": null,
      "outputs": [
        {
          "output_type": "stream",
          "name": "stdout",
          "text": [
            "Requirement already satisfied: plotly in /usr/local/lib/python3.10/dist-packages (5.15.0)\n",
            "Requirement already satisfied: tenacity>=6.2.0 in /usr/local/lib/python3.10/dist-packages (from plotly) (8.2.3)\n",
            "Requirement already satisfied: packaging in /usr/local/lib/python3.10/dist-packages (from plotly) (24.0)\n"
          ]
        }
      ]
    },
    {
      "cell_type": "code",
      "source": [
        "import plotly.express as px\n",
        "\n",
        "# Ordenar el DataFrame por Accuracy en orden descendente\n",
        "df_accuracy_sorted = df_accuracy.sort_values(by='Accuracy', ascending=False)\n",
        "\n",
        "# Crear un gráfico interactivo con Plotly\n",
        "fig = px.bar(df_accuracy_sorted, x='Model', y='Accuracy', text='Accuracy',\n",
        "             labels={'Accuracy': 'Accuracy (%)'}, title='Accuracy by Model',\n",
        "             color='Accuracy', color_continuous_scale='Greens')  # Especificar el color aquí\n",
        "\n",
        "# Ajustar el tamaño de la fuente\n",
        "fig.update_layout(yaxis=dict(title=dict(font=dict(size=25))))  # Tamaño de la fuente en el eje y\n",
        "\n",
        "# Ajustar el tamaño de la fuente en los números de las barras\n",
        "fig.update_traces(textfont=dict(size=14))  # Tamaño de la fuente en los números de las barras\n",
        "\n",
        "# Imprimir la tabla\n",
        "table_html = tabulate(df_accuracy_sorted, tablefmt='html', headers='keys', showindex=False)\n",
        "\n",
        "# Visualizar la tabla en el notebook\n",
        "display(HTML(table_html))\n",
        "\n",
        "# Visualizar el gráfico\n",
        "fig.show()\n"
      ],
      "metadata": {
        "colab": {
          "base_uri": "https://localhost:8080/",
          "height": 708
        },
        "id": "mBVq4DU8jA_l",
        "outputId": "75383fc0-c05a-4c5b-f4cb-364a199be3f1"
      },
      "execution_count": null,
      "outputs": [
        {
          "output_type": "display_data",
          "data": {
            "text/plain": [
              "<IPython.core.display.HTML object>"
            ],
            "text/html": [
              "<table>\n",
              "<thead>\n",
              "<tr><th>Model             </th><th style=\"text-align: right;\">  Accuracy</th></tr>\n",
              "</thead>\n",
              "<tbody>\n",
              "<tr><td>XGBboost          </td><td style=\"text-align: right;\">  0.80159 </td></tr>\n",
              "<tr><td>HistGradient Boost</td><td style=\"text-align: right;\">  0.800305</td></tr>\n",
              "<tr><td>LGBM Model        </td><td style=\"text-align: right;\">  0.800075</td></tr>\n",
              "<tr><td>CatBoost_model    </td><td style=\"text-align: right;\">  0.797575</td></tr>\n",
              "<tr><td>Gradient Boosting </td><td style=\"text-align: right;\">  0.795715</td></tr>\n",
              "<tr><td>Random Forest     </td><td style=\"text-align: right;\">  0.77547 </td></tr>\n",
              "<tr><td>Logistic Regresion</td><td style=\"text-align: right;\">  0.65472 </td></tr>\n",
              "</tbody>\n",
              "</table>"
            ]
          },
          "metadata": {}
        },
        {
          "output_type": "display_data",
          "data": {
            "text/html": [
              "<html>\n",
              "<head><meta charset=\"utf-8\" /></head>\n",
              "<body>\n",
              "    <div>            <script src=\"https://cdnjs.cloudflare.com/ajax/libs/mathjax/2.7.5/MathJax.js?config=TeX-AMS-MML_SVG\"></script><script type=\"text/javascript\">if (window.MathJax && window.MathJax.Hub && window.MathJax.Hub.Config) {window.MathJax.Hub.Config({SVG: {font: \"STIX-Web\"}});}</script>                <script type=\"text/javascript\">window.PlotlyConfig = {MathJaxConfig: 'local'};</script>\n",
              "        <script charset=\"utf-8\" src=\"https://cdn.plot.ly/plotly-2.24.1.min.js\"></script>                <div id=\"a9f9e08d-e067-459e-b183-db7a8a993b8d\" class=\"plotly-graph-div\" style=\"height:525px; width:100%;\"></div>            <script type=\"text/javascript\">                                    window.PLOTLYENV=window.PLOTLYENV || {};                                    if (document.getElementById(\"a9f9e08d-e067-459e-b183-db7a8a993b8d\")) {                    Plotly.newPlot(                        \"a9f9e08d-e067-459e-b183-db7a8a993b8d\",                        [{\"alignmentgroup\":\"True\",\"hovertemplate\":\"Model=%{x}\\u003cbr\\u003eAccuracy (%)=%{marker.color}\\u003cextra\\u003e\\u003c\\u002fextra\\u003e\",\"legendgroup\":\"\",\"marker\":{\"color\":[0.80159,0.800305,0.800075,0.797575,0.795715,0.77547,0.65472],\"coloraxis\":\"coloraxis\",\"pattern\":{\"shape\":\"\"}},\"name\":\"\",\"offsetgroup\":\"\",\"orientation\":\"v\",\"showlegend\":false,\"text\":[0.80159,0.800305,0.800075,0.797575,0.795715,0.77547,0.65472],\"textposition\":\"auto\",\"x\":[\"XGBboost\",\"HistGradient Boost\",\"LGBM Model\",\"CatBoost_model\",\"Gradient Boosting\",\"Random Forest\",\"Logistic Regresion\"],\"xaxis\":\"x\",\"y\":[0.80159,0.800305,0.800075,0.797575,0.795715,0.77547,0.65472],\"yaxis\":\"y\",\"type\":\"bar\",\"textfont\":{\"size\":14}}],                        {\"template\":{\"data\":{\"histogram2dcontour\":[{\"type\":\"histogram2dcontour\",\"colorbar\":{\"outlinewidth\":0,\"ticks\":\"\"},\"colorscale\":[[0.0,\"#0d0887\"],[0.1111111111111111,\"#46039f\"],[0.2222222222222222,\"#7201a8\"],[0.3333333333333333,\"#9c179e\"],[0.4444444444444444,\"#bd3786\"],[0.5555555555555556,\"#d8576b\"],[0.6666666666666666,\"#ed7953\"],[0.7777777777777778,\"#fb9f3a\"],[0.8888888888888888,\"#fdca26\"],[1.0,\"#f0f921\"]]}],\"choropleth\":[{\"type\":\"choropleth\",\"colorbar\":{\"outlinewidth\":0,\"ticks\":\"\"}}],\"histogram2d\":[{\"type\":\"histogram2d\",\"colorbar\":{\"outlinewidth\":0,\"ticks\":\"\"},\"colorscale\":[[0.0,\"#0d0887\"],[0.1111111111111111,\"#46039f\"],[0.2222222222222222,\"#7201a8\"],[0.3333333333333333,\"#9c179e\"],[0.4444444444444444,\"#bd3786\"],[0.5555555555555556,\"#d8576b\"],[0.6666666666666666,\"#ed7953\"],[0.7777777777777778,\"#fb9f3a\"],[0.8888888888888888,\"#fdca26\"],[1.0,\"#f0f921\"]]}],\"heatmap\":[{\"type\":\"heatmap\",\"colorbar\":{\"outlinewidth\":0,\"ticks\":\"\"},\"colorscale\":[[0.0,\"#0d0887\"],[0.1111111111111111,\"#46039f\"],[0.2222222222222222,\"#7201a8\"],[0.3333333333333333,\"#9c179e\"],[0.4444444444444444,\"#bd3786\"],[0.5555555555555556,\"#d8576b\"],[0.6666666666666666,\"#ed7953\"],[0.7777777777777778,\"#fb9f3a\"],[0.8888888888888888,\"#fdca26\"],[1.0,\"#f0f921\"]]}],\"heatmapgl\":[{\"type\":\"heatmapgl\",\"colorbar\":{\"outlinewidth\":0,\"ticks\":\"\"},\"colorscale\":[[0.0,\"#0d0887\"],[0.1111111111111111,\"#46039f\"],[0.2222222222222222,\"#7201a8\"],[0.3333333333333333,\"#9c179e\"],[0.4444444444444444,\"#bd3786\"],[0.5555555555555556,\"#d8576b\"],[0.6666666666666666,\"#ed7953\"],[0.7777777777777778,\"#fb9f3a\"],[0.8888888888888888,\"#fdca26\"],[1.0,\"#f0f921\"]]}],\"contourcarpet\":[{\"type\":\"contourcarpet\",\"colorbar\":{\"outlinewidth\":0,\"ticks\":\"\"}}],\"contour\":[{\"type\":\"contour\",\"colorbar\":{\"outlinewidth\":0,\"ticks\":\"\"},\"colorscale\":[[0.0,\"#0d0887\"],[0.1111111111111111,\"#46039f\"],[0.2222222222222222,\"#7201a8\"],[0.3333333333333333,\"#9c179e\"],[0.4444444444444444,\"#bd3786\"],[0.5555555555555556,\"#d8576b\"],[0.6666666666666666,\"#ed7953\"],[0.7777777777777778,\"#fb9f3a\"],[0.8888888888888888,\"#fdca26\"],[1.0,\"#f0f921\"]]}],\"surface\":[{\"type\":\"surface\",\"colorbar\":{\"outlinewidth\":0,\"ticks\":\"\"},\"colorscale\":[[0.0,\"#0d0887\"],[0.1111111111111111,\"#46039f\"],[0.2222222222222222,\"#7201a8\"],[0.3333333333333333,\"#9c179e\"],[0.4444444444444444,\"#bd3786\"],[0.5555555555555556,\"#d8576b\"],[0.6666666666666666,\"#ed7953\"],[0.7777777777777778,\"#fb9f3a\"],[0.8888888888888888,\"#fdca26\"],[1.0,\"#f0f921\"]]}],\"mesh3d\":[{\"type\":\"mesh3d\",\"colorbar\":{\"outlinewidth\":0,\"ticks\":\"\"}}],\"scatter\":[{\"fillpattern\":{\"fillmode\":\"overlay\",\"size\":10,\"solidity\":0.2},\"type\":\"scatter\"}],\"parcoords\":[{\"type\":\"parcoords\",\"line\":{\"colorbar\":{\"outlinewidth\":0,\"ticks\":\"\"}}}],\"scatterpolargl\":[{\"type\":\"scatterpolargl\",\"marker\":{\"colorbar\":{\"outlinewidth\":0,\"ticks\":\"\"}}}],\"bar\":[{\"error_x\":{\"color\":\"#2a3f5f\"},\"error_y\":{\"color\":\"#2a3f5f\"},\"marker\":{\"line\":{\"color\":\"#E5ECF6\",\"width\":0.5},\"pattern\":{\"fillmode\":\"overlay\",\"size\":10,\"solidity\":0.2}},\"type\":\"bar\"}],\"scattergeo\":[{\"type\":\"scattergeo\",\"marker\":{\"colorbar\":{\"outlinewidth\":0,\"ticks\":\"\"}}}],\"scatterpolar\":[{\"type\":\"scatterpolar\",\"marker\":{\"colorbar\":{\"outlinewidth\":0,\"ticks\":\"\"}}}],\"histogram\":[{\"marker\":{\"pattern\":{\"fillmode\":\"overlay\",\"size\":10,\"solidity\":0.2}},\"type\":\"histogram\"}],\"scattergl\":[{\"type\":\"scattergl\",\"marker\":{\"colorbar\":{\"outlinewidth\":0,\"ticks\":\"\"}}}],\"scatter3d\":[{\"type\":\"scatter3d\",\"line\":{\"colorbar\":{\"outlinewidth\":0,\"ticks\":\"\"}},\"marker\":{\"colorbar\":{\"outlinewidth\":0,\"ticks\":\"\"}}}],\"scattermapbox\":[{\"type\":\"scattermapbox\",\"marker\":{\"colorbar\":{\"outlinewidth\":0,\"ticks\":\"\"}}}],\"scatterternary\":[{\"type\":\"scatterternary\",\"marker\":{\"colorbar\":{\"outlinewidth\":0,\"ticks\":\"\"}}}],\"scattercarpet\":[{\"type\":\"scattercarpet\",\"marker\":{\"colorbar\":{\"outlinewidth\":0,\"ticks\":\"\"}}}],\"carpet\":[{\"aaxis\":{\"endlinecolor\":\"#2a3f5f\",\"gridcolor\":\"white\",\"linecolor\":\"white\",\"minorgridcolor\":\"white\",\"startlinecolor\":\"#2a3f5f\"},\"baxis\":{\"endlinecolor\":\"#2a3f5f\",\"gridcolor\":\"white\",\"linecolor\":\"white\",\"minorgridcolor\":\"white\",\"startlinecolor\":\"#2a3f5f\"},\"type\":\"carpet\"}],\"table\":[{\"cells\":{\"fill\":{\"color\":\"#EBF0F8\"},\"line\":{\"color\":\"white\"}},\"header\":{\"fill\":{\"color\":\"#C8D4E3\"},\"line\":{\"color\":\"white\"}},\"type\":\"table\"}],\"barpolar\":[{\"marker\":{\"line\":{\"color\":\"#E5ECF6\",\"width\":0.5},\"pattern\":{\"fillmode\":\"overlay\",\"size\":10,\"solidity\":0.2}},\"type\":\"barpolar\"}],\"pie\":[{\"automargin\":true,\"type\":\"pie\"}]},\"layout\":{\"autotypenumbers\":\"strict\",\"colorway\":[\"#636efa\",\"#EF553B\",\"#00cc96\",\"#ab63fa\",\"#FFA15A\",\"#19d3f3\",\"#FF6692\",\"#B6E880\",\"#FF97FF\",\"#FECB52\"],\"font\":{\"color\":\"#2a3f5f\"},\"hovermode\":\"closest\",\"hoverlabel\":{\"align\":\"left\"},\"paper_bgcolor\":\"white\",\"plot_bgcolor\":\"#E5ECF6\",\"polar\":{\"bgcolor\":\"#E5ECF6\",\"angularaxis\":{\"gridcolor\":\"white\",\"linecolor\":\"white\",\"ticks\":\"\"},\"radialaxis\":{\"gridcolor\":\"white\",\"linecolor\":\"white\",\"ticks\":\"\"}},\"ternary\":{\"bgcolor\":\"#E5ECF6\",\"aaxis\":{\"gridcolor\":\"white\",\"linecolor\":\"white\",\"ticks\":\"\"},\"baxis\":{\"gridcolor\":\"white\",\"linecolor\":\"white\",\"ticks\":\"\"},\"caxis\":{\"gridcolor\":\"white\",\"linecolor\":\"white\",\"ticks\":\"\"}},\"coloraxis\":{\"colorbar\":{\"outlinewidth\":0,\"ticks\":\"\"}},\"colorscale\":{\"sequential\":[[0.0,\"#0d0887\"],[0.1111111111111111,\"#46039f\"],[0.2222222222222222,\"#7201a8\"],[0.3333333333333333,\"#9c179e\"],[0.4444444444444444,\"#bd3786\"],[0.5555555555555556,\"#d8576b\"],[0.6666666666666666,\"#ed7953\"],[0.7777777777777778,\"#fb9f3a\"],[0.8888888888888888,\"#fdca26\"],[1.0,\"#f0f921\"]],\"sequentialminus\":[[0.0,\"#0d0887\"],[0.1111111111111111,\"#46039f\"],[0.2222222222222222,\"#7201a8\"],[0.3333333333333333,\"#9c179e\"],[0.4444444444444444,\"#bd3786\"],[0.5555555555555556,\"#d8576b\"],[0.6666666666666666,\"#ed7953\"],[0.7777777777777778,\"#fb9f3a\"],[0.8888888888888888,\"#fdca26\"],[1.0,\"#f0f921\"]],\"diverging\":[[0,\"#8e0152\"],[0.1,\"#c51b7d\"],[0.2,\"#de77ae\"],[0.3,\"#f1b6da\"],[0.4,\"#fde0ef\"],[0.5,\"#f7f7f7\"],[0.6,\"#e6f5d0\"],[0.7,\"#b8e186\"],[0.8,\"#7fbc41\"],[0.9,\"#4d9221\"],[1,\"#276419\"]]},\"xaxis\":{\"gridcolor\":\"white\",\"linecolor\":\"white\",\"ticks\":\"\",\"title\":{\"standoff\":15},\"zerolinecolor\":\"white\",\"automargin\":true,\"zerolinewidth\":2},\"yaxis\":{\"gridcolor\":\"white\",\"linecolor\":\"white\",\"ticks\":\"\",\"title\":{\"standoff\":15},\"zerolinecolor\":\"white\",\"automargin\":true,\"zerolinewidth\":2},\"scene\":{\"xaxis\":{\"backgroundcolor\":\"#E5ECF6\",\"gridcolor\":\"white\",\"linecolor\":\"white\",\"showbackground\":true,\"ticks\":\"\",\"zerolinecolor\":\"white\",\"gridwidth\":2},\"yaxis\":{\"backgroundcolor\":\"#E5ECF6\",\"gridcolor\":\"white\",\"linecolor\":\"white\",\"showbackground\":true,\"ticks\":\"\",\"zerolinecolor\":\"white\",\"gridwidth\":2},\"zaxis\":{\"backgroundcolor\":\"#E5ECF6\",\"gridcolor\":\"white\",\"linecolor\":\"white\",\"showbackground\":true,\"ticks\":\"\",\"zerolinecolor\":\"white\",\"gridwidth\":2}},\"shapedefaults\":{\"line\":{\"color\":\"#2a3f5f\"}},\"annotationdefaults\":{\"arrowcolor\":\"#2a3f5f\",\"arrowhead\":0,\"arrowwidth\":1},\"geo\":{\"bgcolor\":\"white\",\"landcolor\":\"#E5ECF6\",\"subunitcolor\":\"white\",\"showland\":true,\"showlakes\":true,\"lakecolor\":\"white\"},\"title\":{\"x\":0.05},\"mapbox\":{\"style\":\"light\"}}},\"xaxis\":{\"anchor\":\"y\",\"domain\":[0.0,1.0],\"title\":{\"text\":\"Model\"}},\"yaxis\":{\"anchor\":\"x\",\"domain\":[0.0,1.0],\"title\":{\"text\":\"Accuracy (%)\",\"font\":{\"size\":25}}},\"coloraxis\":{\"colorbar\":{\"title\":{\"text\":\"Accuracy (%)\"}},\"colorscale\":[[0.0,\"rgb(247,252,245)\"],[0.125,\"rgb(229,245,224)\"],[0.25,\"rgb(199,233,192)\"],[0.375,\"rgb(161,217,155)\"],[0.5,\"rgb(116,196,118)\"],[0.625,\"rgb(65,171,93)\"],[0.75,\"rgb(35,139,69)\"],[0.875,\"rgb(0,109,44)\"],[1.0,\"rgb(0,68,27)\"]]},\"legend\":{\"tracegroupgap\":0},\"title\":{\"text\":\"Accuracy by Model\"},\"barmode\":\"relative\"},                        {\"responsive\": true}                    ).then(function(){\n",
              "                            \n",
              "var gd = document.getElementById('a9f9e08d-e067-459e-b183-db7a8a993b8d');\n",
              "var x = new MutationObserver(function (mutations, observer) {{\n",
              "        var display = window.getComputedStyle(gd).display;\n",
              "        if (!display || display === 'none') {{\n",
              "            console.log([gd, 'removed!']);\n",
              "            Plotly.purge(gd);\n",
              "            observer.disconnect();\n",
              "        }}\n",
              "}});\n",
              "\n",
              "// Listen for the removal of the full notebook cells\n",
              "var notebookContainer = gd.closest('#notebook-container');\n",
              "if (notebookContainer) {{\n",
              "    x.observe(notebookContainer, {childList: true});\n",
              "}}\n",
              "\n",
              "// Listen for the clearing of the current output cell\n",
              "var outputEl = gd.closest('.output');\n",
              "if (outputEl) {{\n",
              "    x.observe(outputEl, {childList: true});\n",
              "}}\n",
              "\n",
              "                        })                };                            </script>        </div>\n",
              "</body>\n",
              "</html>"
            ]
          },
          "metadata": {}
        }
      ]
    },
    {
      "cell_type": "code",
      "source": [
        "from sklearn.metrics import classification_report\n",
        "import pandas as pd\n",
        "from IPython.display import display, HTML\n",
        "\n",
        "# Lista de modelos y sus reportes de clasificación\n",
        "model_names = ['XGB_model', 'GBT_model', 'RF_model', 'LR_model', 'CatBoost_model', 'hgb_model', 'lgbm_model']\n",
        "classification_reports = {}\n",
        "\n",
        "# Calcular el reporte de clasificación para cada modelo\n",
        "for model_name in model_names:\n",
        "    model = globals()[model_name]\n",
        "    y_pred = model.predict(X_test_imputed)\n",
        "    report = classification_report(y_test, y_pred, output_dict=True)\n",
        "    classification_reports[model_name] = report\n",
        "\n",
        "# Crear un DataFrame para almacenar las métricas\n",
        "metrics_df = pd.DataFrame(columns=['Model', 'Precision', 'Recall', 'F1 Score'])\n",
        "\n",
        "# Iterar sobre los reportes de clasificación\n",
        "for model_name, report in classification_reports.items():\n",
        "    precision = report['weighted avg']['precision']\n",
        "    recall = report['weighted avg']['recall']\n",
        "    f1_score = report['weighted avg']['f1-score']\n",
        "    metrics_df = metrics_df.append({'Model': model_name, 'Precision': precision, 'Recall': recall, 'F1 Score': f1_score}, ignore_index=True)\n",
        "\n",
        "# Mostrar la tabla como HTML en el notebook\n",
        "display(HTML(metrics_df.to_html(index=False)))\n"
      ],
      "metadata": {
        "colab": {
          "base_uri": "https://localhost:8080/"
        },
        "id": "bsJCZcOSfPAu",
        "outputId": "ce89f04d-1217-4297-cc23-e8c297154c79"
      },
      "execution_count": null,
      "outputs": [
        {
          "output_type": "stream",
          "name": "stderr",
          "text": [
            "/usr/local/lib/python3.10/dist-packages/sklearn/metrics/_classification.py:1344: UndefinedMetricWarning:\n",
            "\n",
            "Precision and F-score are ill-defined and being set to 0.0 in labels with no predicted samples. Use `zero_division` parameter to control this behavior.\n",
            "\n",
            "/usr/local/lib/python3.10/dist-packages/sklearn/metrics/_classification.py:1344: UndefinedMetricWarning:\n",
            "\n",
            "Precision and F-score are ill-defined and being set to 0.0 in labels with no predicted samples. Use `zero_division` parameter to control this behavior.\n",
            "\n",
            "/usr/local/lib/python3.10/dist-packages/sklearn/metrics/_classification.py:1344: UndefinedMetricWarning:\n",
            "\n",
            "Precision and F-score are ill-defined and being set to 0.0 in labels with no predicted samples. Use `zero_division` parameter to control this behavior.\n",
            "\n",
            "/usr/local/lib/python3.10/dist-packages/sklearn/base.py:439: UserWarning:\n",
            "\n",
            "X does not have valid feature names, but HistGradientBoostingClassifier was fitted with feature names\n",
            "\n",
            "<ipython-input-26-ca45a049a917>:24: FutureWarning:\n",
            "\n",
            "The frame.append method is deprecated and will be removed from pandas in a future version. Use pandas.concat instead.\n",
            "\n",
            "<ipython-input-26-ca45a049a917>:24: FutureWarning:\n",
            "\n",
            "The frame.append method is deprecated and will be removed from pandas in a future version. Use pandas.concat instead.\n",
            "\n",
            "<ipython-input-26-ca45a049a917>:24: FutureWarning:\n",
            "\n",
            "The frame.append method is deprecated and will be removed from pandas in a future version. Use pandas.concat instead.\n",
            "\n",
            "<ipython-input-26-ca45a049a917>:24: FutureWarning:\n",
            "\n",
            "The frame.append method is deprecated and will be removed from pandas in a future version. Use pandas.concat instead.\n",
            "\n",
            "<ipython-input-26-ca45a049a917>:24: FutureWarning:\n",
            "\n",
            "The frame.append method is deprecated and will be removed from pandas in a future version. Use pandas.concat instead.\n",
            "\n",
            "<ipython-input-26-ca45a049a917>:24: FutureWarning:\n",
            "\n",
            "The frame.append method is deprecated and will be removed from pandas in a future version. Use pandas.concat instead.\n",
            "\n",
            "<ipython-input-26-ca45a049a917>:24: FutureWarning:\n",
            "\n",
            "The frame.append method is deprecated and will be removed from pandas in a future version. Use pandas.concat instead.\n",
            "\n"
          ]
        },
        {
          "output_type": "display_data",
          "data": {
            "text/plain": [
              "<IPython.core.display.HTML object>"
            ],
            "text/html": [
              "<table border=\"1\" class=\"dataframe\">\n",
              "  <thead>\n",
              "    <tr style=\"text-align: right;\">\n",
              "      <th>Model</th>\n",
              "      <th>Precision</th>\n",
              "      <th>Recall</th>\n",
              "      <th>F1 Score</th>\n",
              "    </tr>\n",
              "  </thead>\n",
              "  <tbody>\n",
              "    <tr>\n",
              "      <td>XGB_model</td>\n",
              "      <td>0.789022</td>\n",
              "      <td>0.788995</td>\n",
              "      <td>0.789008</td>\n",
              "    </tr>\n",
              "    <tr>\n",
              "      <td>GBT_model</td>\n",
              "      <td>0.793811</td>\n",
              "      <td>0.795715</td>\n",
              "      <td>0.794558</td>\n",
              "    </tr>\n",
              "    <tr>\n",
              "      <td>RF_model</td>\n",
              "      <td>0.771832</td>\n",
              "      <td>0.775470</td>\n",
              "      <td>0.772929</td>\n",
              "    </tr>\n",
              "    <tr>\n",
              "      <td>LR_model</td>\n",
              "      <td>0.428658</td>\n",
              "      <td>0.654720</td>\n",
              "      <td>0.518104</td>\n",
              "    </tr>\n",
              "    <tr>\n",
              "      <td>CatBoost_model</td>\n",
              "      <td>0.777369</td>\n",
              "      <td>0.780855</td>\n",
              "      <td>0.778393</td>\n",
              "    </tr>\n",
              "    <tr>\n",
              "      <td>hgb_model</td>\n",
              "      <td>0.793567</td>\n",
              "      <td>0.792525</td>\n",
              "      <td>0.793006</td>\n",
              "    </tr>\n",
              "    <tr>\n",
              "      <td>lgbm_model</td>\n",
              "      <td>0.793086</td>\n",
              "      <td>0.792240</td>\n",
              "      <td>0.792636</td>\n",
              "    </tr>\n",
              "  </tbody>\n",
              "</table>"
            ]
          },
          "metadata": {}
        }
      ]
    }
  ],
  "metadata": {
    "colab": {
      "provenance": [],
      "toc_visible": true
    },
    "kernelspec": {
      "display_name": "Python 3",
      "name": "python3"
    },
    "language_info": {
      "name": "python"
    }
  },
  "nbformat": 4,
  "nbformat_minor": 0
}