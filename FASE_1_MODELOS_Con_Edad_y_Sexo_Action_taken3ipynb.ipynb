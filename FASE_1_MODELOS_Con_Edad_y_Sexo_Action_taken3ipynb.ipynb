{
  "cells": [
    {
      "cell_type": "code",
      "execution_count": null,
      "metadata": {
        "colab": {
          "base_uri": "https://localhost:8080/"
        },
        "id": "-U4QUPjqqMoT",
        "outputId": "da96c436-6653-4565-e8af-e445c983d8bf"
      },
      "outputs": [
        {
          "output_type": "stream",
          "name": "stdout",
          "text": [
            "Mounted at /content/drive\n"
          ]
        }
      ],
      "source": [
        "from google.colab import drive\n",
        "drive.mount('/content/drive')"
      ]
    },
    {
      "cell_type": "code",
      "source": [
        "pip install catboost"
      ],
      "metadata": {
        "colab": {
          "base_uri": "https://localhost:8080/"
        },
        "id": "dz_kMg_ifcod",
        "outputId": "9851cf91-b12f-4a8d-e665-678fa73b332f"
      },
      "execution_count": null,
      "outputs": [
        {
          "output_type": "stream",
          "name": "stdout",
          "text": [
            "Collecting catboost\n",
            "  Downloading catboost-1.2.3-cp310-cp310-manylinux2014_x86_64.whl (98.5 MB)\n",
            "\u001b[2K     \u001b[90m━━━━━━━━━━━━━━━━━━━━━━━━━━━━━━━━━━━━━━━━\u001b[0m \u001b[32m98.5/98.5 MB\u001b[0m \u001b[31m7.1 MB/s\u001b[0m eta \u001b[36m0:00:00\u001b[0m\n",
            "\u001b[?25hRequirement already satisfied: graphviz in /usr/local/lib/python3.10/dist-packages (from catboost) (0.20.1)\n",
            "Requirement already satisfied: matplotlib in /usr/local/lib/python3.10/dist-packages (from catboost) (3.7.1)\n",
            "Requirement already satisfied: numpy>=1.16.0 in /usr/local/lib/python3.10/dist-packages (from catboost) (1.25.2)\n",
            "Requirement already satisfied: pandas>=0.24 in /usr/local/lib/python3.10/dist-packages (from catboost) (1.5.3)\n",
            "Requirement already satisfied: scipy in /usr/local/lib/python3.10/dist-packages (from catboost) (1.11.4)\n",
            "Requirement already satisfied: plotly in /usr/local/lib/python3.10/dist-packages (from catboost) (5.15.0)\n",
            "Requirement already satisfied: six in /usr/local/lib/python3.10/dist-packages (from catboost) (1.16.0)\n",
            "Requirement already satisfied: python-dateutil>=2.8.1 in /usr/local/lib/python3.10/dist-packages (from pandas>=0.24->catboost) (2.8.2)\n",
            "Requirement already satisfied: pytz>=2020.1 in /usr/local/lib/python3.10/dist-packages (from pandas>=0.24->catboost) (2023.4)\n",
            "Requirement already satisfied: contourpy>=1.0.1 in /usr/local/lib/python3.10/dist-packages (from matplotlib->catboost) (1.2.0)\n",
            "Requirement already satisfied: cycler>=0.10 in /usr/local/lib/python3.10/dist-packages (from matplotlib->catboost) (0.12.1)\n",
            "Requirement already satisfied: fonttools>=4.22.0 in /usr/local/lib/python3.10/dist-packages (from matplotlib->catboost) (4.49.0)\n",
            "Requirement already satisfied: kiwisolver>=1.0.1 in /usr/local/lib/python3.10/dist-packages (from matplotlib->catboost) (1.4.5)\n",
            "Requirement already satisfied: packaging>=20.0 in /usr/local/lib/python3.10/dist-packages (from matplotlib->catboost) (23.2)\n",
            "Requirement already satisfied: pillow>=6.2.0 in /usr/local/lib/python3.10/dist-packages (from matplotlib->catboost) (9.4.0)\n",
            "Requirement already satisfied: pyparsing>=2.3.1 in /usr/local/lib/python3.10/dist-packages (from matplotlib->catboost) (3.1.1)\n",
            "Requirement already satisfied: tenacity>=6.2.0 in /usr/local/lib/python3.10/dist-packages (from plotly->catboost) (8.2.3)\n",
            "Installing collected packages: catboost\n",
            "Successfully installed catboost-1.2.3\n"
          ]
        }
      ]
    },
    {
      "cell_type": "markdown",
      "source": [
        "# CARGA DE LIBRERIAS"
      ],
      "metadata": {
        "id": "EjVbK7peB-JO"
      }
    },
    {
      "cell_type": "code",
      "execution_count": null,
      "metadata": {
        "id": "FOtPJP40qXVi"
      },
      "outputs": [],
      "source": [
        "import pandas as pd\n",
        "import numpy as np\n",
        "import seaborn as sns\n",
        "import matplotlib.pyplot as plt\n",
        "%matplotlib inline\n",
        "sns.set_theme(style=\"darkgrid\", palette=\"pastel\")\n",
        "sns.set(rc={'figure.figsize':(10,10)})\n",
        "from scipy.stats import ttest_ind\n",
        "import pandas as pd\n",
        "from sklearn.model_selection import StratifiedShuffleSplit\n",
        "from sklearn.metrics import confusion_matrix\n",
        "from sklearn.preprocessing import StandardScaler\n",
        "from sklearn.decomposition import PCA\n",
        "from sklearn.naive_bayes import GaussianNB\n",
        "from sklearn.neighbors import KNeighborsClassifier\n",
        "from sklearn.linear_model import LogisticRegression\n",
        "from sklearn.model_selection import GridSearchCV\n",
        "from sklearn.model_selection import StratifiedKFold\n",
        "from sklearn.preprocessing import LabelEncoder\n",
        "from sklearn.model_selection import train_test_split\n",
        "from sklearn.metrics import accuracy_score\n",
        "from sklearn.feature_selection import SelectFromModel\n",
        "from sklearn.preprocessing import LabelEncoder\n",
        "from catboost import CatBoostClassifier\n",
        "from sklearn.metrics import accuracy_score\n",
        "from sklearn.utils import resample\n",
        "from sklearn.model_selection import StratifiedShuffleSplit, StratifiedKFold\n",
        "from sklearn.metrics import confusion_matrix, classification_report\n",
        "from sklearn.preprocessing import StandardScaler, LabelEncoder\n",
        "from sklearn.decomposition import PCA\n",
        "from sklearn.naive_bayes import GaussianNB\n",
        "from sklearn.neighbors import KNeighborsClassifier\n",
        "from sklearn.linear_model import LogisticRegression\n",
        "from sklearn.ensemble import RandomForestClassifier, GradientBoostingClassifier\n",
        "from sklearn.model_selection import GridSearchCV, train_test_split\n",
        "from sklearn.feature_selection import SelectFromModel\n",
        "from catboost import CatBoostClassifier\n",
        "from xgboost import XGBClassifier\n",
        "from sklearn.metrics import accuracy_score\n",
        "from sklearn.utils import resample\n",
        "from sklearn.metrics import accuracy_score"
      ]
    },
    {
      "cell_type": "markdown",
      "source": [
        "# CARGA INFORMACIÓN"
      ],
      "metadata": {
        "id": "pcm9v2igCL7e"
      }
    },
    {
      "cell_type": "code",
      "execution_count": null,
      "metadata": {
        "id": "wQYOmU4zqab7"
      },
      "outputs": [],
      "source": [
        "import pandas as pd\n",
        "\n",
        "# Reemplaza la ruta con la ubicación de tu archivo Stata (.dta)\n",
        "file_path = \"/content/drive/MyDrive/Proyecto Grado/HDMA/Version Final/LAR_18_19_Muestra.dta\"\n",
        "\n",
        "# Cargar el archivo Stata en un DataFrame\n",
        "data = pd.read_stata(file_path)\n"
      ]
    },
    {
      "cell_type": "code",
      "source": [
        "# Convertir valores de action_taken2 a minúsculas\n",
        "data['action_taken2'] = data['action_taken2'].str.lower()\n",
        "\n",
        "# Mapeo de los valores de action_taken2 a los valores correspondientes en action_taken3\n",
        "mapping = {\n",
        "    'aprobado': 'Otorgado',\n",
        "    'negado': 'No Otorgado',\n",
        "    'no finalizado': 'No Otorgado'\n",
        "}\n",
        "\n",
        "# Crear la nueva columna action_taken3 basada en los valores de action_taken2\n",
        "data['action_taken3'] = data['action_taken2'].replace(mapping)"
      ],
      "metadata": {
        "id": "LSUBnFLWCa8k"
      },
      "execution_count": null,
      "outputs": []
    },
    {
      "cell_type": "code",
      "source": [
        "# Convertir valores a cadenas y guardar los originales en nuevas columnas\n",
        "columns_to_check = ['protegido_edad', 'no_protegido_edad', 'protegido_mujer', 'no_protegido_hombre', 'protegido_raza', 'no_protegido_raza']\n",
        "\n",
        "for column in columns_to_check:\n",
        "    # Crear una nueva columna con el nombre original + '_antes_conversion'\n",
        "    data[column + '_antes_conversion'] = data[column]\n",
        "    # Convertir los valores a numéricos\n",
        "    data[column] = pd.to_numeric(data[column], errors='coerce')\n",
        "\n",
        "import numpy as np\n",
        "\n",
        "# Crear la nueva columna 'poblacion_protegida' basada en las condiciones\n",
        "data['poblacion_protegida'] = np.where(\n",
        "    (data['protegido_edad'] == 1) |\n",
        "    (data['protegido_mujer'] == 1) |\n",
        "    (data['protegido_raza'] == 1),\n",
        "    1,  # Si alguna de las condiciones se cumple, asigna 1\n",
        "    np.where(\n",
        "        (data['no_protegido_edad'] == 1) |\n",
        "        (data['no_protegido_hombre'] == 1) |\n",
        "        (data['no_protegido_raza'] == 1),\n",
        "        0,  # Si alguna de las condiciones se cumple, asigna 0\n",
        "        np.nan  # Si ninguna de las condiciones se cumple, asigna NaN por defecto\n",
        "    )\n",
        ")\n",
        "\n",
        "# Crear una nueva columna 'poblacion_protegida_nueva' basada en las condiciones\n",
        "data['poblacion_protegida_nueva'] = np.where(\n",
        "    (data['protegido_edad'] == 1) |\n",
        "    (data['protegido_mujer'] == 1) |\n",
        "    (data['protegido_raza'] == 1),\n",
        "    1,  # Si alguna de las condiciones se cumple, asigna 1\n",
        "    np.where(\n",
        "        (data['no_protegido_edad'] == 1) |\n",
        "        (data['no_protegido_hombre'] == 1) |\n",
        "        (data['no_protegido_raza'] == 1),\n",
        "        0,  # Si alguna de las condiciones se cumple, asigna 0\n",
        "        np.nan  # Si ninguna de las condiciones se cumple, asigna NaN por defecto\n",
        "    )\n",
        ")\n"
      ],
      "metadata": {
        "id": "Y7jxybFbCeRG"
      },
      "execution_count": null,
      "outputs": []
    },
    {
      "cell_type": "code",
      "source": [
        "#{-2.0: 'Protegido', 3.000004: 'No Protegido' Se transforma a 1}\n",
        "print(data['poblacion_protegida'].value_counts())"
      ],
      "metadata": {
        "colab": {
          "base_uri": "https://localhost:8080/"
        },
        "id": "3-gBfQpgCmdR",
        "outputId": "681dc5f6-7f41-4588-93c1-57a5e373c798"
      },
      "execution_count": null,
      "outputs": [
        {
          "output_type": "stream",
          "name": "stdout",
          "text": [
            "1.0    531022\n",
            "0.0    468978\n",
            "Name: poblacion_protegida, dtype: int64\n"
          ]
        }
      ]
    },
    {
      "cell_type": "code",
      "source": [
        "#{-2.0: 'Protegido', 3.000004: 'No Protegido' Se transforma a 1}\n",
        "print(data['poblacion_protegida_nueva'].value_counts())"
      ],
      "metadata": {
        "colab": {
          "base_uri": "https://localhost:8080/"
        },
        "id": "zaSY1CGzCm91",
        "outputId": "58aa994f-02b5-4a8f-b332-36202cbcceb3"
      },
      "execution_count": null,
      "outputs": [
        {
          "output_type": "stream",
          "name": "stdout",
          "text": [
            "1.0    531022\n",
            "0.0    468978\n",
            "Name: poblacion_protegida_nueva, dtype: int64\n"
          ]
        }
      ]
    },
    {
      "cell_type": "code",
      "source": [
        "print(\"Valores únicos en protegido_edad:\", data['protegido_edad'].unique())\n",
        "print(\"Valores únicos en no_protegido_edad:\", data['protegido_edad'].unique())\n",
        "print(\"Valores únicos en protegido_mujer:\", data['protegido_mujer'].unique())\n",
        "print(\"Valores únicos en no_protegido_hombre:\", data['protegido_mujer'].unique())\n",
        "print(\"Valores únicos en protegido_raza:\", data['protegido_raza'].unique())\n",
        "print(\"Valores únicos en no_protegido_raza:\", data['protegido_raza'].unique())\n"
      ],
      "metadata": {
        "colab": {
          "base_uri": "https://localhost:8080/"
        },
        "id": "AB38IvntCstJ",
        "outputId": "97f9c681-e853-4226-fdf6-121bef55e55d"
      },
      "execution_count": null,
      "outputs": [
        {
          "output_type": "stream",
          "name": "stdout",
          "text": [
            "Valores únicos en protegido_edad: [0 1]\n",
            "Valores únicos en no_protegido_edad: [0 1]\n",
            "Valores únicos en protegido_mujer: [1 0]\n",
            "Valores únicos en no_protegido_hombre: [1 0]\n",
            "Valores únicos en protegido_raza: [1 0]\n",
            "Valores únicos en no_protegido_raza: [1 0]\n"
          ]
        }
      ]
    },
    {
      "cell_type": "code",
      "source": [
        "# Información sobre tipos de datos y valores nulos\n",
        "print(data.info())"
      ],
      "metadata": {
        "colab": {
          "base_uri": "https://localhost:8080/"
        },
        "id": "P6ouoPFVHGh-",
        "outputId": "ba4fbebc-2f7f-4141-d1f2-9a5c38f87aee"
      },
      "execution_count": null,
      "outputs": [
        {
          "output_type": "stream",
          "name": "stdout",
          "text": [
            "<class 'pandas.core.frame.DataFrame'>\n",
            "Int64Index: 1000000 entries, 0 to 999999\n",
            "Data columns (total 70 columns):\n",
            " #   Column                                Non-Null Count    Dtype   \n",
            "---  ------                                --------------    -----   \n",
            " 0   activity_year                         1000000 non-null  int16   \n",
            " 1   lei                                   1000000 non-null  object  \n",
            " 2   state_code                            1000000 non-null  object  \n",
            " 3   county_code                           1000000 non-null  object  \n",
            " 4   action_taken                          1000000 non-null  category\n",
            " 5   purchaser_type                        1000000 non-null  category\n",
            " 6   preapproval                           1000000 non-null  int8    \n",
            " 7   loan_type                             1000000 non-null  category\n",
            " 8   loan_purpose                          1000000 non-null  category\n",
            " 9   lien_status                           1000000 non-null  int8    \n",
            " 10  reverse_mortgage                      973978 non-null   float64 \n",
            " 11  open_end_line_of_credit               974190 non-null   float64 \n",
            " 12  business_or_commercial_purpose        974161 non-null   float64 \n",
            " 13  loan_amount                           1000000 non-null  int32   \n",
            " 14  combined_loan_to_value_ratio          701585 non-null   float64 \n",
            " 15  interest_rate                         628255 non-null   float64 \n",
            " 16  rate_spread                           537791 non-null   float64 \n",
            " 17  hoepa_status                          1000000 non-null  category\n",
            " 18  total_loan_costs                      489783 non-null   float64 \n",
            " 19  total_points_and_fees                 5839 non-null     float64 \n",
            " 20  origination_charges                   490672 non-null   float64 \n",
            " 21  discount_points                       170575 non-null   float64 \n",
            " 22  lender_credits                        196770 non-null   float64 \n",
            " 23  loan_term                             961136 non-null   float64 \n",
            " 24  prepayment_penalty_term               46380 non-null    float64 \n",
            " 25  intro_rate_period                     164157 non-null   float64 \n",
            " 26  negative_amortization                 973747 non-null   float64 \n",
            " 27  interest_only_payment                 973747 non-null   float64 \n",
            " 28  balloon_payment                       973747 non-null   float64 \n",
            " 29  other_nonamortizing_features          973747 non-null   float64 \n",
            " 30  property_value                        782201 non-null   float64 \n",
            " 31  construction_method                   1000000 non-null  category\n",
            " 32  occupancy_type                        1000000 non-null  category\n",
            " 33  manufactured_home_secured_proper      1000000 non-null  category\n",
            " 34  manufactured_home_land_property_      1000000 non-null  category\n",
            " 35  multifamily_affordable_units          212 non-null      float64 \n",
            " 36  income                                957551 non-null   float64 \n",
            " 37  applicant_credit_score_type           1000000 non-null  category\n",
            " 38  applicant_ethnicity_1                 999646 non-null   category\n",
            " 39  applicant_race_1                      1000000 non-null  category\n",
            " 40  applicant_sex                         1000000 non-null  category\n",
            " 41  submission_of_application             974115 non-null   category\n",
            " 42  initially_payable_to_institution      974115 non-null   category\n",
            " 43  denial_reason_1                       1000000 non-null  category\n",
            " 44  denial_reason_2                       39487 non-null    category\n",
            " 45  denial_reason_3                       6998 non-null     category\n",
            " 46  denial_reason_4                       652 non-null      category\n",
            " 47  applicant_age                         1000000 non-null  category\n",
            " 48  applicant_age_above_62                992442 non-null   float64 \n",
            " 49  total_units                           1000000 non-null  category\n",
            " 50  debt_to_income_ratio                  336026 non-null   category\n",
            " 51  conforming_loan_limit                 1000000 non-null  category\n",
            " 52  derived_loan_product_type             1000000 non-null  category\n",
            " 53  derived_dwelling_category             1000000 non-null  category\n",
            " 54  action_taken2                         1000000 non-null  object  \n",
            " 55  protegido_edad                        1000000 non-null  int8    \n",
            " 56  no_protegido_edad                     1000000 non-null  int8    \n",
            " 57  protegido_mujer                       1000000 non-null  int8    \n",
            " 58  no_protegido_hombre                   1000000 non-null  int8    \n",
            " 59  protegido_raza                        1000000 non-null  int8    \n",
            " 60  no_protegido_raza                     1000000 non-null  int8    \n",
            " 61  action_taken3                         1000000 non-null  object  \n",
            " 62  protegido_edad_antes_conversion       1000000 non-null  int8    \n",
            " 63  no_protegido_edad_antes_conversion    1000000 non-null  int8    \n",
            " 64  protegido_mujer_antes_conversion      1000000 non-null  int8    \n",
            " 65  no_protegido_hombre_antes_conversion  1000000 non-null  int8    \n",
            " 66  protegido_raza_antes_conversion       1000000 non-null  int8    \n",
            " 67  no_protegido_raza_antes_conversion    1000000 non-null  int8    \n",
            " 68  poblacion_protegida                   1000000 non-null  float64 \n",
            " 69  poblacion_protegida_nueva             1000000 non-null  float64 \n",
            "dtypes: category(25), float64(24), int16(1), int32(1), int8(14), object(5)\n",
            "memory usage: 271.8+ MB\n",
            "None\n"
          ]
        }
      ]
    },
    {
      "cell_type": "markdown",
      "source": [
        "# MODELAMIENTO Y SELECCION DE MEJOR MODELO"
      ],
      "metadata": {
        "id": "xvNT1_IxE0kv"
      }
    },
    {
      "cell_type": "markdown",
      "metadata": {
        "id": "eEbPOdckxAcE"
      },
      "source": [
        "Se abordan los siguientes pasos:\n",
        "\n",
        "Preparar el conjunto de datos\n",
        "Dividir en el entrenamiento y la prueba\n",
        "Transformar/Codificar las etiquetas de las variables\n",
        "PExplorar diferents modelos de clasificacion\n",
        "Compara el desempeño de todos los modelos.\n",
        "Seleccionar un  modelo ganador y ajuste los hiperparámetros para obtener una mayor precisión.\n",
        "Evaluación detallada de resultado con una matriz de confusión y diferentes medidas.\n",
        "Características más importantes para predecir la calificación."
      ]
    },
    {
      "cell_type": "markdown",
      "metadata": {
        "id": "sWQXJCIKxM3Y"
      },
      "source": [
        "Preparacion del Data SET"
      ]
    },
    {
      "cell_type": "code",
      "source": [
        "# Crear un nuevo DataFrame con solo las columnas seleccionadas\n",
        "from sklearn.preprocessing import LabelEncoder\n",
        "from sklearn.model_selection import train_test_split\n",
        "from sklearn.pipeline import Pipeline\n",
        "from sklearn.impute import SimpleImputer\n",
        "from sklearn.preprocessing import OneHotEncoder\n",
        "from sklearn.compose import ColumnTransformer\n",
        "\n",
        "\n",
        "# Lista de columnas seleccionadas\n",
        "columnas_seleccionadas = ['action_taken3', 'income', 'applicant_sex', 'loan_amount', 'loan_purpose', 'loan_type', 'debt_to_income_ratio','combined_loan_to_value_ratio', 'applicant_age']\n",
        "df = data[columnas_seleccionadas].copy()\n",
        "\n",
        "\n",
        "# Usar LabelEncoder para transformar la columna 'action_taken2'\n",
        "\n",
        "label_encoder_action_taken3 = LabelEncoder()\n",
        "df['action_taken3'] = label_encoder_action_taken3.fit_transform(df['action_taken3'])\n",
        "\n",
        "# Convertir variables categóricas a numéricas y mapear clases de 'action_taken2' a números\n",
        "label_encoder = LabelEncoder()\n",
        "#df['purchaser_type'] = label_encoder.fit_transform(df['purchaser_type'])\n",
        "#df['preapproval'] = label_encoder.fit_transform(df['preapproval'])\n",
        "df['loan_type'] = label_encoder.fit_transform(df['loan_type'])\n",
        "df['loan_purpose'] = label_encoder.fit_transform(df['loan_purpose'])\n",
        "#df['lien_status'] = label_encoder.fit_transform(df['lien_status'])\n",
        "#f['hoepa_status'] = label_encoder.fit_transform(df['hoepa_status'])\n",
        "#df['occupancy_type'] = label_encoder.fit_transform(df['occupancy_type'])\n",
        "#df['applicant_credit_score_type'] = label_encoder.fit_transform(df['applicant_credit_score_type'])\n",
        "#df['manufactured_home_land_property_'] = label_encoder.fit_transform(df['manufactured_home_land_property_'])\n",
        "df['applicant_sex'] = label_encoder.fit_transform(df['applicant_sex'])\n",
        "#df['conforming_loan_limit'] = label_encoder.fit_transform(df['conforming_loan_limit'])\n",
        "#df['derived_loan_product_type'] = label_encoder.fit_transform(df['derived_loan_product_type'])\n",
        "#df['applicant_race_1'] = label_encoder.fit_transform(df['applicant_race_1'])\n",
        "#df['applicant_ethnicity_1'] = label_encoder.fit_transform(df['applicant_ethnicity_1'])\n",
        "df['debt_to_income_ratio'] = label_encoder.fit_transform(df['debt_to_income_ratio'])\n",
        "df['applicant_age'] = label_encoder.fit_transform(df['applicant_age'])\n",
        "\n",
        "# Definir la función para mapear 'action_taken2' a 'aprobado'\n",
        "def map_approval(action_taken3):\n",
        "    # Define aquí tus criterios para determinar si un préstamo fue aprobado o no\n",
        "    # Por ejemplo, si action_taken es 1, considera que el préstamo fue aprobado (1); de lo contrario, no aprobado (0)\n",
        "    if action_taken3 == 1:\n",
        "        return 1\n",
        "    else:\n",
        "        return 0\n",
        "\n",
        "# Aplicar la función para crear la columna 'aprobado'\n",
        "#df['otorgado'] = df['action_taken3'].apply(map_approval)\n",
        "\n",
        "# Dividir el conjunto de datos en características (X) y etiquetas (y)\n",
        "#X = df.drop(['otorgado', 'action_taken3'], axis=1)  # Excluir 'aprobado' y 'action_taken2' de las características\n",
        "#y = df['otorgado']  # Usar 'aprobado' como variable de respuesta\n",
        "\n",
        "# Dividir el conjunto de datos en características (X) y etiquetas (y)\n",
        "X = df.drop(['action_taken3'], axis=1)  # Excluir 'action_taken3' de las características\n",
        "y = df['action_taken3']  # Usar 'action_taken3' como variable de respuesta\n",
        "\n",
        "\n",
        "# Dividir el conjunto de datos en entrenamiento y prueba\n",
        "X_train, X_test, y_train, y_test = train_test_split(X, y, test_size=0.2, random_state=42)\n",
        "\n",
        "# Resto del código...\n",
        "# Definir las transformaciones para las variables numéricas y categóricas\n",
        "numeric_features = ['loan_amount',\n",
        "                    'income','combined_loan_to_value_ratio']\n",
        "categorical_features = ['applicant_sex','loan_purpose', 'loan_type', 'lien_status','debt_to_income_ratio','applicant_age']\n",
        "\n",
        "# Crear el transformador para datos numéricos\n",
        "numeric_transformer = Pipeline(steps=[\n",
        "    ('imputer', SimpleImputer(strategy='mean')),  # Imputación de valores faltantes con la media\n",
        "    ('scaler', StandardScaler())  # Estandarización de las variables\n",
        "])\n",
        "\n",
        "# Crear el transformador para datos categóricos\n",
        "categorical_transformer = Pipeline(steps=[\n",
        "    ('imputer', SimpleImputer(strategy='most_frequent')),  # Imputación de valores faltantes con la moda\n",
        "    ('encoder', OneHotEncoder(drop='first'))  # Codificación one-hot\n",
        "])\n",
        "\n",
        "# Combinar transformadores\n",
        "preprocessor = ColumnTransformer(\n",
        "    transformers=[\n",
        "        ('num', numeric_transformer, numeric_features),\n",
        "        ('cat', categorical_transformer, categorical_features)\n",
        "    ])\n",
        "\n"
      ],
      "metadata": {
        "id": "XxcgWfYrIQ2J"
      },
      "execution_count": null,
      "outputs": []
    },
    {
      "cell_type": "code",
      "source": [
        "# Mapear los valores de action_taken3 utilizando la función map_approval\n",
        "df['otorgado_mapped'] = df['action_taken3'].map(map_approval)\n",
        "\n",
        "# Verificar qué valores corresponden a 1 (otorgado) y cuáles a 0 (no otorgado)\n",
        "print(\"Valores únicos en la columna 'otorgado_mapped':\", df['otorgado_mapped'].unique())\n"
      ],
      "metadata": {
        "colab": {
          "base_uri": "https://localhost:8080/"
        },
        "id": "BgChcwVSbZvw",
        "outputId": "473f3d01-04e0-4b2b-df4e-5bd930bd1df8"
      },
      "execution_count": null,
      "outputs": [
        {
          "output_type": "stream",
          "name": "stdout",
          "text": [
            "Valores únicos en la columna 'otorgado_mapped': [0 1]\n"
          ]
        }
      ]
    },
    {
      "cell_type": "markdown",
      "source": [
        "Si los valores únicos en la columna 'otorgado_mapped' son [0, 1], entonces podemos concluir que:\n",
        "\n",
        "El valor 0 corresponde a \"no otorgado\".\n",
        "El valor 1 corresponde a \"otorgado\".\n",
        "Por lo tanto, en la función map_approval, el valor 1 se asigna a \"otorgado\" y el valor 0 se asigna a \"no otorgado\"."
      ],
      "metadata": {
        "id": "6ATZ4YcDbl0U"
      }
    },
    {
      "cell_type": "markdown",
      "metadata": {
        "id": "Q4Nm6TBvx6hV"
      },
      "source": [
        "Entrenamiento de Modelos"
      ]
    },
    {
      "cell_type": "markdown",
      "source": [
        "# XG BOOST"
      ],
      "metadata": {
        "id": "dfGFXxPIYsUk"
      }
    },
    {
      "cell_type": "code",
      "execution_count": null,
      "metadata": {
        "colab": {
          "base_uri": "https://localhost:8080/"
        },
        "id": "hIELCkYEye5b",
        "outputId": "be3ad417-7e29-4d39-e62b-e98b13ac8222"
      },
      "outputs": [
        {
          "output_type": "stream",
          "name": "stdout",
          "text": [
            "XGB Accuracy: 0.808365\n",
            "XGB Confusion Matrix:\n",
            "[[ 47628  21428]\n",
            " [ 16899 114045]]\n",
            "XGB Classification Report:\n",
            "              precision    recall  f1-score   support\n",
            "\n",
            "           0       0.74      0.69      0.71     69056\n",
            "           1       0.84      0.87      0.86    130944\n",
            "\n",
            "    accuracy                           0.81    200000\n",
            "   macro avg       0.79      0.78      0.78    200000\n",
            "weighted avg       0.81      0.81      0.81    200000\n",
            "\n"
          ]
        }
      ],
      "source": [
        "# Crear un imputador para reemplazar los valores faltantes con la media\n",
        "imputer = SimpleImputer(strategy='mean')\n",
        "\n",
        "# Entrenar el modelo XGBoost\n",
        "XGB_model = XGBClassifier(objective='multi:softmax', num_class=3, random_state=0)\n",
        "XGB_model.fit(X_train, y_train)\n",
        "\n",
        "# Hacer predicciones en el conjunto de prueba\n",
        "y_pred_XGB = XGB_model.predict(X_test)\n",
        "\n",
        "# Evaluar el rendimiento del modelo\n",
        "accuracy_XGB = accuracy_score(y_test, y_pred_XGB)\n",
        "conf_matrix_XGB = confusion_matrix(y_test, y_pred_XGB)\n",
        "classification_rep_XGB = classification_report(y_test, y_pred_XGB)\n",
        "\n",
        "# Imprimir métricas de rendimiento para XGBoost\n",
        "print(f'XGB Accuracy: {accuracy_XGB}')\n",
        "print(f'XGB Confusion Matrix:\\n{conf_matrix_XGB}')\n",
        "print(f'XGB Classification Report:\\n{classification_rep_XGB}')\n",
        "\n"
      ]
    },
    {
      "cell_type": "code",
      "source": [
        "# Evaluar el rendimiento del modelo\n",
        "classification_rep_XGB = classification_report(y_test, y_pred_XGB, output_dict=True)\n",
        "\n",
        "# Acceder a las métricas de precisión, recall y F1-score para cada clase\n",
        "precision = classification_rep_XGB['weighted avg']['precision']\n",
        "recall = classification_rep_XGB['weighted avg']['recall']\n",
        "f1_score = classification_rep_XGB['weighted avg']['f1-score']\n",
        "\n",
        "# Imprimir las métricas\n",
        "print('Precision:', precision)\n",
        "print('Recall:', recall)\n",
        "print('F1 Score:', f1_score)\n",
        "\n"
      ],
      "metadata": {
        "colab": {
          "base_uri": "https://localhost:8080/"
        },
        "id": "-VNZYiwucS9V",
        "outputId": "04e11961-fe0e-426f-cab6-b5d9be1f6ad7"
      },
      "execution_count": null,
      "outputs": [
        {
          "output_type": "stream",
          "name": "stdout",
          "text": [
            "Precision: 0.8060162915680725\n",
            "Recall: 0.808365\n",
            "F1 Score: 0.8067452675593179\n"
          ]
        }
      ]
    },
    {
      "cell_type": "code",
      "source": [
        "import matplotlib.pyplot as plt\n",
        "import seaborn as sns\n",
        "from sklearn.metrics import confusion_matrix\n",
        "\n",
        "# Calcular la matriz de confusión\n",
        "conf_matrix = confusion_matrix(y_test, y_pred_XGB)\n",
        "\n",
        "# Visualizar la matriz de confusión con Seaborn\n",
        "plt.figure(figsize=(4, 4))\n",
        "sns.heatmap(conf_matrix, annot=True, fmt='d', cmap='Blues', cbar=False)\n",
        "plt.title('Matriz de Confusión - XGBoost')\n",
        "plt.xlabel('Etiqueta Predicha')\n",
        "plt.ylabel('Etiqueta Real')\n",
        "plt.show()\n",
        "\n"
      ],
      "metadata": {
        "colab": {
          "base_uri": "https://localhost:8080/",
          "height": 419
        },
        "id": "jZHXEDex4YNR",
        "outputId": "0e4e0963-b6c5-41a1-d325-ded25e876a9b"
      },
      "execution_count": null,
      "outputs": [
        {
          "output_type": "display_data",
          "data": {
            "text/plain": [
              "<Figure size 400x400 with 1 Axes>"
            ],
            "image/png": "[encoded data removed]"
          },
          "metadata": {}
        }
      ]
    },
    {
      "cell_type": "code",
      "source": [
        "# Obtener las etiquetas originales del LabelEncoder\n",
        "labels = label_encoder_action_taken3.classes_\n",
        "\n",
        "# Crear una nueva matriz de confusión con etiquetas originales\n",
        "conf_matrix_labels = confusion_matrix(y_test, y_pred_XGB)\n",
        "\n",
        "# Crear un dataframe de la matriz de confusión con etiquetas originales\n",
        "conf_matrix_labels_df = pd.DataFrame(conf_matrix_labels, index=labels, columns=labels)\n",
        "classification_rep_XGB = classification_report(y_test, y_pred_XGB)\n",
        "\n",
        "# Imprimir métricas de rendimiento para XGBoost\n",
        "print(f'XGB Classification Report:\\n{classification_rep_XGB}')\n",
        "\n",
        "# Visualizar la matriz de confusión con etiquetas originales\n",
        "plt.figure(figsize=(4, 4))\n",
        "sns.heatmap(conf_matrix_labels_df, annot=True, fmt='d', cmap='Blues', cbar=False)\n",
        "plt.title('Matriz de Confusión - XGBoost')\n",
        "plt.xlabel('Etiqueta Predicha')\n",
        "plt.ylabel('Etiqueta Real')\n",
        "plt.show()\n"
      ],
      "metadata": {
        "colab": {
          "base_uri": "https://localhost:8080/",
          "height": 593
        },
        "id": "_pRTfpxRG1MT",
        "outputId": "65e0f9d7-0cfc-44dd-bf0f-eeab67147bf9"
      },
      "execution_count": null,
      "outputs": [
        {
          "output_type": "stream",
          "name": "stdout",
          "text": [
            "XGB Classification Report:\n",
            "              precision    recall  f1-score   support\n",
            "\n",
            "           0       0.74      0.69      0.71     69056\n",
            "           1       0.84      0.87      0.86    130944\n",
            "\n",
            "    accuracy                           0.81    200000\n",
            "   macro avg       0.79      0.78      0.78    200000\n",
            "weighted avg       0.81      0.81      0.81    200000\n",
            "\n"
          ]
        },
        {
          "output_type": "display_data",
          "data": {
            "text/plain": [
              "<Figure size 400x400 with 1 Axes>"
            ],
            "image/png": "[encoded data removed]"
          },
          "metadata": {}
        }
      ]
    },
    {
      "cell_type": "code",
      "source": [
        "# Obtener las etiquetas originales del LabelEncoder\n",
        "labels_original = label_encoder_action_taken3.inverse_transform([0, 1])\n",
        "\n",
        "# Crear una nueva matriz de confusión con etiquetas originales\n",
        "conf_matrix_labels_df = pd.DataFrame(conf_matrix_labels, index=labels_original, columns=labels_original)\n",
        "\n",
        "# Imprimir la matriz de confusión con etiquetas originales\n",
        "print('XGB Confusion Matrix:')\n",
        "print(conf_matrix_labels_df)\n",
        "\n",
        "# Imprimir el informe de clasificación con etiquetas originales\n",
        "classification_rep_XGB_original = classification_report(y_test, y_pred_XGB, target_names=labels_original)\n",
        "print(f'XGB Accuracy: {accuracy_XGB}')\n",
        "print(f'XGB Confusion Matrix:\\n{conf_matrix_XGB}')\n",
        "#print('XGB Classification Report:')\n",
        "#print(classification_rep_XGB_original)\n",
        "\n",
        "# Visualizar la matriz de confusión con etiquetas originales\n",
        "plt.figure(figsize=(4, 4))\n",
        "sns.heatmap(conf_matrix_labels_df, annot=True, fmt='d', cmap='Blues', cbar=False)\n",
        "plt.title('Matriz de Confusión - XGBoost')\n",
        "plt.xlabel('Etiqueta Predicha')\n",
        "plt.ylabel('Etiqueta Real')\n",
        "plt.show()\n",
        "\n"
      ],
      "metadata": {
        "colab": {
          "base_uri": "https://localhost:8080/",
          "height": 558
        },
        "id": "2neZb9MyUIEB",
        "outputId": "3cf3576b-69a0-4314-eafd-267c4078a51e"
      },
      "execution_count": null,
      "outputs": [
        {
          "output_type": "stream",
          "name": "stdout",
          "text": [
            "XGB Confusion Matrix:\n",
            "             No Otorgado  Otorgado\n",
            "No Otorgado        47628     21428\n",
            "Otorgado           16899    114045\n",
            "XGB Accuracy: 0.808365\n",
            "XGB Confusion Matrix:\n",
            "[[ 47628  21428]\n",
            " [ 16899 114045]]\n"
          ]
        },
        {
          "output_type": "display_data",
          "data": {
            "text/plain": [
              "<Figure size 400x400 with 1 Axes>"
            ],
            "image/png": "[encoded data removed]"
          },
          "metadata": {}
        }
      ]
    },
    {
      "cell_type": "markdown",
      "source": [
        "# Gradient Boosting Clasifier"
      ],
      "metadata": {
        "id": "Dmiy64XqYwLC"
      }
    },
    {
      "cell_type": "code",
      "execution_count": null,
      "metadata": {
        "colab": {
          "base_uri": "https://localhost:8080/"
        },
        "id": "Kr0C4vrTys7a",
        "outputId": "b4507f41-cb5c-42f0-aa6e-c71900aa6967"
      },
      "outputs": [
        {
          "output_type": "stream",
          "name": "stdout",
          "text": [
            "GBT Accuracy: 0.80135\n",
            "GBT Confusion Matrix:\n",
            "[[ 47127  21929]\n",
            " [ 17801 113143]]\n",
            "GBT Classification Report:\n",
            "              precision    recall  f1-score   support\n",
            "\n",
            "           0       0.73      0.68      0.70     69056\n",
            "           1       0.84      0.86      0.85    130944\n",
            "\n",
            "    accuracy                           0.80    200000\n",
            "   macro avg       0.78      0.77      0.78    200000\n",
            "weighted avg       0.80      0.80      0.80    200000\n",
            "\n"
          ]
        }
      ],
      "source": [
        "from sklearn.impute import SimpleImputer\n",
        "from sklearn.ensemble import GradientBoostingClassifier\n",
        "from sklearn.metrics import accuracy_score, confusion_matrix, classification_report\n",
        "\n",
        "# Crear un imputador para reemplazar los valores faltantes con la media\n",
        "imputer = SimpleImputer(strategy='mean')\n",
        "\n",
        "# Imputar valores faltantes en el conjunto de entrenamiento y prueba\n",
        "X_train_imputed = imputer.fit_transform(X_train)\n",
        "X_test_imputed = imputer.transform(X_test)\n",
        "\n",
        "# Entrenar el modelo Gradient Boosting\n",
        "GBT_model = GradientBoostingClassifier(random_state=123)\n",
        "GBT_model.fit(X_train_imputed, y_train)\n",
        "\n",
        "# Hacer predicciones en el conjunto de prueba\n",
        "y_pred_GBT = GBT_model.predict(X_test_imputed)\n",
        "\n",
        "# Evaluar el rendimiento del modelo\n",
        "accuracy_GBT = accuracy_score(y_test, y_pred_GBT)\n",
        "conf_matrix_GBT = confusion_matrix(y_test, y_pred_GBT)\n",
        "classification_rep_GBT = classification_report(y_test, y_pred_GBT)\n",
        "\n",
        "# Imprimir métricas de rendimiento para Gradient Boosting\n",
        "print(f'GBT Accuracy: {accuracy_GBT}')\n",
        "print(f'GBT Confusion Matrix:\\n{conf_matrix_GBT}')\n",
        "print(f'GBT Classification Report:\\n{classification_rep_GBT}')\n"
      ]
    },
    {
      "cell_type": "markdown",
      "source": [
        "# Random Forest"
      ],
      "metadata": {
        "id": "LJ0F_5-cY00K"
      }
    },
    {
      "cell_type": "code",
      "execution_count": null,
      "metadata": {
        "colab": {
          "base_uri": "https://localhost:8080/"
        },
        "id": "K83e4MOYy8Zb",
        "outputId": "ce55b7e5-0064-46a7-a173-5c1ca0d0ba14"
      },
      "outputs": [
        {
          "output_type": "stream",
          "name": "stdout",
          "text": [
            "Random Forest Accuracy: 0.782475\n",
            "Random Forest Confusion Matrix:\n",
            "[[ 42753  26303]\n",
            " [ 17202 113742]]\n",
            "Random Forest Classification Report:\n",
            "              precision    recall  f1-score   support\n",
            "\n",
            "           0       0.71      0.62      0.66     69056\n",
            "           1       0.81      0.87      0.84    130944\n",
            "\n",
            "    accuracy                           0.78    200000\n",
            "   macro avg       0.76      0.74      0.75    200000\n",
            "weighted avg       0.78      0.78      0.78    200000\n",
            "\n"
          ]
        }
      ],
      "source": [
        "from sklearn.impute import SimpleImputer\n",
        "from sklearn.ensemble import RandomForestClassifier\n",
        "from sklearn.metrics import accuracy_score, confusion_matrix, classification_report\n",
        "\n",
        "# Crear un imputador para reemplazar los valores faltantes con la media\n",
        "imputer = SimpleImputer(strategy='mean')\n",
        "\n",
        "# Imputar valores faltantes en el conjunto de entrenamiento y prueba\n",
        "X_train_imputed = imputer.fit_transform(X_train)\n",
        "X_test_imputed = imputer.transform(X_test)\n",
        "\n",
        "# Entrenar el modelo Random Forest\n",
        "RF_model = RandomForestClassifier(n_estimators=100, random_state=0)\n",
        "RF_model.fit(X_train_imputed, y_train)\n",
        "\n",
        "# Hacer predicciones en el conjunto de prueba\n",
        "y_pred_RF = RF_model.predict(X_test_imputed)\n",
        "\n",
        "# Evaluar el rendimiento del modelo\n",
        "accuracy_RF = accuracy_score(y_test, y_pred_RF)\n",
        "conf_matrix_RF = confusion_matrix(y_test, y_pred_RF)\n",
        "classification_rep_RF = classification_report(y_test, y_pred_RF)\n",
        "\n",
        "# Imprimir métricas de rendimiento para Random Forest\n",
        "print(f'Random Forest Accuracy: {accuracy_RF}')\n",
        "print(f'Random Forest Confusion Matrix:\\n{conf_matrix_RF}')\n",
        "print(f'Random Forest Classification Report:\\n{classification_rep_RF}')\n",
        "\n"
      ]
    },
    {
      "cell_type": "markdown",
      "source": [
        "# CatBoost"
      ],
      "metadata": {
        "id": "_Zc0cQNwY4U-"
      }
    },
    {
      "cell_type": "code",
      "execution_count": null,
      "metadata": {
        "colab": {
          "base_uri": "https://localhost:8080/"
        },
        "id": "xozk5d23swOU",
        "outputId": "e193432f-9d67-486c-cfd8-3e1b3506b572"
      },
      "outputs": [
        {
          "output_type": "stream",
          "name": "stdout",
          "text": [
            "0:\tlearn: 0.7816912\ttest: 0.7826300\tbest: 0.7826300 (0)\ttotal: 412ms\tremaining: 40.8s\n",
            "1:\tlearn: 0.7866888\ttest: 0.7872700\tbest: 0.7872700 (1)\ttotal: 705ms\tremaining: 34.6s\n",
            "2:\tlearn: 0.7871075\ttest: 0.7885950\tbest: 0.7885950 (2)\ttotal: 992ms\tremaining: 32.1s\n",
            "3:\tlearn: 0.7867713\ttest: 0.7881800\tbest: 0.7885950 (2)\ttotal: 1.27s\tremaining: 30.5s\n",
            "4:\tlearn: 0.7907287\ttest: 0.7919000\tbest: 0.7919000 (4)\ttotal: 1.55s\tremaining: 29.5s\n",
            "5:\tlearn: 0.7931238\ttest: 0.7938050\tbest: 0.7938050 (5)\ttotal: 1.83s\tremaining: 28.7s\n",
            "6:\tlearn: 0.7939162\ttest: 0.7946350\tbest: 0.7946350 (6)\ttotal: 2.12s\tremaining: 28.2s\n",
            "7:\tlearn: 0.7949900\ttest: 0.7958950\tbest: 0.7958950 (7)\ttotal: 2.4s\tremaining: 27.6s\n",
            "8:\tlearn: 0.7956737\ttest: 0.7966800\tbest: 0.7966800 (8)\ttotal: 2.71s\tremaining: 27.4s\n",
            "9:\tlearn: 0.7955000\ttest: 0.7963650\tbest: 0.7966800 (8)\ttotal: 2.98s\tremaining: 26.8s\n",
            "10:\tlearn: 0.7961075\ttest: 0.7970050\tbest: 0.7970050 (10)\ttotal: 3.26s\tremaining: 26.4s\n",
            "11:\tlearn: 0.7971037\ttest: 0.7977600\tbest: 0.7977600 (11)\ttotal: 3.53s\tremaining: 25.9s\n",
            "12:\tlearn: 0.7966237\ttest: 0.7976200\tbest: 0.7977600 (11)\ttotal: 3.81s\tremaining: 25.5s\n",
            "13:\tlearn: 0.7965663\ttest: 0.7975150\tbest: 0.7977600 (11)\ttotal: 4.09s\tremaining: 25.1s\n",
            "14:\tlearn: 0.7970662\ttest: 0.7980500\tbest: 0.7980500 (14)\ttotal: 4.37s\tremaining: 24.8s\n",
            "15:\tlearn: 0.7978738\ttest: 0.7986950\tbest: 0.7986950 (15)\ttotal: 4.67s\tremaining: 24.5s\n",
            "16:\tlearn: 0.7983737\ttest: 0.7993050\tbest: 0.7993050 (16)\ttotal: 4.97s\tremaining: 24.2s\n",
            "17:\tlearn: 0.7984463\ttest: 0.7993850\tbest: 0.7993850 (17)\ttotal: 5.25s\tremaining: 23.9s\n",
            "18:\tlearn: 0.7990075\ttest: 0.7997400\tbest: 0.7997400 (18)\ttotal: 5.51s\tremaining: 23.5s\n",
            "19:\tlearn: 0.7990812\ttest: 0.7998850\tbest: 0.7998850 (19)\ttotal: 5.83s\tremaining: 23.3s\n",
            "20:\tlearn: 0.7988775\ttest: 0.7997950\tbest: 0.7998850 (19)\ttotal: 6.12s\tremaining: 23s\n",
            "21:\tlearn: 0.7984450\ttest: 0.7994300\tbest: 0.7998850 (19)\ttotal: 6.4s\tremaining: 22.7s\n",
            "22:\tlearn: 0.7996838\ttest: 0.8004500\tbest: 0.8004500 (22)\ttotal: 6.68s\tremaining: 22.4s\n",
            "23:\tlearn: 0.7990300\ttest: 0.7998450\tbest: 0.8004500 (22)\ttotal: 7.03s\tremaining: 22.3s\n",
            "24:\tlearn: 0.7995362\ttest: 0.8002050\tbest: 0.8004500 (22)\ttotal: 7.55s\tremaining: 22.7s\n",
            "25:\tlearn: 0.7990312\ttest: 0.7997700\tbest: 0.8004500 (22)\ttotal: 8.07s\tremaining: 23s\n",
            "26:\tlearn: 0.7990763\ttest: 0.7997550\tbest: 0.8004500 (22)\ttotal: 8.55s\tremaining: 23.1s\n",
            "27:\tlearn: 0.7993875\ttest: 0.8001650\tbest: 0.8004500 (22)\ttotal: 9.01s\tremaining: 23.2s\n",
            "28:\tlearn: 0.7999550\ttest: 0.8006500\tbest: 0.8006500 (28)\ttotal: 9.51s\tremaining: 23.3s\n",
            "29:\tlearn: 0.8001063\ttest: 0.8007450\tbest: 0.8007450 (29)\ttotal: 10s\tremaining: 23.3s\n",
            "30:\tlearn: 0.8002362\ttest: 0.8009650\tbest: 0.8009650 (30)\ttotal: 10.5s\tremaining: 23.4s\n",
            "31:\tlearn: 0.8002375\ttest: 0.8010000\tbest: 0.8010000 (31)\ttotal: 11s\tremaining: 23.3s\n",
            "32:\tlearn: 0.8006175\ttest: 0.8012950\tbest: 0.8012950 (32)\ttotal: 11.2s\tremaining: 22.8s\n",
            "33:\tlearn: 0.8007163\ttest: 0.8013750\tbest: 0.8013750 (33)\ttotal: 11.5s\tremaining: 22.4s\n",
            "34:\tlearn: 0.8007013\ttest: 0.8014500\tbest: 0.8014500 (34)\ttotal: 11.8s\tremaining: 21.9s\n",
            "35:\tlearn: 0.8006925\ttest: 0.8015300\tbest: 0.8015300 (35)\ttotal: 12.1s\tremaining: 21.5s\n",
            "36:\tlearn: 0.8007538\ttest: 0.8015250\tbest: 0.8015300 (35)\ttotal: 12.4s\tremaining: 21.1s\n",
            "37:\tlearn: 0.8008137\ttest: 0.8017050\tbest: 0.8017050 (37)\ttotal: 12.7s\tremaining: 20.7s\n",
            "38:\tlearn: 0.8007900\ttest: 0.8016750\tbest: 0.8017050 (37)\ttotal: 12.9s\tremaining: 20.2s\n",
            "39:\tlearn: 0.8008762\ttest: 0.8016550\tbest: 0.8017050 (37)\ttotal: 13.2s\tremaining: 19.8s\n",
            "40:\tlearn: 0.8008513\ttest: 0.8016500\tbest: 0.8017050 (37)\ttotal: 13.5s\tremaining: 19.4s\n",
            "41:\tlearn: 0.8009538\ttest: 0.8017600\tbest: 0.8017600 (41)\ttotal: 13.8s\tremaining: 19s\n",
            "42:\tlearn: 0.8010950\ttest: 0.8019150\tbest: 0.8019150 (42)\ttotal: 14.1s\tremaining: 18.7s\n",
            "43:\tlearn: 0.8011425\ttest: 0.8018800\tbest: 0.8019150 (42)\ttotal: 14.4s\tremaining: 18.3s\n",
            "44:\tlearn: 0.8012563\ttest: 0.8020000\tbest: 0.8020000 (44)\ttotal: 14.6s\tremaining: 17.9s\n",
            "45:\tlearn: 0.8013263\ttest: 0.8020850\tbest: 0.8020850 (45)\ttotal: 14.9s\tremaining: 17.5s\n",
            "46:\tlearn: 0.8013537\ttest: 0.8021050\tbest: 0.8021050 (46)\ttotal: 15.2s\tremaining: 17.2s\n",
            "47:\tlearn: 0.8014025\ttest: 0.8021100\tbest: 0.8021100 (47)\ttotal: 15.5s\tremaining: 16.8s\n",
            "48:\tlearn: 0.8013963\ttest: 0.8021450\tbest: 0.8021450 (48)\ttotal: 15.8s\tremaining: 16.4s\n",
            "49:\tlearn: 0.8014813\ttest: 0.8022100\tbest: 0.8022100 (49)\ttotal: 16.1s\tremaining: 16.1s\n",
            "50:\tlearn: 0.8015488\ttest: 0.8023300\tbest: 0.8023300 (50)\ttotal: 16.4s\tremaining: 15.7s\n",
            "51:\tlearn: 0.8015613\ttest: 0.8022650\tbest: 0.8023300 (50)\ttotal: 16.6s\tremaining: 15.4s\n",
            "52:\tlearn: 0.8015825\ttest: 0.8022350\tbest: 0.8023300 (50)\ttotal: 16.9s\tremaining: 15s\n",
            "53:\tlearn: 0.8016013\ttest: 0.8021700\tbest: 0.8023300 (50)\ttotal: 17.2s\tremaining: 14.6s\n",
            "54:\tlearn: 0.8016013\ttest: 0.8022200\tbest: 0.8023300 (50)\ttotal: 17.5s\tremaining: 14.3s\n",
            "55:\tlearn: 0.8016087\ttest: 0.8022950\tbest: 0.8023300 (50)\ttotal: 17.7s\tremaining: 13.9s\n",
            "56:\tlearn: 0.8016887\ttest: 0.8023100\tbest: 0.8023300 (50)\ttotal: 18s\tremaining: 13.6s\n",
            "57:\tlearn: 0.8017538\ttest: 0.8023500\tbest: 0.8023500 (57)\ttotal: 18.3s\tremaining: 13.2s\n",
            "58:\tlearn: 0.8018087\ttest: 0.8023800\tbest: 0.8023800 (58)\ttotal: 18.6s\tremaining: 12.9s\n",
            "59:\tlearn: 0.8018275\ttest: 0.8023800\tbest: 0.8023800 (58)\ttotal: 18.9s\tremaining: 12.6s\n",
            "60:\tlearn: 0.8018188\ttest: 0.8024250\tbest: 0.8024250 (60)\ttotal: 19.2s\tremaining: 12.3s\n",
            "61:\tlearn: 0.8018038\ttest: 0.8023850\tbest: 0.8024250 (60)\ttotal: 19.4s\tremaining: 11.9s\n",
            "62:\tlearn: 0.8018925\ttest: 0.8024250\tbest: 0.8024250 (60)\ttotal: 19.7s\tremaining: 11.6s\n",
            "63:\tlearn: 0.8019800\ttest: 0.8025450\tbest: 0.8025450 (63)\ttotal: 20s\tremaining: 11.2s\n",
            "64:\tlearn: 0.8019650\ttest: 0.8025650\tbest: 0.8025650 (64)\ttotal: 20.3s\tremaining: 10.9s\n",
            "65:\tlearn: 0.8020063\ttest: 0.8025800\tbest: 0.8025800 (65)\ttotal: 20.6s\tremaining: 10.6s\n",
            "66:\tlearn: 0.8020575\ttest: 0.8025800\tbest: 0.8025800 (65)\ttotal: 20.9s\tremaining: 10.3s\n",
            "67:\tlearn: 0.8020863\ttest: 0.8026350\tbest: 0.8026350 (67)\ttotal: 21.3s\tremaining: 10s\n",
            "68:\tlearn: 0.8021137\ttest: 0.8026500\tbest: 0.8026500 (68)\ttotal: 21.8s\tremaining: 9.8s\n",
            "69:\tlearn: 0.8021462\ttest: 0.8026100\tbest: 0.8026500 (68)\ttotal: 22.3s\tremaining: 9.56s\n",
            "70:\tlearn: 0.8021563\ttest: 0.8028250\tbest: 0.8028250 (70)\ttotal: 22.8s\tremaining: 9.31s\n",
            "71:\tlearn: 0.8021550\ttest: 0.8027650\tbest: 0.8028250 (70)\ttotal: 23.3s\tremaining: 9.04s\n",
            "72:\tlearn: 0.8021938\ttest: 0.8027950\tbest: 0.8028250 (70)\ttotal: 23.7s\tremaining: 8.78s\n",
            "73:\tlearn: 0.8021613\ttest: 0.8028100\tbest: 0.8028250 (70)\ttotal: 24.2s\tremaining: 8.52s\n",
            "74:\tlearn: 0.8021812\ttest: 0.8027800\tbest: 0.8028250 (70)\ttotal: 24.8s\tremaining: 8.25s\n",
            "75:\tlearn: 0.8021862\ttest: 0.8028450\tbest: 0.8028450 (75)\ttotal: 25.1s\tremaining: 7.94s\n",
            "76:\tlearn: 0.8022662\ttest: 0.8028400\tbest: 0.8028450 (75)\ttotal: 25.4s\tremaining: 7.59s\n",
            "77:\tlearn: 0.8022925\ttest: 0.8028850\tbest: 0.8028850 (77)\ttotal: 25.7s\tremaining: 7.25s\n",
            "78:\tlearn: 0.8022975\ttest: 0.8029550\tbest: 0.8029550 (78)\ttotal: 26s\tremaining: 6.91s\n",
            "79:\tlearn: 0.8023375\ttest: 0.8029900\tbest: 0.8029900 (79)\ttotal: 26.3s\tremaining: 6.57s\n",
            "80:\tlearn: 0.8023337\ttest: 0.8030300\tbest: 0.8030300 (80)\ttotal: 26.6s\tremaining: 6.23s\n",
            "81:\tlearn: 0.8023512\ttest: 0.8030400\tbest: 0.8030400 (81)\ttotal: 26.9s\tremaining: 5.9s\n",
            "82:\tlearn: 0.8023562\ttest: 0.8030200\tbest: 0.8030400 (81)\ttotal: 27.1s\tremaining: 5.56s\n",
            "83:\tlearn: 0.8023613\ttest: 0.8030100\tbest: 0.8030400 (81)\ttotal: 27.4s\tremaining: 5.22s\n",
            "84:\tlearn: 0.8024075\ttest: 0.8030300\tbest: 0.8030400 (81)\ttotal: 27.7s\tremaining: 4.89s\n",
            "85:\tlearn: 0.8023963\ttest: 0.8030550\tbest: 0.8030550 (85)\ttotal: 28s\tremaining: 4.55s\n",
            "86:\tlearn: 0.8024288\ttest: 0.8030300\tbest: 0.8030550 (85)\ttotal: 28.3s\tremaining: 4.23s\n",
            "87:\tlearn: 0.8024587\ttest: 0.8030100\tbest: 0.8030550 (85)\ttotal: 28.6s\tremaining: 3.9s\n",
            "88:\tlearn: 0.8024813\ttest: 0.8030950\tbest: 0.8030950 (88)\ttotal: 28.9s\tremaining: 3.57s\n",
            "89:\tlearn: 0.8024925\ttest: 0.8031400\tbest: 0.8031400 (89)\ttotal: 29.1s\tremaining: 3.24s\n",
            "90:\tlearn: 0.8025062\ttest: 0.8031250\tbest: 0.8031400 (89)\ttotal: 29.4s\tremaining: 2.91s\n",
            "91:\tlearn: 0.8025300\ttest: 0.8031850\tbest: 0.8031850 (91)\ttotal: 29.7s\tremaining: 2.58s\n",
            "92:\tlearn: 0.8025887\ttest: 0.8032300\tbest: 0.8032300 (92)\ttotal: 30s\tremaining: 2.25s\n",
            "93:\tlearn: 0.8025562\ttest: 0.8032300\tbest: 0.8032300 (92)\ttotal: 30.2s\tremaining: 1.93s\n",
            "94:\tlearn: 0.8026062\ttest: 0.8032550\tbest: 0.8032550 (94)\ttotal: 30.5s\tremaining: 1.61s\n",
            "95:\tlearn: 0.8026475\ttest: 0.8032700\tbest: 0.8032700 (95)\ttotal: 30.8s\tremaining: 1.28s\n",
            "96:\tlearn: 0.8027412\ttest: 0.8033100\tbest: 0.8033100 (96)\ttotal: 31.1s\tremaining: 962ms\n",
            "97:\tlearn: 0.8027575\ttest: 0.8033400\tbest: 0.8033400 (97)\ttotal: 31.4s\tremaining: 640ms\n",
            "98:\tlearn: 0.8027800\ttest: 0.8033500\tbest: 0.8033500 (98)\ttotal: 31.7s\tremaining: 320ms\n",
            "99:\tlearn: 0.8027800\ttest: 0.8033600\tbest: 0.8033600 (99)\ttotal: 31.9s\tremaining: 0us\n",
            "\n",
            "bestTest = 0.80336\n",
            "bestIteration = 99\n",
            "\n",
            "CatBoost Accuracy: 0.80336\n",
            "CatBoost Confusion Matrix:\n",
            "[[ 47188  21868]\n",
            " [ 17460 113484]]\n",
            "CatBoost Classification Report:\n",
            "              precision    recall  f1-score   support\n",
            "\n",
            "           0       0.73      0.68      0.71     69056\n",
            "           1       0.84      0.87      0.85    130944\n",
            "\n",
            "    accuracy                           0.80    200000\n",
            "   macro avg       0.78      0.77      0.78    200000\n",
            "weighted avg       0.80      0.80      0.80    200000\n",
            "\n"
          ]
        }
      ],
      "source": [
        "from catboost import CatBoostClassifier, Pool\n",
        "from sklearn.metrics import accuracy_score, confusion_matrix, classification_report\n",
        "from sklearn.model_selection import train_test_split\n",
        "\n",
        "# Crear un conjunto de datos CatBoost para entrenamiento\n",
        "train_pool_catboost = Pool(X_train, label=y_train)\n",
        "\n",
        "# Crear un conjunto de datos CatBoost para prueba\n",
        "test_pool_catboost = Pool(X_test, label=y_test)\n",
        "\n",
        "# Configurar e instanciar el modelo CatBoost con hiperparámetros y métrica de evaluación\n",
        "CatBoost_model = CatBoostClassifier(\n",
        "    iterations=100,\n",
        "    learning_rate=0.1,\n",
        "    depth=6,\n",
        "    loss_function='MultiClass',  # Especificar la función de pérdida para clasificación multiclase\n",
        "    eval_metric='Accuracy',  # Especificar la métrica de evaluación para clasificación multiclase\n",
        "    random_state=0\n",
        "    # Puedes ajustar más hiperparámetros según sea necesario\n",
        ")\n",
        "\n",
        "# Entrenar el modelo CatBoost\n",
        "CatBoost_model.fit(train_pool_catboost, eval_set=test_pool_catboost)\n",
        "\n",
        "# Hacer predicciones en el conjunto de prueba\n",
        "y_pred_CatBoost = CatBoost_model.predict(X_test)\n",
        "\n",
        "# Evaluar el rendimiento del modelo\n",
        "Accuracy_CatBoost = accuracy_score(y_test, y_pred_CatBoost)\n",
        "conf_matrix_CatBoost = confusion_matrix(y_test, y_pred_CatBoost)\n",
        "classification_rep_CatBoost = classification_report(y_test, y_pred_CatBoost)\n",
        "\n",
        "# Imprimir métricas de rendimiento para CatBoost\n",
        "print(f'CatBoost Accuracy: {Accuracy_CatBoost}')\n",
        "print(f'CatBoost Confusion Matrix:\\n{conf_matrix_CatBoost}')\n",
        "print(f'CatBoost Classification Report:\\n{classification_rep_CatBoost}')\n",
        "\n",
        "\n",
        "\n",
        "\n"
      ]
    },
    {
      "cell_type": "markdown",
      "source": [
        "# Regresion Logistica"
      ],
      "metadata": {
        "id": "w0qy4eXfY8yW"
      }
    },
    {
      "cell_type": "code",
      "execution_count": null,
      "metadata": {
        "colab": {
          "base_uri": "https://localhost:8080/"
        },
        "id": "qaskEPxx1ACg",
        "outputId": "51161202-c4a3-403c-bfea-2353acaf9bad"
      },
      "outputs": [
        {
          "output_type": "stream",
          "name": "stderr",
          "text": [
            "/usr/local/lib/python3.10/dist-packages/scipy/optimize/_linesearch.py:466: LineSearchWarning: The line search algorithm did not converge\n",
            "  warn('The line search algorithm did not converge', LineSearchWarning)\n",
            "/usr/local/lib/python3.10/dist-packages/scipy/optimize/_linesearch.py:314: LineSearchWarning: The line search algorithm did not converge\n",
            "  warn('The line search algorithm did not converge', LineSearchWarning)\n",
            "/usr/local/lib/python3.10/dist-packages/scipy/optimize/_linesearch.py:425: LineSearchWarning: Rounding errors prevent the line search from converging\n",
            "  warn(msg, LineSearchWarning)\n",
            "/usr/local/lib/python3.10/dist-packages/sklearn/utils/optimize.py:203: UserWarning: Line Search failed\n",
            "  warnings.warn(\"Line Search failed\")\n"
          ]
        },
        {
          "output_type": "stream",
          "name": "stdout",
          "text": [
            "LR Accuracy: 0.65173\n",
            "LR Confusion Matrix:\n",
            "[[  1541  67515]\n",
            " [  2139 128805]]\n",
            "LR Classification Report:\n",
            "              precision    recall  f1-score   support\n",
            "\n",
            "           0       0.42      0.02      0.04     69056\n",
            "           1       0.66      0.98      0.79    130944\n",
            "\n",
            "    accuracy                           0.65    200000\n",
            "   macro avg       0.54      0.50      0.41    200000\n",
            "weighted avg       0.57      0.65      0.53    200000\n",
            "\n"
          ]
        }
      ],
      "source": [
        "from sklearn.impute import SimpleImputer\n",
        "from sklearn.linear_model import LogisticRegression\n",
        "from sklearn.metrics import accuracy_score, confusion_matrix, classification_report\n",
        "\n",
        "# Crear un imputador para reemplazar los valores faltantes con la media\n",
        "imputer = SimpleImputer(strategy='mean')\n",
        "\n",
        "# Imputar valores faltantes en el conjunto de entrenamiento y prueba\n",
        "X_train_imputed = imputer.fit_transform(X_train)\n",
        "X_test_imputed = imputer.transform(X_test)\n",
        "\n",
        "# Entrenar el modelo Logistic Regression (LR)\n",
        "LR_model = LogisticRegression(random_state=1234, multi_class='multinomial', solver='newton-cg')\n",
        "LR_model.fit(X_train_imputed, y_train)\n",
        "\n",
        "# Hacer predicciones en el conjunto de prueba\n",
        "y_pred_LR = LR_model.predict(X_test_imputed)\n",
        "\n",
        "# Evaluar el rendimiento del modelo\n",
        "accuracy_LR = accuracy_score(y_test, y_pred_LR)\n",
        "conf_matrix_LR = confusion_matrix(y_test, y_pred_LR)\n",
        "classification_rep_LR = classification_report(y_test, y_pred_LR)\n",
        "\n",
        "# Imprimir métricas de rendimiento para Logistic Regression (LR)\n",
        "print(f'LR Accuracy: {accuracy_LR}')\n",
        "print(f'LR Confusion Matrix:\\n{conf_matrix_LR}')\n",
        "print(f'LR Classification Report:\\n{classification_rep_LR}')\n",
        "\n",
        "\n"
      ]
    },
    {
      "cell_type": "markdown",
      "source": [
        "#HISTGRADIENT BOOSTING CLASSIFIER"
      ],
      "metadata": {
        "id": "IRRHQhYYZHG2"
      }
    },
    {
      "cell_type": "code",
      "source": [
        "from sklearn.experimental import enable_hist_gradient_boosting  # habilitar el soporte experimental para HistGradientBoostingClassifier\n",
        "from sklearn.ensemble import HistGradientBoostingClassifier\n",
        "from sklearn.metrics import accuracy_score, confusion_matrix, classification_report\n",
        "from sklearn.model_selection import train_test_split\n",
        "from sklearn.preprocessing import LabelEncoder\n",
        "import pandas as pd\n",
        "\n",
        "# Instanciar y entrenar el modelo HistGradientBoostingClassifier\n",
        "hgb_model = HistGradientBoostingClassifier()\n",
        "hgb_model.fit(X_train, y_train)\n",
        "\n",
        "# Hacer predicciones en el conjunto de prueba\n",
        "y_pred_hgb = hgb_model.predict(X_test)\n",
        "\n",
        "# Evaluar el rendimiento del modelo\n",
        "accuracy_hgb = accuracy_score(y_test, y_pred_hgb)\n",
        "conf_matrix_hgb = confusion_matrix(y_test, y_pred_hgb)\n",
        "classification_rep_hgb = classification_report(y_test, y_pred_hgb)\n",
        "\n",
        "# Imprimir métricas de rendimiento para HistGradientBoostingClassifier\n",
        "print(f'HistGradientBoostingClassifier Accuracy: {accuracy_hgb}')\n",
        "print(f'HistGradientBoostingClassifier Confusion Matrix:\\n{conf_matrix_hgb}')\n",
        "print(f'HistGradientBoostingClassifier Classification Report:\\n{classification_rep_hgb}')\n"
      ],
      "metadata": {
        "colab": {
          "base_uri": "https://localhost:8080/"
        },
        "id": "fyyUuGcaNWnv",
        "outputId": "dd03f489-9575-42f1-9153-588455acad12"
      },
      "execution_count": null,
      "outputs": [
        {
          "output_type": "stream",
          "name": "stderr",
          "text": [
            "/usr/local/lib/python3.10/dist-packages/sklearn/experimental/enable_hist_gradient_boosting.py:16: UserWarning: Since version 1.0, it is not needed to import enable_hist_gradient_boosting anymore. HistGradientBoostingClassifier and HistGradientBoostingRegressor are now stable and can be normally imported from sklearn.ensemble.\n",
            "  warnings.warn(\n"
          ]
        },
        {
          "output_type": "stream",
          "name": "stdout",
          "text": [
            "HistGradientBoostingClassifier Accuracy: 0.806935\n",
            "HistGradientBoostingClassifier Confusion Matrix:\n",
            "[[ 47615  21441]\n",
            " [ 17172 113772]]\n",
            "HistGradientBoostingClassifier Classification Report:\n",
            "              precision    recall  f1-score   support\n",
            "\n",
            "           0       0.73      0.69      0.71     69056\n",
            "           1       0.84      0.87      0.85    130944\n",
            "\n",
            "    accuracy                           0.81    200000\n",
            "   macro avg       0.79      0.78      0.78    200000\n",
            "weighted avg       0.80      0.81      0.81    200000\n",
            "\n"
          ]
        }
      ]
    },
    {
      "cell_type": "markdown",
      "source": [
        "# LGBM"
      ],
      "metadata": {
        "id": "1Hx5Po5Vgz_3"
      }
    },
    {
      "cell_type": "code",
      "source": [
        "from lightgbm import LGBMClassifier\n",
        "from sklearn.metrics import accuracy_score, confusion_matrix, classification_report\n",
        "\n",
        "# Instanciar y entrenar el modelo LGBMClassifier\n",
        "lgbm_model = LGBMClassifier()\n",
        "lgbm_model.fit(X_train, y_train)\n",
        "\n",
        "# Hacer predicciones en el conjunto de prueba\n",
        "y_pred_lgbm = lgbm_model.predict(X_test)\n",
        "\n",
        "# Evaluar el rendimiento del modelo\n",
        "accuracy_lgbm = accuracy_score(y_test, y_pred_lgbm)\n",
        "conf_matrix_lgbm = confusion_matrix(y_test, y_pred_lgbm)\n",
        "classification_rep_lgbm = classification_report(y_test, y_pred_lgbm)\n",
        "\n",
        "# Imprimir métricas de rendimiento para LGBMClassifier\n",
        "print(f'LGBMClassifier Accuracy: {accuracy_lgbm}')\n",
        "print(f'LGBMClassifier Confusion Matrix:\\n{conf_matrix_lgbm}')\n",
        "print(f'LGBMClassifier Classification Report:\\n{classification_rep_lgbm}')\n",
        "\n"
      ],
      "metadata": {
        "id": "LJGOktt5OCSP",
        "colab": {
          "base_uri": "https://localhost:8080/"
        },
        "outputId": "c092cb8d-5264-4ab7-ff7e-9c79b6645598"
      },
      "execution_count": null,
      "outputs": [
        {
          "output_type": "stream",
          "name": "stdout",
          "text": [
            "[LightGBM] [Info] Number of positive: 523370, number of negative: 276630\n",
            "[LightGBM] [Info] Auto-choosing row-wise multi-threading, the overhead of testing was 0.054511 seconds.\n",
            "You can set `force_row_wise=true` to remove the overhead.\n",
            "And if memory is not enough, you can set `force_col_wise=true`.\n",
            "[LightGBM] [Info] Total Bins 788\n",
            "[LightGBM] [Info] Number of data points in the train set: 800000, number of used features: 8\n",
            "[LightGBM] [Info] [binary:BoostFromScore]: pavg=0.654212 -> initscore=0.637608\n",
            "[LightGBM] [Info] Start training from score 0.637608\n",
            "LGBMClassifier Accuracy: 0.807315\n",
            "LGBMClassifier Confusion Matrix:\n",
            "[[ 47588  21468]\n",
            " [ 17069 113875]]\n",
            "LGBMClassifier Classification Report:\n",
            "              precision    recall  f1-score   support\n",
            "\n",
            "           0       0.74      0.69      0.71     69056\n",
            "           1       0.84      0.87      0.86    130944\n",
            "\n",
            "    accuracy                           0.81    200000\n",
            "   macro avg       0.79      0.78      0.78    200000\n",
            "weighted avg       0.80      0.81      0.81    200000\n",
            "\n"
          ]
        }
      ]
    },
    {
      "cell_type": "code",
      "source": [
        "from sklearn.metrics import roc_curve, auc\n",
        "import matplotlib.pyplot as plt\n"
      ],
      "metadata": {
        "id": "1buHkeWpyXBE"
      },
      "execution_count": null,
      "outputs": []
    },
    {
      "cell_type": "code",
      "source": [
        "y_pred_proba = lgbm_model.predict_proba(X_test)\n"
      ],
      "metadata": {
        "id": "Ur175xVhyetb"
      },
      "execution_count": null,
      "outputs": []
    },
    {
      "cell_type": "code",
      "source": [
        "fpr, tpr, thresholds = roc_curve(y_test, y_pred_proba[:, 1])\n"
      ],
      "metadata": {
        "id": "DIPhRGdZyh2D"
      },
      "execution_count": null,
      "outputs": []
    },
    {
      "cell_type": "code",
      "source": [
        "roc_auc = auc(fpr, tpr)\n"
      ],
      "metadata": {
        "id": "3WaaD_iFyldZ"
      },
      "execution_count": null,
      "outputs": []
    },
    {
      "cell_type": "code",
      "source": [
        "plt.figure(figsize=(6, 6))\n",
        "plt.style.use('seaborn-whitegrid')\n",
        "plt.grid(None)\n",
        "plt.plot(fpr, tpr, color='darkorange', lw=2, label='ROC curve (AUC = %0.2f)' % roc_auc)\n",
        "plt.plot([0, 1], [0, 1], color='navy', lw=2, linestyle='--')\n",
        "plt.xlim([0.0, 1.0])\n",
        "plt.ylim([0.0, 1.05])\n",
        "plt.xlabel('False Positive Rate')\n",
        "plt.ylabel('True Positive Rate')\n",
        "plt.title('Receiver Operating Characteristic (ROC) Curve')\n",
        "plt.legend(loc='lower right')\n",
        "plt.show()\n"
      ],
      "metadata": {
        "colab": {
          "base_uri": "https://localhost:8080/",
          "height": 647
        },
        "id": "sJubLplPyo2V",
        "outputId": "078d0398-0020-4394-9d34-50f71d4bb29e"
      },
      "execution_count": null,
      "outputs": [
        {
          "output_type": "stream",
          "name": "stderr",
          "text": [
            "<ipython-input-37-7a2f01134140>:2: MatplotlibDeprecationWarning:\n",
            "\n",
            "The seaborn styles shipped by Matplotlib are deprecated since 3.6, as they no longer correspond to the styles shipped by seaborn. However, they will remain available as 'seaborn-v0_8-<style>'. Alternatively, directly use the seaborn API instead.\n",
            "\n"
          ]
        },
        {
          "output_type": "display_data",
          "data": {
            "text/plain": [
              "<Figure size 600x600 with 1 Axes>"
            ],
            "image/png": "[encoded data removed]"
          },
          "metadata": {}
        }
      ]
    },
    {
      "cell_type": "markdown",
      "source": [
        "# COMPARACION DE MODELOS"
      ],
      "metadata": {
        "id": "zmjbLcSFZMSW"
      }
    },
    {
      "cell_type": "code",
      "execution_count": null,
      "metadata": {
        "id": "9qxqa9eP1I4a"
      },
      "outputs": [],
      "source": [
        "import seaborn as sns\n",
        "import matplotlib.pyplot as plt\n",
        "import matplotlib.ticker as mtick\n",
        "import pandas as pd\n",
        "\n",
        "accuracy_list = [accuracy_XGB, accuracy_GBT, accuracy_RF,\n",
        "                 accuracy_LR, Accuracy_CatBoost, accuracy_hgb , accuracy_lgbm]\n",
        "\n",
        "model_list = ['XGBboost', 'Gradient Boosting', 'Random Forest',\n",
        "               'Logistic Regresion', 'CatBoost_model', 'HistGradient Boost', 'LGBM Model']\n",
        "\n",
        "df_accuracy = pd.DataFrame({'Model': model_list, 'Accuracy': accuracy_list})\n",
        "\n"
      ]
    },
    {
      "cell_type": "code",
      "source": [
        "from tabulate import tabulate\n",
        "from IPython.display import display, HTML\n",
        "\n",
        "# Ordenar el DataFrame por Accuracy en orden descendente\n",
        "df_accuracy_sorted = df_accuracy.sort_values(by='Accuracy', ascending=False)\n",
        "\n",
        "# Imprimir la tabla en formato HTML\n",
        "table_html = tabulate(df_accuracy_sorted, tablefmt='html', headers='keys', showindex=False)\n",
        "\n",
        "# Visualizar la tabla en el notebook\n",
        "display(HTML(table_html))\n"
      ],
      "metadata": {
        "id": "nf-WyZUPPhxn",
        "colab": {
          "base_uri": "https://localhost:8080/",
          "height": 184
        },
        "outputId": "4ec1fe6e-a824-42ff-fde1-e6c2ec45e3cc"
      },
      "execution_count": null,
      "outputs": [
        {
          "output_type": "display_data",
          "data": {
            "text/plain": [
              "<IPython.core.display.HTML object>"
            ],
            "text/html": [
              "<table>\n",
              "<thead>\n",
              "<tr><th>Model             </th><th style=\"text-align: right;\">  Accuracy</th></tr>\n",
              "</thead>\n",
              "<tbody>\n",
              "<tr><td>XGBboost          </td><td style=\"text-align: right;\">  0.808365</td></tr>\n",
              "<tr><td>LGBM Model        </td><td style=\"text-align: right;\">  0.807315</td></tr>\n",
              "<tr><td>HistGradient Boost</td><td style=\"text-align: right;\">  0.806935</td></tr>\n",
              "<tr><td>CatBoost_model    </td><td style=\"text-align: right;\">  0.80336 </td></tr>\n",
              "<tr><td>Gradient Boosting </td><td style=\"text-align: right;\">  0.80135 </td></tr>\n",
              "<tr><td>Random Forest     </td><td style=\"text-align: right;\">  0.782475</td></tr>\n",
              "<tr><td>Logistic Regresion</td><td style=\"text-align: right;\">  0.65173 </td></tr>\n",
              "</tbody>\n",
              "</table>"
            ]
          },
          "metadata": {}
        }
      ]
    },
    {
      "cell_type": "code",
      "source": [
        "pip install plotly"
      ],
      "metadata": {
        "id": "vEf0vXlOPj76",
        "colab": {
          "base_uri": "https://localhost:8080/"
        },
        "outputId": "612c4ce6-e7ee-4f78-8360-c6c56edb215d"
      },
      "execution_count": null,
      "outputs": [
        {
          "output_type": "stream",
          "name": "stdout",
          "text": [
            "Requirement already satisfied: plotly in /usr/local/lib/python3.10/dist-packages (5.15.0)\n",
            "Requirement already satisfied: tenacity>=6.2.0 in /usr/local/lib/python3.10/dist-packages (from plotly) (8.2.3)\n",
            "Requirement already satisfied: packaging in /usr/local/lib/python3.10/dist-packages (from plotly) (23.2)\n"
          ]
        }
      ]
    },
    {
      "cell_type": "code",
      "source": [
        "import plotly.express as px\n",
        "\n",
        "# Ordenar el DataFrame por Accuracy en orden descendente\n",
        "df_accuracy_sorted = df_accuracy.sort_values(by='Accuracy', ascending=False)\n",
        "\n",
        "# Crear un gráfico interactivo con Plotly\n",
        "fig = px.bar(df_accuracy_sorted, x='Model', y='Accuracy', text='Accuracy',\n",
        "             labels={'Accuracy': 'Accuracy (%)'}, title='Accuracy by Model')\n",
        "\n",
        "# Ajustar el tamaño de la fuente\n",
        "fig.update_layout(yaxis=dict(title=dict(font=dict(size=25))))  # Tamaño de la fuente en el eje y\n",
        "\n",
        "# Ajustar el tamaño de la fuente en los números de las barras\n",
        "fig.update_traces(textfont=dict(size=14))  # Tamaño de la fuente en los números de las barras\n",
        "\n",
        "# Imprimir la tabla\n",
        "table_html = tabulate(df_accuracy_sorted, tablefmt='html', headers='keys', showindex=False)\n",
        "\n",
        "# Visualizar la tabla en el notebook\n",
        "display(HTML(table_html))\n",
        "\n",
        "# Visualizar el gráfico\n",
        "fig.show()"
      ],
      "metadata": {
        "id": "UYHsjsuLPkRJ",
        "colab": {
          "base_uri": "https://localhost:8080/",
          "height": 709
        },
        "outputId": "74a2df2b-cc3a-4eee-bbf7-0f0066109f25"
      },
      "execution_count": null,
      "outputs": [
        {
          "output_type": "display_data",
          "data": {
            "text/plain": [
              "<IPython.core.display.HTML object>"
            ],
            "text/html": [
              "<table>\n",
              "<thead>\n",
              "<tr><th>Model             </th><th style=\"text-align: right;\">  Accuracy</th></tr>\n",
              "</thead>\n",
              "<tbody>\n",
              "<tr><td>XGBboost          </td><td style=\"text-align: right;\">  0.808365</td></tr>\n",
              "<tr><td>LGBM Model        </td><td style=\"text-align: right;\">  0.807315</td></tr>\n",
              "<tr><td>HistGradient Boost</td><td style=\"text-align: right;\">  0.806935</td></tr>\n",
              "<tr><td>CatBoost_model    </td><td style=\"text-align: right;\">  0.80336 </td></tr>\n",
              "<tr><td>Gradient Boosting </td><td style=\"text-align: right;\">  0.80135 </td></tr>\n",
              "<tr><td>Random Forest     </td><td style=\"text-align: right;\">  0.782475</td></tr>\n",
              "<tr><td>Logistic Regresion</td><td style=\"text-align: right;\">  0.65173 </td></tr>\n",
              "</tbody>\n",
              "</table>"
            ]
          },
          "metadata": {}
        },
        {
          "output_type": "display_data",
          "data": {
            "text/html": [
              "<html>\n",
              "<head><meta charset=\"utf-8\" /></head>\n",
              "<body>\n",
              "    <div>            <script src=\"https://cdnjs.cloudflare.com/ajax/libs/mathjax/2.7.5/MathJax.js?config=TeX-AMS-MML_SVG\"></script><script type=\"text/javascript\">if (window.MathJax && window.MathJax.Hub && window.MathJax.Hub.Config) {window.MathJax.Hub.Config({SVG: {font: \"STIX-Web\"}});}</script>                <script type=\"text/javascript\">window.PlotlyConfig = {MathJaxConfig: 'local'};</script>\n",
              "        <script charset=\"utf-8\" src=\"https://cdn.plot.ly/plotly-2.24.1.min.js\"></script>                <div id=\"c2274944-7a0a-49c9-932e-3ad152db3f5e\" class=\"plotly-graph-div\" style=\"height:525px; width:100%;\"></div>            <script type=\"text/javascript\">                                    window.PLOTLYENV=window.PLOTLYENV || {};                                    if (document.getElementById(\"c2274944-7a0a-49c9-932e-3ad152db3f5e\")) {                    Plotly.newPlot(                        \"c2274944-7a0a-49c9-932e-3ad152db3f5e\",                        [{\"alignmentgroup\":\"True\",\"hovertemplate\":\"Model=%{x}\\u003cbr\\u003eAccuracy (%)=%{text}\\u003cextra\\u003e\\u003c\\u002fextra\\u003e\",\"legendgroup\":\"\",\"marker\":{\"color\":\"#636efa\",\"pattern\":{\"shape\":\"\"}},\"name\":\"\",\"offsetgroup\":\"\",\"orientation\":\"v\",\"showlegend\":false,\"text\":[0.808365,0.807315,0.806935,0.80336,0.80135,0.782475,0.65173],\"textposition\":\"auto\",\"x\":[\"XGBboost\",\"LGBM Model\",\"HistGradient Boost\",\"CatBoost_model\",\"Gradient Boosting\",\"Random Forest\",\"Logistic Regresion\"],\"xaxis\":\"x\",\"y\":[0.808365,0.807315,0.806935,0.80336,0.80135,0.782475,0.65173],\"yaxis\":\"y\",\"type\":\"bar\",\"textfont\":{\"size\":14}}],                        {\"template\":{\"data\":{\"histogram2dcontour\":[{\"type\":\"histogram2dcontour\",\"colorbar\":{\"outlinewidth\":0,\"ticks\":\"\"},\"colorscale\":[[0.0,\"#0d0887\"],[0.1111111111111111,\"#46039f\"],[0.2222222222222222,\"#7201a8\"],[0.3333333333333333,\"#9c179e\"],[0.4444444444444444,\"#bd3786\"],[0.5555555555555556,\"#d8576b\"],[0.6666666666666666,\"#ed7953\"],[0.7777777777777778,\"#fb9f3a\"],[0.8888888888888888,\"#fdca26\"],[1.0,\"#f0f921\"]]}],\"choropleth\":[{\"type\":\"choropleth\",\"colorbar\":{\"outlinewidth\":0,\"ticks\":\"\"}}],\"histogram2d\":[{\"type\":\"histogram2d\",\"colorbar\":{\"outlinewidth\":0,\"ticks\":\"\"},\"colorscale\":[[0.0,\"#0d0887\"],[0.1111111111111111,\"#46039f\"],[0.2222222222222222,\"#7201a8\"],[0.3333333333333333,\"#9c179e\"],[0.4444444444444444,\"#bd3786\"],[0.5555555555555556,\"#d8576b\"],[0.6666666666666666,\"#ed7953\"],[0.7777777777777778,\"#fb9f3a\"],[0.8888888888888888,\"#fdca26\"],[1.0,\"#f0f921\"]]}],\"heatmap\":[{\"type\":\"heatmap\",\"colorbar\":{\"outlinewidth\":0,\"ticks\":\"\"},\"colorscale\":[[0.0,\"#0d0887\"],[0.1111111111111111,\"#46039f\"],[0.2222222222222222,\"#7201a8\"],[0.3333333333333333,\"#9c179e\"],[0.4444444444444444,\"#bd3786\"],[0.5555555555555556,\"#d8576b\"],[0.6666666666666666,\"#ed7953\"],[0.7777777777777778,\"#fb9f3a\"],[0.8888888888888888,\"#fdca26\"],[1.0,\"#f0f921\"]]}],\"heatmapgl\":[{\"type\":\"heatmapgl\",\"colorbar\":{\"outlinewidth\":0,\"ticks\":\"\"},\"colorscale\":[[0.0,\"#0d0887\"],[0.1111111111111111,\"#46039f\"],[0.2222222222222222,\"#7201a8\"],[0.3333333333333333,\"#9c179e\"],[0.4444444444444444,\"#bd3786\"],[0.5555555555555556,\"#d8576b\"],[0.6666666666666666,\"#ed7953\"],[0.7777777777777778,\"#fb9f3a\"],[0.8888888888888888,\"#fdca26\"],[1.0,\"#f0f921\"]]}],\"contourcarpet\":[{\"type\":\"contourcarpet\",\"colorbar\":{\"outlinewidth\":0,\"ticks\":\"\"}}],\"contour\":[{\"type\":\"contour\",\"colorbar\":{\"outlinewidth\":0,\"ticks\":\"\"},\"colorscale\":[[0.0,\"#0d0887\"],[0.1111111111111111,\"#46039f\"],[0.2222222222222222,\"#7201a8\"],[0.3333333333333333,\"#9c179e\"],[0.4444444444444444,\"#bd3786\"],[0.5555555555555556,\"#d8576b\"],[0.6666666666666666,\"#ed7953\"],[0.7777777777777778,\"#fb9f3a\"],[0.8888888888888888,\"#fdca26\"],[1.0,\"#f0f921\"]]}],\"surface\":[{\"type\":\"surface\",\"colorbar\":{\"outlinewidth\":0,\"ticks\":\"\"},\"colorscale\":[[0.0,\"#0d0887\"],[0.1111111111111111,\"#46039f\"],[0.2222222222222222,\"#7201a8\"],[0.3333333333333333,\"#9c179e\"],[0.4444444444444444,\"#bd3786\"],[0.5555555555555556,\"#d8576b\"],[0.6666666666666666,\"#ed7953\"],[0.7777777777777778,\"#fb9f3a\"],[0.8888888888888888,\"#fdca26\"],[1.0,\"#f0f921\"]]}],\"mesh3d\":[{\"type\":\"mesh3d\",\"colorbar\":{\"outlinewidth\":0,\"ticks\":\"\"}}],\"scatter\":[{\"fillpattern\":{\"fillmode\":\"overlay\",\"size\":10,\"solidity\":0.2},\"type\":\"scatter\"}],\"parcoords\":[{\"type\":\"parcoords\",\"line\":{\"colorbar\":{\"outlinewidth\":0,\"ticks\":\"\"}}}],\"scatterpolargl\":[{\"type\":\"scatterpolargl\",\"marker\":{\"colorbar\":{\"outlinewidth\":0,\"ticks\":\"\"}}}],\"bar\":[{\"error_x\":{\"color\":\"#2a3f5f\"},\"error_y\":{\"color\":\"#2a3f5f\"},\"marker\":{\"line\":{\"color\":\"#E5ECF6\",\"width\":0.5},\"pattern\":{\"fillmode\":\"overlay\",\"size\":10,\"solidity\":0.2}},\"type\":\"bar\"}],\"scattergeo\":[{\"type\":\"scattergeo\",\"marker\":{\"colorbar\":{\"outlinewidth\":0,\"ticks\":\"\"}}}],\"scatterpolar\":[{\"type\":\"scatterpolar\",\"marker\":{\"colorbar\":{\"outlinewidth\":0,\"ticks\":\"\"}}}],\"histogram\":[{\"marker\":{\"pattern\":{\"fillmode\":\"overlay\",\"size\":10,\"solidity\":0.2}},\"type\":\"histogram\"}],\"scattergl\":[{\"type\":\"scattergl\",\"marker\":{\"colorbar\":{\"outlinewidth\":0,\"ticks\":\"\"}}}],\"scatter3d\":[{\"type\":\"scatter3d\",\"line\":{\"colorbar\":{\"outlinewidth\":0,\"ticks\":\"\"}},\"marker\":{\"colorbar\":{\"outlinewidth\":0,\"ticks\":\"\"}}}],\"scattermapbox\":[{\"type\":\"scattermapbox\",\"marker\":{\"colorbar\":{\"outlinewidth\":0,\"ticks\":\"\"}}}],\"scatterternary\":[{\"type\":\"scatterternary\",\"marker\":{\"colorbar\":{\"outlinewidth\":0,\"ticks\":\"\"}}}],\"scattercarpet\":[{\"type\":\"scattercarpet\",\"marker\":{\"colorbar\":{\"outlinewidth\":0,\"ticks\":\"\"}}}],\"carpet\":[{\"aaxis\":{\"endlinecolor\":\"#2a3f5f\",\"gridcolor\":\"white\",\"linecolor\":\"white\",\"minorgridcolor\":\"white\",\"startlinecolor\":\"#2a3f5f\"},\"baxis\":{\"endlinecolor\":\"#2a3f5f\",\"gridcolor\":\"white\",\"linecolor\":\"white\",\"minorgridcolor\":\"white\",\"startlinecolor\":\"#2a3f5f\"},\"type\":\"carpet\"}],\"table\":[{\"cells\":{\"fill\":{\"color\":\"#EBF0F8\"},\"line\":{\"color\":\"white\"}},\"header\":{\"fill\":{\"color\":\"#C8D4E3\"},\"line\":{\"color\":\"white\"}},\"type\":\"table\"}],\"barpolar\":[{\"marker\":{\"line\":{\"color\":\"#E5ECF6\",\"width\":0.5},\"pattern\":{\"fillmode\":\"overlay\",\"size\":10,\"solidity\":0.2}},\"type\":\"barpolar\"}],\"pie\":[{\"automargin\":true,\"type\":\"pie\"}]},\"layout\":{\"autotypenumbers\":\"strict\",\"colorway\":[\"#636efa\",\"#EF553B\",\"#00cc96\",\"#ab63fa\",\"#FFA15A\",\"#19d3f3\",\"#FF6692\",\"#B6E880\",\"#FF97FF\",\"#FECB52\"],\"font\":{\"color\":\"#2a3f5f\"},\"hovermode\":\"closest\",\"hoverlabel\":{\"align\":\"left\"},\"paper_bgcolor\":\"white\",\"plot_bgcolor\":\"#E5ECF6\",\"polar\":{\"bgcolor\":\"#E5ECF6\",\"angularaxis\":{\"gridcolor\":\"white\",\"linecolor\":\"white\",\"ticks\":\"\"},\"radialaxis\":{\"gridcolor\":\"white\",\"linecolor\":\"white\",\"ticks\":\"\"}},\"ternary\":{\"bgcolor\":\"#E5ECF6\",\"aaxis\":{\"gridcolor\":\"white\",\"linecolor\":\"white\",\"ticks\":\"\"},\"baxis\":{\"gridcolor\":\"white\",\"linecolor\":\"white\",\"ticks\":\"\"},\"caxis\":{\"gridcolor\":\"white\",\"linecolor\":\"white\",\"ticks\":\"\"}},\"coloraxis\":{\"colorbar\":{\"outlinewidth\":0,\"ticks\":\"\"}},\"colorscale\":{\"sequential\":[[0.0,\"#0d0887\"],[0.1111111111111111,\"#46039f\"],[0.2222222222222222,\"#7201a8\"],[0.3333333333333333,\"#9c179e\"],[0.4444444444444444,\"#bd3786\"],[0.5555555555555556,\"#d8576b\"],[0.6666666666666666,\"#ed7953\"],[0.7777777777777778,\"#fb9f3a\"],[0.8888888888888888,\"#fdca26\"],[1.0,\"#f0f921\"]],\"sequentialminus\":[[0.0,\"#0d0887\"],[0.1111111111111111,\"#46039f\"],[0.2222222222222222,\"#7201a8\"],[0.3333333333333333,\"#9c179e\"],[0.4444444444444444,\"#bd3786\"],[0.5555555555555556,\"#d8576b\"],[0.6666666666666666,\"#ed7953\"],[0.7777777777777778,\"#fb9f3a\"],[0.8888888888888888,\"#fdca26\"],[1.0,\"#f0f921\"]],\"diverging\":[[0,\"#8e0152\"],[0.1,\"#c51b7d\"],[0.2,\"#de77ae\"],[0.3,\"#f1b6da\"],[0.4,\"#fde0ef\"],[0.5,\"#f7f7f7\"],[0.6,\"#e6f5d0\"],[0.7,\"#b8e186\"],[0.8,\"#7fbc41\"],[0.9,\"#4d9221\"],[1,\"#276419\"]]},\"xaxis\":{\"gridcolor\":\"white\",\"linecolor\":\"white\",\"ticks\":\"\",\"title\":{\"standoff\":15},\"zerolinecolor\":\"white\",\"automargin\":true,\"zerolinewidth\":2},\"yaxis\":{\"gridcolor\":\"white\",\"linecolor\":\"white\",\"ticks\":\"\",\"title\":{\"standoff\":15},\"zerolinecolor\":\"white\",\"automargin\":true,\"zerolinewidth\":2},\"scene\":{\"xaxis\":{\"backgroundcolor\":\"#E5ECF6\",\"gridcolor\":\"white\",\"linecolor\":\"white\",\"showbackground\":true,\"ticks\":\"\",\"zerolinecolor\":\"white\",\"gridwidth\":2},\"yaxis\":{\"backgroundcolor\":\"#E5ECF6\",\"gridcolor\":\"white\",\"linecolor\":\"white\",\"showbackground\":true,\"ticks\":\"\",\"zerolinecolor\":\"white\",\"gridwidth\":2},\"zaxis\":{\"backgroundcolor\":\"#E5ECF6\",\"gridcolor\":\"white\",\"linecolor\":\"white\",\"showbackground\":true,\"ticks\":\"\",\"zerolinecolor\":\"white\",\"gridwidth\":2}},\"shapedefaults\":{\"line\":{\"color\":\"#2a3f5f\"}},\"annotationdefaults\":{\"arrowcolor\":\"#2a3f5f\",\"arrowhead\":0,\"arrowwidth\":1},\"geo\":{\"bgcolor\":\"white\",\"landcolor\":\"#E5ECF6\",\"subunitcolor\":\"white\",\"showland\":true,\"showlakes\":true,\"lakecolor\":\"white\"},\"title\":{\"x\":0.05},\"mapbox\":{\"style\":\"light\"}}},\"xaxis\":{\"anchor\":\"y\",\"domain\":[0.0,1.0],\"title\":{\"text\":\"Model\"}},\"yaxis\":{\"anchor\":\"x\",\"domain\":[0.0,1.0],\"title\":{\"text\":\"Accuracy (%)\",\"font\":{\"size\":25}}},\"legend\":{\"tracegroupgap\":0},\"title\":{\"text\":\"Accuracy by Model\"},\"barmode\":\"relative\"},                        {\"responsive\": true}                    ).then(function(){\n",
              "                            \n",
              "var gd = document.getElementById('c2274944-7a0a-49c9-932e-3ad152db3f5e');\n",
              "var x = new MutationObserver(function (mutations, observer) {{\n",
              "        var display = window.getComputedStyle(gd).display;\n",
              "        if (!display || display === 'none') {{\n",
              "            console.log([gd, 'removed!']);\n",
              "            Plotly.purge(gd);\n",
              "            observer.disconnect();\n",
              "        }}\n",
              "}});\n",
              "\n",
              "// Listen for the removal of the full notebook cells\n",
              "var notebookContainer = gd.closest('#notebook-container');\n",
              "if (notebookContainer) {{\n",
              "    x.observe(notebookContainer, {childList: true});\n",
              "}}\n",
              "\n",
              "// Listen for the clearing of the current output cell\n",
              "var outputEl = gd.closest('.output');\n",
              "if (outputEl) {{\n",
              "    x.observe(outputEl, {childList: true});\n",
              "}}\n",
              "\n",
              "                        })                };                            </script>        </div>\n",
              "</body>\n",
              "</html>"
            ]
          },
          "metadata": {}
        }
      ]
    },
    {
      "cell_type": "code",
      "source": [
        "from sklearn.metrics import classification_report\n",
        "import pandas as pd\n",
        "from IPython.display import display, HTML\n",
        "\n",
        "# Lista de modelos y sus reportes de clasificación\n",
        "model_names = ['XGB_model', 'GBT_model', 'RF_model', 'LR_model', 'CatBoost_model', 'hgb_model', 'lgbm_model']\n",
        "classification_reports = {}\n",
        "\n",
        "# Calcular el reporte de clasificación para cada modelo\n",
        "for model_name in model_names:\n",
        "    model = globals()[model_name]\n",
        "    y_pred = model.predict(X_test_imputed)\n",
        "    report = classification_report(y_test, y_pred, output_dict=True)\n",
        "    classification_reports[model_name] = report\n",
        "\n",
        "# Crear un DataFrame para almacenar las métricas\n",
        "metrics_df = pd.DataFrame(columns=['Model', 'Precision', 'Recall', 'F1 Score'])\n",
        "\n",
        "# Iterar sobre los reportes de clasificación\n",
        "for model_name, report in classification_reports.items():\n",
        "    precision = report['weighted avg']['precision']\n",
        "    recall = report['weighted avg']['recall']\n",
        "    f1_score = report['weighted avg']['f1-score']\n",
        "    metrics_df = metrics_df.append({'Model': model_name, 'Precision': precision, 'Recall': recall, 'F1 Score': f1_score}, ignore_index=True)\n",
        "\n",
        "# Mostrar la tabla como HTML en el notebook\n",
        "display(HTML(metrics_df.to_html(index=False)))\n"
      ],
      "metadata": {
        "colab": {
          "base_uri": "https://localhost:8080/",
          "height": 825
        },
        "id": "Yl8GIoJ7ZcWJ",
        "outputId": "afe9c044-df36-41dc-8c52-a36040673183"
      },
      "execution_count": null,
      "outputs": [
        {
          "output_type": "stream",
          "name": "stderr",
          "text": [
            "/usr/local/lib/python3.10/dist-packages/sklearn/base.py:439: UserWarning:\n",
            "\n",
            "X does not have valid feature names, but HistGradientBoostingClassifier was fitted with feature names\n",
            "\n",
            "<ipython-input-28-ca45a049a917>:24: FutureWarning:\n",
            "\n",
            "The frame.append method is deprecated and will be removed from pandas in a future version. Use pandas.concat instead.\n",
            "\n",
            "<ipython-input-28-ca45a049a917>:24: FutureWarning:\n",
            "\n",
            "The frame.append method is deprecated and will be removed from pandas in a future version. Use pandas.concat instead.\n",
            "\n",
            "<ipython-input-28-ca45a049a917>:24: FutureWarning:\n",
            "\n",
            "The frame.append method is deprecated and will be removed from pandas in a future version. Use pandas.concat instead.\n",
            "\n",
            "<ipython-input-28-ca45a049a917>:24: FutureWarning:\n",
            "\n",
            "The frame.append method is deprecated and will be removed from pandas in a future version. Use pandas.concat instead.\n",
            "\n",
            "<ipython-input-28-ca45a049a917>:24: FutureWarning:\n",
            "\n",
            "The frame.append method is deprecated and will be removed from pandas in a future version. Use pandas.concat instead.\n",
            "\n",
            "<ipython-input-28-ca45a049a917>:24: FutureWarning:\n",
            "\n",
            "The frame.append method is deprecated and will be removed from pandas in a future version. Use pandas.concat instead.\n",
            "\n",
            "<ipython-input-28-ca45a049a917>:24: FutureWarning:\n",
            "\n",
            "The frame.append method is deprecated and will be removed from pandas in a future version. Use pandas.concat instead.\n",
            "\n"
          ]
        },
        {
          "output_type": "display_data",
          "data": {
            "text/plain": [
              "<IPython.core.display.HTML object>"
            ],
            "text/html": [
              "<table border=\"1\" class=\"dataframe\">\n",
              "  <thead>\n",
              "    <tr style=\"text-align: right;\">\n",
              "      <th>Model</th>\n",
              "      <th>Precision</th>\n",
              "      <th>Recall</th>\n",
              "      <th>F1 Score</th>\n",
              "    </tr>\n",
              "  </thead>\n",
              "  <tbody>\n",
              "    <tr>\n",
              "      <td>XGB_model</td>\n",
              "      <td>0.793716</td>\n",
              "      <td>0.794675</td>\n",
              "      <td>0.794151</td>\n",
              "    </tr>\n",
              "    <tr>\n",
              "      <td>GBT_model</td>\n",
              "      <td>0.799042</td>\n",
              "      <td>0.801350</td>\n",
              "      <td>0.799831</td>\n",
              "    </tr>\n",
              "    <tr>\n",
              "      <td>RF_model</td>\n",
              "      <td>0.777966</td>\n",
              "      <td>0.782475</td>\n",
              "      <td>0.778455</td>\n",
              "    </tr>\n",
              "    <tr>\n",
              "      <td>LR_model</td>\n",
              "      <td>0.574146</td>\n",
              "      <td>0.651730</td>\n",
              "      <td>0.530001</td>\n",
              "    </tr>\n",
              "    <tr>\n",
              "      <td>CatBoost_model</td>\n",
              "      <td>0.778608</td>\n",
              "      <td>0.782950</td>\n",
              "      <td>0.779239</td>\n",
              "    </tr>\n",
              "    <tr>\n",
              "      <td>hgb_model</td>\n",
              "      <td>0.798837</td>\n",
              "      <td>0.798950</td>\n",
              "      <td>0.798893</td>\n",
              "    </tr>\n",
              "    <tr>\n",
              "      <td>lgbm_model</td>\n",
              "      <td>0.798403</td>\n",
              "      <td>0.798555</td>\n",
              "      <td>0.798478</td>\n",
              "    </tr>\n",
              "  </tbody>\n",
              "</table>"
            ]
          },
          "metadata": {}
        }
      ]
    },
    {
      "cell_type": "code",
      "source": [],
      "metadata": {
        "id": "zBsvt-2NyNH4"
      },
      "execution_count": null,
      "outputs": []
    }
  ],
  "metadata": {
    "colab": {
      "provenance": [],
      "toc_visible": true
    },
    "kernelspec": {
      "display_name": "Python 3",
      "name": "python3"
    },
    "language_info": {
      "name": "python"
    }
  },
  "nbformat": 4,
  "nbformat_minor": 0
}