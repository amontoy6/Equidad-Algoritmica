{
  "cells": [
    {
      "cell_type": "code",
      "execution_count": null,
      "metadata": {
        "id": "xlatnNO9_PqC"
      },
      "outputs": [],
      "source": [
        "#columnas_seleccionadas = [\n",
        "   # 'action_taken2', 'purchaser_type', 'preapproval',\n",
        "    #'loan_type', 'loan_purpose', 'lien_status','reverse_mortgage','open_end_line_of_credit', 'business_or_commercial_purpose' 'loan_amount', 'hoepa_status',\n",
        "    #'occupancy_type', 'applicant_credit_score_type','combined_loan_to_value_ratio', 'property_value ','occupancy_type ','manufactured_home_secured_proper',\n",
        "    #'applicant_age', 'hoepa_status ', 'loan_term ','manufactured_home_land_property', 'multifamily_affordable_units','income ','applicant_credit_score_type'\n",
        "    #'conforming_loan_limit', 'derived_loan_product_type', 'applicant_sex '"
      ]
    },
    {
      "cell_type": "markdown",
      "source": [
        "# CARGA INFORMACION"
      ],
      "metadata": {
        "id": "sdOJT4aYW57H"
      }
    },
    {
      "cell_type": "code",
      "execution_count": null,
      "metadata": {
        "colab": {
          "base_uri": "https://localhost:8080/"
        },
        "id": "-U4QUPjqqMoT",
        "outputId": "b1c0d696-547a-4fb9-9646-d07f5bbb685f"
      },
      "outputs": [
        {
          "output_type": "stream",
          "name": "stdout",
          "text": [
            "Mounted at /content/drive\n"
          ]
        }
      ],
      "source": [
        "from google.colab import drive\n",
        "drive.mount('/content/drive')"
      ]
    },
    {
      "cell_type": "code",
      "execution_count": null,
      "metadata": {
        "id": "FOtPJP40qXVi"
      },
      "outputs": [],
      "source": [
        "#Librerias\n",
        "import os\n",
        "from pandas import read_csv\n",
        "%matplotlib inline\n",
        "\n",
        "import numpy as np\n",
        "import pandas as pd\n",
        "#graficas\n",
        "import seaborn as sns\n",
        "import matplotlib.pyplot as plt\n",
        "import pandas as pd\n",
        "from sklearn.model_selection import StratifiedShuffleSplit\n",
        "from sklearn.metrics import confusion_matrix\n",
        "from sklearn.preprocessing import StandardScaler\n",
        "from sklearn.decomposition import PCA\n",
        "from sklearn.naive_bayes import GaussianNB\n",
        "from sklearn.neighbors import KNeighborsClassifier\n",
        "from sklearn.linear_model import LogisticRegression\n",
        "from sklearn.model_selection import GridSearchCV\n",
        "from sklearn.model_selection import StratifiedKFold\n",
        "from sklearn.preprocessing import LabelEncoder\n",
        "from sklearn.model_selection import train_test_split\n",
        "from sklearn.metrics import accuracy_score\n",
        "from sklearn.feature_selection import SelectFromModel\n",
        "from sklearn.preprocessing import LabelEncoder\n",
        "from sklearn.metrics import accuracy_score\n",
        "from sklearn.utils import resample\n",
        "from sklearn.model_selection import StratifiedShuffleSplit, StratifiedKFold\n",
        "from sklearn.metrics import confusion_matrix, classification_report\n",
        "from sklearn.preprocessing import StandardScaler, LabelEncoder\n",
        "from sklearn.decomposition import PCA\n",
        "from sklearn.naive_bayes import GaussianNB\n",
        "from sklearn.neighbors import KNeighborsClassifier\n",
        "from sklearn.linear_model import LogisticRegression\n",
        "from sklearn.ensemble import RandomForestClassifier, GradientBoostingClassifier\n",
        "from sklearn.model_selection import GridSearchCV, train_test_split\n",
        "from sklearn.feature_selection import SelectFromModel\n",
        "from xgboost import XGBClassifier\n",
        "from sklearn.metrics import accuracy_score\n",
        "from sklearn.utils import resample\n",
        "from sklearn.model_selection import StratifiedShuffleSplit, StratifiedKFold\n",
        "from sklearn.metrics import confusion_matrix, classification_report\n",
        "from sklearn.preprocessing import StandardScaler, LabelEncoder\n",
        "from sklearn.decomposition import PCA\n",
        "from sklearn.naive_bayes import GaussianNB\n",
        "from sklearn.neighbors import KNeighborsClassifier\n",
        "from sklearn.linear_model import LogisticRegression\n",
        "from sklearn.ensemble import RandomForestClassifier, GradientBoostingClassifier\n",
        "from sklearn.model_selection import GridSearchCV, train_test_split\n",
        "from sklearn.feature_selection import SelectFromModel\n",
        "from xgboost import XGBClassifier\n",
        "from sklearn.metrics import accuracy_score"
      ]
    },
    {
      "cell_type": "code",
      "execution_count": null,
      "metadata": {
        "id": "wQYOmU4zqab7"
      },
      "outputs": [],
      "source": [
        "import pandas as pd\n",
        "\n",
        "# Reemplaza la ruta con la ubicación de tu archivo Stata (.dta)\n",
        "file_path = \"/content/drive/MyDrive/Proyecto Grado/HDMA/Version Final/LAR_18_19_Muestra.dta\"\n",
        "\n",
        "# Cargar el archivo Stata en un DataFrame\n",
        "data = pd.read_stata(file_path)\n"
      ]
    },
    {
      "cell_type": "code",
      "execution_count": null,
      "metadata": {
        "colab": {
          "base_uri": "https://localhost:8080/"
        },
        "id": "P6ouoPFVHGh-",
        "outputId": "9f5c6929-4702-437c-c580-1b374558bb8c"
      },
      "outputs": [
        {
          "output_type": "stream",
          "name": "stdout",
          "text": [
            "<class 'pandas.core.frame.DataFrame'>\n",
            "Int64Index: 1000000 entries, 0 to 999999\n",
            "Data columns (total 61 columns):\n",
            " #   Column                            Non-Null Count    Dtype   \n",
            "---  ------                            --------------    -----   \n",
            " 0   activity_year                     1000000 non-null  int16   \n",
            " 1   lei                               1000000 non-null  object  \n",
            " 2   state_code                        1000000 non-null  object  \n",
            " 3   county_code                       1000000 non-null  object  \n",
            " 4   action_taken                      1000000 non-null  category\n",
            " 5   purchaser_type                    1000000 non-null  category\n",
            " 6   preapproval                       1000000 non-null  int8    \n",
            " 7   loan_type                         1000000 non-null  category\n",
            " 8   loan_purpose                      1000000 non-null  category\n",
            " 9   lien_status                       1000000 non-null  int8    \n",
            " 10  reverse_mortgage                  973978 non-null   float64 \n",
            " 11  open_end_line_of_credit           974190 non-null   float64 \n",
            " 12  business_or_commercial_purpose    974161 non-null   float64 \n",
            " 13  loan_amount                       1000000 non-null  int32   \n",
            " 14  combined_loan_to_value_ratio      701585 non-null   float64 \n",
            " 15  interest_rate                     628255 non-null   float64 \n",
            " 16  rate_spread                       537791 non-null   float64 \n",
            " 17  hoepa_status                      1000000 non-null  category\n",
            " 18  total_loan_costs                  489783 non-null   float64 \n",
            " 19  total_points_and_fees             5839 non-null     float64 \n",
            " 20  origination_charges               490672 non-null   float64 \n",
            " 21  discount_points                   170575 non-null   float64 \n",
            " 22  lender_credits                    196770 non-null   float64 \n",
            " 23  loan_term                         961136 non-null   float64 \n",
            " 24  prepayment_penalty_term           46380 non-null    float64 \n",
            " 25  intro_rate_period                 164157 non-null   float64 \n",
            " 26  negative_amortization             973747 non-null   float64 \n",
            " 27  interest_only_payment             973747 non-null   float64 \n",
            " 28  balloon_payment                   973747 non-null   float64 \n",
            " 29  other_nonamortizing_features      973747 non-null   float64 \n",
            " 30  property_value                    782201 non-null   float64 \n",
            " 31  construction_method               1000000 non-null  category\n",
            " 32  occupancy_type                    1000000 non-null  category\n",
            " 33  manufactured_home_secured_proper  1000000 non-null  category\n",
            " 34  manufactured_home_land_property_  1000000 non-null  category\n",
            " 35  multifamily_affordable_units      212 non-null      float64 \n",
            " 36  income                            957551 non-null   float64 \n",
            " 37  applicant_credit_score_type       1000000 non-null  category\n",
            " 38  applicant_ethnicity_1             999646 non-null   category\n",
            " 39  applicant_race_1                  1000000 non-null  category\n",
            " 40  applicant_sex                     1000000 non-null  category\n",
            " 41  submission_of_application         974115 non-null   category\n",
            " 42  initially_payable_to_institution  974115 non-null   category\n",
            " 43  denial_reason_1                   1000000 non-null  category\n",
            " 44  denial_reason_2                   39487 non-null    category\n",
            " 45  denial_reason_3                   6998 non-null     category\n",
            " 46  denial_reason_4                   652 non-null      category\n",
            " 47  applicant_age                     1000000 non-null  category\n",
            " 48  applicant_age_above_62            992442 non-null   float64 \n",
            " 49  total_units                       1000000 non-null  category\n",
            " 50  debt_to_income_ratio              336026 non-null   category\n",
            " 51  conforming_loan_limit             1000000 non-null  category\n",
            " 52  derived_loan_product_type         1000000 non-null  category\n",
            " 53  derived_dwelling_category         1000000 non-null  category\n",
            " 54  action_taken2                     1000000 non-null  category\n",
            " 55  protegido_edad                    1000000 non-null  int8    \n",
            " 56  no_protegido_edad                 1000000 non-null  int8    \n",
            " 57  protegido_mujer                   1000000 non-null  int8    \n",
            " 58  no_protegido_hombre               1000000 non-null  int8    \n",
            " 59  protegido_raza                    1000000 non-null  int8    \n",
            " 60  no_protegido_raza                 1000000 non-null  int8    \n",
            "dtypes: category(26), float64(22), int16(1), int32(1), int8(8), object(3)\n",
            "memory usage: 236.5+ MB\n",
            "None\n"
          ]
        }
      ],
      "source": [
        "# Información sobre tipos de datos y valores nulos\n",
        "print(data.info())"
      ]
    },
    {
      "cell_type": "code",
      "execution_count": null,
      "metadata": {
        "colab": {
          "base_uri": "https://localhost:8080/"
        },
        "id": "93R_7LZyKVHx",
        "outputId": "de93a08f-db4c-46ab-dba5-8b6fbce4e930"
      },
      "outputs": [
        {
          "output_type": "stream",
          "name": "stdout",
          "text": [
            "Categorías únicas en applicant_sex : ['mujer', 'hombre', 'selecciono ambas opciones']\n",
            "Categories (3, object): ['hombre' < 'mujer' < 'selecciono ambas opciones']\n",
            "Categorías únicas en applicant_race_1: ['negro/afroamericano', 'blanco', 'sin info', 'asiatico', 'nativo americano/alaska', ..., 'koreano', 'guameno o chamorro', 'japones', 'samoan', 'hawaiano']\n",
            "Length: 18\n",
            "Categories (18, object): ['nativo americano/alaska' < 'asiatico' < 'negro/afroamericano' <\n",
            "                          'hawaiano/isleno del pacifico' ... 'hawaiano' < 'guameno o chamorro' < 'samoan' <\n",
            "                          'otro isleno del pacifico']\n",
            "Categorías únicas en applicant_ethnicity_1: ['no hispano/latino', 'hispano/latino', 'sin info', 'mexicano', 'otro hispano/latino', 'cubano', 'puertorriqueno', NaN, 'no aplica']\n",
            "Categories (8, object): ['hispano/latino' < 'no hispano/latino' < 'sin info' < 'no aplica' < 'mexicano' <\n",
            "                         'puertorriqueno' < 'cubano' < 'otro hispano/latino']\n",
            "Categorías únicas en applicant_age_above_62: [ 0.  1. nan]\n"
          ]
        }
      ],
      "source": [
        "categorias_columna1 = data['applicant_sex'].unique()\n",
        "categorias_columna2 = data['applicant_race_1'].unique()\n",
        "categorias_columna3 = data['applicant_ethnicity_1'].unique()\n",
        "categorias_columna4 = data['applicant_age_above_62'].unique()\n",
        "\n",
        "print(\"Categorías únicas en applicant_sex :\", categorias_columna1)\n",
        "print(\"Categorías únicas en applicant_race_1:\", categorias_columna2)\n",
        "print(\"Categorías únicas en applicant_ethnicity_1:\", categorias_columna3)\n",
        "print(\"Categorías únicas en applicant_age_above_62:\", categorias_columna4)\n"
      ]
    },
    {
      "cell_type": "code",
      "execution_count": null,
      "metadata": {
        "colab": {
          "base_uri": "https://localhost:8080/"
        },
        "id": "0Nn5FPcOSnhP",
        "outputId": "e2cda2dc-c30e-48cc-9717-6d6acb909ae6"
      },
      "outputs": [
        {
          "output_type": "stream",
          "name": "stdout",
          "text": [
            "0                negado\n",
            "1              aprobado\n",
            "2              aprobado\n",
            "3              aprobado\n",
            "4         no finalizado\n",
            "              ...      \n",
            "999995         aprobado\n",
            "999996         aprobado\n",
            "999997         aprobado\n",
            "999998         aprobado\n",
            "999999         aprobado\n",
            "Name: action_taken2, Length: 1000000, dtype: category\n",
            "Categories (3, object): ['aprobado' < 'negado' < 'no finalizado']\n"
          ]
        }
      ],
      "source": [
        "# Mostrar los datos originales de una columna específica\n",
        "columna_original = data['action_taken2']\n",
        "print(columna_original)\n"
      ]
    },
    {
      "cell_type": "markdown",
      "source": [
        "# PREPARACION DATA SET PARA FASE MODELOS"
      ],
      "metadata": {
        "id": "N0kZeYIFXDcX"
      }
    },
    {
      "cell_type": "markdown",
      "metadata": {
        "id": "eEbPOdckxAcE"
      },
      "source": [
        "Se abordan los siguientes pasos:\n",
        "\n",
        "Preparar el conjunto de datos\n",
        "Dividir en el entrenamiento y la prueba\n",
        "Transformar/Codificar las etiquetas de las variables\n",
        "PExplorar diferents modelos de clasificacion\n",
        "Compara el desempeño de todos los modelos.\n",
        "Seleccionar un  modelo ganador y ajuste los hiperparámetros para obtener una mayor precisión.\n",
        "Evaluación detallada de resultado con una matriz de confusión y diferentes medidas.\n",
        "Características más importantes para predecir la calificación."
      ]
    },
    {
      "cell_type": "code",
      "execution_count": null,
      "metadata": {
        "id": "qPWORLm2VlwU"
      },
      "outputs": [],
      "source": [
        "# Eliminación de variables que tengan valores nulos\n",
        "#df1 = data.dropna(axis=1)\n",
        "\n",
        "# Eliminación de tres columnas adicionales específicas\n",
        "columnas_adicionales = ['lei', 'state_code', 'county_code', 'activity_year']\n",
        "#df1 = df1.drop(columnas_adicionales, axis=1)\n"
      ]
    },
    {
      "cell_type": "code",
      "execution_count": null,
      "metadata": {
        "colab": {
          "base_uri": "https://localhost:8080/"
        },
        "id": "lTvxB8laR2Bt",
        "outputId": "c7293cd9-3a62-446a-a8cc-d8162d629c96"
      },
      "outputs": [
        {
          "output_type": "stream",
          "name": "stdout",
          "text": [
            "Correspondencia de clases original para 'action_taken2':\n",
            "{'negado': 'negado', 'aprobado': 'aprobado', 'no finalizado': 'no finalizado'}\n"
          ]
        }
      ],
      "source": [
        "# Guardar la correspondencia de clases para 'action_taken2'\n",
        "correspondencia_original_action_taken2 = dict(zip(data['action_taken2'].unique(), data['action_taken2'].unique()))\n",
        "print(\"Correspondencia de clases original para 'action_taken2':\")\n",
        "print(correspondencia_original_action_taken2)\n"
      ]
    },
    {
      "cell_type": "code",
      "source": [
        "# Convertir valores de action_taken2 a minúsculas\n",
        "data['action_taken2'] = data['action_taken2'].str.lower()\n",
        "\n",
        "# Mapeo de los valores de action_taken2 a los valores correspondientes en action_taken3\n",
        "mapping = {\n",
        "    'aprobado': 'Otorgado',\n",
        "    'negado': 'No Otorgado',\n",
        "    'no finalizado': 'No Otorgado'\n",
        "}\n",
        "\n",
        "# Crear la nueva columna action_taken3 basada en los valores de action_taken2\n",
        "data['action_taken3'] = data['action_taken2'].replace(mapping)"
      ],
      "metadata": {
        "id": "wmLFFlSzOHYy"
      },
      "execution_count": null,
      "outputs": []
    },
    {
      "cell_type": "code",
      "source": [
        "# Mostrar los datos originales de una columna específica\n",
        "columna_original = data['action_taken3']\n",
        "print(columna_original)"
      ],
      "metadata": {
        "colab": {
          "base_uri": "https://localhost:8080/"
        },
        "id": "S1zttyxScggr",
        "outputId": "5d145f85-37d6-466d-da93-a9e43d03f321"
      },
      "execution_count": null,
      "outputs": [
        {
          "output_type": "stream",
          "name": "stdout",
          "text": [
            "0         No Otorgado\n",
            "1            Otorgado\n",
            "2            Otorgado\n",
            "3            Otorgado\n",
            "4         No Otorgado\n",
            "             ...     \n",
            "999995       Otorgado\n",
            "999996       Otorgado\n",
            "999997       Otorgado\n",
            "999998       Otorgado\n",
            "999999       Otorgado\n",
            "Name: action_taken3, Length: 1000000, dtype: object\n"
          ]
        }
      ]
    },
    {
      "cell_type": "code",
      "source": [
        "# Convertir valores a cadenas y guardar los originales en nuevas columnas\n",
        "columns_to_check = ['protegido_edad', 'no_protegido_edad', 'protegido_mujer', 'no_protegido_hombre', 'protegido_raza', 'no_protegido_raza']\n",
        "\n",
        "for column in columns_to_check:\n",
        "    # Crear una nueva columna con el nombre original + '_antes_conversion'\n",
        "    data[column + '_antes_conversion'] = data[column]\n",
        "    # Convertir los valores a numéricos\n",
        "    data[column] = pd.to_numeric(data[column], errors='coerce')\n",
        "\n",
        "import numpy as np\n",
        "\n",
        "# Crear la nueva columna 'poblacion_protegida' basada en las condiciones\n",
        "data['poblacion_protegida'] = np.where(\n",
        "    (data['protegido_edad'] == 1) |\n",
        "    (data['protegido_mujer'] == 1) |\n",
        "    (data['protegido_raza'] == 1),\n",
        "    1,  # Si alguna de las condiciones se cumple, asigna 1\n",
        "    np.where(\n",
        "        (data['no_protegido_edad'] == 1) |\n",
        "        (data['no_protegido_hombre'] == 1) |\n",
        "        (data['no_protegido_raza'] == 1),\n",
        "        0,  # Si alguna de las condiciones se cumple, asigna 0\n",
        "        np.nan  # Si ninguna de las condiciones se cumple, asigna NaN por defecto\n",
        "    )\n",
        ")\n",
        "\n",
        "# Crear una nueva columna 'poblacion_protegida_nueva' basada en las condiciones\n",
        "data['poblacion_protegida_nueva'] = np.where(\n",
        "    (data['protegido_edad'] == 1) |\n",
        "    (data['protegido_mujer'] == 1) |\n",
        "    (data['protegido_raza'] == 1),\n",
        "    1,  # Si alguna de las condiciones se cumple, asigna 1\n",
        "    np.where(\n",
        "        (data['no_protegido_edad'] == 1) |\n",
        "        (data['no_protegido_hombre'] == 1) |\n",
        "        (data['no_protegido_raza'] == 1),\n",
        "        0,  # Si alguna de las condiciones se cumple, asigna 0\n",
        "        np.nan  # Si ninguna de las condiciones se cumple, asigna NaN por defecto\n",
        "    )\n",
        ")\n"
      ],
      "metadata": {
        "id": "5xF1y1AQOJ_h"
      },
      "execution_count": null,
      "outputs": []
    },
    {
      "cell_type": "code",
      "source": [
        "# Información sobre tipos de datos y valores nulos\n",
        "print(data.info())"
      ],
      "metadata": {
        "colab": {
          "base_uri": "https://localhost:8080/"
        },
        "id": "T7dHvaIWYrCH",
        "outputId": "715d60c8-c226-4b67-fd28-542bedf1acfc"
      },
      "execution_count": null,
      "outputs": [
        {
          "output_type": "stream",
          "name": "stdout",
          "text": [
            "<class 'pandas.core.frame.DataFrame'>\n",
            "Int64Index: 1000000 entries, 0 to 999999\n",
            "Data columns (total 70 columns):\n",
            " #   Column                                Non-Null Count    Dtype   \n",
            "---  ------                                --------------    -----   \n",
            " 0   activity_year                         1000000 non-null  int16   \n",
            " 1   lei                                   1000000 non-null  object  \n",
            " 2   state_code                            1000000 non-null  object  \n",
            " 3   county_code                           1000000 non-null  object  \n",
            " 4   action_taken                          1000000 non-null  category\n",
            " 5   purchaser_type                        1000000 non-null  category\n",
            " 6   preapproval                           1000000 non-null  int8    \n",
            " 7   loan_type                             1000000 non-null  category\n",
            " 8   loan_purpose                          1000000 non-null  category\n",
            " 9   lien_status                           1000000 non-null  int8    \n",
            " 10  reverse_mortgage                      973978 non-null   float64 \n",
            " 11  open_end_line_of_credit               974190 non-null   float64 \n",
            " 12  business_or_commercial_purpose        974161 non-null   float64 \n",
            " 13  loan_amount                           1000000 non-null  int32   \n",
            " 14  combined_loan_to_value_ratio          701585 non-null   float64 \n",
            " 15  interest_rate                         628255 non-null   float64 \n",
            " 16  rate_spread                           537791 non-null   float64 \n",
            " 17  hoepa_status                          1000000 non-null  category\n",
            " 18  total_loan_costs                      489783 non-null   float64 \n",
            " 19  total_points_and_fees                 5839 non-null     float64 \n",
            " 20  origination_charges                   490672 non-null   float64 \n",
            " 21  discount_points                       170575 non-null   float64 \n",
            " 22  lender_credits                        196770 non-null   float64 \n",
            " 23  loan_term                             961136 non-null   float64 \n",
            " 24  prepayment_penalty_term               46380 non-null    float64 \n",
            " 25  intro_rate_period                     164157 non-null   float64 \n",
            " 26  negative_amortization                 973747 non-null   float64 \n",
            " 27  interest_only_payment                 973747 non-null   float64 \n",
            " 28  balloon_payment                       973747 non-null   float64 \n",
            " 29  other_nonamortizing_features          973747 non-null   float64 \n",
            " 30  property_value                        782201 non-null   float64 \n",
            " 31  construction_method                   1000000 non-null  category\n",
            " 32  occupancy_type                        1000000 non-null  category\n",
            " 33  manufactured_home_secured_proper      1000000 non-null  category\n",
            " 34  manufactured_home_land_property_      1000000 non-null  category\n",
            " 35  multifamily_affordable_units          212 non-null      float64 \n",
            " 36  income                                957551 non-null   float64 \n",
            " 37  applicant_credit_score_type           1000000 non-null  category\n",
            " 38  applicant_ethnicity_1                 999646 non-null   category\n",
            " 39  applicant_race_1                      1000000 non-null  category\n",
            " 40  applicant_sex                         1000000 non-null  category\n",
            " 41  submission_of_application             974115 non-null   category\n",
            " 42  initially_payable_to_institution      974115 non-null   category\n",
            " 43  denial_reason_1                       1000000 non-null  category\n",
            " 44  denial_reason_2                       39487 non-null    category\n",
            " 45  denial_reason_3                       6998 non-null     category\n",
            " 46  denial_reason_4                       652 non-null      category\n",
            " 47  applicant_age                         1000000 non-null  category\n",
            " 48  applicant_age_above_62                992442 non-null   float64 \n",
            " 49  total_units                           1000000 non-null  category\n",
            " 50  debt_to_income_ratio                  336026 non-null   category\n",
            " 51  conforming_loan_limit                 1000000 non-null  category\n",
            " 52  derived_loan_product_type             1000000 non-null  category\n",
            " 53  derived_dwelling_category             1000000 non-null  category\n",
            " 54  action_taken2                         1000000 non-null  object  \n",
            " 55  protegido_edad                        1000000 non-null  int8    \n",
            " 56  no_protegido_edad                     1000000 non-null  int8    \n",
            " 57  protegido_mujer                       1000000 non-null  int8    \n",
            " 58  no_protegido_hombre                   1000000 non-null  int8    \n",
            " 59  protegido_raza                        1000000 non-null  int8    \n",
            " 60  no_protegido_raza                     1000000 non-null  int8    \n",
            " 61  action_taken3                         1000000 non-null  object  \n",
            " 62  protegido_edad_antes_conversion       1000000 non-null  int8    \n",
            " 63  no_protegido_edad_antes_conversion    1000000 non-null  int8    \n",
            " 64  protegido_mujer_antes_conversion      1000000 non-null  int8    \n",
            " 65  no_protegido_hombre_antes_conversion  1000000 non-null  int8    \n",
            " 66  protegido_raza_antes_conversion       1000000 non-null  int8    \n",
            " 67  no_protegido_raza_antes_conversion    1000000 non-null  int8    \n",
            " 68  poblacion_protegida                   1000000 non-null  float64 \n",
            " 69  poblacion_protegida_nueva             1000000 non-null  float64 \n",
            "dtypes: category(25), float64(24), int16(1), int32(1), int8(14), object(5)\n",
            "memory usage: 271.8+ MB\n",
            "None\n"
          ]
        }
      ]
    },
    {
      "cell_type": "markdown",
      "source": [
        "# CREACION DE DATA SET PARA MODELOS"
      ],
      "metadata": {
        "id": "8PNN3qH9XhFq"
      }
    },
    {
      "cell_type": "code",
      "execution_count": null,
      "metadata": {
        "id": "dMH79haLgjAf"
      },
      "outputs": [],
      "source": [
        "# Crear un nuevo DataFrame con solo las columnas seleccionadas\n",
        "from sklearn.preprocessing import LabelEncoder\n",
        "from sklearn.model_selection import train_test_split\n",
        "from sklearn.pipeline import Pipeline\n",
        "from sklearn.impute import SimpleImputer\n",
        "from sklearn.preprocessing import OneHotEncoder\n",
        "from sklearn.compose import ColumnTransformer\n",
        "\n",
        "\n",
        "# Lista de columnas seleccionadas\n",
        "columnas_seleccionadas = ['action_taken3', 'income', 'applicant_sex', 'loan_amount', 'loan_purpose', 'loan_type', 'debt_to_income_ratio','combined_loan_to_value_ratio']\n",
        "df = data[columnas_seleccionadas].copy()\n",
        "\n",
        "\n",
        "# Usar LabelEncoder para transformar la columna 'action_taken2'\n",
        "\n",
        "label_encoder_action_taken3 = LabelEncoder()\n",
        "df['action_taken3'] = label_encoder_action_taken3.fit_transform(df['action_taken3'])\n",
        "\n",
        "# Convertir variables categóricas a numéricas y mapear clases de 'action_taken2' a números\n",
        "label_encoder = LabelEncoder()\n",
        "#df['purchaser_type'] = label_encoder.fit_transform(df['purchaser_type'])\n",
        "#df['preapproval'] = label_encoder.fit_transform(df['preapproval'])\n",
        "df['loan_type'] = label_encoder.fit_transform(df['loan_type'])\n",
        "df['loan_purpose'] = label_encoder.fit_transform(df['loan_purpose'])\n",
        "#df['lien_status'] = label_encoder.fit_transform(df['lien_status'])\n",
        "#f['hoepa_status'] = label_encoder.fit_transform(df['hoepa_status'])\n",
        "#df['occupancy_type'] = label_encoder.fit_transform(df['occupancy_type'])\n",
        "#df['applicant_credit_score_type'] = label_encoder.fit_transform(df['applicant_credit_score_type'])\n",
        "#df['manufactured_home_land_property_'] = label_encoder.fit_transform(df['manufactured_home_land_property_'])\n",
        "df['applicant_sex'] = label_encoder.fit_transform(df['applicant_sex'])\n",
        "#df['conforming_loan_limit'] = label_encoder.fit_transform(df['conforming_loan_limit'])\n",
        "#df['derived_loan_product_type'] = label_encoder.fit_transform(df['derived_loan_product_type'])\n",
        "#df['applicant_race_1'] = label_encoder.fit_transform(df['applicant_race_1'])\n",
        "#df['applicant_ethnicity_1'] = label_encoder.fit_transform(df['applicant_ethnicity_1'])\n",
        "df['debt_to_income_ratio'] = label_encoder.fit_transform(df['debt_to_income_ratio'])\n",
        "\n",
        "# Definir la función para mapear 'action_taken2' a 'aprobado'\n",
        "def map_approval(action_taken):\n",
        "    # Define aquí tus criterios para determinar si un préstamo fue aprobado o no\n",
        "    # Por ejemplo, si action_taken es 1, considera que el préstamo fue aprobado (1); de lo contrario, no aprobado (0)\n",
        "    if action_taken == 1:\n",
        "        return 1\n",
        "    else:\n",
        "        return 0\n",
        "\n",
        "# Aplicar la función para crear la columna 'aprobado'\n",
        "#df['otorgado'] = df['action_taken3'].apply(map_approval)\n",
        "\n",
        "# Dividir el conjunto de datos en características (X) y etiquetas (y)\n",
        "X = df.drop(['action_taken3'], axis=1)  # Excluir 'action_taken3' de las características\n",
        "y = df['action_taken3']  # Usar 'action_taken3' como variable de respuesta\n",
        "\n",
        "\n",
        "# Dividir el conjunto de datos en entrenamiento y prueba\n",
        "X_train, X_test, y_train, y_test = train_test_split(X, y, test_size=0.2, random_state=42)\n",
        "\n",
        "# Resto del código...\n",
        "# Definir las transformaciones para las variables numéricas y categóricas\n",
        "numeric_features = ['loan_amount',\n",
        "                    'income','combined_loan_to_value_ratio']\n",
        "categorical_features = ['applicant_sex','loan_purpose', 'loan_type', 'lien_status','debt_to_income_ratio']\n",
        "\n",
        "# Crear el transformador para datos numéricos\n",
        "numeric_transformer = Pipeline(steps=[\n",
        "    ('imputer', SimpleImputer(strategy='mean')),  # Imputación de valores faltantes con la media\n",
        "    ('scaler', StandardScaler())  # Estandarización de las variables\n",
        "])\n",
        "\n",
        "# Crear el transformador para datos categóricos\n",
        "categorical_transformer = Pipeline(steps=[\n",
        "    ('imputer', SimpleImputer(strategy='most_frequent')),  # Imputación de valores faltantes con la moda\n",
        "    ('encoder', OneHotEncoder(drop='first'))  # Codificación one-hot\n",
        "])\n",
        "\n",
        "# Combinar transformadores\n",
        "preprocessor = ColumnTransformer(\n",
        "    transformers=[\n",
        "        ('num', numeric_transformer, numeric_features),\n",
        "        ('cat', categorical_transformer, categorical_features)\n",
        "    ])\n",
        "\n"
      ]
    },
    {
      "cell_type": "code",
      "source": [
        "# Información sobre tipos de datos y valores nulos\n",
        "print(df.info())"
      ],
      "metadata": {
        "colab": {
          "base_uri": "https://localhost:8080/"
        },
        "id": "8OgJw-XYYmiI",
        "outputId": "237d212f-61df-4c91-854c-25fdea1818ae"
      },
      "execution_count": null,
      "outputs": [
        {
          "output_type": "stream",
          "name": "stdout",
          "text": [
            "<class 'pandas.core.frame.DataFrame'>\n",
            "Int64Index: 1000000 entries, 0 to 999999\n",
            "Data columns (total 8 columns):\n",
            " #   Column                        Non-Null Count    Dtype  \n",
            "---  ------                        --------------    -----  \n",
            " 0   action_taken3                 1000000 non-null  int64  \n",
            " 1   income                        957551 non-null   float64\n",
            " 2   applicant_sex                 1000000 non-null  int64  \n",
            " 3   loan_amount                   1000000 non-null  int32  \n",
            " 4   loan_purpose                  1000000 non-null  int64  \n",
            " 5   loan_type                     1000000 non-null  int64  \n",
            " 6   debt_to_income_ratio          1000000 non-null  int64  \n",
            " 7   combined_loan_to_value_ratio  701585 non-null   float64\n",
            "dtypes: float64(2), int32(1), int64(5)\n",
            "memory usage: 64.8 MB\n",
            "None\n"
          ]
        }
      ]
    },
    {
      "cell_type": "markdown",
      "source": [
        "# ENTRENAMIENTO MODELOS"
      ],
      "metadata": {
        "id": "eFM4qx-SXoa0"
      }
    },
    {
      "cell_type": "markdown",
      "source": [
        "# XG BOOST"
      ],
      "metadata": {
        "id": "2VLnJUuZX69b"
      }
    },
    {
      "cell_type": "code",
      "execution_count": null,
      "metadata": {
        "colab": {
          "base_uri": "https://localhost:8080/"
        },
        "id": "hIELCkYEye5b",
        "outputId": "adca3c93-d74d-4d49-a55c-5d9c87689b5a"
      },
      "outputs": [
        {
          "output_type": "stream",
          "name": "stdout",
          "text": [
            "XGB Accuracy: 0.80174\n",
            "XGB Confusion Matrix:\n",
            "[[ 46736  22320]\n",
            " [ 17332 113612]]\n",
            "XGB Classification Report:\n",
            "              precision    recall  f1-score   support\n",
            "\n",
            "           0       0.73      0.68      0.70     69056\n",
            "           1       0.84      0.87      0.85    130944\n",
            "\n",
            "    accuracy                           0.80    200000\n",
            "   macro avg       0.78      0.77      0.78    200000\n",
            "weighted avg       0.80      0.80      0.80    200000\n",
            "\n"
          ]
        }
      ],
      "source": [
        "\n",
        "# Entrenar el modelo XGBoost\n",
        "XGB_model = XGBClassifier(objective='multi:softmax', num_class=3, random_state=0)\n",
        "XGB_model.fit(X_train, y_train)\n",
        "\n",
        "# Hacer predicciones en el conjunto de prueba\n",
        "y_pred_XGB = XGB_model.predict(X_test)\n",
        "\n",
        "# Evaluar el rendimiento del modelo\n",
        "accuracy_XGB = accuracy_score(y_test, y_pred_XGB)\n",
        "conf_matrix_XGB = confusion_matrix(y_test, y_pred_XGB)\n",
        "classification_rep_XGB = classification_report(y_test, y_pred_XGB)\n",
        "\n",
        "# Imprimir métricas de rendimiento para XGBoost\n",
        "print(f'XGB Accuracy: {accuracy_XGB}')\n",
        "print(f'XGB Confusion Matrix:\\n{conf_matrix_XGB}')\n",
        "print(f'XGB Classification Report:\\n{classification_rep_XGB}')\n"
      ]
    },
    {
      "cell_type": "markdown",
      "metadata": {
        "id": "JVD8cW8bRFTs"
      },
      "source": [
        "Precisión, recall y F1 GTB Mejor modelo"
      ]
    },
    {
      "cell_type": "code",
      "execution_count": null,
      "metadata": {
        "colab": {
          "base_uri": "https://localhost:8080/"
        },
        "id": "MxyWtl5148aN",
        "outputId": "4cf2faa5-c821-4cd1-cffe-2111dbdb612a"
      },
      "outputs": [
        {
          "output_type": "stream",
          "name": "stdout",
          "text": [
            "              precision    recall  f1-score   support\n",
            "\n",
            " No Aprobado       0.73      0.68      0.70     69056\n",
            "    Aprobado       0.84      0.87      0.85    130944\n",
            "\n",
            "    accuracy                           0.80    200000\n",
            "   macro avg       0.78      0.77      0.78    200000\n",
            "weighted avg       0.80      0.80      0.80    200000\n",
            "\n"
          ]
        }
      ],
      "source": [
        "from sklearn.metrics import classification_report\n",
        "\n",
        "print(classification_report(y_test, y_pred_XGB, target_names=['No Aprobado', 'Aprobado']))\n"
      ]
    },
    {
      "cell_type": "markdown",
      "source": [
        "#VARIABLES MAS IMPORTANTES Del MODELO XGBOOST"
      ],
      "metadata": {
        "id": "ZbKOVjT_YD7X"
      }
    },
    {
      "cell_type": "markdown",
      "metadata": {
        "id": "bB89fOe358Tf"
      },
      "source": [
        "INTERPRETABILIDAD"
      ]
    },
    {
      "cell_type": "markdown",
      "metadata": {
        "id": "hEJ-hZL6EOXZ"
      },
      "source": [
        "Caracteristicas mas importantes en el XGBOOST: El largo de las barras indica la frecuencia de uso de cada característica para realizar divisiones, y valores más altos indican una mayor importancia según el criterio de peso. La importancia de una característica basada en 'weight' se calcula contando la frecuencia con la que se utiliza la característica para dividir los nodos a lo largo de todos los árboles en el modelo. Cuanto más frecuentemente se utiliza una característica para realizar divisiones, mayor será su importancia en términos de peso.\n"
      ]
    },
    {
      "cell_type": "code",
      "execution_count": null,
      "metadata": {
        "colab": {
          "base_uri": "https://localhost:8080/",
          "height": 1000
        },
        "id": "dh3SBDBkiUTC",
        "outputId": "01da0944-8cce-485c-fde8-c5c4d3d89801"
      },
      "outputs": [
        {
          "output_type": "display_data",
          "data": {
            "text/plain": [
              "<Figure size 1000x600 with 1 Axes>"
            ],
            "image/png": "[encoded data removed]"
          },
          "metadata": {}
        },
        {
          "output_type": "display_data",
          "data": {
            "text/plain": [
              "<Figure size 1000x600 with 0 Axes>"
            ]
          },
          "metadata": {}
        },
        {
          "output_type": "display_data",
          "data": {
            "text/plain": [
              "<Figure size 640x480 with 1 Axes>"
            ],
            "image/png": "[encoded data removed]"
          },
          "metadata": {}
        }
      ],
      "source": [
        "import matplotlib.pyplot as plt\n",
        "from xgboost import plot_importance\n",
        "\n",
        "# Obtener la importancia de las variables\n",
        "importances = XGB_model.feature_importances_\n",
        "\n",
        "# Obtener los nombres de las variables (columnas)\n",
        "feature_names = X_train.columns\n",
        "\n",
        "# Crear un DataFrame para visualizar las importancias\n",
        "feature_importance_df = pd.DataFrame({'Feature': feature_names, 'Importance': importances})\n",
        "\n",
        "# Ordenar el DataFrame por importancia en orden descendente\n",
        "feature_importance_df = feature_importance_df.sort_values(by='Importance', ascending=False)\n",
        "\n",
        "# Seleccionar las 10 variables más importantes\n",
        "top_10_features = feature_importance_df.head(10)\n",
        "\n",
        "# Visualizar las importancias de las 10 variables más importantes\n",
        "plt.figure(figsize=(10, 6))\n",
        "plt.barh(top_10_features['Feature'], top_10_features['Importance'])\n",
        "plt.xlabel('Importance')\n",
        "plt.ylabel('Feature')\n",
        "plt.title('Top 10 XGBoost Feature Importance')\n",
        "plt.show()\n",
        "\n",
        "# También puedes usar la función plot_importance de XGBoost para crear un gráfico de barras\n",
        "plt.figure(figsize=(10, 6))\n",
        "plot_importance(XGB_model, importance_type='weight', xlabel='Weight', ylabel='Feature', title='Top 10 XGBoost Feature Importance')\n",
        "plt.show()\n"
      ]
    },
    {
      "cell_type": "code",
      "execution_count": null,
      "metadata": {
        "colab": {
          "base_uri": "https://localhost:8080/"
        },
        "id": "MCR04-L1izcF",
        "outputId": "3ea71503-204b-4c9b-e3f1-8a15dbe16d28"
      },
      "outputs": [
        {
          "output_type": "stream",
          "name": "stdout",
          "text": [
            "Top 10 Features:\n",
            "                        Feature  Importance\n",
            "5          debt_to_income_ratio    0.398625\n",
            "6  combined_loan_to_value_ratio    0.295330\n",
            "3                  loan_purpose    0.141950\n",
            "2                   loan_amount    0.067427\n",
            "4                     loan_type    0.046794\n",
            "0                        income    0.040396\n",
            "1                 applicant_sex    0.009478\n"
          ]
        }
      ],
      "source": [
        "# Obtener la importancia de las variables\n",
        "importances = XGB_model.feature_importances_\n",
        "\n",
        "# Obtener los nombres de las variables (columnas)\n",
        "feature_names = X_train.columns\n",
        "\n",
        "# Crear un DataFrame para visualizar las importancias\n",
        "feature_importance_df = pd.DataFrame({'Feature': feature_names, 'Importance': importances})\n",
        "\n",
        "# Ordenar el DataFrame por importancia en orden descendente\n",
        "feature_importance_df = feature_importance_df.sort_values(by='Importance', ascending=False)\n",
        "\n",
        "# Seleccionar las 10 variables más importantes\n",
        "top_10_features = feature_importance_df.head(10)\n",
        "\n",
        "# Imprimir las 10 variables más importantes y sus importancias\n",
        "print(\"Top 10 Features:\")\n",
        "print(top_10_features[['Feature', 'Importance']])\n"
      ]
    },
    {
      "cell_type": "code",
      "execution_count": null,
      "metadata": {
        "colab": {
          "base_uri": "https://localhost:8080/"
        },
        "id": "Qq1a2mVtjakO",
        "outputId": "310037c7-7e0b-4489-a197-b936699cf603"
      },
      "outputs": [
        {
          "output_type": "stream",
          "name": "stdout",
          "text": [
            "Top 10 Features:\n",
            "     Feature  Importance\n",
            "2       debt    0.398625\n",
            "1   combined    0.295330\n",
            "4       loan    0.256171\n",
            "3     income    0.040396\n",
            "0  applicant    0.009478\n"
          ]
        }
      ],
      "source": [
        "# Obtener la importancia de las variables\n",
        "importances = XGB_model.feature_importances_\n",
        "\n",
        "# Obtener los nombres de las variables (columnas)\n",
        "feature_names = X_train.columns\n",
        "\n",
        "# Crear un DataFrame para visualizar las importancias\n",
        "feature_importance_df = pd.DataFrame({'Feature': feature_names, 'Importance': importances})\n",
        "\n",
        "# Extraer solo el nombre base de las variables\n",
        "feature_importance_df['Feature'] = feature_importance_df['Feature'].apply(lambda x: x.split('_')[0])\n",
        "\n",
        "# Agrupar por nombre de variable y sumar las importancias\n",
        "feature_importance_df = feature_importance_df.groupby('Feature')['Importance'].sum().reset_index()\n",
        "\n",
        "# Ordenar el DataFrame por importancia en orden descendente\n",
        "feature_importance_df = feature_importance_df.sort_values(by='Importance', ascending=False)\n",
        "\n",
        "# Seleccionar las 10 variables más importantes\n",
        "top_10_features = feature_importance_df.head(10)\n",
        "\n",
        "# Imprimir las 10 variables más importantes y sus importancias\n",
        "print(\"Top 10 Features:\")\n",
        "print(top_10_features)\n"
      ]
    },
    {
      "cell_type": "markdown",
      "metadata": {
        "id": "VbHG0H23_Va-"
      },
      "source": [
        "Analisis SHAP: SHAP proporciona una forma de asignar contribuciones a cada característica en una predicción de modelo."
      ]
    },
    {
      "cell_type": "code",
      "execution_count": null,
      "metadata": {
        "colab": {
          "base_uri": "https://localhost:8080/"
        },
        "id": "dPldng0v3VNf",
        "outputId": "e9a381fc-6725-4033-b4f7-18ea5359e3e2"
      },
      "outputs": [
        {
          "output_type": "stream",
          "name": "stdout",
          "text": [
            "XGBoost Feature Importance:\n",
            "debt: 0.3986251652240753\n",
            "combined: 0.2953298091888428\n",
            "loan: 0.2561710253357887\n",
            "income: 0.040396008640527725\n",
            "applicant: 0.009478027001023293\n"
          ]
        }
      ],
      "source": [
        "# Obtener importancias de características\n",
        "feature_importances = XGB_model.feature_importances_\n",
        "\n",
        "# Obtener nombres de características\n",
        "feature_names = X_train.columns\n",
        "\n",
        "# Diccionario para almacenar importancias de variables únicas\n",
        "variable_importances = {}\n",
        "\n",
        "# Sumar importancias de variables únicas\n",
        "for i, feature in enumerate(feature_names):\n",
        "    variable_name = feature.split('_')[0]  # Tomar el nombre de la variable sin detalles específicos\n",
        "    if variable_name not in variable_importances:\n",
        "        variable_importances[variable_name] = 0\n",
        "    variable_importances[variable_name] += feature_importances[i]\n",
        "\n",
        "# Ordenar las variables por importancia\n",
        "sorted_variable_importances = dict(sorted(variable_importances.items(), key=lambda item: item[1], reverse=True))\n",
        "\n",
        "# Imprimir las importancias de las variables\n",
        "print(\"XGBoost Feature Importance:\")\n",
        "for variable, importance in sorted_variable_importances.items():\n",
        "    print(f\"{variable}: {importance}\")\n"
      ]
    },
    {
      "cell_type": "code",
      "execution_count": null,
      "metadata": {
        "colab": {
          "base_uri": "https://localhost:8080/"
        },
        "id": "muqqRnwa4Qdn",
        "outputId": "806bbaec-262a-4643-fa22-a72fa286bae8"
      },
      "outputs": [
        {
          "output_type": "stream",
          "name": "stdout",
          "text": [
            "Collecting shap\n",
            "  Downloading shap-0.44.1-cp310-cp310-manylinux_2_12_x86_64.manylinux2010_x86_64.manylinux_2_17_x86_64.manylinux2014_x86_64.whl (535 kB)\n",
            "\u001b[2K     \u001b[90m━━━━━━━━━━━━━━━━━━━━━━━━━━━━━━━━━━━━━━━━\u001b[0m \u001b[32m535.7/535.7 kB\u001b[0m \u001b[31m4.3 MB/s\u001b[0m eta \u001b[36m0:00:00\u001b[0m\n",
            "\u001b[?25hRequirement already satisfied: numpy in /usr/local/lib/python3.10/dist-packages (from shap) (1.25.2)\n",
            "Requirement already satisfied: scipy in /usr/local/lib/python3.10/dist-packages (from shap) (1.11.4)\n",
            "Requirement already satisfied: scikit-learn in /usr/local/lib/python3.10/dist-packages (from shap) (1.2.2)\n",
            "Requirement already satisfied: pandas in /usr/local/lib/python3.10/dist-packages (from shap) (1.5.3)\n",
            "Requirement already satisfied: tqdm>=4.27.0 in /usr/local/lib/python3.10/dist-packages (from shap) (4.66.2)\n",
            "Requirement already satisfied: packaging>20.9 in /usr/local/lib/python3.10/dist-packages (from shap) (23.2)\n",
            "Collecting slicer==0.0.7 (from shap)\n",
            "  Downloading slicer-0.0.7-py3-none-any.whl (14 kB)\n",
            "Requirement already satisfied: numba in /usr/local/lib/python3.10/dist-packages (from shap) (0.58.1)\n",
            "Requirement already satisfied: cloudpickle in /usr/local/lib/python3.10/dist-packages (from shap) (2.2.1)\n",
            "Requirement already satisfied: llvmlite<0.42,>=0.41.0dev0 in /usr/local/lib/python3.10/dist-packages (from numba->shap) (0.41.1)\n",
            "Requirement already satisfied: python-dateutil>=2.8.1 in /usr/local/lib/python3.10/dist-packages (from pandas->shap) (2.8.2)\n",
            "Requirement already satisfied: pytz>=2020.1 in /usr/local/lib/python3.10/dist-packages (from pandas->shap) (2023.4)\n",
            "Requirement already satisfied: joblib>=1.1.1 in /usr/local/lib/python3.10/dist-packages (from scikit-learn->shap) (1.3.2)\n",
            "Requirement already satisfied: threadpoolctl>=2.0.0 in /usr/local/lib/python3.10/dist-packages (from scikit-learn->shap) (3.3.0)\n",
            "Requirement already satisfied: six>=1.5 in /usr/local/lib/python3.10/dist-packages (from python-dateutil>=2.8.1->pandas->shap) (1.16.0)\n",
            "Installing collected packages: slicer, shap\n",
            "Successfully installed shap-0.44.1 slicer-0.0.7\n"
          ]
        }
      ],
      "source": [
        "pip install shap\n"
      ]
    },
    {
      "cell_type": "markdown",
      "source": [
        "# EXPLICABILIDAD CON SHAP"
      ],
      "metadata": {
        "id": "YL_3Vr1TYNhK"
      }
    },
    {
      "cell_type": "code",
      "execution_count": null,
      "metadata": {
        "id": "2npMMpNP4Sxk"
      },
      "outputs": [],
      "source": [
        "import shap\n",
        "\n",
        "# Crear un explainer SHAP con el modelo entrenado\n",
        "explainer = shap.TreeExplainer(XGB_model)\n",
        "\n",
        "# Calcular los valores SHAP para un conjunto de datos (por ejemplo, X_train)\n",
        "shap_values = explainer.shap_values(X_train)\n"
      ]
    },
    {
      "cell_type": "code",
      "execution_count": null,
      "metadata": {
        "colab": {
          "base_uri": "https://localhost:8080/",
          "height": 437
        },
        "id": "lhX65Gyi4XVK",
        "outputId": "3bc3d05c-6950-4b10-c43a-214ad627d978"
      },
      "outputs": [
        {
          "output_type": "display_data",
          "data": {
            "text/plain": [
              "<Figure size 800x430 with 1 Axes>"
            ],
            "image/png": "[encoded data removed]"
          },
          "metadata": {}
        }
      ],
      "source": [
        "# Obtener un resumen de valores SHAP\n",
        "shap.summary_plot(shap_values, X_train, plot_type=\"bar\")\n"
      ]
    },
    {
      "cell_type": "markdown",
      "source": [
        "# EVALUACION DESEMPEÑO EN GRUPOS DE INTERÉS"
      ],
      "metadata": {
        "id": "fGUvGPNmYTXU"
      }
    },
    {
      "cell_type": "code",
      "execution_count": null,
      "metadata": {
        "colab": {
          "base_uri": "https://localhost:8080/"
        },
        "id": "B-zDC28N2rU7",
        "outputId": "bc19f361-3244-4fe0-e25d-26d2f1f67f09"
      },
      "outputs": [
        {
          "output_type": "stream",
          "name": "stdout",
          "text": [
            "Métricas de desempeño para el grupo protegido_edad:\n",
            "Accuracy: 0.6270\n",
            "Precision: 0.5942\n",
            "Recall: 0.6270\n",
            "F1 Score: 0.5525\n",
            "\n",
            "Métricas de desempeño para el grupo no_protegido_edad:\n",
            "Accuracy: 0.6881\n",
            "Precision: 0.6424\n",
            "Recall: 0.6881\n",
            "F1 Score: 0.6037\n",
            "\n",
            "Métricas de desempeño para el grupo protegido_sexo:\n",
            "Accuracy: 0.6670\n",
            "Precision: 0.6298\n",
            "Recall: 0.6670\n",
            "F1 Score: 0.5861\n",
            "\n",
            "Métricas de desempeño para el grupo no_protegido_sexo:\n",
            "Accuracy: 0.6820\n",
            "Precision: 0.6355\n",
            "Recall: 0.6820\n",
            "F1 Score: 0.5947\n",
            "\n",
            "Métricas de desempeño para el grupo protegido_raza:\n",
            "Accuracy: 0.6300\n",
            "Precision: 0.5981\n",
            "Recall: 0.6300\n",
            "F1 Score: 0.5637\n",
            "\n",
            "Métricas de desempeño para el grupo no_protegido_raza:\n",
            "Accuracy: 0.6916\n",
            "Precision: 0.6447\n",
            "Recall: 0.6916\n",
            "F1 Score: 0.5980\n",
            "\n"
          ]
        }
      ],
      "source": [
        "from sklearn.preprocessing import LabelEncoder, StandardScaler, OneHotEncoder\n",
        "from sklearn.impute import SimpleImputer\n",
        "from sklearn.pipeline import Pipeline\n",
        "from sklearn.compose import ColumnTransformer\n",
        "from xgboost import XGBClassifier\n",
        "from sklearn.metrics import accuracy_score, precision_score, recall_score, f1_score\n",
        "\n",
        "# Codificar la variable objetivo 'action_taken2'\n",
        "label_encoder_action_taken2 = LabelEncoder()\n",
        "data['action_taken2_encoded'] = label_encoder_action_taken2.fit_transform(data['action_taken2'])\n",
        "\n",
        "# Función para filtrar los datos según el grupo de interés\n",
        "def filtrar_datos_para_grupo(grupo, data):\n",
        "    if grupo == 'protegido_edad':\n",
        "        return data[data['applicant_age_above_62'] == 1]\n",
        "    elif grupo == 'no_protegido_edad':\n",
        "        return data[data['applicant_age_above_62'] == 0]\n",
        "    elif grupo == 'protegido_sexo':\n",
        "        return data[data['applicant_sex'] != 'hombre']\n",
        "    elif grupo == 'no_protegido_sexo':\n",
        "        return data[data['applicant_sex'] == 'hombre']\n",
        "    elif grupo == 'protegido_raza':\n",
        "        return data[data['applicant_race_1'] != 'blanco']\n",
        "    elif grupo == 'no_protegido_raza':\n",
        "        return data[data['applicant_race_1'] == 'blanco']\n",
        "    else:\n",
        "        raise ValueError(\"Grupo de interés no válido\")\n",
        "\n",
        "# Definir los grupos de interés\n",
        "grupos_interes = ['protegido_edad', 'no_protegido_edad', 'protegido_sexo', 'no_protegido_sexo', 'protegido_raza', 'no_protegido_raza']\n",
        "\n",
        "# Definir las características numéricas y categóricas\n",
        "numeric_features = ['loan_amount',\n",
        "                    'income']\n",
        "categorical_features = ['applicant_race_1', 'applicant_sex','loan_purpose', 'loan_type', 'lien_status', 'loan_amount']\n",
        "\n",
        "\n",
        "\n",
        "# Crear transformadores para datos numéricos y categóricos\n",
        "numeric_transformer = Pipeline(steps=[\n",
        "    ('imputer', SimpleImputer(strategy='mean')),\n",
        "    ('scaler', StandardScaler())\n",
        "])\n",
        "\n",
        "categorical_transformer = Pipeline(steps=[\n",
        "    ('imputer', SimpleImputer(strategy='most_frequent')),\n",
        "    ('encoder', OneHotEncoder(drop='first'))\n",
        "])\n",
        "\n",
        "# Combinar transformadores\n",
        "preprocessor = ColumnTransformer(\n",
        "    transformers=[\n",
        "        ('num', numeric_transformer, numeric_features),\n",
        "        ('cat', categorical_transformer, categorical_features)\n",
        "    ])\n",
        "\n",
        "# Entrenar el modelo XGBoost\n",
        "XGB_model = XGBClassifier(objective='multi:softmax', num_class=3, random_state=0)\n",
        "\n",
        "# Ciclo para calcular y mostrar las métricas de desempeño para cada grupo\n",
        "for grupo in grupos_interes:\n",
        "    # Filtrar los datos para el grupo actual\n",
        "    df_grupo = filtrar_datos_para_grupo(grupo, data)\n",
        "\n",
        "    # Separar características y etiquetas\n",
        "    X_grupo = df_grupo.drop(['action_taken2', 'action_taken2_encoded'], axis=1)\n",
        "    y_grupo = df_grupo['action_taken2_encoded']\n",
        "\n",
        "    # Preprocesar datos\n",
        "    X_grupo_preprocessed = preprocessor.fit_transform(X_grupo)\n",
        "\n",
        "    # Entrenar el modelo en el grupo actual\n",
        "    XGB_model.fit(X_grupo_preprocessed, y_grupo)\n",
        "\n",
        "    # Predecir utilizando el modelo\n",
        "    y_pred_grupo = XGB_model.predict(X_grupo_preprocessed)\n",
        "\n",
        "    # Calcular y mostrar las métricas de desempeño\n",
        "    accuracy = accuracy_score(y_grupo, y_pred_grupo)\n",
        "    precision = precision_score(y_grupo, y_pred_grupo, average='weighted')\n",
        "    recall = recall_score(y_grupo, y_pred_grupo, average='weighted')\n",
        "    f1 = f1_score(y_grupo, y_pred_grupo, average='weighted')\n",
        "\n",
        "    print(f'Métricas de desempeño para el grupo {grupo}:')\n",
        "    print(f'Accuracy: {accuracy:.4f}')\n",
        "    print(f'Precision: {precision:.4f}')\n",
        "    print(f'Recall: {recall:.4f}')\n",
        "    print(f'F1 Score: {f1:.4f}')\n",
        "    print()\n"
      ]
    },
    {
      "cell_type": "code",
      "execution_count": null,
      "metadata": {
        "colab": {
          "base_uri": "https://localhost:8080/"
        },
        "id": "ksdOlqao5XkZ",
        "outputId": "54ce5460-4e3a-4094-a7b9-747dfbc33163"
      },
      "outputs": [
        {
          "output_type": "stream",
          "name": "stdout",
          "text": [
            "Grupo: protegido_edad\n",
            "Número de observaciones: 186660\n",
            "\n",
            "Grupo: no_protegido_edad\n",
            "Número de observaciones: 805782\n",
            "\n",
            "Grupo: protegido_sexo\n",
            "Número de observaciones: 331899\n",
            "\n",
            "Grupo: no_protegido_sexo\n",
            "Número de observaciones: 668101\n",
            "\n",
            "Grupo: protegido_raza\n",
            "Número de observaciones: 230854\n",
            "\n",
            "Grupo: no_protegido_raza\n",
            "Número de observaciones: 769146\n",
            "\n"
          ]
        }
      ],
      "source": [
        "# Contar el número de observaciones en cada grupo filtrado\n",
        "for grupo in grupos_interes:\n",
        "    df_grupo = filtrar_datos_para_grupo(grupo, data)\n",
        "    print(f\"Grupo: {grupo}\")\n",
        "    print(f\"Número de observaciones: {len(df_grupo)}\")  # Contar el número de filas del DataFrame filtrado\n",
        "    print()\n"
      ]
    },
    {
      "cell_type": "markdown",
      "source": [
        "# MODELO CON SUBMUESTRA BALANCEADA"
      ],
      "metadata": {
        "id": "ACHsTzbYcSIu"
      }
    },
    {
      "cell_type": "code",
      "source": [
        "from imblearn.under_sampling import RandomUnderSampler\n",
        "from xgboost import XGBClassifier\n",
        "from sklearn.metrics import accuracy_score, confusion_matrix, classification_report\n",
        "\n",
        "# Aplicar submuestreo para balancear las clases\n",
        "rus = RandomUnderSampler(random_state=0)\n",
        "X_resampled, y_resampled = rus.fit_resample(X_train, y_train)\n",
        "\n",
        "# Entrenar el modelo XGBoost en los datos submuestreados\n",
        "XGB_model = XGBClassifier(objective='multi:softmax', num_class=3, random_state=0)\n",
        "XGB_model.fit(X_resampled, y_resampled)\n",
        "\n",
        "# Hacer predicciones en el conjunto de prueba\n",
        "y_pred_XGB = XGB_model.predict(X_test)\n",
        "\n",
        "# Evaluar el rendimiento del modelo\n",
        "accuracy_XGB = accuracy_score(y_test, y_pred_XGB)\n",
        "conf_matrix_XGB = confusion_matrix(y_test, y_pred_XGB)\n",
        "classification_rep_XGB = classification_report(y_test, y_pred_XGB)\n",
        "\n",
        "# Imprimir métricas de rendimiento para XGBoost\n",
        "print(f'XGB Accuracy: {accuracy_XGB}')\n",
        "print(f'XGB Confusion Matrix:\\n{conf_matrix_XGB}')\n",
        "print(f'XGB Classification Report:\\n{classification_rep_XGB}')\n"
      ],
      "metadata": {
        "colab": {
          "base_uri": "https://localhost:8080/"
        },
        "id": "GG682saaZ7VS",
        "outputId": "798fd151-3244-48f2-b679-44e561f60ff8"
      },
      "execution_count": null,
      "outputs": [
        {
          "output_type": "stream",
          "name": "stdout",
          "text": [
            "XGB Accuracy: 0.7907\n",
            "XGB Confusion Matrix:\n",
            "[[ 53614  15442]\n",
            " [ 26418 104526]]\n",
            "XGB Classification Report:\n",
            "              precision    recall  f1-score   support\n",
            "\n",
            "           0       0.67      0.78      0.72     69056\n",
            "           1       0.87      0.80      0.83    130944\n",
            "\n",
            "    accuracy                           0.79    200000\n",
            "   macro avg       0.77      0.79      0.78    200000\n",
            "weighted avg       0.80      0.79      0.79    200000\n",
            "\n"
          ]
        }
      ]
    },
    {
      "cell_type": "markdown",
      "source": [
        "# ANALISIS DE DISCRIMINACION"
      ],
      "metadata": {
        "id": "tQeP2FcHNmvq"
      }
    },
    {
      "cell_type": "markdown",
      "source": [
        "Se usa la libreria AIF 360."
      ],
      "metadata": {
        "id": "xcI7ltkbNtsj"
      }
    },
    {
      "cell_type": "markdown",
      "source": [
        "Statistical Parity Difference\n",
        "\n",
        "Corresponde a la diferencia entre la probabilidad de pertenecer a la clase positiva dado que se pertenece a la clase protegida y la posibilidad de pertenecer a la clase positiva dado que se pertenece a la clase no protegida\n",
        "\n",
        "Disparate Impact"
      ],
      "metadata": {
        "id": "OH1wQeP2O8Q0"
      }
    },
    {
      "cell_type": "code",
      "source": [
        "!pip install aequitas"
      ],
      "metadata": {
        "colab": {
          "base_uri": "https://localhost:8080/",
          "height": 1000
        },
        "id": "WhNmCSibYBhK",
        "outputId": "809cd18a-eed9-4fed-899e-6659b00a936e"
      },
      "execution_count": null,
      "outputs": [
        {
          "output_type": "stream",
          "name": "stdout",
          "text": [
            "Collecting aequitas\n",
            "  Downloading aequitas-1.0.0-1-py3-none-any.whl (3.1 MB)\n",
            "\u001b[2K     \u001b[90m━━━━━━━━━━━━━━━━━━━━━━━━━━━━━━━━━━━━━━━━\u001b[0m \u001b[32m3.1/3.1 MB\u001b[0m \u001b[31m11.7 MB/s\u001b[0m eta \u001b[36m0:00:00\u001b[0m\n",
            "\u001b[?25hRequirement already satisfied: matplotlib>=3.0.3 in /usr/local/lib/python3.10/dist-packages (from aequitas) (3.7.1)\n",
            "Requirement already satisfied: pandas>=0.24.1 in /usr/local/lib/python3.10/dist-packages (from aequitas) (1.5.3)\n",
            "Requirement already satisfied: pyyaml>=5.1 in /usr/local/lib/python3.10/dist-packages (from aequitas) (6.0.1)\n",
            "Requirement already satisfied: seaborn>=0.9.0 in /usr/local/lib/python3.10/dist-packages (from aequitas) (0.13.1)\n",
            "Requirement already satisfied: altair>=4.1.0 in /usr/local/lib/python3.10/dist-packages (from aequitas) (4.2.2)\n",
            "Collecting millify==0.1.1 (from aequitas)\n",
            "  Downloading millify-0.1.1.tar.gz (1.2 kB)\n",
            "  Preparing metadata (setup.py) ... \u001b[?25l\u001b[?25hdone\n",
            "Requirement already satisfied: scipy>=0.18.1 in /usr/local/lib/python3.10/dist-packages (from aequitas) (1.11.4)\n",
            "Collecting optuna>=3.0.0 (from aequitas)\n",
            "  Downloading optuna-3.5.0-py3-none-any.whl (413 kB)\n",
            "\u001b[2K     \u001b[90m━━━━━━━━━━━━━━━━━━━━━━━━━━━━━━━━━━━━━━━━\u001b[0m \u001b[32m413.4/413.4 kB\u001b[0m \u001b[31m14.4 MB/s\u001b[0m eta \u001b[36m0:00:00\u001b[0m\n",
            "\u001b[?25hCollecting aif360>=0.5.0 (from aequitas)\n",
            "  Downloading aif360-0.6.0-py3-none-any.whl (229 kB)\n",
            "\u001b[2K     \u001b[90m━━━━━━━━━━━━━━━━━━━━━━━━━━━━━━━━━━━━━━━━\u001b[0m \u001b[32m229.8/229.8 kB\u001b[0m \u001b[31m18.8 MB/s\u001b[0m eta \u001b[36m0:00:00\u001b[0m\n",
            "\u001b[?25hCollecting fairgbm==0.9.14 (from aequitas)\n",
            "  Downloading fairgbm-0.9.14-py3-none-any.whl (2.1 MB)\n",
            "\u001b[2K     \u001b[90m━━━━━━━━━━━━━━━━━━━━━━━━━━━━━━━━━━━━━━━━\u001b[0m \u001b[32m2.1/2.1 MB\u001b[0m \u001b[31m21.3 MB/s\u001b[0m eta \u001b[36m0:00:00\u001b[0m\n",
            "\u001b[?25hCollecting fairlearn>=0.8.0 (from aequitas)\n",
            "  Downloading fairlearn-0.10.0-py3-none-any.whl (234 kB)\n",
            "\u001b[2K     \u001b[90m━━━━━━━━━━━━━━━━━━━━━━━━━━━━━━━━━━━━━━━━\u001b[0m \u001b[32m234.1/234.1 kB\u001b[0m \u001b[31m22.4 MB/s\u001b[0m eta \u001b[36m0:00:00\u001b[0m\n",
            "\u001b[?25hCollecting hydra-core>=1.3.0 (from aequitas)\n",
            "  Downloading hydra_core-1.3.2-py3-none-any.whl (154 kB)\n",
            "\u001b[2K     \u001b[90m━━━━━━━━━━━━━━━━━━━━━━━━━━━━━━━━━━━━━━━━\u001b[0m \u001b[32m154.5/154.5 kB\u001b[0m \u001b[31m15.8 MB/s\u001b[0m eta \u001b[36m0:00:00\u001b[0m\n",
            "\u001b[?25hCollecting validators>=0.22.0 (from aequitas)\n",
            "  Downloading validators-0.22.0-py3-none-any.whl (26 kB)\n",
            "Collecting hyperparameter-tuning>=0.3.1 (from aequitas)\n",
            "  Downloading hyperparameter_tuning-0.3.1-py3-none-any.whl (25 kB)\n",
            "Collecting numpy==1.23.5 (from aequitas)\n",
            "  Downloading numpy-1.23.5-cp310-cp310-manylinux_2_17_x86_64.manylinux2014_x86_64.whl (17.1 MB)\n",
            "\u001b[2K     \u001b[90m━━━━━━━━━━━━━━━━━━━━━━━━━━━━━━━━━━━━━━━━\u001b[0m \u001b[32m17.1/17.1 MB\u001b[0m \u001b[31m31.0 MB/s\u001b[0m eta \u001b[36m0:00:00\u001b[0m\n",
            "\u001b[?25hRequirement already satisfied: wheel in /usr/local/lib/python3.10/dist-packages (from fairgbm==0.9.14->aequitas) (0.42.0)\n",
            "Requirement already satisfied: scikit-learn!=0.22.0 in /usr/local/lib/python3.10/dist-packages (from fairgbm==0.9.14->aequitas) (1.2.2)\n",
            "Requirement already satisfied: entrypoints in /usr/local/lib/python3.10/dist-packages (from altair>=4.1.0->aequitas) (0.4)\n",
            "Requirement already satisfied: jinja2 in /usr/local/lib/python3.10/dist-packages (from altair>=4.1.0->aequitas) (3.1.3)\n",
            "Requirement already satisfied: jsonschema>=3.0 in /usr/local/lib/python3.10/dist-packages (from altair>=4.1.0->aequitas) (4.19.2)\n",
            "Requirement already satisfied: toolz in /usr/local/lib/python3.10/dist-packages (from altair>=4.1.0->aequitas) (0.12.1)\n",
            "INFO: pip is looking at multiple versions of fairlearn to determine which version is compatible with other requirements. This could take a while.\n",
            "Collecting fairlearn>=0.8.0 (from aequitas)\n",
            "  Downloading fairlearn-0.9.0-py3-none-any.whl (231 kB)\n",
            "\u001b[2K     \u001b[90m━━━━━━━━━━━━━━━━━━━━━━━━━━━━━━━━━━━━━━━━\u001b[0m \u001b[32m231.5/231.5 kB\u001b[0m \u001b[31m13.1 MB/s\u001b[0m eta \u001b[36m0:00:00\u001b[0m\n",
            "\u001b[?25hCollecting omegaconf<2.4,>=2.2 (from hydra-core>=1.3.0->aequitas)\n",
            "  Downloading omegaconf-2.3.0-py3-none-any.whl (79 kB)\n",
            "\u001b[2K     \u001b[90m━━━━━━━━━━━━━━━━━━━━━━━━━━━━━━━━━━━━━━━━\u001b[0m \u001b[32m79.5/79.5 kB\u001b[0m \u001b[31m7.6 MB/s\u001b[0m eta \u001b[36m0:00:00\u001b[0m\n",
            "\u001b[?25hCollecting antlr4-python3-runtime==4.9.* (from hydra-core>=1.3.0->aequitas)\n",
            "  Downloading antlr4-python3-runtime-4.9.3.tar.gz (117 kB)\n",
            "\u001b[2K     \u001b[90m━━━━━━━━━━━━━━━━━━━━━━━━━━━━━━━━━━━━━━━━\u001b[0m \u001b[32m117.0/117.0 kB\u001b[0m \u001b[31m11.1 MB/s\u001b[0m eta \u001b[36m0:00:00\u001b[0m\n",
            "\u001b[?25h  Preparing metadata (setup.py) ... \u001b[?25l\u001b[?25hdone\n",
            "Requirement already satisfied: packaging in /usr/local/lib/python3.10/dist-packages (from hydra-core>=1.3.0->aequitas) (23.2)\n",
            "Collecting schema (from hyperparameter-tuning>=0.3.1->aequitas)\n",
            "  Downloading schema-0.7.5-py2.py3-none-any.whl (17 kB)\n",
            "Requirement already satisfied: contourpy>=1.0.1 in /usr/local/lib/python3.10/dist-packages (from matplotlib>=3.0.3->aequitas) (1.2.0)\n",
            "Requirement already satisfied: cycler>=0.10 in /usr/local/lib/python3.10/dist-packages (from matplotlib>=3.0.3->aequitas) (0.12.1)\n",
            "Requirement already satisfied: fonttools>=4.22.0 in /usr/local/lib/python3.10/dist-packages (from matplotlib>=3.0.3->aequitas) (4.49.0)\n",
            "Requirement already satisfied: kiwisolver>=1.0.1 in /usr/local/lib/python3.10/dist-packages (from matplotlib>=3.0.3->aequitas) (1.4.5)\n",
            "Requirement already satisfied: pillow>=6.2.0 in /usr/local/lib/python3.10/dist-packages (from matplotlib>=3.0.3->aequitas) (9.4.0)\n",
            "Requirement already satisfied: pyparsing>=2.3.1 in /usr/local/lib/python3.10/dist-packages (from matplotlib>=3.0.3->aequitas) (3.1.1)\n",
            "Requirement already satisfied: python-dateutil>=2.7 in /usr/local/lib/python3.10/dist-packages (from matplotlib>=3.0.3->aequitas) (2.8.2)\n",
            "Collecting alembic>=1.5.0 (from optuna>=3.0.0->aequitas)\n",
            "  Downloading alembic-1.13.1-py3-none-any.whl (233 kB)\n",
            "\u001b[2K     \u001b[90m━━━━━━━━━━━━━━━━━━━━━━━━━━━━━━━━━━━━━━━━\u001b[0m \u001b[32m233.4/233.4 kB\u001b[0m \u001b[31m16.1 MB/s\u001b[0m eta \u001b[36m0:00:00\u001b[0m\n",
            "\u001b[?25hCollecting colorlog (from optuna>=3.0.0->aequitas)\n",
            "  Downloading colorlog-6.8.2-py3-none-any.whl (11 kB)\n",
            "Requirement already satisfied: sqlalchemy>=1.3.0 in /usr/local/lib/python3.10/dist-packages (from optuna>=3.0.0->aequitas) (2.0.27)\n",
            "Requirement already satisfied: tqdm in /usr/local/lib/python3.10/dist-packages (from optuna>=3.0.0->aequitas) (4.66.2)\n",
            "Requirement already satisfied: pytz>=2020.1 in /usr/local/lib/python3.10/dist-packages (from pandas>=0.24.1->aequitas) (2023.4)\n",
            "Collecting Mako (from alembic>=1.5.0->optuna>=3.0.0->aequitas)\n",
            "  Downloading Mako-1.3.2-py3-none-any.whl (78 kB)\n",
            "\u001b[2K     \u001b[90m━━━━━━━━━━━━━━━━━━━━━━━━━━━━━━━━━━━━━━━━\u001b[0m \u001b[32m78.7/78.7 kB\u001b[0m \u001b[31m7.7 MB/s\u001b[0m eta \u001b[36m0:00:00\u001b[0m\n",
            "\u001b[?25hRequirement already satisfied: typing-extensions>=4 in /usr/local/lib/python3.10/dist-packages (from alembic>=1.5.0->optuna>=3.0.0->aequitas) (4.10.0)\n",
            "Requirement already satisfied: attrs>=22.2.0 in /usr/local/lib/python3.10/dist-packages (from jsonschema>=3.0->altair>=4.1.0->aequitas) (23.2.0)\n",
            "Requirement already satisfied: jsonschema-specifications>=2023.03.6 in /usr/local/lib/python3.10/dist-packages (from jsonschema>=3.0->altair>=4.1.0->aequitas) (2023.12.1)\n",
            "Requirement already satisfied: referencing>=0.28.4 in /usr/local/lib/python3.10/dist-packages (from jsonschema>=3.0->altair>=4.1.0->aequitas) (0.33.0)\n",
            "Requirement already satisfied: rpds-py>=0.7.1 in /usr/local/lib/python3.10/dist-packages (from jsonschema>=3.0->altair>=4.1.0->aequitas) (0.18.0)\n",
            "Requirement already satisfied: six>=1.5 in /usr/local/lib/python3.10/dist-packages (from python-dateutil>=2.7->matplotlib>=3.0.3->aequitas) (1.16.0)\n",
            "Requirement already satisfied: joblib>=1.1.1 in /usr/local/lib/python3.10/dist-packages (from scikit-learn!=0.22.0->fairgbm==0.9.14->aequitas) (1.3.2)\n",
            "Requirement already satisfied: threadpoolctl>=2.0.0 in /usr/local/lib/python3.10/dist-packages (from scikit-learn!=0.22.0->fairgbm==0.9.14->aequitas) (3.3.0)\n",
            "Requirement already satisfied: greenlet!=0.4.17 in /usr/local/lib/python3.10/dist-packages (from sqlalchemy>=1.3.0->optuna>=3.0.0->aequitas) (3.0.3)\n",
            "Requirement already satisfied: MarkupSafe>=2.0 in /usr/local/lib/python3.10/dist-packages (from jinja2->altair>=4.1.0->aequitas) (2.1.5)\n",
            "Requirement already satisfied: contextlib2>=0.5.5 in /usr/local/lib/python3.10/dist-packages (from schema->hyperparameter-tuning>=0.3.1->aequitas) (21.6.0)\n",
            "Building wheels for collected packages: millify, antlr4-python3-runtime\n",
            "  Building wheel for millify (setup.py) ... \u001b[?25l\u001b[?25hdone\n",
            "  Created wheel for millify: filename=millify-0.1.1-py3-none-any.whl size=1845 sha256=50aca133dd483eb189ded140e322b194fff8a661e63a8b1d451beb39bfb2c6b1\n",
            "  Stored in directory: /root/.cache/pip/wheels/67/8f/53/2759feac2e247ce89c1165c3ff12d484de7714a875ea3464f0\n",
            "  Building wheel for antlr4-python3-runtime (setup.py) ... \u001b[?25l\u001b[?25hdone\n",
            "  Created wheel for antlr4-python3-runtime: filename=antlr4_python3_runtime-4.9.3-py3-none-any.whl size=144554 sha256=b56fb5dffc9f436a310bdfd12167147c130b964038fdf7ccdb93d54ee9d47733\n",
            "  Stored in directory: /root/.cache/pip/wheels/12/93/dd/1f6a127edc45659556564c5730f6d4e300888f4bca2d4c5a88\n",
            "Successfully built millify antlr4-python3-runtime\n",
            "Installing collected packages: millify, antlr4-python3-runtime, validators, schema, omegaconf, numpy, Mako, colorlog, hydra-core, alembic, optuna, hyperparameter-tuning, fairlearn, fairgbm, aif360, aequitas\n",
            "  Attempting uninstall: numpy\n",
            "    Found existing installation: numpy 1.25.2\n",
            "    Uninstalling numpy-1.25.2:\n",
            "      Successfully uninstalled numpy-1.25.2\n",
            "\u001b[31mERROR: pip's dependency resolver does not currently take into account all the packages that are installed. This behaviour is the source of the following dependency conflicts.\n",
            "chex 0.1.85 requires numpy>=1.24.1, but you have numpy 1.23.5 which is incompatible.\u001b[0m\u001b[31m\n",
            "\u001b[0mSuccessfully installed Mako-1.3.2 aequitas-1.0.0 aif360-0.6.0 alembic-1.13.1 antlr4-python3-runtime-4.9.3 colorlog-6.8.2 fairgbm-0.9.14 fairlearn-0.9.0 hydra-core-1.3.2 hyperparameter-tuning-0.3.1 millify-0.1.1 numpy-1.23.5 omegaconf-2.3.0 optuna-3.5.0 schema-0.7.5 validators-0.22.0\n"
          ]
        },
        {
          "output_type": "display_data",
          "data": {
            "application/vnd.colab-display-data+json": {
              "pip_warning": {
                "packages": [
                  "numpy",
                  "pydevd_plugins"
                ]
              },
              "id": "9ce48f66e6194829a4521bd5be6981a0"
            }
          },
          "metadata": {}
        }
      ]
    },
    {
      "cell_type": "code",
      "source": [
        "pip install git+https://github.com/dssg/aequitas.git"
      ],
      "metadata": {
        "colab": {
          "base_uri": "https://localhost:8080/"
        },
        "id": "YCxvlJm2bMDN",
        "outputId": "3d35553c-9c02-4a87-b4db-4285ed76dec1"
      },
      "execution_count": null,
      "outputs": [
        {
          "output_type": "stream",
          "name": "stdout",
          "text": [
            "Collecting git+https://github.com/dssg/aequitas.git\n",
            "  Cloning https://github.com/dssg/aequitas.git to /tmp/pip-req-build-716400bi\n",
            "  Running command git clone --filter=blob:none --quiet https://github.com/dssg/aequitas.git /tmp/pip-req-build-716400bi\n",
            "  Resolved https://github.com/dssg/aequitas.git to commit 270da37287498414b80f2f0ca1cd1b52fe2607c5\n",
            "  Preparing metadata (setup.py) ... \u001b[?25l\u001b[?25hdone\n",
            "Requirement already satisfied: matplotlib>=3.0.3 in /usr/local/lib/python3.10/dist-packages (from aequitas==1.0.0) (3.7.1)\n",
            "Requirement already satisfied: pandas>=0.24.1 in /usr/local/lib/python3.10/dist-packages (from aequitas==1.0.0) (1.5.3)\n",
            "Requirement already satisfied: pyyaml>=5.1 in /usr/local/lib/python3.10/dist-packages (from aequitas==1.0.0) (6.0.1)\n",
            "Requirement already satisfied: seaborn>=0.9.0 in /usr/local/lib/python3.10/dist-packages (from aequitas==1.0.0) (0.13.1)\n",
            "Requirement already satisfied: altair>=4.1.0 in /usr/local/lib/python3.10/dist-packages (from aequitas==1.0.0) (4.2.2)\n",
            "Requirement already satisfied: millify==0.1.1 in /usr/local/lib/python3.10/dist-packages (from aequitas==1.0.0) (0.1.1)\n",
            "Requirement already satisfied: scipy>=0.18.1 in /usr/local/lib/python3.10/dist-packages (from aequitas==1.0.0) (1.11.4)\n",
            "Requirement already satisfied: optuna>=3.0.0 in /usr/local/lib/python3.10/dist-packages (from aequitas==1.0.0) (3.5.0)\n",
            "Requirement already satisfied: aif360>=0.5.0 in /usr/local/lib/python3.10/dist-packages (from aequitas==1.0.0) (0.6.0)\n",
            "Requirement already satisfied: fairgbm==0.9.14 in /usr/local/lib/python3.10/dist-packages (from aequitas==1.0.0) (0.9.14)\n",
            "Requirement already satisfied: fairlearn>=0.8.0 in /usr/local/lib/python3.10/dist-packages (from aequitas==1.0.0) (0.9.0)\n",
            "Requirement already satisfied: hydra-core>=1.3.0 in /usr/local/lib/python3.10/dist-packages (from aequitas==1.0.0) (1.3.2)\n",
            "Requirement already satisfied: validators>=0.22.0 in /usr/local/lib/python3.10/dist-packages (from aequitas==1.0.0) (0.22.0)\n",
            "Requirement already satisfied: hyperparameter-tuning>=0.3.1 in /usr/local/lib/python3.10/dist-packages (from aequitas==1.0.0) (0.3.1)\n",
            "Requirement already satisfied: numpy==1.23.5 in /usr/local/lib/python3.10/dist-packages (from aequitas==1.0.0) (1.23.5)\n",
            "Requirement already satisfied: wheel in /usr/local/lib/python3.10/dist-packages (from fairgbm==0.9.14->aequitas==1.0.0) (0.42.0)\n",
            "Requirement already satisfied: scikit-learn!=0.22.0 in /usr/local/lib/python3.10/dist-packages (from fairgbm==0.9.14->aequitas==1.0.0) (1.2.2)\n",
            "Requirement already satisfied: entrypoints in /usr/local/lib/python3.10/dist-packages (from altair>=4.1.0->aequitas==1.0.0) (0.4)\n",
            "Requirement already satisfied: jinja2 in /usr/local/lib/python3.10/dist-packages (from altair>=4.1.0->aequitas==1.0.0) (3.1.3)\n",
            "Requirement already satisfied: jsonschema>=3.0 in /usr/local/lib/python3.10/dist-packages (from altair>=4.1.0->aequitas==1.0.0) (4.19.2)\n",
            "Requirement already satisfied: toolz in /usr/local/lib/python3.10/dist-packages (from altair>=4.1.0->aequitas==1.0.0) (0.12.1)\n",
            "Requirement already satisfied: omegaconf<2.4,>=2.2 in /usr/local/lib/python3.10/dist-packages (from hydra-core>=1.3.0->aequitas==1.0.0) (2.3.0)\n",
            "Requirement already satisfied: antlr4-python3-runtime==4.9.* in /usr/local/lib/python3.10/dist-packages (from hydra-core>=1.3.0->aequitas==1.0.0) (4.9.3)\n",
            "Requirement already satisfied: packaging in /usr/local/lib/python3.10/dist-packages (from hydra-core>=1.3.0->aequitas==1.0.0) (23.2)\n",
            "Requirement already satisfied: schema in /usr/local/lib/python3.10/dist-packages (from hyperparameter-tuning>=0.3.1->aequitas==1.0.0) (0.7.5)\n",
            "Requirement already satisfied: contourpy>=1.0.1 in /usr/local/lib/python3.10/dist-packages (from matplotlib>=3.0.3->aequitas==1.0.0) (1.2.0)\n",
            "Requirement already satisfied: cycler>=0.10 in /usr/local/lib/python3.10/dist-packages (from matplotlib>=3.0.3->aequitas==1.0.0) (0.12.1)\n",
            "Requirement already satisfied: fonttools>=4.22.0 in /usr/local/lib/python3.10/dist-packages (from matplotlib>=3.0.3->aequitas==1.0.0) (4.49.0)\n",
            "Requirement already satisfied: kiwisolver>=1.0.1 in /usr/local/lib/python3.10/dist-packages (from matplotlib>=3.0.3->aequitas==1.0.0) (1.4.5)\n",
            "Requirement already satisfied: pillow>=6.2.0 in /usr/local/lib/python3.10/dist-packages (from matplotlib>=3.0.3->aequitas==1.0.0) (9.4.0)\n",
            "Requirement already satisfied: pyparsing>=2.3.1 in /usr/local/lib/python3.10/dist-packages (from matplotlib>=3.0.3->aequitas==1.0.0) (3.1.1)\n",
            "Requirement already satisfied: python-dateutil>=2.7 in /usr/local/lib/python3.10/dist-packages (from matplotlib>=3.0.3->aequitas==1.0.0) (2.8.2)\n",
            "Requirement already satisfied: alembic>=1.5.0 in /usr/local/lib/python3.10/dist-packages (from optuna>=3.0.0->aequitas==1.0.0) (1.13.1)\n",
            "Requirement already satisfied: colorlog in /usr/local/lib/python3.10/dist-packages (from optuna>=3.0.0->aequitas==1.0.0) (6.8.2)\n",
            "Requirement already satisfied: sqlalchemy>=1.3.0 in /usr/local/lib/python3.10/dist-packages (from optuna>=3.0.0->aequitas==1.0.0) (2.0.27)\n",
            "Requirement already satisfied: tqdm in /usr/local/lib/python3.10/dist-packages (from optuna>=3.0.0->aequitas==1.0.0) (4.66.2)\n",
            "Requirement already satisfied: pytz>=2020.1 in /usr/local/lib/python3.10/dist-packages (from pandas>=0.24.1->aequitas==1.0.0) (2023.4)\n",
            "Requirement already satisfied: Mako in /usr/local/lib/python3.10/dist-packages (from alembic>=1.5.0->optuna>=3.0.0->aequitas==1.0.0) (1.3.2)\n",
            "Requirement already satisfied: typing-extensions>=4 in /usr/local/lib/python3.10/dist-packages (from alembic>=1.5.0->optuna>=3.0.0->aequitas==1.0.0) (4.10.0)\n",
            "Requirement already satisfied: attrs>=22.2.0 in /usr/local/lib/python3.10/dist-packages (from jsonschema>=3.0->altair>=4.1.0->aequitas==1.0.0) (23.2.0)\n",
            "Requirement already satisfied: jsonschema-specifications>=2023.03.6 in /usr/local/lib/python3.10/dist-packages (from jsonschema>=3.0->altair>=4.1.0->aequitas==1.0.0) (2023.12.1)\n",
            "Requirement already satisfied: referencing>=0.28.4 in /usr/local/lib/python3.10/dist-packages (from jsonschema>=3.0->altair>=4.1.0->aequitas==1.0.0) (0.33.0)\n",
            "Requirement already satisfied: rpds-py>=0.7.1 in /usr/local/lib/python3.10/dist-packages (from jsonschema>=3.0->altair>=4.1.0->aequitas==1.0.0) (0.18.0)\n",
            "Requirement already satisfied: six>=1.5 in /usr/local/lib/python3.10/dist-packages (from python-dateutil>=2.7->matplotlib>=3.0.3->aequitas==1.0.0) (1.16.0)\n",
            "Requirement already satisfied: joblib>=1.1.1 in /usr/local/lib/python3.10/dist-packages (from scikit-learn!=0.22.0->fairgbm==0.9.14->aequitas==1.0.0) (1.3.2)\n",
            "Requirement already satisfied: threadpoolctl>=2.0.0 in /usr/local/lib/python3.10/dist-packages (from scikit-learn!=0.22.0->fairgbm==0.9.14->aequitas==1.0.0) (3.3.0)\n",
            "Requirement already satisfied: greenlet!=0.4.17 in /usr/local/lib/python3.10/dist-packages (from sqlalchemy>=1.3.0->optuna>=3.0.0->aequitas==1.0.0) (3.0.3)\n",
            "Requirement already satisfied: MarkupSafe>=2.0 in /usr/local/lib/python3.10/dist-packages (from jinja2->altair>=4.1.0->aequitas==1.0.0) (2.1.5)\n",
            "Requirement already satisfied: contextlib2>=0.5.5 in /usr/local/lib/python3.10/dist-packages (from schema->hyperparameter-tuning>=0.3.1->aequitas==1.0.0) (21.6.0)\n"
          ]
        }
      ]
    },
    {
      "cell_type": "code",
      "source": [
        "import pickle\n",
        "\n",
        "# Guardar el modelo como un archivo pickle\n",
        "with open(\"XGBOOST.pickle\", \"wb\") as f:\n",
        "    pickle.dump(XGB_model, f)\n"
      ],
      "metadata": {
        "id": "g5_v6lQorM-8"
      },
      "execution_count": null,
      "outputs": []
    }
  ],
  "metadata": {
    "colab": {
      "provenance": [],
      "toc_visible": true
    },
    "kernelspec": {
      "display_name": "Python 3",
      "name": "python3"
    },
    "language_info": {
      "name": "python"
    }
  },
  "nbformat": 4,
  "nbformat_minor": 0
}