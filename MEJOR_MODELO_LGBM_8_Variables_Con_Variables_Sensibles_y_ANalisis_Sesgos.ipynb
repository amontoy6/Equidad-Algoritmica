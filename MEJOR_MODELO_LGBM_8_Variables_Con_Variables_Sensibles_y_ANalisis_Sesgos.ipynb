{
  "cells": [
    {
      "cell_type": "code",
      "execution_count": null,
      "metadata": {
        "id": "xlatnNO9_PqC"
      },
      "outputs": [],
      "source": [
        "#columnas_seleccionadas = [\n",
        "   # 'action_taken2', 'purchaser_type', 'preapproval',\n",
        "    #'loan_type', 'loan_purpose', 'lien_status','reverse_mortgage','open_end_line_of_credit', 'business_or_commercial_purpose' 'loan_amount', 'hoepa_status',\n",
        "    #'occupancy_type', 'applicant_credit_score_type','combined_loan_to_value_ratio', 'property_value ','occupancy_type ','manufactured_home_secured_proper',\n",
        "    #'applicant_age', 'hoepa_status ', 'loan_term ','manufactured_home_land_property', 'multifamily_affordable_units','income ','applicant_credit_score_type'\n",
        "    #'conforming_loan_limit', 'derived_loan_product_type', 'applicant_sex '"
      ]
    },
    {
      "cell_type": "markdown",
      "source": [
        "# CARGA INFORMACION"
      ],
      "metadata": {
        "id": "sdOJT4aYW57H"
      }
    },
    {
      "cell_type": "code",
      "execution_count": null,
      "metadata": {
        "colab": {
          "base_uri": "https://localhost:8080/"
        },
        "id": "-U4QUPjqqMoT",
        "outputId": "cbb84100-5003-4f4c-9f62-9ef57f51474e"
      },
      "outputs": [
        {
          "output_type": "stream",
          "name": "stdout",
          "text": [
            "Drive already mounted at /content/drive; to attempt to forcibly remount, call drive.mount(\"/content/drive\", force_remount=True).\n"
          ]
        }
      ],
      "source": [
        "from google.colab import drive\n",
        "drive.mount('/content/drive')"
      ]
    },
    {
      "cell_type": "code",
      "execution_count": null,
      "metadata": {
        "id": "FOtPJP40qXVi"
      },
      "outputs": [],
      "source": [
        "#Librerias\n",
        "import os\n",
        "from pandas import read_csv\n",
        "%matplotlib inline\n",
        "\n",
        "import numpy as np\n",
        "import pandas as pd\n",
        "#graficas\n",
        "import seaborn as sns\n",
        "import matplotlib.pyplot as plt\n",
        "import pandas as pd\n",
        "from sklearn.model_selection import StratifiedShuffleSplit\n",
        "from sklearn.metrics import confusion_matrix\n",
        "from sklearn.preprocessing import StandardScaler\n",
        "from sklearn.decomposition import PCA\n",
        "from sklearn.naive_bayes import GaussianNB\n",
        "from sklearn.neighbors import KNeighborsClassifier\n",
        "from sklearn.linear_model import LogisticRegression\n",
        "from sklearn.model_selection import GridSearchCV\n",
        "from sklearn.model_selection import StratifiedKFold\n",
        "from sklearn.preprocessing import LabelEncoder\n",
        "from sklearn.model_selection import train_test_split\n",
        "from sklearn.metrics import accuracy_score\n",
        "from sklearn.feature_selection import SelectFromModel\n",
        "from sklearn.preprocessing import LabelEncoder\n",
        "from sklearn.metrics import accuracy_score\n",
        "from sklearn.utils import resample\n",
        "from sklearn.model_selection import StratifiedShuffleSplit, StratifiedKFold\n",
        "from sklearn.metrics import confusion_matrix, classification_report\n",
        "from sklearn.preprocessing import StandardScaler, LabelEncoder\n",
        "from sklearn.decomposition import PCA\n",
        "from sklearn.naive_bayes import GaussianNB\n",
        "from sklearn.neighbors import KNeighborsClassifier\n",
        "from sklearn.linear_model import LogisticRegression\n",
        "from sklearn.ensemble import RandomForestClassifier, GradientBoostingClassifier\n",
        "from sklearn.model_selection import GridSearchCV, train_test_split\n",
        "from sklearn.feature_selection import SelectFromModel\n",
        "from xgboost import XGBClassifier\n",
        "from sklearn.metrics import accuracy_score\n",
        "from sklearn.utils import resample\n",
        "from sklearn.model_selection import StratifiedShuffleSplit, StratifiedKFold\n",
        "from sklearn.metrics import confusion_matrix, classification_report\n",
        "from sklearn.preprocessing import StandardScaler, LabelEncoder\n",
        "from sklearn.decomposition import PCA\n",
        "from sklearn.naive_bayes import GaussianNB\n",
        "from sklearn.neighbors import KNeighborsClassifier\n",
        "from sklearn.linear_model import LogisticRegression\n",
        "from sklearn.ensemble import RandomForestClassifier, GradientBoostingClassifier\n",
        "from sklearn.model_selection import GridSearchCV, train_test_split\n",
        "from sklearn.feature_selection import SelectFromModel\n",
        "from xgboost import XGBClassifier\n",
        "from sklearn.metrics import accuracy_score"
      ]
    },
    {
      "cell_type": "code",
      "execution_count": null,
      "metadata": {
        "id": "wQYOmU4zqab7"
      },
      "outputs": [],
      "source": [
        "import pandas as pd\n",
        "\n",
        "# Reemplaza la ruta con la ubicación de tu archivo Stata (.dta)\n",
        "file_path = \"/content/drive/MyDrive/Proyecto Grado/HDMA/Version Final/LAR_18_19_Muestra.dta\"\n",
        "\n",
        "# Cargar el archivo Stata en un DataFrame\n",
        "data = pd.read_stata(file_path)\n"
      ]
    },
    {
      "cell_type": "code",
      "execution_count": null,
      "metadata": {
        "colab": {
          "base_uri": "https://localhost:8080/"
        },
        "id": "P6ouoPFVHGh-",
        "outputId": "a0c50069-97db-41dd-8bc1-a7b18df263e5"
      },
      "outputs": [
        {
          "output_type": "stream",
          "name": "stdout",
          "text": [
            "<class 'pandas.core.frame.DataFrame'>\n",
            "Int64Index: 1000000 entries, 0 to 999999\n",
            "Data columns (total 61 columns):\n",
            " #   Column                            Non-Null Count    Dtype   \n",
            "---  ------                            --------------    -----   \n",
            " 0   activity_year                     1000000 non-null  int16   \n",
            " 1   lei                               1000000 non-null  object  \n",
            " 2   state_code                        1000000 non-null  object  \n",
            " 3   county_code                       1000000 non-null  object  \n",
            " 4   action_taken                      1000000 non-null  category\n",
            " 5   purchaser_type                    1000000 non-null  category\n",
            " 6   preapproval                       1000000 non-null  int8    \n",
            " 7   loan_type                         1000000 non-null  category\n",
            " 8   loan_purpose                      1000000 non-null  category\n",
            " 9   lien_status                       1000000 non-null  int8    \n",
            " 10  reverse_mortgage                  973978 non-null   float64 \n",
            " 11  open_end_line_of_credit           974190 non-null   float64 \n",
            " 12  business_or_commercial_purpose    974161 non-null   float64 \n",
            " 13  loan_amount                       1000000 non-null  int32   \n",
            " 14  combined_loan_to_value_ratio      701585 non-null   float64 \n",
            " 15  interest_rate                     628255 non-null   float64 \n",
            " 16  rate_spread                       537791 non-null   float64 \n",
            " 17  hoepa_status                      1000000 non-null  category\n",
            " 18  total_loan_costs                  489783 non-null   float64 \n",
            " 19  total_points_and_fees             5839 non-null     float64 \n",
            " 20  origination_charges               490672 non-null   float64 \n",
            " 21  discount_points                   170575 non-null   float64 \n",
            " 22  lender_credits                    196770 non-null   float64 \n",
            " 23  loan_term                         961136 non-null   float64 \n",
            " 24  prepayment_penalty_term           46380 non-null    float64 \n",
            " 25  intro_rate_period                 164157 non-null   float64 \n",
            " 26  negative_amortization             973747 non-null   float64 \n",
            " 27  interest_only_payment             973747 non-null   float64 \n",
            " 28  balloon_payment                   973747 non-null   float64 \n",
            " 29  other_nonamortizing_features      973747 non-null   float64 \n",
            " 30  property_value                    782201 non-null   float64 \n",
            " 31  construction_method               1000000 non-null  category\n",
            " 32  occupancy_type                    1000000 non-null  category\n",
            " 33  manufactured_home_secured_proper  1000000 non-null  category\n",
            " 34  manufactured_home_land_property_  1000000 non-null  category\n",
            " 35  multifamily_affordable_units      212 non-null      float64 \n",
            " 36  income                            957551 non-null   float64 \n",
            " 37  applicant_credit_score_type       1000000 non-null  category\n",
            " 38  applicant_ethnicity_1             999646 non-null   category\n",
            " 39  applicant_race_1                  1000000 non-null  category\n",
            " 40  applicant_sex                     1000000 non-null  category\n",
            " 41  submission_of_application         974115 non-null   category\n",
            " 42  initially_payable_to_institution  974115 non-null   category\n",
            " 43  denial_reason_1                   1000000 non-null  category\n",
            " 44  denial_reason_2                   39487 non-null    category\n",
            " 45  denial_reason_3                   6998 non-null     category\n",
            " 46  denial_reason_4                   652 non-null      category\n",
            " 47  applicant_age                     1000000 non-null  category\n",
            " 48  applicant_age_above_62            992442 non-null   float64 \n",
            " 49  total_units                       1000000 non-null  category\n",
            " 50  debt_to_income_ratio              336026 non-null   category\n",
            " 51  conforming_loan_limit             1000000 non-null  category\n",
            " 52  derived_loan_product_type         1000000 non-null  category\n",
            " 53  derived_dwelling_category         1000000 non-null  category\n",
            " 54  action_taken2                     1000000 non-null  category\n",
            " 55  protegido_edad                    1000000 non-null  int8    \n",
            " 56  no_protegido_edad                 1000000 non-null  int8    \n",
            " 57  protegido_mujer                   1000000 non-null  int8    \n",
            " 58  no_protegido_hombre               1000000 non-null  int8    \n",
            " 59  protegido_raza                    1000000 non-null  int8    \n",
            " 60  no_protegido_raza                 1000000 non-null  int8    \n",
            "dtypes: category(26), float64(22), int16(1), int32(1), int8(8), object(3)\n",
            "memory usage: 236.5+ MB\n",
            "None\n"
          ]
        }
      ],
      "source": [
        "# Información sobre tipos de datos y valores nulos\n",
        "print(data.info())"
      ]
    },
    {
      "cell_type": "code",
      "execution_count": null,
      "metadata": {
        "colab": {
          "base_uri": "https://localhost:8080/"
        },
        "id": "93R_7LZyKVHx",
        "outputId": "87795495-e250-415f-d830-281244011cae"
      },
      "outputs": [
        {
          "output_type": "stream",
          "name": "stdout",
          "text": [
            "Categorías únicas en applicant_sex : ['mujer', 'hombre', 'selecciono ambas opciones']\n",
            "Categories (3, object): ['hombre' < 'mujer' < 'selecciono ambas opciones']\n",
            "Categorías únicas en applicant_race_1: ['negro/afroamericano', 'blanco', 'sin info', 'asiatico', 'nativo americano/alaska', ..., 'koreano', 'guameno o chamorro', 'japones', 'samoan', 'hawaiano']\n",
            "Length: 18\n",
            "Categories (18, object): ['nativo americano/alaska' < 'asiatico' < 'negro/afroamericano' <\n",
            "                          'hawaiano/isleno del pacifico' ... 'hawaiano' < 'guameno o chamorro' < 'samoan' <\n",
            "                          'otro isleno del pacifico']\n",
            "Categorías únicas en applicant_ethnicity_1: ['no hispano/latino', 'hispano/latino', 'sin info', 'mexicano', 'otro hispano/latino', 'cubano', 'puertorriqueno', NaN, 'no aplica']\n",
            "Categories (8, object): ['hispano/latino' < 'no hispano/latino' < 'sin info' < 'no aplica' < 'mexicano' <\n",
            "                         'puertorriqueno' < 'cubano' < 'otro hispano/latino']\n",
            "Categorías únicas en applicant_age_above_62: [ 0.  1. nan]\n"
          ]
        }
      ],
      "source": [
        "categorias_columna1 = data['applicant_sex'].unique()\n",
        "categorias_columna2 = data['applicant_race_1'].unique()\n",
        "categorias_columna3 = data['applicant_ethnicity_1'].unique()\n",
        "categorias_columna4 = data['applicant_age_above_62'].unique()\n",
        "\n",
        "print(\"Categorías únicas en applicant_sex :\", categorias_columna1)\n",
        "print(\"Categorías únicas en applicant_race_1:\", categorias_columna2)\n",
        "print(\"Categorías únicas en applicant_ethnicity_1:\", categorias_columna3)\n",
        "print(\"Categorías únicas en applicant_age_above_62:\", categorias_columna4)\n"
      ]
    },
    {
      "cell_type": "code",
      "execution_count": null,
      "metadata": {
        "colab": {
          "base_uri": "https://localhost:8080/"
        },
        "id": "0Nn5FPcOSnhP",
        "outputId": "02903ad4-1e89-4b89-9cb5-faba69f8240b"
      },
      "outputs": [
        {
          "output_type": "stream",
          "name": "stdout",
          "text": [
            "0                negado\n",
            "1              aprobado\n",
            "2              aprobado\n",
            "3              aprobado\n",
            "4         no finalizado\n",
            "              ...      \n",
            "999995         aprobado\n",
            "999996         aprobado\n",
            "999997         aprobado\n",
            "999998         aprobado\n",
            "999999         aprobado\n",
            "Name: action_taken2, Length: 1000000, dtype: category\n",
            "Categories (3, object): ['aprobado' < 'negado' < 'no finalizado']\n"
          ]
        }
      ],
      "source": [
        "# Mostrar los datos originales de una columna específica\n",
        "columna_original = data['action_taken2']\n",
        "print(columna_original)\n"
      ]
    },
    {
      "cell_type": "markdown",
      "source": [
        "# PREPARACION DATA SET PARA FASE MODELOS"
      ],
      "metadata": {
        "id": "N0kZeYIFXDcX"
      }
    },
    {
      "cell_type": "markdown",
      "metadata": {
        "id": "eEbPOdckxAcE"
      },
      "source": [
        "Se abordan los siguientes pasos:\n",
        "\n",
        "Preparar el conjunto de datos\n",
        "Dividir en el entrenamiento y la prueba\n",
        "Transformar/Codificar las etiquetas de las variables\n",
        "PExplorar diferents modelos de clasificacion\n",
        "Compara el desempeño de todos los modelos.\n",
        "Seleccionar un  modelo ganador y ajuste los hiperparámetros para obtener una mayor precisión.\n",
        "Evaluación detallada de resultado con una matriz de confusión y diferentes medidas.\n",
        "Características más importantes para predecir la calificación."
      ]
    },
    {
      "cell_type": "code",
      "execution_count": null,
      "metadata": {
        "id": "qPWORLm2VlwU"
      },
      "outputs": [],
      "source": [
        "# Eliminación de variables que tengan valores nulos\n",
        "#df1 = data.dropna(axis=1)\n",
        "\n",
        "# Eliminación de tres columnas adicionales específicas\n",
        "columnas_adicionales = ['lei', 'state_code', 'county_code', 'activity_year']\n",
        "#df1 = df1.drop(columnas_adicionales, axis=1)\n"
      ]
    },
    {
      "cell_type": "code",
      "execution_count": null,
      "metadata": {
        "colab": {
          "base_uri": "https://localhost:8080/"
        },
        "id": "lTvxB8laR2Bt",
        "outputId": "3ec3e144-2438-4b4e-e398-5fdbf5d804a0"
      },
      "outputs": [
        {
          "output_type": "stream",
          "name": "stdout",
          "text": [
            "Correspondencia de clases original para 'action_taken2':\n",
            "{'negado': 'negado', 'aprobado': 'aprobado', 'no finalizado': 'no finalizado'}\n"
          ]
        }
      ],
      "source": [
        "# Guardar la correspondencia de clases para 'action_taken2'\n",
        "correspondencia_original_action_taken2 = dict(zip(data['action_taken2'].unique(), data['action_taken2'].unique()))\n",
        "print(\"Correspondencia de clases original para 'action_taken2':\")\n",
        "print(correspondencia_original_action_taken2)\n"
      ]
    },
    {
      "cell_type": "code",
      "source": [
        "# Convertir valores de action_taken2 a minúsculas\n",
        "data['action_taken2'] = data['action_taken2'].str.lower()\n",
        "\n",
        "# Mapeo de los valores de action_taken2 a los valores correspondientes en action_taken3\n",
        "mapping = {\n",
        "    'aprobado': 'Otorgado',\n",
        "    'negado': 'No Otorgado',\n",
        "    'no finalizado': 'No Otorgado'\n",
        "}\n",
        "\n",
        "# Crear la nueva columna action_taken3 basada en los valores de action_taken2\n",
        "data['action_taken3'] = data['action_taken2'].replace(mapping)"
      ],
      "metadata": {
        "id": "wmLFFlSzOHYy"
      },
      "execution_count": null,
      "outputs": []
    },
    {
      "cell_type": "code",
      "source": [
        "# Mostrar los datos originales de una columna específica\n",
        "columna_original = data['action_taken3']\n",
        "print(columna_original)"
      ],
      "metadata": {
        "colab": {
          "base_uri": "https://localhost:8080/"
        },
        "id": "S1zttyxScggr",
        "outputId": "c901eb2f-6996-4627-e032-87c7477f564f"
      },
      "execution_count": null,
      "outputs": [
        {
          "output_type": "stream",
          "name": "stdout",
          "text": [
            "0         No Otorgado\n",
            "1            Otorgado\n",
            "2            Otorgado\n",
            "3            Otorgado\n",
            "4         No Otorgado\n",
            "             ...     \n",
            "999995       Otorgado\n",
            "999996       Otorgado\n",
            "999997       Otorgado\n",
            "999998       Otorgado\n",
            "999999       Otorgado\n",
            "Name: action_taken3, Length: 1000000, dtype: object\n"
          ]
        }
      ]
    },
    {
      "cell_type": "code",
      "source": [
        "# Convertir valores a cadenas y guardar los originales en nuevas columnas\n",
        "columns_to_check = ['protegido_edad', 'no_protegido_edad', 'protegido_mujer', 'no_protegido_hombre', 'protegido_raza', 'no_protegido_raza']\n",
        "\n",
        "for column in columns_to_check:\n",
        "    # Crear una nueva columna con el nombre original + '_antes_conversion'\n",
        "    data[column + '_antes_conversion'] = data[column]\n",
        "    # Convertir los valores a numéricos\n",
        "    data[column] = pd.to_numeric(data[column], errors='coerce')\n",
        "\n",
        "import numpy as np\n",
        "\n",
        "# Crear la nueva columna 'poblacion_protegida' basada en las condiciones\n",
        "data['poblacion_protegida'] = np.where(\n",
        "    (data['protegido_edad'] == 1) |\n",
        "    (data['protegido_mujer'] == 1) |\n",
        "    (data['protegido_raza'] == 1),\n",
        "    1,  # Si alguna de las condiciones se cumple, asigna 1\n",
        "    np.where(\n",
        "        (data['no_protegido_edad'] == 1) |\n",
        "        (data['no_protegido_hombre'] == 1) |\n",
        "        (data['no_protegido_raza'] == 1),\n",
        "        0,  # Si alguna de las condiciones se cumple, asigna 0\n",
        "        np.nan  # Si ninguna de las condiciones se cumple, asigna NaN por defecto\n",
        "    )\n",
        ")\n",
        "\n",
        "# Crear una nueva columna 'poblacion_protegida_nueva' basada en las condiciones\n",
        "data['poblacion_protegida_nueva'] = np.where(\n",
        "    (data['protegido_edad'] == 1) |\n",
        "    (data['protegido_mujer'] == 1) |\n",
        "    (data['protegido_raza'] == 1),\n",
        "    1,  # Si alguna de las condiciones se cumple, asigna 1\n",
        "    np.where(\n",
        "        (data['no_protegido_edad'] == 1) |\n",
        "        (data['no_protegido_hombre'] == 1) |\n",
        "        (data['no_protegido_raza'] == 1),\n",
        "        0,  # Si alguna de las condiciones se cumple, asigna 0\n",
        "        np.nan  # Si ninguna de las condiciones se cumple, asigna NaN por defecto\n",
        "    )\n",
        ")\n"
      ],
      "metadata": {
        "id": "5xF1y1AQOJ_h"
      },
      "execution_count": null,
      "outputs": []
    },
    {
      "cell_type": "code",
      "source": [
        "# Información sobre tipos de datos y valores nulos\n",
        "print(data.info())"
      ],
      "metadata": {
        "colab": {
          "base_uri": "https://localhost:8080/"
        },
        "id": "T7dHvaIWYrCH",
        "outputId": "9d83123a-5104-4897-edc7-95b203b6c5ac"
      },
      "execution_count": null,
      "outputs": [
        {
          "output_type": "stream",
          "name": "stdout",
          "text": [
            "<class 'pandas.core.frame.DataFrame'>\n",
            "Int64Index: 1000000 entries, 0 to 999999\n",
            "Data columns (total 70 columns):\n",
            " #   Column                                Non-Null Count    Dtype   \n",
            "---  ------                                --------------    -----   \n",
            " 0   activity_year                         1000000 non-null  int16   \n",
            " 1   lei                                   1000000 non-null  object  \n",
            " 2   state_code                            1000000 non-null  object  \n",
            " 3   county_code                           1000000 non-null  object  \n",
            " 4   action_taken                          1000000 non-null  category\n",
            " 5   purchaser_type                        1000000 non-null  category\n",
            " 6   preapproval                           1000000 non-null  int8    \n",
            " 7   loan_type                             1000000 non-null  category\n",
            " 8   loan_purpose                          1000000 non-null  category\n",
            " 9   lien_status                           1000000 non-null  int8    \n",
            " 10  reverse_mortgage                      973978 non-null   float64 \n",
            " 11  open_end_line_of_credit               974190 non-null   float64 \n",
            " 12  business_or_commercial_purpose        974161 non-null   float64 \n",
            " 13  loan_amount                           1000000 non-null  int32   \n",
            " 14  combined_loan_to_value_ratio          701585 non-null   float64 \n",
            " 15  interest_rate                         628255 non-null   float64 \n",
            " 16  rate_spread                           537791 non-null   float64 \n",
            " 17  hoepa_status                          1000000 non-null  category\n",
            " 18  total_loan_costs                      489783 non-null   float64 \n",
            " 19  total_points_and_fees                 5839 non-null     float64 \n",
            " 20  origination_charges                   490672 non-null   float64 \n",
            " 21  discount_points                       170575 non-null   float64 \n",
            " 22  lender_credits                        196770 non-null   float64 \n",
            " 23  loan_term                             961136 non-null   float64 \n",
            " 24  prepayment_penalty_term               46380 non-null    float64 \n",
            " 25  intro_rate_period                     164157 non-null   float64 \n",
            " 26  negative_amortization                 973747 non-null   float64 \n",
            " 27  interest_only_payment                 973747 non-null   float64 \n",
            " 28  balloon_payment                       973747 non-null   float64 \n",
            " 29  other_nonamortizing_features          973747 non-null   float64 \n",
            " 30  property_value                        782201 non-null   float64 \n",
            " 31  construction_method                   1000000 non-null  category\n",
            " 32  occupancy_type                        1000000 non-null  category\n",
            " 33  manufactured_home_secured_proper      1000000 non-null  category\n",
            " 34  manufactured_home_land_property_      1000000 non-null  category\n",
            " 35  multifamily_affordable_units          212 non-null      float64 \n",
            " 36  income                                957551 non-null   float64 \n",
            " 37  applicant_credit_score_type           1000000 non-null  category\n",
            " 38  applicant_ethnicity_1                 999646 non-null   category\n",
            " 39  applicant_race_1                      1000000 non-null  category\n",
            " 40  applicant_sex                         1000000 non-null  category\n",
            " 41  submission_of_application             974115 non-null   category\n",
            " 42  initially_payable_to_institution      974115 non-null   category\n",
            " 43  denial_reason_1                       1000000 non-null  category\n",
            " 44  denial_reason_2                       39487 non-null    category\n",
            " 45  denial_reason_3                       6998 non-null     category\n",
            " 46  denial_reason_4                       652 non-null      category\n",
            " 47  applicant_age                         1000000 non-null  category\n",
            " 48  applicant_age_above_62                992442 non-null   float64 \n",
            " 49  total_units                           1000000 non-null  category\n",
            " 50  debt_to_income_ratio                  336026 non-null   category\n",
            " 51  conforming_loan_limit                 1000000 non-null  category\n",
            " 52  derived_loan_product_type             1000000 non-null  category\n",
            " 53  derived_dwelling_category             1000000 non-null  category\n",
            " 54  action_taken2                         1000000 non-null  object  \n",
            " 55  protegido_edad                        1000000 non-null  int8    \n",
            " 56  no_protegido_edad                     1000000 non-null  int8    \n",
            " 57  protegido_mujer                       1000000 non-null  int8    \n",
            " 58  no_protegido_hombre                   1000000 non-null  int8    \n",
            " 59  protegido_raza                        1000000 non-null  int8    \n",
            " 60  no_protegido_raza                     1000000 non-null  int8    \n",
            " 61  action_taken3                         1000000 non-null  object  \n",
            " 62  protegido_edad_antes_conversion       1000000 non-null  int8    \n",
            " 63  no_protegido_edad_antes_conversion    1000000 non-null  int8    \n",
            " 64  protegido_mujer_antes_conversion      1000000 non-null  int8    \n",
            " 65  no_protegido_hombre_antes_conversion  1000000 non-null  int8    \n",
            " 66  protegido_raza_antes_conversion       1000000 non-null  int8    \n",
            " 67  no_protegido_raza_antes_conversion    1000000 non-null  int8    \n",
            " 68  poblacion_protegida                   1000000 non-null  float64 \n",
            " 69  poblacion_protegida_nueva             1000000 non-null  float64 \n",
            "dtypes: category(25), float64(24), int16(1), int32(1), int8(14), object(5)\n",
            "memory usage: 271.8+ MB\n",
            "None\n"
          ]
        }
      ]
    },
    {
      "cell_type": "markdown",
      "source": [
        "# CREACION DE DATA SET PARA MODELOS"
      ],
      "metadata": {
        "id": "8PNN3qH9XhFq"
      }
    },
    {
      "cell_type": "code",
      "source": [
        "# Crear un nuevo DataFrame con solo las columnas seleccionadas\n",
        "from sklearn.preprocessing import LabelEncoder\n",
        "from sklearn.model_selection import train_test_split\n",
        "from sklearn.pipeline import Pipeline\n",
        "from sklearn.impute import SimpleImputer\n",
        "from sklearn.preprocessing import OneHotEncoder\n",
        "from sklearn.compose import ColumnTransformer\n",
        "\n",
        "\n",
        "# Lista de columnas seleccionadas\n",
        "columnas_seleccionadas = ['action_taken3', 'income', 'applicant_sex', 'loan_amount', 'loan_purpose', 'loan_type', 'debt_to_income_ratio','combined_loan_to_value_ratio', 'applicant_age']\n",
        "df = data[columnas_seleccionadas].copy()\n",
        "\n",
        "\n",
        "# Usar LabelEncoder para transformar la columna 'action_taken2'\n",
        "\n",
        "label_encoder_action_taken3 = LabelEncoder()\n",
        "df['action_taken3'] = label_encoder_action_taken3.fit_transform(df['action_taken3'])\n",
        "\n",
        "# Convertir variables categóricas a numéricas y mapear clases de 'action_taken2' a números\n",
        "label_encoder = LabelEncoder()\n",
        "#df['purchaser_type'] = label_encoder.fit_transform(df['purchaser_type'])\n",
        "#df['preapproval'] = label_encoder.fit_transform(df['preapproval'])\n",
        "df['loan_type'] = label_encoder.fit_transform(df['loan_type'])\n",
        "df['loan_purpose'] = label_encoder.fit_transform(df['loan_purpose'])\n",
        "#df['lien_status'] = label_encoder.fit_transform(df['lien_status'])\n",
        "#f['hoepa_status'] = label_encoder.fit_transform(df['hoepa_status'])\n",
        "#df['occupancy_type'] = label_encoder.fit_transform(df['occupancy_type'])\n",
        "#df['applicant_credit_score_type'] = label_encoder.fit_transform(df['applicant_credit_score_type'])\n",
        "#df['manufactured_home_land_property_'] = label_encoder.fit_transform(df['manufactured_home_land_property_'])\n",
        "df['applicant_sex'] = label_encoder.fit_transform(df['applicant_sex'])\n",
        "#df['conforming_loan_limit'] = label_encoder.fit_transform(df['conforming_loan_limit'])\n",
        "#df['derived_loan_product_type'] = label_encoder.fit_transform(df['derived_loan_product_type'])\n",
        "#df['applicant_race_1'] = label_encoder.fit_transform(df['applicant_race_1'])\n",
        "#df['applicant_ethnicity_1'] = label_encoder.fit_transform(df['applicant_ethnicity_1'])\n",
        "df['debt_to_income_ratio'] = label_encoder.fit_transform(df['debt_to_income_ratio'])\n",
        "df['applicant_age'] = label_encoder.fit_transform(df['applicant_age'])\n",
        "\n",
        "# Definir la función para mapear 'action_taken2' a 'aprobado'\n",
        "def map_approval(action_taken3):\n",
        "    # Define aquí tus criterios para determinar si un préstamo fue aprobado o no\n",
        "    # Por ejemplo, si action_taken es 1, considera que el préstamo fue aprobado (1); de lo contrario, no aprobado (0)\n",
        "    if action_taken3 == 1:\n",
        "        return 1\n",
        "    else:\n",
        "        return 0\n",
        "\n",
        "# Aplicar la función para crear la columna 'aprobado'\n",
        "#df['otorgado'] = df['action_taken3'].apply(map_approval)\n",
        "\n",
        "# Dividir el conjunto de datos en características (X) y etiquetas (y)\n",
        "#X = df.drop(['otorgado', 'action_taken3'], axis=1)  # Excluir 'aprobado' y 'action_taken2' de las características\n",
        "#y = df['otorgado']  # Usar 'aprobado' como variable de respuesta\n",
        "\n",
        "# Dividir el conjunto de datos en características (X) y etiquetas (y)\n",
        "X = df.drop(['action_taken3'], axis=1)  # Excluir 'action_taken3' de las características\n",
        "y = df['action_taken3']  # Usar 'action_taken3' como variable de respuesta\n",
        "\n",
        "\n",
        "# Dividir el conjunto de datos en entrenamiento y prueba\n",
        "X_train, X_test, y_train, y_test = train_test_split(X, y, test_size=0.2, random_state=42)\n",
        "\n",
        "# Resto del código...\n",
        "# Definir las transformaciones para las variables numéricas y categóricas\n",
        "numeric_features = ['loan_amount',\n",
        "                    'income','combined_loan_to_value_ratio']\n",
        "categorical_features = ['applicant_sex','loan_purpose', 'loan_type','debt_to_income_ratio','applicant_age']\n",
        "\n",
        "# Crear el transformador para datos numéricos\n",
        "numeric_transformer = Pipeline(steps=[\n",
        "    ('imputer', SimpleImputer(strategy='mean')),  # Imputación de valores faltantes con la media\n",
        "    ('scaler', StandardScaler())  # Estandarización de las variables\n",
        "])\n",
        "\n",
        "# Crear el transformador para datos categóricos\n",
        "categorical_transformer = Pipeline(steps=[\n",
        "    ('imputer', SimpleImputer(strategy='most_frequent')),  # Imputación de valores faltantes con la moda\n",
        "    ('encoder', OneHotEncoder(drop='first'))  # Codificación one-hot\n",
        "])\n",
        "\n",
        "# Combinar transformadores\n",
        "preprocessor = ColumnTransformer(\n",
        "    transformers=[\n",
        "        ('num', numeric_transformer, numeric_features),\n",
        "        ('cat', categorical_transformer, categorical_features)\n",
        "    ])\n"
      ],
      "metadata": {
        "id": "t-970em3gjHg"
      },
      "execution_count": null,
      "outputs": []
    },
    {
      "cell_type": "code",
      "source": [
        "# Información sobre tipos de datos y valores nulos\n",
        "print(df.info())"
      ],
      "metadata": {
        "colab": {
          "base_uri": "https://localhost:8080/"
        },
        "id": "8OgJw-XYYmiI",
        "outputId": "7e77281c-853b-48dd-d100-251ff89d3740"
      },
      "execution_count": null,
      "outputs": [
        {
          "output_type": "stream",
          "name": "stdout",
          "text": [
            "<class 'pandas.core.frame.DataFrame'>\n",
            "Int64Index: 1000000 entries, 0 to 999999\n",
            "Data columns (total 9 columns):\n",
            " #   Column                        Non-Null Count    Dtype  \n",
            "---  ------                        --------------    -----  \n",
            " 0   action_taken3                 1000000 non-null  int64  \n",
            " 1   income                        957551 non-null   float64\n",
            " 2   applicant_sex                 1000000 non-null  int64  \n",
            " 3   loan_amount                   1000000 non-null  int32  \n",
            " 4   loan_purpose                  1000000 non-null  int64  \n",
            " 5   loan_type                     1000000 non-null  int64  \n",
            " 6   debt_to_income_ratio          1000000 non-null  int64  \n",
            " 7   combined_loan_to_value_ratio  701585 non-null   float64\n",
            " 8   applicant_age                 1000000 non-null  int64  \n",
            "dtypes: float64(2), int32(1), int64(6)\n",
            "memory usage: 72.5 MB\n",
            "None\n"
          ]
        }
      ]
    },
    {
      "cell_type": "markdown",
      "source": [
        "# ENTRENAMIENTO MODELOS"
      ],
      "metadata": {
        "id": "eFM4qx-SXoa0"
      }
    },
    {
      "cell_type": "markdown",
      "source": [
        "# lGBM Model"
      ],
      "metadata": {
        "id": "2VLnJUuZX69b"
      }
    },
    {
      "cell_type": "code",
      "execution_count": null,
      "metadata": {
        "colab": {
          "base_uri": "https://localhost:8080/"
        },
        "id": "hIELCkYEye5b",
        "outputId": "44b8889b-a3ba-426b-84a9-3082e3abf909"
      },
      "outputs": [
        {
          "output_type": "stream",
          "name": "stdout",
          "text": [
            "[LightGBM] [Info] Number of positive: 523370, number of negative: 276630\n",
            "[LightGBM] [Info] Auto-choosing row-wise multi-threading, the overhead of testing was 0.049594 seconds.\n",
            "You can set `force_row_wise=true` to remove the overhead.\n",
            "And if memory is not enough, you can set `force_col_wise=true`.\n",
            "[LightGBM] [Info] Total Bins 788\n",
            "[LightGBM] [Info] Number of data points in the train set: 800000, number of used features: 8\n",
            "[LightGBM] [Info] [binary:BoostFromScore]: pavg=0.654212 -> initscore=0.637608\n",
            "[LightGBM] [Info] Start training from score 0.637608\n",
            "LGBMClassifier Accuracy: 0.807315\n",
            "LGBMClassifier Confusion Matrix:\n",
            "[[ 47588  21468]\n",
            " [ 17069 113875]]\n",
            "LGBMClassifier Classification Report:\n",
            "              precision    recall  f1-score   support\n",
            "\n",
            "           0       0.74      0.69      0.71     69056\n",
            "           1       0.84      0.87      0.86    130944\n",
            "\n",
            "    accuracy                           0.81    200000\n",
            "   macro avg       0.79      0.78      0.78    200000\n",
            "weighted avg       0.80      0.81      0.81    200000\n",
            "\n"
          ]
        }
      ],
      "source": [
        "\n",
        "from lightgbm import LGBMClassifier\n",
        "from sklearn.metrics import accuracy_score, confusion_matrix, classification_report\n",
        "\n",
        "# Instanciar y entrenar el modelo LGBMClassifier\n",
        "lgbm_model = LGBMClassifier()\n",
        "lgbm_model.fit(X_train, y_train)\n",
        "\n",
        "# Hacer predicciones en el conjunto de prueba\n",
        "y_pred_lgbm = lgbm_model.predict(X_test)\n",
        "\n",
        "# Evaluar el rendimiento del modelo\n",
        "accuracy_lgbm = accuracy_score(y_test, y_pred_lgbm)\n",
        "conf_matrix_lgbm = confusion_matrix(y_test, y_pred_lgbm)\n",
        "classification_rep_lgbm = classification_report(y_test, y_pred_lgbm)\n",
        "\n",
        "# Imprimir métricas de rendimiento para LGBMClassifier\n",
        "print(f'LGBMClassifier Accuracy: {accuracy_lgbm}')\n",
        "print(f'LGBMClassifier Confusion Matrix:\\n{conf_matrix_lgbm}')\n",
        "print(f'LGBMClassifier Classification Report:\\n{classification_rep_lgbm}')\n"
      ]
    },
    {
      "cell_type": "markdown",
      "metadata": {
        "id": "JVD8cW8bRFTs"
      },
      "source": [
        "Precisión, recall y F1 GTB Mejor modelo"
      ]
    },
    {
      "cell_type": "code",
      "execution_count": null,
      "metadata": {
        "colab": {
          "base_uri": "https://localhost:8080/"
        },
        "id": "MxyWtl5148aN",
        "outputId": "94fa3ee9-3ce7-4845-b687-eb8678316401"
      },
      "outputs": [
        {
          "output_type": "stream",
          "name": "stdout",
          "text": [
            "              precision    recall  f1-score   support\n",
            "\n",
            " No Aprobado       0.74      0.69      0.71     69056\n",
            "    Aprobado       0.84      0.87      0.86    130944\n",
            "\n",
            "    accuracy                           0.81    200000\n",
            "   macro avg       0.79      0.78      0.78    200000\n",
            "weighted avg       0.80      0.81      0.81    200000\n",
            "\n"
          ]
        }
      ],
      "source": [
        "from sklearn.metrics import classification_report\n",
        "\n",
        "print(classification_report(y_test, y_pred_lgbm, target_names=['No Aprobado', 'Aprobado']))\n"
      ]
    },
    {
      "cell_type": "markdown",
      "source": [
        "#VARIABLES MAS IMPORTANTES Del MODELO LGBM"
      ],
      "metadata": {
        "id": "ZbKOVjT_YD7X"
      }
    },
    {
      "cell_type": "markdown",
      "metadata": {
        "id": "bB89fOe358Tf"
      },
      "source": [
        "INTERPRETABILIDAD"
      ]
    },
    {
      "cell_type": "markdown",
      "metadata": {
        "id": "hEJ-hZL6EOXZ"
      },
      "source": [
        "Caracteristicas mas importantes en el XGBOOST: El largo de las barras indica la frecuencia de uso de cada característica para realizar divisiones, y valores más altos indican una mayor importancia según el criterio de peso. La importancia de una característica basada en 'weight' se calcula contando la frecuencia con la que se utiliza la característica para dividir los nodos a lo largo de todos los árboles en el modelo. Cuanto más frecuentemente se utiliza una característica para realizar divisiones, mayor será su importancia en términos de peso.\n"
      ]
    },
    {
      "cell_type": "code",
      "execution_count": null,
      "metadata": {
        "colab": {
          "base_uri": "https://localhost:8080/",
          "height": 1000
        },
        "id": "dh3SBDBkiUTC",
        "outputId": "89e6309e-45ed-4d73-de34-defe8811dbde"
      },
      "outputs": [
        {
          "output_type": "display_data",
          "data": {
            "text/plain": [
              "<Figure size 1000x600 with 1 Axes>"
            ],
            "image/png": "[encoded data removed]"
          },
          "metadata": {}
        },
        {
          "output_type": "display_data",
          "data": {
            "text/plain": [
              "<Figure size 1000x600 with 0 Axes>"
            ]
          },
          "metadata": {}
        },
        {
          "output_type": "display_data",
          "data": {
            "text/plain": [
              "<Figure size 640x480 with 1 Axes>"
            ],
            "image/png": "[encoded data removed]"
          },
          "metadata": {}
        },
        {
          "output_type": "display_data",
          "data": {
            "text/plain": [
              "<Figure size 1000x600 with 0 Axes>"
            ]
          },
          "metadata": {}
        },
        {
          "output_type": "display_data",
          "data": {
            "text/plain": [
              "<Figure size 640x480 with 1 Axes>"
            ],
            "image/png": "[encoded data removed]"
          },
          "metadata": {}
        }
      ],
      "source": [
        "import matplotlib.pyplot as plt\n",
        "from xgboost import plot_importance\n",
        "import lightgbm as lgb\n",
        "\n",
        "# Obtener la importancia de las variables\n",
        "importances = lgbm_model.feature_importances_\n",
        "\n",
        "# Obtener los nombres de las variables (columnas)\n",
        "feature_names = X_train.columns\n",
        "\n",
        "# Crear un DataFrame para visualizar las importancias\n",
        "feature_importance_df = pd.DataFrame({'Feature': feature_names, 'Importance': importances})\n",
        "\n",
        "# Ordenar el DataFrame por importancia en orden descendente\n",
        "feature_importance_df = feature_importance_df.sort_values(by='Importance', ascending=False)\n",
        "\n",
        "# Seleccionar las 10 variables más importantes\n",
        "top_10_features = feature_importance_df.head(10)\n",
        "\n",
        "# Visualizar las importancias de las 10 variables más importantes\n",
        "plt.figure(figsize=(10, 6))\n",
        "plt.barh(top_10_features['Feature'], top_10_features['Importance'])\n",
        "plt.xlabel('Importance')\n",
        "plt.ylabel('Feature')\n",
        "plt.title('Top 10 LGBM Feature Importance')\n",
        "plt.show()\n",
        "\n",
        "# También puedes usar la función plot_importance de XGBoost para crear un gráfico de barras\n",
        "# Visualizar las importancias de las 10 variables más importantes con LightGBM\n",
        "plt.figure(figsize=(10, 6))\n",
        "lgb.plot_importance(lgbm_model, importance_type='split', xlabel='Split', ylabel='Feature', title='Top 10 LGBM Feature Importance (Split)')\n",
        "plt.show()\n",
        "\n",
        "plt.figure(figsize=(10, 6))\n",
        "lgb.plot_importance(lgbm_model, importance_type='gain', xlabel='Gain', ylabel='Feature', title='Top 10 LGBM Feature Importance (Gain)')\n",
        "plt.show()\n",
        "\n"
      ]
    },
    {
      "cell_type": "markdown",
      "source": [
        "Ganancia (Gain): Esta métrica de importancia de características mide cuánto cada característica contribuye a mejorar la precisión del modelo. La ganancia se calcula utilizando la mejora (gain) que proporciona cada característica al dividir los datos durante el entrenamiento del árbol. Cuanto mayor sea la ganancia, más importante se considera la característica para el modelo.\n",
        "\n",
        "División (Split): Esta métrica de importancia de características mide la cantidad de veces que una característica se utiliza para dividir los datos durante la construcción del árbol. Es decir, cuántas veces una característica aparece en los puntos de división del árbol. Una característica con un alto número de divisiones puede considerarse importante porque influye en la estructura del árbol."
      ],
      "metadata": {
        "id": "rIel7UNlieUy"
      }
    },
    {
      "cell_type": "code",
      "execution_count": null,
      "metadata": {
        "colab": {
          "base_uri": "https://localhost:8080/"
        },
        "id": "MCR04-L1izcF",
        "outputId": "b83e8b21-cee2-4e40-a74d-0e8434418f79"
      },
      "outputs": [
        {
          "output_type": "stream",
          "name": "stdout",
          "text": [
            "Top 10 Features:\n",
            "                        Feature  Importance\n",
            "6  combined_loan_to_value_ratio         783\n",
            "0                        income         485\n",
            "2                   loan_amount         458\n",
            "3                  loan_purpose         399\n",
            "4                     loan_type         327\n",
            "5          debt_to_income_ratio         297\n",
            "7                 applicant_age         227\n",
            "1                 applicant_sex          24\n"
          ]
        }
      ],
      "source": [
        "# Obtener la importancia de las variables\n",
        "importances = lgbm_model.feature_importances_\n",
        "\n",
        "# Obtener los nombres de las variables (columnas)\n",
        "feature_names = X_train.columns\n",
        "\n",
        "# Crear un DataFrame para visualizar las importancias\n",
        "feature_importance_df = pd.DataFrame({'Feature': feature_names, 'Importance': importances})\n",
        "\n",
        "# Ordenar el DataFrame por importancia en orden descendente\n",
        "feature_importance_df = feature_importance_df.sort_values(by='Importance', ascending=False)\n",
        "\n",
        "# Seleccionar las 10 variables más importantes\n",
        "top_10_features = feature_importance_df.head(10)\n",
        "\n",
        "# Imprimir las 10 variables más importantes y sus importancias\n",
        "print(\"Top 10 Features:\")\n",
        "print(top_10_features[['Feature', 'Importance']])\n"
      ]
    },
    {
      "cell_type": "code",
      "execution_count": null,
      "metadata": {
        "colab": {
          "base_uri": "https://localhost:8080/"
        },
        "id": "Qq1a2mVtjakO",
        "outputId": "33231495-6594-41bf-e6f4-11504339af6b"
      },
      "outputs": [
        {
          "output_type": "stream",
          "name": "stdout",
          "text": [
            "Top 10 Features:\n",
            "     Feature  Importance\n",
            "4       loan        1184\n",
            "1   combined         783\n",
            "3     income         485\n",
            "2       debt         297\n",
            "0  applicant         251\n"
          ]
        }
      ],
      "source": [
        "# Obtener la importancia de las variables\n",
        "importances = lgbm_model.feature_importances_\n",
        "\n",
        "# Obtener los nombres de las variables (columnas)\n",
        "feature_names = X_train.columns\n",
        "\n",
        "# Crear un DataFrame para visualizar las importancias\n",
        "feature_importance_df = pd.DataFrame({'Feature': feature_names, 'Importance': importances})\n",
        "\n",
        "# Extraer solo el nombre base de las variables\n",
        "feature_importance_df['Feature'] = feature_importance_df['Feature'].apply(lambda x: x.split('_')[0])\n",
        "\n",
        "# Agrupar por nombre de variable y sumar las importancias\n",
        "feature_importance_df = feature_importance_df.groupby('Feature')['Importance'].sum().reset_index()\n",
        "\n",
        "# Ordenar el DataFrame por importancia en orden descendente\n",
        "feature_importance_df = feature_importance_df.sort_values(by='Importance', ascending=False)\n",
        "\n",
        "# Seleccionar las 10 variables más importantes\n",
        "top_10_features = feature_importance_df.head(10)\n",
        "\n",
        "# Imprimir las 10 variables más importantes y sus importancias\n",
        "print(\"Top 10 Features:\")\n",
        "print(top_10_features)\n"
      ]
    },
    {
      "cell_type": "markdown",
      "metadata": {
        "id": "VbHG0H23_Va-"
      },
      "source": [
        "Analisis SHAP: SHAP proporciona una forma de asignar contribuciones a cada característica en una predicción de modelo."
      ]
    },
    {
      "cell_type": "code",
      "execution_count": null,
      "metadata": {
        "colab": {
          "base_uri": "https://localhost:8080/"
        },
        "id": "dPldng0v3VNf",
        "outputId": "3529e623-bedc-4e4a-914a-5f17fbd9320a"
      },
      "outputs": [
        {
          "output_type": "stream",
          "name": "stdout",
          "text": [
            "LGBM Feature Importance:\n",
            "loan: 1184\n",
            "combined: 783\n",
            "income: 485\n",
            "debt: 297\n",
            "applicant: 251\n"
          ]
        }
      ],
      "source": [
        "# Obtener importancias de características\n",
        "feature_importances = lgbm_model.feature_importances_\n",
        "\n",
        "# Obtener nombres de características\n",
        "feature_names = X_train.columns\n",
        "\n",
        "# Diccionario para almacenar importancias de variables únicas\n",
        "variable_importances = {}\n",
        "\n",
        "# Sumar importancias de variables únicas\n",
        "for i, feature in enumerate(feature_names):\n",
        "    variable_name = feature.split('_')[0]  # Tomar el nombre de la variable sin detalles específicos\n",
        "    if variable_name not in variable_importances:\n",
        "        variable_importances[variable_name] = 0\n",
        "    variable_importances[variable_name] += feature_importances[i]\n",
        "\n",
        "# Ordenar las variables por importancia\n",
        "sorted_variable_importances = dict(sorted(variable_importances.items(), key=lambda item: item[1], reverse=True))\n",
        "\n",
        "# Imprimir las importancias de las variables\n",
        "print(\"LGBM Feature Importance:\")\n",
        "for variable, importance in sorted_variable_importances.items():\n",
        "    print(f\"{variable}: {importance}\")\n"
      ]
    },
    {
      "cell_type": "code",
      "execution_count": null,
      "metadata": {
        "colab": {
          "base_uri": "https://localhost:8080/"
        },
        "id": "muqqRnwa4Qdn",
        "outputId": "c00ba8a3-c436-4e18-a560-75ad89dde874"
      },
      "outputs": [
        {
          "output_type": "stream",
          "name": "stdout",
          "text": [
            "Collecting shap\n",
            "  Downloading shap-0.45.0-cp310-cp310-manylinux_2_12_x86_64.manylinux2010_x86_64.manylinux_2_17_x86_64.manylinux2014_x86_64.whl (538 kB)\n",
            "\u001b[2K     \u001b[90m━━━━━━━━━━━━━━━━━━━━━━━━━━━━━━━━━━━━━━━━\u001b[0m \u001b[32m538.2/538.2 kB\u001b[0m \u001b[31m7.3 MB/s\u001b[0m eta \u001b[36m0:00:00\u001b[0m\n",
            "\u001b[?25hRequirement already satisfied: numpy in /usr/local/lib/python3.10/dist-packages (from shap) (1.25.2)\n",
            "Requirement already satisfied: scipy in /usr/local/lib/python3.10/dist-packages (from shap) (1.11.4)\n",
            "Requirement already satisfied: scikit-learn in /usr/local/lib/python3.10/dist-packages (from shap) (1.2.2)\n",
            "Requirement already satisfied: pandas in /usr/local/lib/python3.10/dist-packages (from shap) (1.5.3)\n",
            "Requirement already satisfied: tqdm>=4.27.0 in /usr/local/lib/python3.10/dist-packages (from shap) (4.66.2)\n",
            "Requirement already satisfied: packaging>20.9 in /usr/local/lib/python3.10/dist-packages (from shap) (24.0)\n",
            "Collecting slicer==0.0.7 (from shap)\n",
            "  Downloading slicer-0.0.7-py3-none-any.whl (14 kB)\n",
            "Requirement already satisfied: numba in /usr/local/lib/python3.10/dist-packages (from shap) (0.58.1)\n",
            "Requirement already satisfied: cloudpickle in /usr/local/lib/python3.10/dist-packages (from shap) (2.2.1)\n",
            "Requirement already satisfied: llvmlite<0.42,>=0.41.0dev0 in /usr/local/lib/python3.10/dist-packages (from numba->shap) (0.41.1)\n",
            "Requirement already satisfied: python-dateutil>=2.8.1 in /usr/local/lib/python3.10/dist-packages (from pandas->shap) (2.8.2)\n",
            "Requirement already satisfied: pytz>=2020.1 in /usr/local/lib/python3.10/dist-packages (from pandas->shap) (2023.4)\n",
            "Requirement already satisfied: joblib>=1.1.1 in /usr/local/lib/python3.10/dist-packages (from scikit-learn->shap) (1.3.2)\n",
            "Requirement already satisfied: threadpoolctl>=2.0.0 in /usr/local/lib/python3.10/dist-packages (from scikit-learn->shap) (3.4.0)\n",
            "Requirement already satisfied: six>=1.5 in /usr/local/lib/python3.10/dist-packages (from python-dateutil>=2.8.1->pandas->shap) (1.16.0)\n",
            "Installing collected packages: slicer, shap\n",
            "Successfully installed shap-0.45.0 slicer-0.0.7\n"
          ]
        }
      ],
      "source": [
        "pip install shap\n"
      ]
    },
    {
      "cell_type": "markdown",
      "source": [
        "# EXPLICABILIDAD CON SHAP"
      ],
      "metadata": {
        "id": "YL_3Vr1TYNhK"
      }
    },
    {
      "cell_type": "markdown",
      "source": [
        "# EVALUACION DESEMPEÑO EN GRUPOS DE INTERÉS"
      ],
      "metadata": {
        "id": "fGUvGPNmYTXU"
      }
    },
    {
      "cell_type": "code",
      "execution_count": null,
      "metadata": {
        "colab": {
          "base_uri": "https://localhost:8080/"
        },
        "id": "B-zDC28N2rU7",
        "outputId": "b9b26977-c375-4767-dc05-48d32c0c2e02"
      },
      "outputs": [
        {
          "output_type": "stream",
          "name": "stdout",
          "text": [
            "Métricas de desempeño para el grupo protegido_edad:\n",
            "Accuracy: 0.8090\n",
            "Precision: 0.8080\n",
            "Recall: 0.8090\n",
            "F1 Score: 0.8076\n",
            "\n",
            "Métricas de desempeño para el grupo no_protegido_edad:\n",
            "Accuracy: 0.8131\n",
            "Precision: 0.8098\n",
            "Recall: 0.8131\n",
            "F1 Score: 0.8105\n",
            "\n",
            "Métricas de desempeño para el grupo protegido_sexo:\n",
            "Accuracy: 0.8135\n",
            "Precision: 0.8113\n",
            "Recall: 0.8135\n",
            "F1 Score: 0.8116\n",
            "\n",
            "Métricas de desempeño para el grupo no_protegido_sexo:\n",
            "Accuracy: 0.8122\n",
            "Precision: 0.8089\n",
            "Recall: 0.8122\n",
            "F1 Score: 0.8094\n",
            "\n",
            "Métricas de desempeño para el grupo protegido_raza:\n",
            "Accuracy: 0.8118\n",
            "Precision: 0.8112\n",
            "Recall: 0.8118\n",
            "F1 Score: 0.8111\n",
            "\n",
            "Métricas de desempeño para el grupo no_protegido_raza:\n",
            "Accuracy: 0.8133\n",
            "Precision: 0.8094\n",
            "Recall: 0.8133\n",
            "F1 Score: 0.8102\n",
            "\n"
          ]
        }
      ],
      "source": [
        "from sklearn.preprocessing import LabelEncoder, StandardScaler, OneHotEncoder\n",
        "from sklearn.impute import SimpleImputer\n",
        "from sklearn.pipeline import Pipeline\n",
        "from sklearn.compose import ColumnTransformer\n",
        "from xgboost import XGBClassifier\n",
        "from sklearn.metrics import accuracy_score, precision_score, recall_score, f1_score\n",
        "\n",
        "# Codificar la variable objetivo 'action_taken2'\n",
        "label_encoder_action_taken3 = LabelEncoder()\n",
        "data['action_taken3_encoded'] = label_encoder_action_taken3.fit_transform(data['action_taken3'])\n",
        "\n",
        "# Función para filtrar los datos según el grupo de interés\n",
        "def filtrar_datos_para_grupo(grupo, data):\n",
        "    if grupo == 'protegido_edad':\n",
        "        return data[data['applicant_age_above_62'] == 1]\n",
        "    elif grupo == 'no_protegido_edad':\n",
        "        return data[data['applicant_age_above_62'] == 0]\n",
        "    elif grupo == 'protegido_sexo':\n",
        "        return data[data['applicant_sex'] != 'hombre']\n",
        "    elif grupo == 'no_protegido_sexo':\n",
        "        return data[data['applicant_sex'] == 'hombre']\n",
        "    elif grupo == 'protegido_raza':\n",
        "        return data[data['applicant_race_1'] != 'blanco']\n",
        "    elif grupo == 'no_protegido_raza':\n",
        "        return data[data['applicant_race_1'] == 'blanco']\n",
        "    else:\n",
        "        raise ValueError(\"Grupo de interés no válido\")\n",
        "\n",
        "# Definir los grupos de interés\n",
        "grupos_interes = ['protegido_edad', 'no_protegido_edad', 'protegido_sexo', 'no_protegido_sexo', 'protegido_raza', 'no_protegido_raza']\n",
        "\n",
        "# Definir las características numéricas y categóricas\n",
        "numeric_features = ['loan_amount',\n",
        "                    'income','combined_loan_to_value_ratio']\n",
        "categorical_features = ['applicant_race_1', 'applicant_sex','loan_purpose', 'loan_type','applicant_age','debt_to_income_ratio']\n",
        "\n",
        "\n",
        "# Crear transformadores para datos numéricos y categóricos\n",
        "numeric_transformer = Pipeline(steps=[\n",
        "    ('imputer', SimpleImputer(strategy='mean')),\n",
        "    ('scaler', StandardScaler())\n",
        "])\n",
        "\n",
        "categorical_transformer = Pipeline(steps=[\n",
        "    ('imputer', SimpleImputer(strategy='most_frequent')),\n",
        "    ('encoder', OneHotEncoder(drop='first'))\n",
        "])\n",
        "\n",
        "# Combinar transformadores\n",
        "preprocessor = ColumnTransformer(\n",
        "    transformers=[\n",
        "        ('num', numeric_transformer, numeric_features),\n",
        "        ('cat', categorical_transformer, categorical_features)\n",
        "    ])\n",
        "\n",
        "# Entrenar el modelo XGBoost\n",
        "lgbm_model1 = XGBClassifier(objective='multi:softmax', num_class=3, random_state=0)\n",
        "\n",
        "# Ciclo para calcular y mostrar las métricas de desempeño para cada grupo\n",
        "for grupo in grupos_interes:\n",
        "    # Filtrar los datos para el grupo actual\n",
        "    df_grupo = filtrar_datos_para_grupo(grupo, data)\n",
        "\n",
        "    # Separar características y etiquetas\n",
        "    X_grupo = df_grupo.drop(['action_taken3', 'action_taken3_encoded'], axis=1)\n",
        "    y_grupo = df_grupo['action_taken3_encoded']\n",
        "\n",
        "    # Preprocesar datos\n",
        "    X_grupo_preprocessed = preprocessor.fit_transform(X_grupo)\n",
        "\n",
        "    # Entrenar el modelo en el grupo actual\n",
        "    lgbm_model1.fit(X_grupo_preprocessed, y_grupo)\n",
        "\n",
        "    # Predecir utilizando el modelo\n",
        "    y_pred_grupo = lgbm_model1.predict(X_grupo_preprocessed)\n",
        "\n",
        "    # Calcular y mostrar las métricas de desempeño\n",
        "    accuracy = accuracy_score(y_grupo, y_pred_grupo)\n",
        "    precision = precision_score(y_grupo, y_pred_grupo, average='weighted')\n",
        "    recall = recall_score(y_grupo, y_pred_grupo, average='weighted')\n",
        "    f1 = f1_score(y_grupo, y_pred_grupo, average='weighted')\n",
        "\n",
        "    print(f'Métricas de desempeño para el grupo {grupo}:')\n",
        "    print(f'Accuracy: {accuracy:.4f}')\n",
        "    print(f'Precision: {precision:.4f}')\n",
        "    print(f'Recall: {recall:.4f}')\n",
        "    print(f'F1 Score: {f1:.4f}')\n",
        "    print()\n"
      ]
    },
    {
      "cell_type": "code",
      "execution_count": null,
      "metadata": {
        "colab": {
          "base_uri": "https://localhost:8080/"
        },
        "id": "ksdOlqao5XkZ",
        "outputId": "5b43af09-9528-424d-9fe6-0571b31b6396"
      },
      "outputs": [
        {
          "output_type": "stream",
          "name": "stdout",
          "text": [
            "Grupo: protegido_edad\n",
            "Número de observaciones: 186660\n",
            "\n",
            "Grupo: no_protegido_edad\n",
            "Número de observaciones: 805782\n",
            "\n",
            "Grupo: protegido_sexo\n",
            "Número de observaciones: 331899\n",
            "\n",
            "Grupo: no_protegido_sexo\n",
            "Número de observaciones: 668101\n",
            "\n",
            "Grupo: protegido_raza\n",
            "Número de observaciones: 230854\n",
            "\n",
            "Grupo: no_protegido_raza\n",
            "Número de observaciones: 769146\n",
            "\n"
          ]
        }
      ],
      "source": [
        "# Contar el número de observaciones en cada grupo filtrado\n",
        "for grupo in grupos_interes:\n",
        "    df_grupo = filtrar_datos_para_grupo(grupo, data)\n",
        "    print(f\"Grupo: {grupo}\")\n",
        "    print(f\"Número de observaciones: {len(df_grupo)}\")  # Contar el número de filas del DataFrame filtrado\n",
        "    print()\n"
      ]
    },
    {
      "cell_type": "markdown",
      "source": [
        "# MODELO CON SUBMUESTRA BALANCEADA"
      ],
      "metadata": {
        "id": "ACHsTzbYcSIu"
      }
    },
    {
      "cell_type": "code",
      "source": [
        "from imblearn.under_sampling import RandomUnderSampler\n",
        "from xgboost import XGBClassifier\n",
        "from sklearn.metrics import accuracy_score, confusion_matrix, classification_report\n",
        "\n",
        "# Aplicar submuestreo para balancear las clases\n",
        "rus = RandomUnderSampler(random_state=0)\n",
        "X_resampled, y_resampled = rus.fit_resample(X_train, y_train)\n",
        "\n",
        "# Entrenar el modelo XGBoost en los datos submuestreados\n",
        "XGB_model = XGBClassifier(objective='multi:softmax', num_class=3, random_state=0)\n",
        "XGB_model.fit(X_resampled, y_resampled)\n",
        "\n",
        "# Hacer predicciones en el conjunto de prueba\n",
        "y_pred_XGB = XGB_model.predict(X_test)\n",
        "\n",
        "# Evaluar el rendimiento del modelo\n",
        "accuracy_XGB = accuracy_score(y_test, y_pred_XGB)\n",
        "conf_matrix_XGB = confusion_matrix(y_test, y_pred_XGB)\n",
        "classification_rep_XGB = classification_report(y_test, y_pred_XGB)\n",
        "\n",
        "# Imprimir métricas de rendimiento para XGBoost\n",
        "print(f'XGB Accuracy: {accuracy_XGB}')\n",
        "print(f'XGB Confusion Matrix:\\n{conf_matrix_XGB}')\n",
        "print(f'XGB Classification Report:\\n{classification_rep_XGB}')\n"
      ],
      "metadata": {
        "colab": {
          "base_uri": "https://localhost:8080/"
        },
        "id": "GG682saaZ7VS",
        "outputId": "5338bdc6-75cb-4b4a-c1c9-411ce724d8cd"
      },
      "execution_count": null,
      "outputs": [
        {
          "output_type": "stream",
          "name": "stdout",
          "text": [
            "XGB Accuracy: 0.7978\n",
            "XGB Confusion Matrix:\n",
            "[[ 53651  15405]\n",
            " [ 25035 105909]]\n",
            "XGB Classification Report:\n",
            "              precision    recall  f1-score   support\n",
            "\n",
            "           0       0.68      0.78      0.73     69056\n",
            "           1       0.87      0.81      0.84    130944\n",
            "\n",
            "    accuracy                           0.80    200000\n",
            "   macro avg       0.78      0.79      0.78    200000\n",
            "weighted avg       0.81      0.80      0.80    200000\n",
            "\n"
          ]
        }
      ]
    },
    {
      "cell_type": "markdown",
      "source": [
        "# METRICAS DE FAIRNESS"
      ],
      "metadata": {
        "id": "tQeP2FcHNmvq"
      }
    },
    {
      "cell_type": "markdown",
      "source": [
        "Statistical Parity Difference\n",
        "\n",
        "Corresponde a la diferencia entre la probabilidad de pertenecer a la clase positiva dado que se pertenece a la clase protegida y la posibilidad de pertenecer a la clase positiva dado que se pertenece a la clase no protegida\n",
        "\n",
        "Disparate Impact"
      ],
      "metadata": {
        "id": "OH1wQeP2O8Q0"
      }
    },
    {
      "cell_type": "markdown",
      "source": [
        "# METRICAS DE EQUIDAD POR GENERO"
      ],
      "metadata": {
        "id": "YxAo_Uan_bGs"
      }
    },
    {
      "cell_type": "code",
      "source": [
        "value_counts = data['applicant_sex'].value_counts()\n",
        "print(value_counts)\n"
      ],
      "metadata": {
        "colab": {
          "base_uri": "https://localhost:8080/"
        },
        "id": "eTxYy9nCw4Tp",
        "outputId": "55b25a7c-bdc7-4c5d-f901-a8511f898808"
      },
      "execution_count": null,
      "outputs": [
        {
          "output_type": "stream",
          "name": "stdout",
          "text": [
            "hombre                       668101\n",
            "mujer                        330947\n",
            "selecciono ambas opciones       952\n",
            "Name: applicant_sex, dtype: int64\n"
          ]
        }
      ]
    },
    {
      "cell_type": "code",
      "source": [
        "value_counts = df['applicant_sex'].value_counts()\n",
        "print(value_counts)"
      ],
      "metadata": {
        "colab": {
          "base_uri": "https://localhost:8080/"
        },
        "id": "MqazyBjq9LjX",
        "outputId": "bcf1ac70-badc-442a-9c5e-41a118720c93"
      },
      "execution_count": null,
      "outputs": [
        {
          "output_type": "stream",
          "name": "stdout",
          "text": [
            "0    668101\n",
            "1    330947\n",
            "2       952\n",
            "Name: applicant_sex, dtype: int64\n"
          ]
        }
      ]
    },
    {
      "cell_type": "code",
      "source": [
        "value_counts = data['applicant_age'].value_counts()\n",
        "print(value_counts)"
      ],
      "metadata": {
        "colab": {
          "base_uri": "https://localhost:8080/"
        },
        "id": "utMVxLUeGN_W",
        "outputId": "9cb30ff7-746d-4e7c-d7b1-db8de84789f1"
      },
      "execution_count": null,
      "outputs": [
        {
          "output_type": "stream",
          "name": "stdout",
          "text": [
            "35-44       233298\n",
            "45-54       218875\n",
            "25-34       193393\n",
            "55-64       175896\n",
            "65-74       104118\n",
            ">74          37531\n",
            "<25          29331\n",
            "sin info      7558\n",
            "Name: applicant_age, dtype: int64\n"
          ]
        }
      ]
    },
    {
      "cell_type": "code",
      "source": [
        "value_counts = df['applicant_age'].value_counts()\n",
        "print(value_counts)"
      ],
      "metadata": {
        "colab": {
          "base_uri": "https://localhost:8080/"
        },
        "id": "zS1kQ6PSGDUN",
        "outputId": "a332498d-3b0c-4b29-cfcb-f39d9c8991d9"
      },
      "execution_count": null,
      "outputs": [
        {
          "output_type": "stream",
          "name": "stdout",
          "text": [
            "1    233298\n",
            "2    218875\n",
            "0    193393\n",
            "3    175896\n",
            "4    104118\n",
            "6     37531\n",
            "5     29331\n",
            "7      7558\n",
            "Name: applicant_age, dtype: int64\n"
          ]
        }
      ]
    },
    {
      "cell_type": "code",
      "source": [
        "# Información sobre tipos de datos y valores nulos\n",
        "print(df.info())"
      ],
      "metadata": {
        "colab": {
          "base_uri": "https://localhost:8080/"
        },
        "id": "DFx0BpOjv3Zz",
        "outputId": "e6aaf293-a032-44a3-aefd-e92152b4b88f"
      },
      "execution_count": null,
      "outputs": [
        {
          "output_type": "stream",
          "name": "stdout",
          "text": [
            "<class 'pandas.core.frame.DataFrame'>\n",
            "Int64Index: 1000000 entries, 0 to 999999\n",
            "Data columns (total 9 columns):\n",
            " #   Column                        Non-Null Count    Dtype  \n",
            "---  ------                        --------------    -----  \n",
            " 0   action_taken3                 1000000 non-null  int64  \n",
            " 1   income                        957551 non-null   float64\n",
            " 2   applicant_sex                 1000000 non-null  int64  \n",
            " 3   loan_amount                   1000000 non-null  int32  \n",
            " 4   loan_purpose                  1000000 non-null  int64  \n",
            " 5   loan_type                     1000000 non-null  int64  \n",
            " 6   debt_to_income_ratio          1000000 non-null  int64  \n",
            " 7   combined_loan_to_value_ratio  701585 non-null   float64\n",
            " 8   applicant_age                 1000000 non-null  int64  \n",
            "dtypes: float64(2), int32(1), int64(6)\n",
            "memory usage: 72.5 MB\n",
            "None\n"
          ]
        }
      ]
    },
    {
      "cell_type": "code",
      "source": [
        "import pandas as pd\n",
        "\n",
        "# Hacer una copia del DataFrame df y llamarlo df1\n",
        "df1 = df.copy()\n",
        "\n",
        "# Información sobre tipos de datos y valores nulos en df1\n",
        "print(df1.info())\n"
      ],
      "metadata": {
        "colab": {
          "base_uri": "https://localhost:8080/"
        },
        "id": "bomj-At9xG2-",
        "outputId": "0fbdac91-1773-4122-dbff-17dccfb7cad9"
      },
      "execution_count": null,
      "outputs": [
        {
          "output_type": "stream",
          "name": "stdout",
          "text": [
            "<class 'pandas.core.frame.DataFrame'>\n",
            "Int64Index: 1000000 entries, 0 to 999999\n",
            "Data columns (total 9 columns):\n",
            " #   Column                        Non-Null Count    Dtype  \n",
            "---  ------                        --------------    -----  \n",
            " 0   action_taken3                 1000000 non-null  int64  \n",
            " 1   income                        957551 non-null   float64\n",
            " 2   applicant_sex                 1000000 non-null  int64  \n",
            " 3   loan_amount                   1000000 non-null  int32  \n",
            " 4   loan_purpose                  1000000 non-null  int64  \n",
            " 5   loan_type                     1000000 non-null  int64  \n",
            " 6   debt_to_income_ratio          1000000 non-null  int64  \n",
            " 7   combined_loan_to_value_ratio  701585 non-null   float64\n",
            " 8   applicant_age                 1000000 non-null  int64  \n",
            "dtypes: float64(2), int32(1), int64(6)\n",
            "memory usage: 72.5 MB\n",
            "None\n"
          ]
        }
      ]
    },
    {
      "cell_type": "code",
      "source": [
        "predicciones = lgbm_model.predict(df.drop('action_taken3', axis=1))\n"
      ],
      "metadata": {
        "id": "2nkraZvTu0lk"
      },
      "execution_count": null,
      "outputs": []
    },
    {
      "cell_type": "code",
      "source": [
        "from sklearn.metrics import classification_report\n",
        "\n",
        "print(classification_report(df['action_taken3'], predicciones))\n"
      ],
      "metadata": {
        "colab": {
          "base_uri": "https://localhost:8080/"
        },
        "id": "eREeLJdS46GA",
        "outputId": "ead19dd7-e804-4cc4-c7cc-f57b5c006d43"
      },
      "execution_count": null,
      "outputs": [
        {
          "output_type": "stream",
          "name": "stdout",
          "text": [
            "              precision    recall  f1-score   support\n",
            "\n",
            "           0       0.73      0.69      0.71    345686\n",
            "           1       0.84      0.87      0.85    654314\n",
            "\n",
            "    accuracy                           0.81   1000000\n",
            "   macro avg       0.79      0.78      0.78   1000000\n",
            "weighted avg       0.80      0.81      0.81   1000000\n",
            "\n"
          ]
        }
      ]
    },
    {
      "cell_type": "markdown",
      "source": [
        "COMPARACION ACCURARY -PRECISION -RECALL calculadas para los grupos masculino y femenino"
      ],
      "metadata": {
        "id": "POXR6nrN_-Oe"
      }
    },
    {
      "cell_type": "code",
      "source": [
        "import numpy as np\n",
        "from sklearn.metrics import precision_score, recall_score, f1_score\n",
        "\n",
        "def calcular_metricas_por_grupo(y_true, y_pred, grupo):\n",
        "    if grupo == 0:  # Masculino\n",
        "        indices_grupo = np.where(df['applicant_sex'] == 0)[0]\n",
        "    elif grupo == 1:  # Femenino\n",
        "        indices_grupo = np.where(df['applicant_sex'].isin([1, 2]))[0]\n",
        "    else:\n",
        "        raise ValueError(\"El valor de grupo debe ser 0 (masculino) o 1 (femenino)\")\n",
        "\n",
        "    y_true_grupo = y_true[indices_grupo]\n",
        "    y_pred_grupo = y_pred[indices_grupo]\n",
        "\n",
        "    precision = precision_score(y_true_grupo, y_pred_grupo)\n",
        "    recall = recall_score(y_true_grupo, y_pred_grupo)\n",
        "    f1 = f1_score(y_true_grupo, y_pred_grupo)\n",
        "\n",
        "    return precision, recall, f1\n",
        "\n",
        "precision_masculino, recall_masculino, f1_masculino = calcular_metricas_por_grupo(df['action_taken3'], predicciones, 0)\n",
        "precision_femenino, recall_femenino, f1_femenino = calcular_metricas_por_grupo(df['action_taken3'], predicciones, 1)\n",
        "\n",
        "print(\"Métricas para el grupo masculino:\")\n",
        "print(\"Precisión:\", precision_masculino)\n",
        "print(\"Recall:\", recall_masculino)\n",
        "print(\"F1-score:\", f1_masculino)\n",
        "\n",
        "print(\"\\nMétricas para el grupo femenino:\")\n",
        "print(\"Precisión:\", precision_femenino)\n",
        "print(\"Recall:\", recall_femenino)\n",
        "print(\"F1-score:\", f1_femenino)\n"
      ],
      "metadata": {
        "colab": {
          "base_uri": "https://localhost:8080/"
        },
        "id": "QBxuUY2FU23J",
        "outputId": "1db75521-abc0-42dc-aada-9dfa49de4d78"
      },
      "execution_count": null,
      "outputs": [
        {
          "output_type": "stream",
          "name": "stdout",
          "text": [
            "Métricas para el grupo masculino:\n",
            "Precisión: 0.8441716795799898\n",
            "Recall: 0.869139063875906\n",
            "F1-score: 0.8564734519329075\n",
            "\n",
            "Métricas para el grupo femenino:\n",
            "Precisión: 0.8347540356897423\n",
            "Recall: 0.8675363251097321\n",
            "F1-score: 0.8508295237631364\n"
          ]
        }
      ]
    },
    {
      "cell_type": "code",
      "source": [
        "import matplotlib.pyplot as plt\n",
        "\n",
        "# Graficar las precisiones por grupo\n",
        "plt.bar(['Masculino', 'Femenino'], [precision_masculino, precision_femenino])\n",
        "plt.xlabel('Grupo')\n",
        "plt.ylabel('Precisión')\n",
        "plt.title('Precisión por grupo de género')\n",
        "plt.show()\n"
      ],
      "metadata": {
        "colab": {
          "base_uri": "https://localhost:8080/",
          "height": 472
        },
        "id": "L4i7bCjp5DLC",
        "outputId": "9c467609-6fab-4c34-8cca-c700c0043d9a"
      },
      "execution_count": null,
      "outputs": [
        {
          "output_type": "display_data",
          "data": {
            "text/plain": [
              "<Figure size 640x480 with 1 Axes>"
            ],
            "image/png": "[encoded data removed]"
          },
          "metadata": {}
        }
      ]
    },
    {
      "cell_type": "code",
      "source": [
        "import numpy as np\n",
        "\n",
        "def calcular_proporcion_aprobacion(y_true, y_pred, grupo):\n",
        "    if grupo == 0:  # Masculino\n",
        "        indices_grupo = np.where(df['applicant_sex'] == 0)[0]\n",
        "    elif grupo == 1:  # Femenino\n",
        "        indices_grupo = np.where(df['applicant_sex'].isin([1, 2]))[0]\n",
        "    else:\n",
        "        raise ValueError(\"El valor de grupo debe ser 0 (masculino) o 1 (femenino)\")\n",
        "\n",
        "    y_true_grupo = y_true[indices_grupo]\n",
        "    y_pred_grupo = y_pred[indices_grupo]\n",
        "    aprobados = np.sum(y_pred_grupo == 1)\n",
        "    proporcion_aprobacion = aprobados / len(y_pred_grupo)\n",
        "    return proporcion_aprobacion\n",
        "\n",
        "def calcular_fpr(y_true, y_pred, grupo):\n",
        "    if grupo == 0:  # Masculino\n",
        "        indices_grupo = np.where(df['applicant_sex'] == 0)[0]\n",
        "    elif grupo == 1:  # Femenino\n",
        "        indices_grupo = np.where(df['applicant_sex'].isin([1, 2]))[0]\n",
        "    else:\n",
        "        raise ValueError(\"El valor de grupo debe ser 0 (masculino) o 1 (femenino)\")\n",
        "\n",
        "    y_true_grupo = y_true[indices_grupo]\n",
        "    y_pred_grupo = y_pred[indices_grupo]\n",
        "    falsos_positivos = np.sum((y_true_grupo == 0) & (y_pred_grupo == 1))\n",
        "    negativos_reales = np.sum(y_true_grupo == 0)\n",
        "    fpr = falsos_positivos / negativos_reales\n",
        "    return fpr\n",
        "\n",
        "def calcular_fnr(y_true, y_pred, grupo):\n",
        "    if grupo == 0:  # Masculino\n",
        "        indices_grupo = np.where(df['applicant_sex'] == 0)[0]\n",
        "    elif grupo == 1:  # Femenino\n",
        "        indices_grupo = np.where(df['applicant_sex'].isin([1, 2]))[0]\n",
        "    else:\n",
        "        raise ValueError(\"El valor de grupo debe ser 0 (masculino) o 1 (femenino)\")\n",
        "\n",
        "    y_true_grupo = y_true[indices_grupo]\n",
        "    y_pred_grupo = y_pred[indices_grupo]\n",
        "    falsos_negativos = np.sum((y_true_grupo == 1) & (y_pred_grupo == 0))\n",
        "    positivos_reales = np.sum(y_true_grupo == 1)\n",
        "    fnr = falsos_negativos / positivos_reales\n",
        "    return fnr\n",
        "\n",
        "def calcular_diferencia_aprobacion(y_true, y_pred):\n",
        "    proporcion_aprobacion_masculino = calcular_proporcion_aprobacion(y_true, y_pred, 0)\n",
        "    proporcion_aprobacion_femenino = calcular_proporcion_aprobacion(y_true, y_pred, 1)\n",
        "    diferencia_aprobacion = np.abs(proporcion_aprobacion_masculino - proporcion_aprobacion_femenino)\n",
        "    return diferencia_aprobacion\n",
        "\n",
        "def calcular_diferencia_fpr(y_true, y_pred):\n",
        "    fpr_masculino = calcular_fpr(y_true, y_pred, 0)\n",
        "    fpr_femenino = calcular_fpr(y_true, y_pred, 1)\n",
        "    diferencia_fpr = np.abs(fpr_masculino - fpr_femenino)\n",
        "    return diferencia_fpr\n",
        "\n",
        "def calcular_diferencia_fnr(y_true, y_pred):\n",
        "    fnr_masculino = calcular_fnr(y_true, y_pred, 0)\n",
        "    fnr_femenino = calcular_fnr(y_true, y_pred, 1)\n",
        "    diferencia_fnr = np.abs(fnr_masculino - fnr_femenino)\n",
        "    return diferencia_fnr\n",
        "\n",
        "# Calcular métricas\n",
        "diferencia_aprobacion = calcular_diferencia_aprobacion(df['action_taken3'], predicciones)\n",
        "diferencia_fpr = calcular_diferencia_fpr(df['action_taken3'], predicciones)\n",
        "diferencia_fnr = calcular_diferencia_fnr(df['action_taken3'], predicciones)\n",
        "\n",
        "print(\"Diferencia en tasas de aprobación:\", diferencia_aprobacion)\n",
        "print(\"Diferencia en tasas de FPR:\", diferencia_fpr)\n",
        "print(\"Diferencia en tasas de FNR:\", diferencia_fnr)\n"
      ],
      "metadata": {
        "colab": {
          "base_uri": "https://localhost:8080/"
        },
        "id": "1GLDZhBP5t3J",
        "outputId": "18220f62-2c75-45a8-f95d-a2670a1dcfc1"
      },
      "execution_count": null,
      "outputs": [
        {
          "output_type": "stream",
          "name": "stdout",
          "text": [
            "Diferencia en tasas de aprobación: 0.02048535497067938\n",
            "Diferencia en tasas de FPR: 0.014126538054430315\n",
            "Diferencia en tasas de FNR: 0.0016027387661738668\n"
          ]
        }
      ]
    },
    {
      "cell_type": "markdown",
      "source": [
        "dIFERENCIA EN TASAS DE APROBACION: Esta  indica la discrepancia en la proporción de solicitudes aprobadas entre los grupos masculino y femeninO.Diferencia en tasas de FPR:discrepancia en la proporción de casos negativos incorrectamente clasificados como positivos entre los grupos masculino y femenino. Diferencia en tasas de FNR: discrepancia en la proporción de casos positivos incorrectamente clasificados como negativos entre los grupos masculino y femenino."
      ],
      "metadata": {
        "id": "ebfvTe2PASub"
      }
    },
    {
      "cell_type": "markdown",
      "source": [
        "Diferencia en impacto en errores"
      ],
      "metadata": {
        "id": "0HOOLCv46MX6"
      }
    },
    {
      "cell_type": "markdown",
      "source": [
        "definir una función de pérdida que cuantifique el costo asociado con los falsos positivos y los falsos negativos. Luego SE calcula la pérdida esperada para cada grupo y encontrar la diferencia entre ellas. permitirán evaluar si los errores del modelo tienen un impacto desigual en hombres y mujeres y en qué medida."
      ],
      "metadata": {
        "id": "rqYSfyWvAoKd"
      }
    },
    {
      "cell_type": "code",
      "source": [
        "def calcular_perdida_esperada(y_true, y_pred, grupo):\n",
        "    if grupo == 0:  # Masculino\n",
        "        indices_grupo = np.where(df['applicant_sex'] == 0)[0]\n",
        "    elif grupo == 1:  # Femenino\n",
        "        indices_grupo = np.where(df['applicant_sex'].isin([1, 2]))[0]\n",
        "    else:\n",
        "        raise ValueError(\"El valor de grupo debe ser 0 (masculino) o 1 (femenino)\")\n",
        "\n",
        "    y_true_grupo = y_true[indices_grupo]\n",
        "    y_pred_grupo = y_pred[indices_grupo]\n",
        "\n",
        "    # Definir función de pérdida\n",
        "    # Por ejemplo, si queremos penalizar los falsos negativos más que los falsos positivos\n",
        "    # Podemos usar una función de pérdida como la pérdida cuadrática\n",
        "    loss_fn = lambda y_true, y_pred: (y_true - y_pred) ** 2\n",
        "\n",
        "    perdida_esperada = np.mean(loss_fn(y_true_grupo, y_pred_grupo))\n",
        "    return perdida_esperada\n",
        "\n",
        "perdida_esperada_masculino = calcular_perdida_esperada(df['action_taken3'], predicciones, 0)\n",
        "perdida_esperada_femenino = calcular_perdida_esperada(df['action_taken3'], predicciones, 1)\n",
        "\n",
        "diferencia_perdida_esperada = np.abs(perdida_esperada_masculino - perdida_esperada_femenino)\n",
        "print(\"Diferencia en la pérdida esperada entre grupos masculino y femenino:\", diferencia_perdida_esperada)\n"
      ],
      "metadata": {
        "colab": {
          "base_uri": "https://localhost:8080/"
        },
        "id": "iO7lCTD46KeK",
        "outputId": "1b9a3da5-9673-4a92-f018-fe3d53bb4010"
      },
      "execution_count": null,
      "outputs": [
        {
          "output_type": "stream",
          "name": "stdout",
          "text": [
            "Diferencia en la pérdida esperada entre grupos masculino y femenino: 0.0006747936416952038\n"
          ]
        }
      ]
    },
    {
      "cell_type": "markdown",
      "source": [
        "Impacto Desigual - Falsos Positivos (FPR):"
      ],
      "metadata": {
        "id": "-U_cvYU86jTf"
      }
    },
    {
      "cell_type": "code",
      "source": [
        "fpr_masculino = calcular_fpr(df['action_taken3'], predicciones, 0)\n",
        "fpr_femenino = calcular_fpr(df['action_taken3'], predicciones, 1)\n",
        "\n",
        "diferencia_fpr = np.abs(fpr_masculino - fpr_femenino)\n",
        "print(\"Diferencia en la tasa de FPR entre grupos masculino y femenino:\", diferencia_fpr)\n"
      ],
      "metadata": {
        "colab": {
          "base_uri": "https://localhost:8080/"
        },
        "id": "Y5JzRbzA6fM0",
        "outputId": "a762e8b7-6669-47f4-db05-d44489cb9548"
      },
      "execution_count": null,
      "outputs": [
        {
          "output_type": "stream",
          "name": "stdout",
          "text": [
            "Diferencia en la tasa de FPR entre grupos masculino y femenino: 0.014126538054430315\n"
          ]
        }
      ]
    },
    {
      "cell_type": "markdown",
      "source": [
        "Impacto Desigual - Falsos Negativos (FNR):"
      ],
      "metadata": {
        "id": "3Lp8ulPa6kdh"
      }
    },
    {
      "cell_type": "code",
      "source": [
        "fnr_masculino = calcular_fnr(df['action_taken3'], predicciones, 0)\n",
        "fnr_femenino = calcular_fnr(df['action_taken3'], predicciones, 1)\n",
        "\n",
        "diferencia_fnr = np.abs(fnr_masculino - fnr_femenino)\n",
        "print(\"Diferencia en la tasa de FNR entre grupos masculino y femenino:\", diferencia_fnr)\n"
      ],
      "metadata": {
        "colab": {
          "base_uri": "https://localhost:8080/"
        },
        "id": "bZZqPNrO6o-T",
        "outputId": "8c94de27-a2f4-488a-fa0d-be0c70cc993b"
      },
      "execution_count": null,
      "outputs": [
        {
          "output_type": "stream",
          "name": "stdout",
          "text": [
            "Diferencia en la tasa de FNR entre grupos masculino y femenino: 0.0016027387661738668\n"
          ]
        }
      ]
    },
    {
      "cell_type": "code",
      "source": [
        "# PARIDAD ESTADISTICACalcula la proporción de resultados positivos para cada nivel de applicant_sex\n",
        "proporcion_aprobacion_por_sex = {}\n",
        "for nivel in df['applicant_sex'].unique():\n",
        "    indices_nivel = df['applicant_sex'] == nivel\n",
        "    y_true_nivel = df['action_taken3'][indices_nivel]\n",
        "    y_pred_nivel = predicciones[indices_nivel]\n",
        "    aprobados = np.sum(y_pred_nivel == 1)\n",
        "    proporcion_aprobacion_por_sex[nivel] = aprobados / len(y_pred_nivel)\n",
        "\n",
        "# Calcula el SPD entre cada par de niveles de applicant_sex\n",
        "spd_por_sex_combinaciones = {}\n",
        "niveles_sex = df['applicant_sex'].unique()\n",
        "for i, nivel_1 in enumerate(niveles_sex):\n",
        "    for j, nivel_2 in enumerate(niveles_sex):\n",
        "        if i < j:\n",
        "            spd = abs(proporcion_aprobacion_por_sex[nivel_1] - proporcion_aprobacion_por_sex[nivel_2])\n",
        "            spd_por_sex_combinaciones[(nivel_1, nivel_2)] = spd\n",
        "\n",
        "# Imprime los resultados\n",
        "for combinacion, spd in spd_por_sex_combinaciones.items():\n",
        "    print(f\"SPD entre {combinacion[0]} y {combinacion[1]}: {spd}\")\n"
      ],
      "metadata": {
        "colab": {
          "base_uri": "https://localhost:8080/"
        },
        "id": "vp3fgZTa-xhF",
        "outputId": "896445cc-1d67-4558-9841-410c4f652795"
      },
      "execution_count": null,
      "outputs": [
        {
          "output_type": "stream",
          "name": "stdout",
          "text": [
            "SPD entre 1 y 0: 0.020493657546035826\n",
            "SPD entre 1 y 2: 0.0028945551031769323\n",
            "SPD entre 0 y 2: 0.017599102442858894\n"
          ]
        }
      ]
    },
    {
      "cell_type": "code",
      "source": [
        "import matplotlib.pyplot as plt\n",
        "\n",
        "# Obtener los pares de niveles de applicant_sex y sus respectivos SPD\n",
        "pares_niveles_sex = list(spd_por_sex_combinaciones.keys())\n",
        "spd_valores = list(spd_por_sex_combinaciones.values())\n",
        "\n",
        "# Crear el gráfico de barras\n",
        "plt.figure(figsize=(6, 6))\n",
        "plt.bar(range(len(spd_valores)), spd_valores, color='skyblue')\n",
        "plt.xlabel('Pares de Niveles de applicant_sex')\n",
        "plt.ylabel('Diferencia de SPD')\n",
        "plt.title('Diferencias de Paridad Estadística (SPD) entre Niveles de applicant_sex')\n",
        "plt.xticks(range(len(spd_valores)), [f\"{par[0]} vs {par[1]}\" for par in pares_niveles_sex], rotation=90)\n",
        "\n",
        "# Cambiar etiquetas de los ejes x\n",
        "etiquetas_x = [f\"{par[0]} vs {par[1]}\" for par in pares_niveles_sex]\n",
        "etiquetas_x = [etiqueta.replace('0', 'Masculino') for etiqueta in etiquetas_x]\n",
        "etiquetas_x = [etiqueta.replace('1', 'Femenino') for etiqueta in etiquetas_x]\n",
        "etiquetas_x = [etiqueta.replace('2', 'Femenino') for etiqueta in etiquetas_x]\n",
        "plt.xticks(range(len(spd_valores)), etiquetas_x, rotation=90)\n",
        "\n",
        "plt.tight_layout()\n",
        "plt.show()\n"
      ],
      "metadata": {
        "colab": {
          "base_uri": "https://localhost:8080/",
          "height": 607
        },
        "id": "q0nrp235_R9Z",
        "outputId": "b700b632-e69a-406b-b089-d17814bb3f53"
      },
      "execution_count": null,
      "outputs": [
        {
          "output_type": "display_data",
          "data": {
            "text/plain": [
              "<Figure size 600x600 with 1 Axes>"
            ],
            "image/png": "[encoded data removed]"
          },
          "metadata": {}
        }
      ]
    },
    {
      "cell_type": "code",
      "source": [
        "import matplotlib.pyplot as plt\n",
        "\n",
        "# Obtener los pares de niveles de applicant_sex y sus respectivos SPD\n",
        "pares_niveles_sex = list(spd_por_sex_combinaciones.keys())\n",
        "spd_valores = list(spd_por_sex_combinaciones.values())\n",
        "\n",
        "# Filtrar pares de niveles que corresponden solo a hombres y mujeres\n",
        "pares_niveles_sex_filtrados = [par for par in pares_niveles_sex if 0 in par and (1 in par or 2 in par)]\n",
        "spd_valores_filtrados = [spd_por_sex_combinaciones[par] for par in pares_niveles_sex_filtrados]\n",
        "\n",
        "# Crear el gráfico de barras\n",
        "plt.figure(figsize=(6, 6))\n",
        "plt.bar(range(len(spd_valores_filtrados)), spd_valores_filtrados, color='skyblue')\n",
        "plt.xlabel('Pares de Niveles de applicant_sex')\n",
        "plt.ylabel('Diferencia de SPD')\n",
        "plt.title('Diferencias de Paridad Estadística (SPD) entre Hombres y Mujeres')\n",
        "plt.xticks(range(len(spd_valores_filtrados)), [f\"{par[0]} vs {par[1]}\" for par in pares_niveles_sex_filtrados], rotation=90)\n",
        "\n",
        "# Cambiar etiquetas de los ejes x\n",
        "etiquetas_x = [f\"{par[0]} vs {par[1]}\" for par in pares_niveles_sex_filtrados]\n",
        "etiquetas_x = [etiqueta.replace('0', 'Masculino') for etiqueta in etiquetas_x]\n",
        "etiquetas_x = [etiqueta.replace('1', 'Femenino') for etiqueta in etiquetas_x]\n",
        "etiquetas_x = [etiqueta.replace('2', 'Femenino') for etiqueta in etiquetas_x]\n",
        "plt.xticks(range(len(spd_valores_filtrados)), etiquetas_x, rotation=380)\n",
        "\n",
        "plt.tight_layout()\n",
        "plt.show()\n"
      ],
      "metadata": {
        "colab": {
          "base_uri": "https://localhost:8080/",
          "height": 607
        },
        "id": "mVN0nLTagC7m",
        "outputId": "fee076fa-81c2-4621-a7cc-78a98e5fc1c5"
      },
      "execution_count": null,
      "outputs": [
        {
          "output_type": "display_data",
          "data": {
            "text/plain": [
              "<Figure size 600x600 with 1 Axes>"
            ],
            "image/png": "[encoded data removed]"
          },
          "metadata": {}
        }
      ]
    },
    {
      "cell_type": "markdown",
      "source": [
        "# METRICAS DE EQUIDAD POR EDAD"
      ],
      "metadata": {
        "id": "hyX4VSboA_GW"
      }
    },
    {
      "cell_type": "code",
      "source": [
        "import numpy as np\n",
        "from sklearn.metrics import precision_score, recall_score, f1_score\n",
        "\n",
        "def calcular_metricas_por_grupo_edad(y_true, y_pred, grupo):\n",
        "    indices_grupo = np.where(df['applicant_age'] == grupo)[0]\n",
        "    y_true_grupo = y_true[indices_grupo]\n",
        "    y_pred_grupo = y_pred[indices_grupo]\n",
        "\n",
        "    precision = precision_score(y_true_grupo, y_pred_grupo)\n",
        "    recall = recall_score(y_true_grupo, y_pred_grupo)\n",
        "    f1 = f1_score(y_true_grupo, y_pred_grupo)\n",
        "\n",
        "    return precision, recall, f1\n",
        "\n",
        "# Definir grupos de edad\n",
        "grupos_edad = [1, 2, 0, 3, 4, 6, 5, 7]\n",
        "\n",
        "# Calcular métricas por grupo de edad\n",
        "metricas_por_grupo_edad = {}\n",
        "for grupo in grupos_edad:\n",
        "    precision, recall, f1 = calcular_metricas_por_grupo_edad(df['action_taken3'], predicciones, grupo)\n",
        "    metricas_por_grupo_edad[grupo] = {'precision': precision, 'recall': recall, 'f1_score': f1}\n",
        "\n",
        "# Imprimir resultados\n",
        "for grupo, metricas in metricas_por_grupo_edad.items():\n",
        "    print(f\"Métricas para el grupo de edad {grupo}:\")\n",
        "    print(\"Precisión:\", metricas['precision'])\n",
        "    print(\"Recall:\", metricas['recall'])\n",
        "    print(\"F1-score:\", metricas['f1_score'])\n"
      ],
      "metadata": {
        "colab": {
          "base_uri": "https://localhost:8080/"
        },
        "id": "O6ae79IQYsfo",
        "outputId": "55e14e6d-36a1-4cc1-d410-475e60e5df20"
      },
      "execution_count": null,
      "outputs": [
        {
          "output_type": "stream",
          "name": "stdout",
          "text": [
            "Métricas para el grupo de edad 1:\n",
            "Precisión: 0.8537407929791568\n",
            "Recall: 0.866207887857838\n",
            "F1-score: 0.85992915638003\n",
            "Métricas para el grupo de edad 2:\n",
            "Precisión: 0.8270172812627569\n",
            "Recall: 0.870750297282196\n",
            "F1-score: 0.8483205270467378\n",
            "Métricas para el grupo de edad 0:\n",
            "Precisión: 0.8754481909383941\n",
            "Recall: 0.8708935918776166\n",
            "F1-score: 0.8731649520286672\n",
            "Métricas para el grupo de edad 3:\n",
            "Precisión: 0.8172931678097057\n",
            "Recall: 0.8661379652970725\n",
            "F1-score: 0.841006950027693\n",
            "Métricas para el grupo de edad 4:\n",
            "Precisión: 0.8169741251773799\n",
            "Recall: 0.864283889101827\n",
            "F1-score: 0.8399633705319033\n",
            "Métricas para el grupo de edad 6:\n",
            "Precisión: 0.7717661691542289\n",
            "Recall: 0.8585688871318442\n",
            "F1-score: 0.8128567418358753\n",
            "Métricas para el grupo de edad 5:\n",
            "Precisión: 0.8683429720895147\n",
            "Recall: 0.8505492340278804\n",
            "F1-score: 0.8593540038819489\n",
            "Métricas para el grupo de edad 7:\n",
            "Precisión: 0.9335335062099086\n",
            "Recall: 0.9966486959055807\n",
            "F1-score: 0.9640591966173362\n"
          ]
        }
      ]
    },
    {
      "cell_type": "code",
      "source": [
        "import numpy as np\n",
        "import matplotlib.pyplot as plt\n",
        "\n",
        "def calcular_precision_por_grupo_edad(y_true, y_pred, grupo):\n",
        "    indices_grupo = np.where(df['applicant_age'] == grupo)[0]\n",
        "    y_true_grupo = y_true[indices_grupo]\n",
        "    y_pred_grupo = y_pred[indices_grupo]\n",
        "    precision_grupo = np.mean(y_true_grupo == y_pred_grupo)\n",
        "    return precision_grupo\n",
        "\n",
        "# Definir grupos de edad y sus etiquetas correspondientes\n",
        "grupos_edad = [1, 2, 0, 3, 4, 6, 5, 7]\n",
        "etiquetas_edad = ['35-44', '45-54', '25-34', '55-64', '65-74', '>74', '<25', 'sin info']\n",
        "\n",
        "# Calcular precisiones por grupo de edad\n",
        "precision_por_grupo_edad = [calcular_precision_por_grupo_edad(df['action_taken3'], predicciones, grupo) for grupo in grupos_edad]\n",
        "\n",
        "# Graficar las precisiones por grupo de edad\n",
        "plt.bar(etiquetas_edad, precision_por_grupo_edad, color='lightblue')  # Cambio de color a azul claro\n",
        "plt.xlabel('Grupo de Edad')\n",
        "plt.ylabel('Precisión')\n",
        "plt.title('Precisión por Grupo de Edad')\n",
        "plt.xticks(rotation=45)  # Rotar las etiquetas en el eje x para mejorar la legibilidad\n",
        "plt.show()\n"
      ],
      "metadata": {
        "colab": {
          "base_uri": "https://localhost:8080/",
          "height": 504
        },
        "id": "tW4xGFcJBQro",
        "outputId": "870b5801-df2f-4856-9652-bac27f4ec110"
      },
      "execution_count": null,
      "outputs": [
        {
          "output_type": "display_data",
          "data": {
            "text/plain": [
              "<Figure size 640x480 with 1 Axes>"
            ],
            "image/png": "[encoded data removed]"
          },
          "metadata": {}
        }
      ]
    },
    {
      "cell_type": "code",
      "source": [
        "import numpy as np\n",
        "\n",
        "# Define grupos de edad con etiquetas descriptivas\n",
        "grupos_edad = {\n",
        "    0: '<25',\n",
        "    1: '25-34',\n",
        "    2: '35-44',\n",
        "    3: '45-54',\n",
        "    4: '55-64',\n",
        "    5: '65-74',\n",
        "    6: '>74',\n",
        "    7: 'sin info'\n",
        "}\n",
        "\n",
        "def calcular_proporcion_aprobacion_por_edad(y_true, y_pred, grupo):\n",
        "    indices_grupo = np.where(df['applicant_age'] == grupo)[0]\n",
        "    y_true_grupo = y_true[indices_grupo]\n",
        "    y_pred_grupo = y_pred[indices_grupo]\n",
        "    aprobados = np.sum(y_pred_grupo == 1)\n",
        "    proporcion_aprobacion = aprobados / len(y_pred_grupo)\n",
        "    return proporcion_aprobacion\n",
        "\n",
        "def calcular_fpr_por_edad(y_true, y_pred, grupo):\n",
        "    indices_grupo = np.where(df['applicant_age'] == grupo)[0]\n",
        "    y_true_grupo = y_true[indices_grupo]\n",
        "    y_pred_grupo = y_pred[indices_grupo]\n",
        "    falsos_positivos = np.sum((y_true_grupo == 0) & (y_pred_grupo == 1))\n",
        "    negativos_reales = np.sum(y_true_grupo == 0)\n",
        "    fpr = falsos_positivos / negativos_reales\n",
        "    return fpr\n",
        "\n",
        "def calcular_fnr_por_edad(y_true, y_pred, grupo):\n",
        "    indices_grupo = np.where(df['applicant_age'] == grupo)[0]\n",
        "    y_true_grupo = y_true[indices_grupo]\n",
        "    y_pred_grupo = y_pred[indices_grupo]\n",
        "    falsos_negativos = np.sum((y_true_grupo == 1) & (y_pred_grupo == 0))\n",
        "    positivos_reales = np.sum(y_true_grupo == 1)\n",
        "    fnr = falsos_negativos / positivos_reales\n",
        "    return fnr\n",
        "\n",
        "def calcular_diferencia_aprobacion_por_edad(y_true, y_pred):\n",
        "    proporcion_aprobacion_por_edad = {}\n",
        "    for grupo, etiqueta in grupos_edad.items():\n",
        "        proporcion_aprobacion_por_edad[etiqueta] = calcular_proporcion_aprobacion_por_edad(y_true, y_pred, grupo)\n",
        "    diferencia_aprobacion = max(proporcion_aprobacion_por_edad.values()) - min(proporcion_aprobacion_por_edad.values())\n",
        "    return diferencia_aprobacion\n",
        "\n",
        "def calcular_diferencia_fpr_por_edad(y_true, y_pred):\n",
        "    fpr_por_edad = {}\n",
        "    for grupo, etiqueta in grupos_edad.items():\n",
        "        fpr_por_edad[etiqueta] = calcular_fpr_por_edad(y_true, y_pred, grupo)\n",
        "    diferencia_fpr = max(fpr_por_edad.values()) - min(fpr_por_edad.values())\n",
        "    return diferencia_fpr\n",
        "\n",
        "def calcular_diferencia_fnr_por_edad(y_true, y_pred):\n",
        "    fnr_por_edad = {}\n",
        "    for grupo, etiqueta in grupos_edad.items():\n",
        "        fnr_por_edad[etiqueta] = calcular_fnr_por_edad(y_true, y_pred, grupo)\n",
        "    diferencia_fnr = max(fnr_por_edad.values()) - min(fnr_por_edad.values())\n",
        "    return diferencia_fnr\n",
        "\n",
        "# Calcular métricas\n",
        "diferencia_aprobacion_por_edad = calcular_diferencia_aprobacion_por_edad(df['action_taken3'], predicciones)\n",
        "diferencia_fpr_por_edad = calcular_diferencia_fpr_por_edad(df['action_taken3'], predicciones)\n",
        "diferencia_fnr_por_edad = calcular_diferencia_fnr_por_edad(df['action_taken3'], predicciones)\n",
        "\n",
        "print(\"Diferencia en tasas de aprobación por edad:\", diferencia_aprobacion_por_edad)\n",
        "print(\"Diferencia en tasas de FPR por edad:\", diferencia_fpr_por_edad)\n",
        "print(\"Diferencia en tasas de FNR por edad:\", diferencia_fnr_por_edad)\n",
        "\n"
      ],
      "metadata": {
        "colab": {
          "base_uri": "https://localhost:8080/"
        },
        "id": "BiQ3sUjQ726b",
        "outputId": "7f067b1b-6405-4979-f7d6-a3a0038d20c4"
      },
      "execution_count": null,
      "outputs": [
        {
          "output_type": "stream",
          "name": "stdout",
          "text": [
            "Diferencia en tasas de aprobación por edad: 0.36961221345192785\n",
            "Diferencia en tasas de FPR por edad: 0.41079694384027665\n",
            "Diferencia en tasas de FNR por edad: 0.14609946187770023\n"
          ]
        }
      ]
    },
    {
      "cell_type": "markdown",
      "source": [
        "Difrencia en impacto de errores"
      ],
      "metadata": {
        "id": "mNIJrKcy8jjH"
      }
    },
    {
      "cell_type": "code",
      "source": [
        "def calcular_perdida_esperada_por_edad(y_true, y_pred, grupo):\n",
        "    indices_grupo = np.where(df['applicant_age'] == grupo)[0]\n",
        "    y_true_grupo = y_true[indices_grupo]\n",
        "    y_pred_grupo = y_pred[indices_grupo]\n",
        "\n",
        "    # Definir función de pérdida\n",
        "    # Por ejemplo, si queremos penalizar los falsos negativos más que los falsos positivos\n",
        "    # Podemos usar una función de pérdida como la pérdida cuadrática\n",
        "    loss_fn = lambda y_true, y_pred: (y_true - y_pred) ** 2\n",
        "\n",
        "    perdida_esperada = np.mean(loss_fn(y_true_grupo, y_pred_grupo))\n",
        "    return perdida_esperada\n",
        "\n",
        "# Calcular la pérdida esperada para cada grupo de edad\n",
        "perdida_esperada_por_edad = {}\n",
        "for grupo in df['applicant_age'].unique():\n",
        "    perdida_esperada_por_edad[grupo] = calcular_perdida_esperada_por_edad(df['action_taken3'], predicciones, grupo)\n",
        "\n",
        "# Calcular la diferencia en la pérdida esperada\n",
        "diferencia_perdida_esperada_por_edad = max(perdida_esperada_por_edad.values()) - min(perdida_esperada_por_edad.values())\n",
        "\n",
        "print(\"Diferencia en la pérdida esperada por edad:\", diferencia_perdida_esperada_por_edad)\n"
      ],
      "metadata": {
        "colab": {
          "base_uri": "https://localhost:8080/"
        },
        "id": "9dBXVQvB8lDh",
        "outputId": "1c1774b3-4112-4a1c-86b4-46e9d9c5ff71"
      },
      "execution_count": null,
      "outputs": [
        {
          "output_type": "stream",
          "name": "stdout",
          "text": [
            "Diferencia en la pérdida esperada por edad: 0.1456789546168869\n"
          ]
        }
      ]
    },
    {
      "cell_type": "markdown",
      "source": [
        "Impacto Desigual - Falsos Positivos (FPR):"
      ],
      "metadata": {
        "id": "8dWB3UU789nt"
      }
    },
    {
      "cell_type": "code",
      "source": [
        "def calcular_fpr_por_edad(y_true, y_pred, grupo):\n",
        "    indices_grupo = np.where(df['applicant_age'] == grupo)[0]\n",
        "    y_true_grupo = y_true[indices_grupo]\n",
        "    y_pred_grupo = y_pred[indices_grupo]\n",
        "    falsos_positivos = np.sum((y_true_grupo == 0) & (y_pred_grupo == 1))\n",
        "    negativos_reales = np.sum(y_true_grupo == 0)\n",
        "    fpr = falsos_positivos / negativos_reales\n",
        "    return fpr\n",
        "\n",
        "# Calcular FPR para cada grupo de edad\n",
        "fpr_por_edad = {}\n",
        "for grupo in df['applicant_age'].unique():\n",
        "    fpr_por_edad[grupo] = calcular_fpr_por_edad(df['action_taken3'], predicciones, grupo)\n",
        "\n",
        "# Calcular la diferencia en la tasa de FPR entre grupos de edad\n",
        "diferencia_fpr_por_edad = max(fpr_por_edad.values()) - min(fpr_por_edad.values())\n",
        "\n",
        "print(\"Diferencia en la tasa de FPR entre grupos de edad:\", diferencia_fpr_por_edad)\n"
      ],
      "metadata": {
        "colab": {
          "base_uri": "https://localhost:8080/"
        },
        "id": "twy6T54t8-F5",
        "outputId": "4869f3ab-7d13-4940-dbff-5a99dbabd379"
      },
      "execution_count": null,
      "outputs": [
        {
          "output_type": "stream",
          "name": "stdout",
          "text": [
            "Diferencia en la tasa de FPR entre grupos de edad: 0.41079694384027665\n"
          ]
        }
      ]
    },
    {
      "cell_type": "markdown",
      "source": [
        "Impacto Desigual - Falsos Negativos (FNR):"
      ],
      "metadata": {
        "id": "icTbQrNw8-tA"
      }
    },
    {
      "cell_type": "code",
      "source": [
        "def calcular_fnr_por_edad(y_true, y_pred, grupo):\n",
        "    indices_grupo = np.where(df['applicant_age'] == grupo)[0]\n",
        "    y_true_grupo = y_true[indices_grupo]\n",
        "    y_pred_grupo = y_pred[indices_grupo]\n",
        "    falsos_negativos = np.sum((y_true_grupo == 1) & (y_pred_grupo == 0))\n",
        "    positivos_reales = np.sum(y_true_grupo == 1)\n",
        "    fnr = falsos_negativos / positivos_reales\n",
        "    return fnr\n",
        "\n",
        "# Calcular FNR para cada grupo de edad\n",
        "fnr_por_edad = {}\n",
        "for grupo in df['applicant_age'].unique():\n",
        "    fnr_por_edad[grupo] = calcular_fnr_por_edad(df['action_taken3'], predicciones, grupo)\n",
        "\n",
        "# Calcular la diferencia en la tasa de FNR entre grupos de edad\n",
        "diferencia_fnr_por_edad = max(fnr_por_edad.values()) - min(fnr_por_edad.values())\n",
        "\n",
        "print(\"Diferencia en la tasa de FNR entre grupos de edad:\", diferencia_fnr_por_edad)\n"
      ],
      "metadata": {
        "colab": {
          "base_uri": "https://localhost:8080/"
        },
        "id": "F2qBNw5t9C3z",
        "outputId": "ca206148-d22a-4e6b-8c27-b3793788c5b8"
      },
      "execution_count": null,
      "outputs": [
        {
          "output_type": "stream",
          "name": "stdout",
          "text": [
            "Diferencia en la tasa de FNR entre grupos de edad: 0.14609946187770023\n"
          ]
        }
      ]
    },
    {
      "cell_type": "code",
      "source": [
        "import pandas as pd\n",
        "\n",
        "# Supongamos que ya tienes cargados tus datos en un DataFrame llamado df\n",
        "# Aquí definiré un DataFrame de ejemplo para ilustrar el proceso\n",
        "data = {\n",
        "    'grupo_edad': ['<25', '25-34', '35-44', '45-54', '<25', '35-44', '25-34'],  # Ejemplo de grupos de edad\n",
        "    'aprobacion': [1, 0, 1, 1, 0, 1, 1]                                           # Ejemplo de aprobaciones (1) y rechazos (0)\n",
        "}\n",
        "\n",
        "df = pd.DataFrame(data)\n",
        "\n",
        "# Calcular la proporción de aprobaciones por grupo de edad\n",
        "proporcion_aprobacion_por_edad = df.groupby('grupo_edad')['aprobacion'].mean()\n",
        "\n",
        "print(proporcion_aprobacion_por_edad)\n"
      ],
      "metadata": {
        "colab": {
          "base_uri": "https://localhost:8080/"
        },
        "id": "-yQKyFy35h_W",
        "outputId": "ef402601-114c-4866-f2d2-e1246e71ae60"
      },
      "execution_count": null,
      "outputs": [
        {
          "output_type": "stream",
          "name": "stdout",
          "text": [
            "grupo_edad\n",
            "25-34    0.5\n",
            "35-44    1.0\n",
            "45-54    1.0\n",
            "<25      0.5\n",
            "Name: aprobacion, dtype: float64\n"
          ]
        }
      ]
    },
    {
      "cell_type": "code",
      "source": [
        "# Define grupos de edad con etiquetas descriptivas\n",
        "grupos_edad = {\n",
        "    0: '<25',\n",
        "    1: '25-34',\n",
        "    2: '35-44',\n",
        "    3: '45-54',\n",
        "    4: '55-64',\n",
        "    5: '65-74',\n",
        "    6: '>74',\n",
        "    7: 'sin info'\n",
        "}\n",
        "\n",
        "# Supongamos que ya has calculado las proporciones de aprobación por grupo de edad\n",
        "proporcion_aprobacion_por_edad = {\n",
        "    '<25': 0.75,\n",
        "    '25-34': 0.80,\n",
        "    '35-44': 0.70,\n",
        "    '45-54': 0.65,\n",
        "    '55-64': 0.60,\n",
        "    '65-74': 0.55,\n",
        "    '>74': 0.50,\n",
        "    'sin info': 0.45\n",
        "}\n",
        "\n",
        "# Calcular el SPD para todas las combinaciones de pares de grupos de edad\n",
        "for grupo_1 in grupos_edad.values():\n",
        "    for grupo_2 in grupos_edad.values():\n",
        "        if grupo_1 != grupo_2:\n",
        "            spd_por_edad = abs(proporcion_aprobacion_por_edad[grupo_1] - proporcion_aprobacion_por_edad[grupo_2])\n",
        "            print(\"Diferencia de paridad estadística (SPD) entre los grupos de edad\", grupo_1, \"y\", grupo_2, \":\", spd_por_edad)\n",
        "\n"
      ],
      "metadata": {
        "colab": {
          "base_uri": "https://localhost:8080/"
        },
        "id": "bOwFvH8t-Cla",
        "outputId": "b7380d14-cdec-45f4-e21a-bc507b6fc92a"
      },
      "execution_count": null,
      "outputs": [
        {
          "output_type": "stream",
          "name": "stdout",
          "text": [
            "Diferencia de paridad estadística (SPD) entre los grupos de edad <25 y 25-34 : 0.050000000000000044\n",
            "Diferencia de paridad estadística (SPD) entre los grupos de edad <25 y 35-44 : 0.050000000000000044\n",
            "Diferencia de paridad estadística (SPD) entre los grupos de edad <25 y 45-54 : 0.09999999999999998\n",
            "Diferencia de paridad estadística (SPD) entre los grupos de edad <25 y 55-64 : 0.15000000000000002\n",
            "Diferencia de paridad estadística (SPD) entre los grupos de edad <25 y 65-74 : 0.19999999999999996\n",
            "Diferencia de paridad estadística (SPD) entre los grupos de edad <25 y >74 : 0.25\n",
            "Diferencia de paridad estadística (SPD) entre los grupos de edad <25 y sin info : 0.3\n",
            "Diferencia de paridad estadística (SPD) entre los grupos de edad 25-34 y <25 : 0.050000000000000044\n",
            "Diferencia de paridad estadística (SPD) entre los grupos de edad 25-34 y 35-44 : 0.10000000000000009\n",
            "Diferencia de paridad estadística (SPD) entre los grupos de edad 25-34 y 45-54 : 0.15000000000000002\n",
            "Diferencia de paridad estadística (SPD) entre los grupos de edad 25-34 y 55-64 : 0.20000000000000007\n",
            "Diferencia de paridad estadística (SPD) entre los grupos de edad 25-34 y 65-74 : 0.25\n",
            "Diferencia de paridad estadística (SPD) entre los grupos de edad 25-34 y >74 : 0.30000000000000004\n",
            "Diferencia de paridad estadística (SPD) entre los grupos de edad 25-34 y sin info : 0.35000000000000003\n",
            "Diferencia de paridad estadística (SPD) entre los grupos de edad 35-44 y <25 : 0.050000000000000044\n",
            "Diferencia de paridad estadística (SPD) entre los grupos de edad 35-44 y 25-34 : 0.10000000000000009\n",
            "Diferencia de paridad estadística (SPD) entre los grupos de edad 35-44 y 45-54 : 0.04999999999999993\n",
            "Diferencia de paridad estadística (SPD) entre los grupos de edad 35-44 y 55-64 : 0.09999999999999998\n",
            "Diferencia de paridad estadística (SPD) entre los grupos de edad 35-44 y 65-74 : 0.1499999999999999\n",
            "Diferencia de paridad estadística (SPD) entre los grupos de edad 35-44 y >74 : 0.19999999999999996\n",
            "Diferencia de paridad estadística (SPD) entre los grupos de edad 35-44 y sin info : 0.24999999999999994\n",
            "Diferencia de paridad estadística (SPD) entre los grupos de edad 45-54 y <25 : 0.09999999999999998\n",
            "Diferencia de paridad estadística (SPD) entre los grupos de edad 45-54 y 25-34 : 0.15000000000000002\n",
            "Diferencia de paridad estadística (SPD) entre los grupos de edad 45-54 y 35-44 : 0.04999999999999993\n",
            "Diferencia de paridad estadística (SPD) entre los grupos de edad 45-54 y 55-64 : 0.050000000000000044\n",
            "Diferencia de paridad estadística (SPD) entre los grupos de edad 45-54 y 65-74 : 0.09999999999999998\n",
            "Diferencia de paridad estadística (SPD) entre los grupos de edad 45-54 y >74 : 0.15000000000000002\n",
            "Diferencia de paridad estadística (SPD) entre los grupos de edad 45-54 y sin info : 0.2\n",
            "Diferencia de paridad estadística (SPD) entre los grupos de edad 55-64 y <25 : 0.15000000000000002\n",
            "Diferencia de paridad estadística (SPD) entre los grupos de edad 55-64 y 25-34 : 0.20000000000000007\n",
            "Diferencia de paridad estadística (SPD) entre los grupos de edad 55-64 y 35-44 : 0.09999999999999998\n",
            "Diferencia de paridad estadística (SPD) entre los grupos de edad 55-64 y 45-54 : 0.050000000000000044\n",
            "Diferencia de paridad estadística (SPD) entre los grupos de edad 55-64 y 65-74 : 0.04999999999999993\n",
            "Diferencia de paridad estadística (SPD) entre los grupos de edad 55-64 y >74 : 0.09999999999999998\n",
            "Diferencia de paridad estadística (SPD) entre los grupos de edad 55-64 y sin info : 0.14999999999999997\n",
            "Diferencia de paridad estadística (SPD) entre los grupos de edad 65-74 y <25 : 0.19999999999999996\n",
            "Diferencia de paridad estadística (SPD) entre los grupos de edad 65-74 y 25-34 : 0.25\n",
            "Diferencia de paridad estadística (SPD) entre los grupos de edad 65-74 y 35-44 : 0.1499999999999999\n",
            "Diferencia de paridad estadística (SPD) entre los grupos de edad 65-74 y 45-54 : 0.09999999999999998\n",
            "Diferencia de paridad estadística (SPD) entre los grupos de edad 65-74 y 55-64 : 0.04999999999999993\n",
            "Diferencia de paridad estadística (SPD) entre los grupos de edad 65-74 y >74 : 0.050000000000000044\n",
            "Diferencia de paridad estadística (SPD) entre los grupos de edad 65-74 y sin info : 0.10000000000000003\n",
            "Diferencia de paridad estadística (SPD) entre los grupos de edad >74 y <25 : 0.25\n",
            "Diferencia de paridad estadística (SPD) entre los grupos de edad >74 y 25-34 : 0.30000000000000004\n",
            "Diferencia de paridad estadística (SPD) entre los grupos de edad >74 y 35-44 : 0.19999999999999996\n",
            "Diferencia de paridad estadística (SPD) entre los grupos de edad >74 y 45-54 : 0.15000000000000002\n",
            "Diferencia de paridad estadística (SPD) entre los grupos de edad >74 y 55-64 : 0.09999999999999998\n",
            "Diferencia de paridad estadística (SPD) entre los grupos de edad >74 y 65-74 : 0.050000000000000044\n",
            "Diferencia de paridad estadística (SPD) entre los grupos de edad >74 y sin info : 0.04999999999999999\n",
            "Diferencia de paridad estadística (SPD) entre los grupos de edad sin info y <25 : 0.3\n",
            "Diferencia de paridad estadística (SPD) entre los grupos de edad sin info y 25-34 : 0.35000000000000003\n",
            "Diferencia de paridad estadística (SPD) entre los grupos de edad sin info y 35-44 : 0.24999999999999994\n",
            "Diferencia de paridad estadística (SPD) entre los grupos de edad sin info y 45-54 : 0.2\n",
            "Diferencia de paridad estadística (SPD) entre los grupos de edad sin info y 55-64 : 0.14999999999999997\n",
            "Diferencia de paridad estadística (SPD) entre los grupos de edad sin info y 65-74 : 0.10000000000000003\n",
            "Diferencia de paridad estadística (SPD) entre los grupos de edad sin info y >74 : 0.04999999999999999\n"
          ]
        }
      ]
    },
    {
      "cell_type": "code",
      "source": [
        "import matplotlib.pyplot as plt\n",
        "import numpy as np\n",
        "\n",
        "# Define grupos de edad con etiquetas descriptivas\n",
        "grupos_edad = {\n",
        "    0: '<25',\n",
        "    1: '25-34',\n",
        "    2: '35-44',\n",
        "    3: '45-54',\n",
        "    4: '55-64',\n",
        "    5: '65-74',\n",
        "    6: '>74',\n",
        "    7: 'sin info'\n",
        "}\n",
        "\n",
        "# Supongamos que ya has calculado las proporciones de aprobación por grupo de edad\n",
        "proporcion_aprobacion_por_edad = {\n",
        "    '<25': 0.75,\n",
        "    '25-34': 0.80,\n",
        "    '35-44': 0.70,\n",
        "    '45-54': 0.65,\n",
        "    '55-64': 0.60,\n",
        "    '65-74': 0.55,\n",
        "    '>74': 0.50,\n",
        "    'sin info': 0.45\n",
        "}\n",
        "\n",
        "# Calcular el SPD para todas las combinaciones de pares de grupos de edad\n",
        "spd_por_edad = np.zeros((len(grupos_edad), len(grupos_edad)))\n",
        "for i, grupo_1 in enumerate(grupos_edad.values()):\n",
        "    for j, grupo_2 in enumerate(grupos_edad.values()):\n",
        "        if grupo_1 != grupo_2:\n",
        "            spd_por_edad[i, j] = abs(proporcion_aprobacion_por_edad[grupo_1] - proporcion_aprobacion_por_edad[grupo_2])\n",
        "\n",
        "# Crear un mapa de calor para visualizar el SPD\n",
        "plt.figure(figsize=(8, 8))\n",
        "plt.imshow(spd_por_edad, cmap='coolwarm', interpolation='nearest')\n",
        "plt.colorbar(label='Diferencia de paridad estadística (SPD)')\n",
        "plt.xticks(range(len(grupos_edad)), list(grupos_edad.values()), rotation=45)\n",
        "plt.yticks(range(len(grupos_edad)), list(grupos_edad.values()))\n",
        "plt.title('Diferencia de paridad estadística (SPD) entre grupos de edad')\n",
        "plt.xlabel('Grupo de edad')\n",
        "plt.ylabel('Grupo de edad')\n",
        "plt.show()\n"
      ],
      "metadata": {
        "colab": {
          "base_uri": "https://localhost:8080/",
          "height": 673
        },
        "id": "NxIp4v39HUvn",
        "outputId": "760cf990-eb4b-4856-aeb9-bcc1d9a042e3"
      },
      "execution_count": null,
      "outputs": [
        {
          "output_type": "display_data",
          "data": {
            "text/plain": [
              "<Figure size 800x800 with 2 Axes>"
            ],
            "image/png": "[encoded data removed]"
          },
          "metadata": {}
        }
      ]
    },
    {
      "cell_type": "markdown",
      "source": [
        "Impacto Dispar EDAD"
      ],
      "metadata": {
        "id": "SyhssgzwSGM-"
      }
    },
    {
      "cell_type": "code",
      "source": [
        "# Define grupos de edad con etiquetas descriptivas\n",
        "grupos_edad = {\n",
        "    0: '<25',\n",
        "    1: '25-34',\n",
        "    2: '35-44',\n",
        "    3: '45-54',\n",
        "    4: '55-64',\n",
        "    5: '65-74',\n",
        "    6: '>74',\n",
        "    7: 'sin info'\n",
        "}\n",
        "\n",
        "# Supongamos que ya has calculado las proporciones de aprobación por grupo de edad\n",
        "proporcion_aprobacion_por_edad = {\n",
        "    '<25': 0.75,\n",
        "    '25-34': 0.80,\n",
        "    '35-44': 0.70,\n",
        "    '45-54': 0.65,\n",
        "    '55-64': 0.60,\n",
        "    '65-74': 0.55,\n",
        "    '>74': 0.50,\n",
        "    'sin info': 0.45\n",
        "}\n",
        "\n",
        "# Definir los grupos de edad que deseas comparar\n",
        "grupo_referencia = '<25'  # Por ejemplo, el grupo <25\n",
        "grupo_comparacion = '35-44'  # Por ejemplo, el grupo 35-44\n",
        "\n",
        "# Calcular el Impacto Dispar entre los grupos de edad para la proporción de aprobación\n",
        "impacto_dispar_proporcion_aprobacion = proporcion_aprobacion_por_edad[grupo_referencia] - proporcion_aprobacion_por_edad[grupo_comparacion]\n",
        "\n",
        "print(\"Impacto Dispar entre los grupos de edad\", grupo_referencia, \"y\", grupo_comparacion, \"para la proporción de aprobación:\", impacto_dispar_proporcion_aprobacion)\n",
        "\n"
      ],
      "metadata": {
        "colab": {
          "base_uri": "https://localhost:8080/"
        },
        "id": "4rmQLxHIR8fF",
        "outputId": "2e4faf8f-61b4-4f06-f441-a3b1c8910a62"
      },
      "execution_count": null,
      "outputs": [
        {
          "output_type": "stream",
          "name": "stdout",
          "text": [
            "Impacto Dispar entre los grupos de edad <25 y 35-44 para la proporción de aprobación: 0.050000000000000044\n"
          ]
        }
      ]
    },
    {
      "cell_type": "code",
      "source": [
        "# Define grupos de edad con etiquetas descriptivas\n",
        "grupos_edad = {\n",
        "    0: '<25',\n",
        "    1: '25-34',\n",
        "    2: '35-44',\n",
        "    3: '45-54',\n",
        "    4: '55-64',\n",
        "    5: '65-74',\n",
        "    6: '>74',\n",
        "    7: 'sin info'\n",
        "}\n",
        "\n",
        "# Supongamos que ya has calculado las proporciones de aprobación por grupo de edad\n",
        "proporcion_aprobacion_por_edad = {\n",
        "    '<25': 0.75,\n",
        "    '25-34': 0.80,\n",
        "    '35-44': 0.70,\n",
        "    '45-54': 0.65,\n",
        "    '55-64': 0.60,\n",
        "    '65-74': 0.55,\n",
        "    '>74': 0.50,\n",
        "    'sin info': 0.45\n",
        "}\n",
        "\n",
        "# Definir el grupo de referencia\n",
        "grupo_referencia = '<25'  # Por ejemplo, el grupo <25\n",
        "\n",
        "# Calcular el Impacto Dispar entre el grupo de referencia y cada uno de los otros grupos de edad\n",
        "impacto_dispar_por_grupo = {}\n",
        "for grupo, proporción in proporcion_aprobacion_por_edad.items():\n",
        "    if grupo != grupo_referencia:\n",
        "        impacto_dispar_por_grupo[grupo] = proporcion_aprobacion_por_edad[grupo_referencia] - proporción\n",
        "\n",
        "# Imprimir el Impacto Dispar para cada grupo de edad\n",
        "for grupo, impacto_dispar in impacto_dispar_por_grupo.items():\n",
        "    print(\"Impacto Dispar entre los grupos de edad\", grupo_referencia, \"y\", grupo, \":\", impacto_dispar)\n"
      ],
      "metadata": {
        "colab": {
          "base_uri": "https://localhost:8080/"
        },
        "id": "f2VgkNkLAUTK",
        "outputId": "e8b5d958-e0c4-4c9f-e8a8-a8c9fa39f826"
      },
      "execution_count": null,
      "outputs": [
        {
          "output_type": "stream",
          "name": "stdout",
          "text": [
            "Impacto Dispar entre los grupos de edad <25 y 25-34 : -0.050000000000000044\n",
            "Impacto Dispar entre los grupos de edad <25 y 35-44 : 0.050000000000000044\n",
            "Impacto Dispar entre los grupos de edad <25 y 45-54 : 0.09999999999999998\n",
            "Impacto Dispar entre los grupos de edad <25 y 55-64 : 0.15000000000000002\n",
            "Impacto Dispar entre los grupos de edad <25 y 65-74 : 0.19999999999999996\n",
            "Impacto Dispar entre los grupos de edad <25 y >74 : 0.25\n",
            "Impacto Dispar entre los grupos de edad <25 y sin info : 0.3\n"
          ]
        }
      ]
    },
    {
      "cell_type": "code",
      "source": [
        "import matplotlib.pyplot as plt\n",
        "\n",
        "# Define grupos de edad con etiquetas descriptivas\n",
        "grupos_edad = {\n",
        "    0: '<25',\n",
        "    1: '25-34',\n",
        "    2: '35-44',\n",
        "    3: '45-54',\n",
        "    4: '55-64',\n",
        "    5: '65-74',\n",
        "    6: '>74',\n",
        "    7: 'sin info'\n",
        "}\n",
        "\n",
        "# Supongamos que ya has calculado las proporciones de aprobación por grupo de edad\n",
        "proporcion_aprobacion_por_edad = {\n",
        "    '<25': 0.75,\n",
        "    '25-34': 0.80,\n",
        "    '35-44': 0.70,\n",
        "    '45-54': 0.65,\n",
        "    '55-64': 0.60,\n",
        "    '65-74': 0.55,\n",
        "    '>74': 0.50,\n",
        "    'sin info': 0.45\n",
        "}\n",
        "\n",
        "# Definir el grupo de referencia\n",
        "grupo_referencia = '<25'  # Por ejemplo, el grupo <25\n",
        "\n",
        "# Calcular el Impacto Dispar entre el grupo de referencia y cada uno de los otros grupos de edad\n",
        "impacto_dispar_por_grupo = {}\n",
        "for grupo, proporción in proporcion_aprobacion_por_edad.items():\n",
        "    if grupo != grupo_referencia:\n",
        "        impacto_dispar_por_grupo[grupo] = proporcion_aprobacion_por_edad[grupo_referencia] - proporción\n",
        "\n",
        "# Mostrar el Impacto Dispar en un gráfico de barras\n",
        "plt.figure(figsize=(10, 6))\n",
        "plt.bar(impacto_dispar_por_grupo.keys(), impacto_dispar_por_grupo.values(), color='skyblue')\n",
        "plt.xlabel('Grupo de Edad')\n",
        "plt.ylabel('Impacto Dispar')\n",
        "plt.title(f'Impacto Dispar respecto al grupo de referencia: {grupo_referencia}')\n",
        "plt.xticks(rotation=45)\n",
        "plt.grid(axis='y', linestyle='--', alpha=0.7)\n",
        "plt.show()\n"
      ],
      "metadata": {
        "id": "Rit80opRHiq3",
        "outputId": "6fd68a4f-aa73-4078-da2b-67aae3b3875a",
        "colab": {
          "base_uri": "https://localhost:8080/",
          "height": 596
        }
      },
      "execution_count": null,
      "outputs": [
        {
          "output_type": "display_data",
          "data": {
            "text/plain": [
              "<Figure size 1000x600 with 1 Axes>"
            ],
            "image/png": "[encoded data removed]"
          },
          "metadata": {}
        }
      ]
    },
    {
      "cell_type": "markdown",
      "source": [
        "# Paquete Fairlearn"
      ],
      "metadata": {
        "id": "K0NJUmc6lszN"
      }
    },
    {
      "cell_type": "code",
      "source": [
        "#https://www.modeldifferently.com/2023/10/como-evitar-sesgos-en-un-algoritmo/#la-%C3%A9tica-en-machine-learning-qu%C3%A9-entendemos-por-%C3%A9tica"
      ],
      "metadata": {
        "id": "RwolOrDQl2-T"
      },
      "execution_count": null,
      "outputs": []
    },
    {
      "cell_type": "code",
      "source": [
        "pip install fairlearn"
      ],
      "metadata": {
        "colab": {
          "base_uri": "https://localhost:8080/"
        },
        "id": "4XpN8mYuugXm",
        "outputId": "f6b41a22-8411-4d53-b56e-07e427418809"
      },
      "execution_count": null,
      "outputs": [
        {
          "output_type": "stream",
          "name": "stdout",
          "text": [
            "Collecting fairlearn\n",
            "  Downloading fairlearn-0.10.0-py3-none-any.whl (234 kB)\n",
            "\u001b[?25l     \u001b[90m━━━━━━━━━━━━━━━━━━━━━━━━━━━━━━━━━━━━━━━━\u001b[0m \u001b[32m0.0/234.1 kB\u001b[0m \u001b[31m?\u001b[0m eta \u001b[36m-:--:--\u001b[0m\r\u001b[2K     \u001b[91m━━━━━━━━━━━━━━━━━━━━━━━━━━\u001b[0m\u001b[90m╺\u001b[0m\u001b[90m━━━━━━━━━━━━━\u001b[0m \u001b[32m153.6/234.1 kB\u001b[0m \u001b[31m4.3 MB/s\u001b[0m eta \u001b[36m0:00:01\u001b[0m\r\u001b[2K     \u001b[90m━━━━━━━━━━━━━━━━━━━━━━━━━━━━━━━━━━━━━━━━\u001b[0m \u001b[32m234.1/234.1 kB\u001b[0m \u001b[31m4.8 MB/s\u001b[0m eta \u001b[36m0:00:00\u001b[0m\n",
            "\u001b[?25hRequirement already satisfied: numpy>=1.24.4 in /usr/local/lib/python3.10/dist-packages (from fairlearn) (1.25.2)\n",
            "Collecting pandas>=2.0.3 (from fairlearn)\n",
            "  Downloading pandas-2.2.1-cp310-cp310-manylinux_2_17_x86_64.manylinux2014_x86_64.whl (13.0 MB)\n",
            "\u001b[2K     \u001b[90m━━━━━━━━━━━━━━━━━━━━━━━━━━━━━━━━━━━━━━━━\u001b[0m \u001b[32m13.0/13.0 MB\u001b[0m \u001b[31m72.5 MB/s\u001b[0m eta \u001b[36m0:00:00\u001b[0m\n",
            "\u001b[?25hRequirement already satisfied: scikit-learn>=1.2.1 in /usr/local/lib/python3.10/dist-packages (from fairlearn) (1.2.2)\n",
            "Requirement already satisfied: scipy>=1.9.3 in /usr/local/lib/python3.10/dist-packages (from fairlearn) (1.11.4)\n",
            "Requirement already satisfied: python-dateutil>=2.8.2 in /usr/local/lib/python3.10/dist-packages (from pandas>=2.0.3->fairlearn) (2.8.2)\n",
            "Requirement already satisfied: pytz>=2020.1 in /usr/local/lib/python3.10/dist-packages (from pandas>=2.0.3->fairlearn) (2023.4)\n",
            "Collecting tzdata>=2022.7 (from pandas>=2.0.3->fairlearn)\n",
            "  Downloading tzdata-2024.1-py2.py3-none-any.whl (345 kB)\n",
            "\u001b[2K     \u001b[90m━━━━━━━━━━━━━━━━━━━━━━━━━━━━━━━━━━━━━━━━\u001b[0m \u001b[32m345.4/345.4 kB\u001b[0m \u001b[31m33.5 MB/s\u001b[0m eta \u001b[36m0:00:00\u001b[0m\n",
            "\u001b[?25hRequirement already satisfied: joblib>=1.1.1 in /usr/local/lib/python3.10/dist-packages (from scikit-learn>=1.2.1->fairlearn) (1.3.2)\n",
            "Requirement already satisfied: threadpoolctl>=2.0.0 in /usr/local/lib/python3.10/dist-packages (from scikit-learn>=1.2.1->fairlearn) (3.4.0)\n",
            "Requirement already satisfied: six>=1.5 in /usr/local/lib/python3.10/dist-packages (from python-dateutil>=2.8.2->pandas>=2.0.3->fairlearn) (1.16.0)\n",
            "Installing collected packages: tzdata, pandas, fairlearn\n",
            "  Attempting uninstall: pandas\n",
            "    Found existing installation: pandas 1.5.3\n",
            "    Uninstalling pandas-1.5.3:\n",
            "      Successfully uninstalled pandas-1.5.3\n",
            "\u001b[31mERROR: pip's dependency resolver does not currently take into account all the packages that are installed. This behaviour is the source of the following dependency conflicts.\n",
            "google-colab 1.0.0 requires pandas==1.5.3, but you have pandas 2.2.1 which is incompatible.\u001b[0m\u001b[31m\n",
            "\u001b[0mSuccessfully installed fairlearn-0.10.0 pandas-2.2.1 tzdata-2024.1\n"
          ]
        }
      ]
    },
    {
      "cell_type": "code",
      "source": [
        "from fairlearn.reductions import GridSearch\n",
        "from fairlearn.reductions import DemographicParity\n",
        "from fairlearn.metrics import MetricFrame\n",
        "from fairlearn.reductions import GridSearch, DemographicParity\n",
        "from sklearn.tree import DecisionTreeClassifier\n",
        "from sklearn.model_selection import train_test_split\n",
        "from sklearn.metrics import accuracy_score, precision_score, recall_score, f1_score\n",
        "from fairlearn.metrics import demographic_parity_difference\n",
        "from sklearn.impute import SimpleImputer"
      ],
      "metadata": {
        "id": "R_UwnTSNt1pk"
      },
      "execution_count": null,
      "outputs": []
    },
    {
      "cell_type": "code",
      "source": [
        "from fairlearn.reductions import GridSearch\n",
        "from fairlearn.reductions import DemographicParity\n",
        "from fairlearn.metrics import MetricFrame"
      ],
      "metadata": {
        "id": "1sFTnvRlku64"
      },
      "execution_count": null,
      "outputs": []
    },
    {
      "cell_type": "code",
      "source": [
        "from fairlearn.reductions import DemographicParity, GridSearch\n",
        "from lightgbm import LGBMClassifier\n",
        "from sklearn.pipeline import Pipeline\n",
        "from sklearn.preprocessing import StandardScaler\n",
        "\n",
        "# Creamos el modelo LGBMClassifier\n",
        "lgbm_model = LGBMClassifier()\n",
        "\n",
        "# Creamos el pipeline con el modelo LGBM y el escalador\n",
        "pipeline = Pipeline([\n",
        "    ('scaler', StandardScaler()),  # Puedes agregar un escalador si es necesario\n",
        "    ('lgbm', lgbm_model)\n",
        "])\n",
        "\n",
        "# Creamos el mitigador de sesgo para el modelo\n",
        "sweep = GridSearch(\n",
        "    pipeline,  # Usamos nuestro pipeline con el modelo LGBM\n",
        "    constraints=DemographicParity(),  # La métrica que queremos optimizar\n",
        "    grid_size=40,\n",
        "    sample_weight_name='lgbm__sample_weight'  # Especificamos el nombre del parámetro de peso de muestra\n",
        ")\n",
        "\n",
        "# Entrenamos el mitigador de sesgo\n",
        "sweep.fit(X_train, y_train, sensitive_features=X_train[['applicant_sex']])\n",
        "\n",
        "# Seleccionamos el mejor modelo según la métrica de equidad\n",
        "sweep_preds = [predictor.predict(X_test) for predictor in sweep.predictors_]\n",
        "sweep_scores = [accuracy_score(y_test, preds) for preds in sweep_preds]\n",
        "best_model_index = np.argmax(sweep_scores)\n",
        "best_model = sweep.predictors_[best_model_index]\n",
        "\n",
        "# Evaluamos el modelo seleccionado\n",
        "predictions = best_model.predict(X_test)\n",
        "\n",
        "\n",
        "\n"
      ],
      "metadata": {
        "colab": {
          "base_uri": "https://localhost:8080/"
        },
        "id": "mlxhT2eemLJp",
        "outputId": "f7ebceb0-2605-4abd-d8a4-517214cf66ea"
      },
      "execution_count": null,
      "outputs": [
        {
          "output_type": "stream",
          "name": "stdout",
          "text": [
            "[LightGBM] [Info] Number of positive: 354230, number of negative: 445770\n",
            "[LightGBM] [Info] Auto-choosing col-wise multi-threading, the overhead of testing was 0.231577 seconds.\n",
            "You can set `force_col_wise=true` to remove the overhead.\n",
            "[LightGBM] [Info] Total Bins 793\n",
            "[LightGBM] [Info] Number of data points in the train set: 800000, number of used features: 8\n",
            "[LightGBM] [Info] [binary:BoostFromScore]: pavg=0.605838 -> initscore=0.429853\n",
            "[LightGBM] [Info] Start training from score 0.429853\n",
            "[LightGBM] [Info] Number of positive: 522917, number of negative: 277083\n",
            "[LightGBM] [Info] Auto-choosing row-wise multi-threading, the overhead of testing was 0.038090 seconds.\n",
            "You can set `force_row_wise=true` to remove the overhead.\n",
            "And if memory is not enough, you can set `force_col_wise=true`.\n",
            "[LightGBM] [Info] Total Bins 793\n",
            "[LightGBM] [Info] Number of data points in the train set: 800000, number of used features: 8\n",
            "[LightGBM] [Info] [binary:BoostFromScore]: pavg=0.652734 -> initscore=0.631079\n",
            "[LightGBM] [Info] Start training from score 0.631079\n",
            "[LightGBM] [Info] Number of positive: 354230, number of negative: 445770\n",
            "[LightGBM] [Info] Auto-choosing row-wise multi-threading, the overhead of testing was 0.024706 seconds.\n",
            "You can set `force_row_wise=true` to remove the overhead.\n",
            "And if memory is not enough, you can set `force_col_wise=true`.\n",
            "[LightGBM] [Info] Total Bins 793\n",
            "[LightGBM] [Info] Number of data points in the train set: 800000, number of used features: 8\n",
            "[LightGBM] [Info] [binary:BoostFromScore]: pavg=0.624659 -> initscore=0.509369\n",
            "[LightGBM] [Info] Start training from score 0.509369\n",
            "[LightGBM] [Info] Number of positive: 534474, number of negative: 265526\n",
            "[LightGBM] [Info] Auto-choosing row-wise multi-threading, the overhead of testing was 0.039107 seconds.\n",
            "You can set `force_row_wise=true` to remove the overhead.\n",
            "And if memory is not enough, you can set `force_col_wise=true`.\n",
            "[LightGBM] [Info] Total Bins 793\n",
            "[LightGBM] [Info] Number of data points in the train set: 800000, number of used features: 8\n",
            "[LightGBM] [Info] [binary:BoostFromScore]: pavg=0.586135 -> initscore=0.348011\n",
            "[LightGBM] [Info] Start training from score 0.348011\n",
            "[LightGBM] [Warning] No further splits with positive gain, best gain: -inf\n",
            "[LightGBM] [Warning] No further splits with positive gain, best gain: -inf\n",
            "[LightGBM] [Warning] No further splits with positive gain, best gain: -inf\n",
            "[LightGBM] [Warning] No further splits with positive gain, best gain: -inf\n",
            "[LightGBM] [Warning] No further splits with positive gain, best gain: -inf\n",
            "[LightGBM] [Warning] No further splits with positive gain, best gain: -inf\n",
            "[LightGBM] [Warning] No further splits with positive gain, best gain: -inf\n",
            "[LightGBM] [Warning] No further splits with positive gain, best gain: -inf\n",
            "[LightGBM] [Warning] No further splits with positive gain, best gain: -inf\n",
            "[LightGBM] [Warning] No further splits with positive gain, best gain: -inf\n",
            "[LightGBM] [Warning] No further splits with positive gain, best gain: -inf\n",
            "[LightGBM] [Warning] No further splits with positive gain, best gain: -inf\n",
            "[LightGBM] [Warning] No further splits with positive gain, best gain: -inf\n",
            "[LightGBM] [Warning] No further splits with positive gain, best gain: -inf\n",
            "[LightGBM] [Warning] No further splits with positive gain, best gain: -inf\n",
            "[LightGBM] [Warning] No further splits with positive gain, best gain: -inf\n",
            "[LightGBM] [Warning] No further splits with positive gain, best gain: -inf\n",
            "[LightGBM] [Warning] No further splits with positive gain, best gain: -inf\n",
            "[LightGBM] [Warning] No further splits with positive gain, best gain: -inf\n",
            "[LightGBM] [Warning] No further splits with positive gain, best gain: -inf\n",
            "[LightGBM] [Warning] No further splits with positive gain, best gain: -inf\n",
            "[LightGBM] [Warning] No further splits with positive gain, best gain: -inf\n",
            "[LightGBM] [Warning] No further splits with positive gain, best gain: -inf\n",
            "[LightGBM] [Warning] No further splits with positive gain, best gain: -inf\n",
            "[LightGBM] [Warning] No further splits with positive gain, best gain: -inf\n",
            "[LightGBM] [Warning] No further splits with positive gain, best gain: -inf\n",
            "[LightGBM] [Warning] No further splits with positive gain, best gain: -inf\n",
            "[LightGBM] [Warning] No further splits with positive gain, best gain: -inf\n",
            "[LightGBM] [Warning] No further splits with positive gain, best gain: -inf\n",
            "[LightGBM] [Warning] No further splits with positive gain, best gain: -inf\n",
            "[LightGBM] [Warning] No further splits with positive gain, best gain: -inf\n",
            "[LightGBM] [Warning] No further splits with positive gain, best gain: -inf\n",
            "[LightGBM] [Warning] No further splits with positive gain, best gain: -inf\n",
            "[LightGBM] [Warning] No further splits with positive gain, best gain: -inf\n",
            "[LightGBM] [Warning] No further splits with positive gain, best gain: -inf\n",
            "[LightGBM] [Warning] No further splits with positive gain, best gain: -inf\n",
            "[LightGBM] [Warning] No further splits with positive gain, best gain: -inf\n",
            "[LightGBM] [Warning] No further splits with positive gain, best gain: -inf\n",
            "[LightGBM] [Warning] No further splits with positive gain, best gain: -inf\n",
            "[LightGBM] [Warning] No further splits with positive gain, best gain: -inf\n",
            "[LightGBM] [Warning] No further splits with positive gain, best gain: -inf\n",
            "[LightGBM] [Warning] No further splits with positive gain, best gain: -inf\n",
            "[LightGBM] [Warning] No further splits with positive gain, best gain: -inf\n",
            "[LightGBM] [Warning] No further splits with positive gain, best gain: -inf\n",
            "[LightGBM] [Warning] No further splits with positive gain, best gain: -inf\n",
            "[LightGBM] [Warning] No further splits with positive gain, best gain: -inf\n",
            "[LightGBM] [Warning] No further splits with positive gain, best gain: -inf\n",
            "[LightGBM] [Warning] No further splits with positive gain, best gain: -inf\n",
            "[LightGBM] [Warning] No further splits with positive gain, best gain: -inf\n",
            "[LightGBM] [Warning] No further splits with positive gain, best gain: -inf\n",
            "[LightGBM] [Warning] No further splits with positive gain, best gain: -inf\n",
            "[LightGBM] [Warning] No further splits with positive gain, best gain: -inf\n",
            "[LightGBM] [Warning] No further splits with positive gain, best gain: -inf\n",
            "[LightGBM] [Warning] No further splits with positive gain, best gain: -inf\n",
            "[LightGBM] [Warning] No further splits with positive gain, best gain: -inf\n",
            "[LightGBM] [Warning] No further splits with positive gain, best gain: -inf\n",
            "[LightGBM] [Warning] No further splits with positive gain, best gain: -inf\n",
            "[LightGBM] [Warning] No further splits with positive gain, best gain: -inf\n",
            "[LightGBM] [Warning] No further splits with positive gain, best gain: -inf\n",
            "[LightGBM] [Warning] No further splits with positive gain, best gain: -inf\n",
            "[LightGBM] [Warning] No further splits with positive gain, best gain: -inf\n",
            "[LightGBM] [Warning] No further splits with positive gain, best gain: -inf\n",
            "[LightGBM] [Warning] No further splits with positive gain, best gain: -inf\n",
            "[LightGBM] [Warning] No further splits with positive gain, best gain: -inf\n",
            "[LightGBM] [Warning] No further splits with positive gain, best gain: -inf\n",
            "[LightGBM] [Warning] No further splits with positive gain, best gain: -inf\n",
            "[LightGBM] [Warning] No further splits with positive gain, best gain: -inf\n",
            "[LightGBM] [Warning] No further splits with positive gain, best gain: -inf\n",
            "[LightGBM] [Warning] No further splits with positive gain, best gain: -inf\n",
            "[LightGBM] [Warning] No further splits with positive gain, best gain: -inf\n",
            "[LightGBM] [Warning] No further splits with positive gain, best gain: -inf\n",
            "[LightGBM] [Warning] No further splits with positive gain, best gain: -inf\n",
            "[LightGBM] [Warning] No further splits with positive gain, best gain: -inf\n",
            "[LightGBM] [Warning] No further splits with positive gain, best gain: -inf\n",
            "[LightGBM] [Warning] No further splits with positive gain, best gain: -inf\n",
            "[LightGBM] [Warning] No further splits with positive gain, best gain: -inf\n",
            "[LightGBM] [Warning] No further splits with positive gain, best gain: -inf\n",
            "[LightGBM] [Warning] No further splits with positive gain, best gain: -inf\n",
            "[LightGBM] [Warning] No further splits with positive gain, best gain: -inf\n",
            "[LightGBM] [Warning] No further splits with positive gain, best gain: -inf\n",
            "[LightGBM] [Warning] No further splits with positive gain, best gain: -inf\n",
            "[LightGBM] [Warning] No further splits with positive gain, best gain: -inf\n",
            "[LightGBM] [Warning] No further splits with positive gain, best gain: -inf\n",
            "[LightGBM] [Warning] No further splits with positive gain, best gain: -inf\n",
            "[LightGBM] [Warning] No further splits with positive gain, best gain: -inf\n",
            "[LightGBM] [Warning] No further splits with positive gain, best gain: -inf\n",
            "[LightGBM] [Warning] No further splits with positive gain, best gain: -inf\n",
            "[LightGBM] [Warning] No further splits with positive gain, best gain: -inf\n",
            "[LightGBM] [Warning] No further splits with positive gain, best gain: -inf\n",
            "[LightGBM] [Warning] No further splits with positive gain, best gain: -inf\n",
            "[LightGBM] [Warning] No further splits with positive gain, best gain: -inf\n",
            "[LightGBM] [Info] Number of positive: 619001, number of negative: 180999\n",
            "[LightGBM] [Info] Auto-choosing row-wise multi-threading, the overhead of testing was 0.022000 seconds.\n",
            "You can set `force_row_wise=true` to remove the overhead.\n",
            "And if memory is not enough, you can set `force_col_wise=true`.\n",
            "[LightGBM] [Info] Total Bins 793\n",
            "[LightGBM] [Info] Number of data points in the train set: 800000, number of used features: 8\n",
            "[LightGBM] [Info] [binary:BoostFromScore]: pavg=0.655899 -> initscore=0.645073\n",
            "[LightGBM] [Info] Start training from score 0.645073\n",
            "[LightGBM] [Info] Number of positive: 522917, number of negative: 277083\n",
            "[LightGBM] [Info] Auto-choosing row-wise multi-threading, the overhead of testing was 0.041093 seconds.\n",
            "You can set `force_row_wise=true` to remove the overhead.\n",
            "And if memory is not enough, you can set `force_col_wise=true`.\n",
            "[LightGBM] [Info] Total Bins 793\n",
            "[LightGBM] [Info] Number of data points in the train set: 800000, number of used features: 8\n",
            "[LightGBM] [Info] [binary:BoostFromScore]: pavg=0.654126 -> initscore=0.637225\n",
            "[LightGBM] [Info] Start training from score 0.637225\n",
            "[LightGBM] [Info] Number of positive: 354230, number of negative: 445770\n",
            "[LightGBM] [Info] Auto-choosing row-wise multi-threading, the overhead of testing was 0.022076 seconds.\n",
            "You can set `force_row_wise=true` to remove the overhead.\n",
            "And if memory is not enough, you can set `force_col_wise=true`.\n",
            "[LightGBM] [Info] Total Bins 793\n",
            "[LightGBM] [Info] Number of data points in the train set: 800000, number of used features: 8\n",
            "[LightGBM] [Info] [binary:BoostFromScore]: pavg=0.651619 -> initscore=0.626165\n",
            "[LightGBM] [Info] Start training from score 0.626165\n",
            "[LightGBM] [Info] Number of positive: 354683, number of negative: 445317\n",
            "[LightGBM] [Info] Auto-choosing row-wise multi-threading, the overhead of testing was 0.033136 seconds.\n",
            "You can set `force_row_wise=true` to remove the overhead.\n",
            "And if memory is not enough, you can set `force_col_wise=true`.\n",
            "[LightGBM] [Info] Total Bins 793\n",
            "[LightGBM] [Info] Number of data points in the train set: 800000, number of used features: 8\n",
            "[LightGBM] [Info] [binary:BoostFromScore]: pavg=0.605592 -> initscore=0.428821\n",
            "[LightGBM] [Info] Start training from score 0.428821\n",
            "[LightGBM] [Info] Number of positive: 534927, number of negative: 265073\n",
            "[LightGBM] [Info] Auto-choosing row-wise multi-threading, the overhead of testing was 0.022020 seconds.\n",
            "You can set `force_row_wise=true` to remove the overhead.\n",
            "And if memory is not enough, you can set `force_col_wise=true`.\n",
            "[LightGBM] [Info] Total Bins 793\n",
            "[LightGBM] [Info] Number of data points in the train set: 800000, number of used features: 8\n",
            "[LightGBM] [Info] [binary:BoostFromScore]: pavg=0.572479 -> initscore=0.291974\n",
            "[LightGBM] [Info] Start training from score 0.291974\n",
            "[LightGBM] [Info] Number of positive: 264771, number of negative: 535229\n",
            "[LightGBM] [Info] Auto-choosing col-wise multi-threading, the overhead of testing was 0.163007 seconds.\n",
            "You can set `force_col_wise=true` to remove the overhead.\n",
            "[LightGBM] [Info] Total Bins 793\n",
            "[LightGBM] [Info] Number of data points in the train set: 800000, number of used features: 8\n",
            "[LightGBM] [Info] [binary:BoostFromScore]: pavg=0.599542 -> initscore=0.403555\n",
            "[LightGBM] [Info] Start training from score 0.403555\n",
            "[LightGBM] [Warning] No further splits with positive gain, best gain: -inf\n",
            "[LightGBM] [Warning] No further splits with positive gain, best gain: -inf\n",
            "[LightGBM] [Warning] No further splits with positive gain, best gain: -inf\n",
            "[LightGBM] [Warning] No further splits with positive gain, best gain: -inf\n",
            "[LightGBM] [Warning] No further splits with positive gain, best gain: -inf\n",
            "[LightGBM] [Warning] No further splits with positive gain, best gain: -inf\n",
            "[LightGBM] [Warning] No further splits with positive gain, best gain: -inf\n",
            "[LightGBM] [Warning] No further splits with positive gain, best gain: -inf\n",
            "[LightGBM] [Warning] No further splits with positive gain, best gain: -inf\n",
            "[LightGBM] [Warning] No further splits with positive gain, best gain: -inf\n",
            "[LightGBM] [Warning] No further splits with positive gain, best gain: -inf\n",
            "[LightGBM] [Warning] No further splits with positive gain, best gain: -inf\n",
            "[LightGBM] [Warning] No further splits with positive gain, best gain: -inf\n",
            "[LightGBM] [Warning] No further splits with positive gain, best gain: -inf\n",
            "[LightGBM] [Warning] No further splits with positive gain, best gain: -inf\n",
            "[LightGBM] [Warning] No further splits with positive gain, best gain: -inf\n",
            "[LightGBM] [Warning] No further splits with positive gain, best gain: -inf\n",
            "[LightGBM] [Warning] No further splits with positive gain, best gain: -inf\n",
            "[LightGBM] [Warning] No further splits with positive gain, best gain: -inf\n",
            "[LightGBM] [Warning] No further splits with positive gain, best gain: -inf\n",
            "[LightGBM] [Warning] No further splits with positive gain, best gain: -inf\n",
            "[LightGBM] [Warning] No further splits with positive gain, best gain: -inf\n",
            "[LightGBM] [Warning] No further splits with positive gain, best gain: -inf\n",
            "[LightGBM] [Warning] No further splits with positive gain, best gain: -inf\n",
            "[LightGBM] [Warning] No further splits with positive gain, best gain: -inf\n",
            "[LightGBM] [Warning] No further splits with positive gain, best gain: -inf\n",
            "[LightGBM] [Warning] No further splits with positive gain, best gain: -inf\n",
            "[LightGBM] [Warning] No further splits with positive gain, best gain: -inf\n",
            "[LightGBM] [Warning] No further splits with positive gain, best gain: -inf\n",
            "[LightGBM] [Warning] No further splits with positive gain, best gain: -inf\n",
            "[LightGBM] [Warning] No further splits with positive gain, best gain: -inf\n",
            "[LightGBM] [Warning] No further splits with positive gain, best gain: -inf\n",
            "[LightGBM] [Warning] No further splits with positive gain, best gain: -inf\n",
            "[LightGBM] [Warning] No further splits with positive gain, best gain: -inf\n",
            "[LightGBM] [Warning] No further splits with positive gain, best gain: -inf\n",
            "[LightGBM] [Warning] No further splits with positive gain, best gain: -inf\n",
            "[LightGBM] [Warning] No further splits with positive gain, best gain: -inf\n",
            "[LightGBM] [Warning] No further splits with positive gain, best gain: -inf\n",
            "[LightGBM] [Warning] No further splits with positive gain, best gain: -inf\n",
            "[LightGBM] [Warning] No further splits with positive gain, best gain: -inf\n",
            "[LightGBM] [Warning] No further splits with positive gain, best gain: -inf\n",
            "[LightGBM] [Warning] No further splits with positive gain, best gain: -inf\n",
            "[LightGBM] [Warning] No further splits with positive gain, best gain: -inf\n",
            "[LightGBM] [Warning] No further splits with positive gain, best gain: -inf\n",
            "[LightGBM] [Warning] No further splits with positive gain, best gain: -inf\n",
            "[LightGBM] [Warning] No further splits with positive gain, best gain: -inf\n",
            "[LightGBM] [Warning] No further splits with positive gain, best gain: -inf\n",
            "[LightGBM] [Warning] No further splits with positive gain, best gain: -inf\n",
            "[LightGBM] [Warning] No further splits with positive gain, best gain: -inf\n",
            "[LightGBM] [Warning] No further splits with positive gain, best gain: -inf\n",
            "[LightGBM] [Warning] No further splits with positive gain, best gain: -inf\n",
            "[LightGBM] [Warning] No further splits with positive gain, best gain: -inf\n",
            "[LightGBM] [Warning] No further splits with positive gain, best gain: -inf\n",
            "[LightGBM] [Warning] No further splits with positive gain, best gain: -inf\n",
            "[LightGBM] [Warning] No further splits with positive gain, best gain: -inf\n",
            "[LightGBM] [Warning] No further splits with positive gain, best gain: -inf\n",
            "[LightGBM] [Warning] No further splits with positive gain, best gain: -inf\n",
            "[LightGBM] [Warning] No further splits with positive gain, best gain: -inf\n",
            "[LightGBM] [Warning] No further splits with positive gain, best gain: -inf\n",
            "[LightGBM] [Warning] No further splits with positive gain, best gain: -inf\n",
            "[LightGBM] [Warning] No further splits with positive gain, best gain: -inf\n",
            "[LightGBM] [Warning] No further splits with positive gain, best gain: -inf\n",
            "[LightGBM] [Warning] No further splits with positive gain, best gain: -inf\n",
            "[LightGBM] [Warning] No further splits with positive gain, best gain: -inf\n",
            "[LightGBM] [Warning] No further splits with positive gain, best gain: -inf\n",
            "[LightGBM] [Warning] No further splits with positive gain, best gain: -inf\n",
            "[LightGBM] [Warning] No further splits with positive gain, best gain: -inf\n",
            "[LightGBM] [Warning] No further splits with positive gain, best gain: -inf\n",
            "[LightGBM] [Warning] No further splits with positive gain, best gain: -inf\n",
            "[LightGBM] [Warning] No further splits with positive gain, best gain: -inf\n",
            "[LightGBM] [Warning] No further splits with positive gain, best gain: -inf\n",
            "[LightGBM] [Warning] No further splits with positive gain, best gain: -inf\n",
            "[LightGBM] [Warning] No further splits with positive gain, best gain: -inf\n",
            "[LightGBM] [Warning] No further splits with positive gain, best gain: -inf\n",
            "[LightGBM] [Warning] No further splits with positive gain, best gain: -inf\n",
            "[LightGBM] [Warning] No further splits with positive gain, best gain: -inf\n",
            "[LightGBM] [Warning] No further splits with positive gain, best gain: -inf\n",
            "[LightGBM] [Warning] No further splits with positive gain, best gain: -inf\n",
            "[LightGBM] [Warning] No further splits with positive gain, best gain: -inf\n",
            "[LightGBM] [Warning] No further splits with positive gain, best gain: -inf\n",
            "[LightGBM] [Warning] No further splits with positive gain, best gain: -inf\n",
            "[LightGBM] [Warning] No further splits with positive gain, best gain: -inf\n",
            "[LightGBM] [Warning] No further splits with positive gain, best gain: -inf\n",
            "[LightGBM] [Warning] No further splits with positive gain, best gain: -inf\n",
            "[LightGBM] [Warning] No further splits with positive gain, best gain: -inf\n",
            "[LightGBM] [Warning] No further splits with positive gain, best gain: -inf\n",
            "[LightGBM] [Warning] No further splits with positive gain, best gain: -inf\n",
            "[LightGBM] [Warning] No further splits with positive gain, best gain: -inf\n",
            "[LightGBM] [Warning] No further splits with positive gain, best gain: -inf\n",
            "[LightGBM] [Warning] No further splits with positive gain, best gain: -inf\n",
            "[LightGBM] [Warning] No further splits with positive gain, best gain: -inf\n",
            "[LightGBM] [Warning] No further splits with positive gain, best gain: -inf\n",
            "[LightGBM] [Info] Number of positive: 619001, number of negative: 180999\n",
            "[LightGBM] [Info] Auto-choosing row-wise multi-threading, the overhead of testing was 0.021980 seconds.\n",
            "You can set `force_row_wise=true` to remove the overhead.\n",
            "And if memory is not enough, you can set `force_col_wise=true`.\n",
            "[LightGBM] [Info] Total Bins 793\n",
            "[LightGBM] [Info] Number of data points in the train set: 800000, number of used features: 8\n",
            "[LightGBM] [Info] [binary:BoostFromScore]: pavg=0.640172 -> initscore=0.576110\n",
            "[LightGBM] [Info] Start training from score 0.576110\n",
            "[LightGBM] [Info] Number of positive: 522917, number of negative: 277083\n",
            "[LightGBM] [Info] Auto-choosing row-wise multi-threading, the overhead of testing was 0.022128 seconds.\n",
            "You can set `force_row_wise=true` to remove the overhead.\n",
            "And if memory is not enough, you can set `force_col_wise=true`.\n",
            "[LightGBM] [Info] Total Bins 793\n",
            "[LightGBM] [Info] Number of data points in the train set: 800000, number of used features: 8\n",
            "[LightGBM] [Info] [binary:BoostFromScore]: pavg=0.655543 -> initscore=0.643496\n",
            "[LightGBM] [Info] Start training from score 0.643496\n",
            "[LightGBM] [Info] Number of positive: 523370, number of negative: 276630\n",
            "[LightGBM] [Info] Auto-choosing row-wise multi-threading, the overhead of testing was 0.022047 seconds.\n",
            "You can set `force_row_wise=true` to remove the overhead.\n",
            "And if memory is not enough, you can set `force_col_wise=true`.\n",
            "[LightGBM] [Info] Total Bins 793\n",
            "[LightGBM] [Info] Number of data points in the train set: 800000, number of used features: 8\n",
            "[LightGBM] [Info] [binary:BoostFromScore]: pavg=0.652905 -> initscore=0.631833\n",
            "[LightGBM] [Info] Start training from score 0.631833\n",
            "[LightGBM] [Info] Number of positive: 354683, number of negative: 445317\n",
            "[LightGBM] [Info] Auto-choosing row-wise multi-threading, the overhead of testing was 0.021863 seconds.\n",
            "You can set `force_row_wise=true` to remove the overhead.\n",
            "And if memory is not enough, you can set `force_col_wise=true`.\n",
            "[LightGBM] [Info] Total Bins 793\n",
            "[LightGBM] [Info] Number of data points in the train set: 800000, number of used features: 8\n",
            "[LightGBM] [Info] [binary:BoostFromScore]: pavg=0.624260 -> initscore=0.507670\n",
            "[LightGBM] [Info] Start training from score 0.507670\n",
            "[LightGBM] [Info] Number of positive: 534927, number of negative: 265073\n",
            "[LightGBM] [Info] Auto-choosing row-wise multi-threading, the overhead of testing was 0.039316 seconds.\n",
            "You can set `force_row_wise=true` to remove the overhead.\n",
            "And if memory is not enough, you can set `force_col_wise=true`.\n",
            "[LightGBM] [Info] Total Bins 793\n",
            "[LightGBM] [Info] Number of data points in the train set: 800000, number of used features: 8\n",
            "[LightGBM] [Info] [binary:BoostFromScore]: pavg=0.585849 -> initscore=0.346830\n",
            "[LightGBM] [Info] Start training from score 0.346830\n",
            "[LightGBM] [Info] Number of positive: 534927, number of negative: 265073\n",
            "[LightGBM] [Info] Auto-choosing row-wise multi-threading, the overhead of testing was 0.022304 seconds.\n",
            "You can set `force_row_wise=true` to remove the overhead.\n",
            "And if memory is not enough, you can set `force_col_wise=true`.\n",
            "[LightGBM] [Info] Total Bins 793\n",
            "[LightGBM] [Info] Number of data points in the train set: 800000, number of used features: 8\n",
            "[LightGBM] [Info] [binary:BoostFromScore]: pavg=0.562561 -> initscore=0.251563\n",
            "[LightGBM] [Info] Start training from score 0.251563\n",
            "[LightGBM] [Warning] No further splits with positive gain, best gain: -inf\n",
            "[LightGBM] [Warning] No further splits with positive gain, best gain: -inf\n",
            "[LightGBM] [Warning] No further splits with positive gain, best gain: -inf\n",
            "[LightGBM] [Warning] No further splits with positive gain, best gain: -inf\n",
            "[LightGBM] [Warning] No further splits with positive gain, best gain: -inf\n",
            "[LightGBM] [Warning] No further splits with positive gain, best gain: -inf\n",
            "[LightGBM] [Warning] No further splits with positive gain, best gain: -inf\n",
            "[LightGBM] [Warning] No further splits with positive gain, best gain: -inf\n",
            "[LightGBM] [Warning] No further splits with positive gain, best gain: -inf\n",
            "[LightGBM] [Warning] No further splits with positive gain, best gain: -inf\n",
            "[LightGBM] [Warning] No further splits with positive gain, best gain: -inf\n",
            "[LightGBM] [Warning] No further splits with positive gain, best gain: -inf\n",
            "[LightGBM] [Warning] No further splits with positive gain, best gain: -inf\n",
            "[LightGBM] [Warning] No further splits with positive gain, best gain: -inf\n",
            "[LightGBM] [Warning] No further splits with positive gain, best gain: -inf\n",
            "[LightGBM] [Warning] No further splits with positive gain, best gain: -inf\n",
            "[LightGBM] [Warning] No further splits with positive gain, best gain: -inf\n",
            "[LightGBM] [Warning] No further splits with positive gain, best gain: -inf\n",
            "[LightGBM] [Warning] No further splits with positive gain, best gain: -inf\n",
            "[LightGBM] [Warning] No further splits with positive gain, best gain: -inf\n",
            "[LightGBM] [Warning] No further splits with positive gain, best gain: -inf\n",
            "[LightGBM] [Warning] No further splits with positive gain, best gain: -inf\n",
            "[LightGBM] [Warning] No further splits with positive gain, best gain: -inf\n",
            "[LightGBM] [Warning] No further splits with positive gain, best gain: -inf\n",
            "[LightGBM] [Warning] No further splits with positive gain, best gain: -inf\n",
            "[LightGBM] [Warning] No further splits with positive gain, best gain: -inf\n",
            "[LightGBM] [Warning] No further splits with positive gain, best gain: -inf\n",
            "[LightGBM] [Warning] No further splits with positive gain, best gain: -inf\n",
            "[LightGBM] [Warning] No further splits with positive gain, best gain: -inf\n",
            "[LightGBM] [Warning] No further splits with positive gain, best gain: -inf\n",
            "[LightGBM] [Warning] No further splits with positive gain, best gain: -inf\n",
            "[LightGBM] [Warning] No further splits with positive gain, best gain: -inf\n",
            "[LightGBM] [Warning] No further splits with positive gain, best gain: -inf\n",
            "[LightGBM] [Warning] No further splits with positive gain, best gain: -inf\n",
            "[LightGBM] [Warning] No further splits with positive gain, best gain: -inf\n",
            "[LightGBM] [Warning] No further splits with positive gain, best gain: -inf\n",
            "[LightGBM] [Warning] No further splits with positive gain, best gain: -inf\n",
            "[LightGBM] [Warning] No further splits with positive gain, best gain: -inf\n",
            "[LightGBM] [Warning] No further splits with positive gain, best gain: -inf\n",
            "[LightGBM] [Warning] No further splits with positive gain, best gain: -inf\n",
            "[LightGBM] [Warning] No further splits with positive gain, best gain: -inf\n",
            "[LightGBM] [Warning] No further splits with positive gain, best gain: -inf\n",
            "[LightGBM] [Warning] No further splits with positive gain, best gain: -inf\n",
            "[LightGBM] [Warning] No further splits with positive gain, best gain: -inf\n",
            "[LightGBM] [Warning] No further splits with positive gain, best gain: -inf\n",
            "[LightGBM] [Warning] No further splits with positive gain, best gain: -inf\n",
            "[LightGBM] [Warning] No further splits with positive gain, best gain: -inf\n",
            "[LightGBM] [Warning] No further splits with positive gain, best gain: -inf\n",
            "[LightGBM] [Warning] No further splits with positive gain, best gain: -inf\n",
            "[LightGBM] [Warning] No further splits with positive gain, best gain: -inf\n",
            "[LightGBM] [Warning] No further splits with positive gain, best gain: -inf\n",
            "[LightGBM] [Warning] No further splits with positive gain, best gain: -inf\n",
            "[LightGBM] [Warning] No further splits with positive gain, best gain: -inf\n",
            "[LightGBM] [Warning] No further splits with positive gain, best gain: -inf\n",
            "[LightGBM] [Warning] No further splits with positive gain, best gain: -inf\n",
            "[LightGBM] [Warning] No further splits with positive gain, best gain: -inf\n",
            "[LightGBM] [Warning] No further splits with positive gain, best gain: -inf\n",
            "[LightGBM] [Warning] No further splits with positive gain, best gain: -inf\n",
            "[LightGBM] [Warning] No further splits with positive gain, best gain: -inf\n",
            "[LightGBM] [Warning] No further splits with positive gain, best gain: -inf\n",
            "[LightGBM] [Warning] No further splits with positive gain, best gain: -inf\n",
            "[LightGBM] [Warning] No further splits with positive gain, best gain: -inf\n",
            "[LightGBM] [Warning] No further splits with positive gain, best gain: -inf\n",
            "[LightGBM] [Warning] No further splits with positive gain, best gain: -inf\n",
            "[LightGBM] [Warning] No further splits with positive gain, best gain: -inf\n",
            "[LightGBM] [Warning] No further splits with positive gain, best gain: -inf\n",
            "[LightGBM] [Warning] No further splits with positive gain, best gain: -inf\n",
            "[LightGBM] [Warning] No further splits with positive gain, best gain: -inf\n",
            "[LightGBM] [Warning] No further splits with positive gain, best gain: -inf\n",
            "[LightGBM] [Warning] No further splits with positive gain, best gain: -inf\n",
            "[LightGBM] [Warning] No further splits with positive gain, best gain: -inf\n",
            "[LightGBM] [Warning] No further splits with positive gain, best gain: -inf\n",
            "[LightGBM] [Warning] No further splits with positive gain, best gain: -inf\n",
            "[LightGBM] [Warning] No further splits with positive gain, best gain: -inf\n",
            "[LightGBM] [Warning] No further splits with positive gain, best gain: -inf\n",
            "[LightGBM] [Warning] No further splits with positive gain, best gain: -inf\n",
            "[LightGBM] [Warning] No further splits with positive gain, best gain: -inf\n",
            "[LightGBM] [Warning] No further splits with positive gain, best gain: -inf\n",
            "[LightGBM] [Warning] No further splits with positive gain, best gain: -inf\n",
            "[LightGBM] [Warning] No further splits with positive gain, best gain: -inf\n",
            "[LightGBM] [Warning] No further splits with positive gain, best gain: -inf\n",
            "[LightGBM] [Warning] No further splits with positive gain, best gain: -inf\n",
            "[LightGBM] [Warning] No further splits with positive gain, best gain: -inf\n",
            "[LightGBM] [Warning] No further splits with positive gain, best gain: -inf\n",
            "[LightGBM] [Warning] No further splits with positive gain, best gain: -inf\n",
            "[LightGBM] [Warning] No further splits with positive gain, best gain: -inf\n",
            "[LightGBM] [Warning] No further splits with positive gain, best gain: -inf\n",
            "[LightGBM] [Warning] No further splits with positive gain, best gain: -inf\n",
            "[LightGBM] [Warning] No further splits with positive gain, best gain: -inf\n",
            "[LightGBM] [Warning] No further splits with positive gain, best gain: -inf\n",
            "[LightGBM] [Warning] No further splits with positive gain, best gain: -inf\n",
            "[LightGBM] [Warning] No further splits with positive gain, best gain: -inf\n",
            "[LightGBM] [Warning] No further splits with positive gain, best gain: -inf\n",
            "[LightGBM] [Info] Number of positive: 264771, number of negative: 535229\n",
            "[LightGBM] [Info] Auto-choosing row-wise multi-threading, the overhead of testing was 0.024694 seconds.\n",
            "You can set `force_row_wise=true` to remove the overhead.\n",
            "And if memory is not enough, you can set `force_col_wise=true`.\n",
            "[LightGBM] [Info] Total Bins 793\n",
            "[LightGBM] [Info] Number of data points in the train set: 800000, number of used features: 8\n",
            "[LightGBM] [Info] [binary:BoostFromScore]: pavg=0.560494 -> initscore=0.243166\n",
            "[LightGBM] [Info] Start training from score 0.243166\n",
            "[LightGBM] [Warning] No further splits with positive gain, best gain: -inf\n",
            "[LightGBM] [Warning] No further splits with positive gain, best gain: -inf\n",
            "[LightGBM] [Warning] No further splits with positive gain, best gain: -inf\n",
            "[LightGBM] [Warning] No further splits with positive gain, best gain: -inf\n",
            "[LightGBM] [Warning] No further splits with positive gain, best gain: -inf\n",
            "[LightGBM] [Warning] No further splits with positive gain, best gain: -inf\n",
            "[LightGBM] [Warning] No further splits with positive gain, best gain: -inf\n",
            "[LightGBM] [Warning] No further splits with positive gain, best gain: -inf\n",
            "[LightGBM] [Warning] No further splits with positive gain, best gain: -inf\n",
            "[LightGBM] [Warning] No further splits with positive gain, best gain: -inf\n",
            "[LightGBM] [Warning] No further splits with positive gain, best gain: -inf\n",
            "[LightGBM] [Warning] No further splits with positive gain, best gain: -inf\n",
            "[LightGBM] [Warning] No further splits with positive gain, best gain: -inf\n",
            "[LightGBM] [Warning] No further splits with positive gain, best gain: -inf\n",
            "[LightGBM] [Warning] No further splits with positive gain, best gain: -inf\n",
            "[LightGBM] [Warning] No further splits with positive gain, best gain: -inf\n",
            "[LightGBM] [Warning] No further splits with positive gain, best gain: -inf\n",
            "[LightGBM] [Warning] No further splits with positive gain, best gain: -inf\n",
            "[LightGBM] [Warning] No further splits with positive gain, best gain: -inf\n",
            "[LightGBM] [Warning] No further splits with positive gain, best gain: -inf\n",
            "[LightGBM] [Warning] No further splits with positive gain, best gain: -inf\n",
            "[LightGBM] [Warning] No further splits with positive gain, best gain: -inf\n",
            "[LightGBM] [Warning] No further splits with positive gain, best gain: -inf\n",
            "[LightGBM] [Warning] No further splits with positive gain, best gain: -inf\n",
            "[LightGBM] [Warning] No further splits with positive gain, best gain: -inf\n",
            "[LightGBM] [Warning] No further splits with positive gain, best gain: -inf\n",
            "[LightGBM] [Warning] No further splits with positive gain, best gain: -inf\n",
            "[LightGBM] [Warning] No further splits with positive gain, best gain: -inf\n",
            "[LightGBM] [Warning] No further splits with positive gain, best gain: -inf\n",
            "[LightGBM] [Warning] No further splits with positive gain, best gain: -inf\n",
            "[LightGBM] [Warning] No further splits with positive gain, best gain: -inf\n",
            "[LightGBM] [Warning] No further splits with positive gain, best gain: -inf\n",
            "[LightGBM] [Warning] No further splits with positive gain, best gain: -inf\n",
            "[LightGBM] [Warning] No further splits with positive gain, best gain: -inf\n",
            "[LightGBM] [Warning] No further splits with positive gain, best gain: -inf\n",
            "[LightGBM] [Warning] No further splits with positive gain, best gain: -inf\n",
            "[LightGBM] [Warning] No further splits with positive gain, best gain: -inf\n",
            "[LightGBM] [Warning] No further splits with positive gain, best gain: -inf\n",
            "[LightGBM] [Warning] No further splits with positive gain, best gain: -inf\n",
            "[LightGBM] [Warning] No further splits with positive gain, best gain: -inf\n",
            "[LightGBM] [Warning] No further splits with positive gain, best gain: -inf\n",
            "[LightGBM] [Warning] No further splits with positive gain, best gain: -inf\n",
            "[LightGBM] [Warning] No further splits with positive gain, best gain: -inf\n",
            "[LightGBM] [Warning] No further splits with positive gain, best gain: -inf\n",
            "[LightGBM] [Warning] No further splits with positive gain, best gain: -inf\n",
            "[LightGBM] [Warning] No further splits with positive gain, best gain: -inf\n",
            "[LightGBM] [Warning] No further splits with positive gain, best gain: -inf\n",
            "[LightGBM] [Warning] No further splits with positive gain, best gain: -inf\n",
            "[LightGBM] [Warning] No further splits with positive gain, best gain: -inf\n",
            "[LightGBM] [Warning] No further splits with positive gain, best gain: -inf\n",
            "[LightGBM] [Warning] No further splits with positive gain, best gain: -inf\n",
            "[LightGBM] [Warning] No further splits with positive gain, best gain: -inf\n",
            "[LightGBM] [Warning] No further splits with positive gain, best gain: -inf\n",
            "[LightGBM] [Warning] No further splits with positive gain, best gain: -inf\n",
            "[LightGBM] [Warning] No further splits with positive gain, best gain: -inf\n",
            "[LightGBM] [Warning] No further splits with positive gain, best gain: -inf\n",
            "[LightGBM] [Warning] No further splits with positive gain, best gain: -inf\n",
            "[LightGBM] [Warning] No further splits with positive gain, best gain: -inf\n",
            "[LightGBM] [Warning] No further splits with positive gain, best gain: -inf\n",
            "[LightGBM] [Warning] No further splits with positive gain, best gain: -inf\n",
            "[LightGBM] [Warning] No further splits with positive gain, best gain: -inf\n",
            "[LightGBM] [Warning] No further splits with positive gain, best gain: -inf\n",
            "[LightGBM] [Warning] No further splits with positive gain, best gain: -inf\n",
            "[LightGBM] [Warning] No further splits with positive gain, best gain: -inf\n",
            "[LightGBM] [Warning] No further splits with positive gain, best gain: -inf\n",
            "[LightGBM] [Warning] No further splits with positive gain, best gain: -inf\n",
            "[LightGBM] [Warning] No further splits with positive gain, best gain: -inf\n",
            "[LightGBM] [Warning] No further splits with positive gain, best gain: -inf\n",
            "[LightGBM] [Warning] No further splits with positive gain, best gain: -inf\n",
            "[LightGBM] [Warning] No further splits with positive gain, best gain: -inf\n",
            "[LightGBM] [Warning] No further splits with positive gain, best gain: -inf\n",
            "[LightGBM] [Warning] No further splits with positive gain, best gain: -inf\n",
            "[LightGBM] [Warning] No further splits with positive gain, best gain: -inf\n",
            "[LightGBM] [Warning] No further splits with positive gain, best gain: -inf\n",
            "[LightGBM] [Warning] No further splits with positive gain, best gain: -inf\n",
            "[LightGBM] [Warning] No further splits with positive gain, best gain: -inf\n",
            "[LightGBM] [Warning] No further splits with positive gain, best gain: -inf\n",
            "[LightGBM] [Warning] No further splits with positive gain, best gain: -inf\n",
            "[LightGBM] [Warning] No further splits with positive gain, best gain: -inf\n",
            "[LightGBM] [Warning] No further splits with positive gain, best gain: -inf\n",
            "[LightGBM] [Warning] No further splits with positive gain, best gain: -inf\n",
            "[LightGBM] [Warning] No further splits with positive gain, best gain: -inf\n",
            "[LightGBM] [Warning] No further splits with positive gain, best gain: -inf\n",
            "[LightGBM] [Warning] No further splits with positive gain, best gain: -inf\n",
            "[LightGBM] [Warning] No further splits with positive gain, best gain: -inf\n",
            "[LightGBM] [Warning] No further splits with positive gain, best gain: -inf\n",
            "[LightGBM] [Warning] No further splits with positive gain, best gain: -inf\n",
            "[LightGBM] [Info] Number of positive: 264771, number of negative: 535229\n",
            "[LightGBM] [Info] Auto-choosing row-wise multi-threading, the overhead of testing was 0.021881 seconds.\n",
            "You can set `force_row_wise=true` to remove the overhead.\n",
            "And if memory is not enough, you can set `force_col_wise=true`.\n",
            "[LightGBM] [Info] Total Bins 793\n",
            "[LightGBM] [Info] Number of data points in the train set: 800000, number of used features: 8\n",
            "[LightGBM] [Info] [binary:BoostFromScore]: pavg=0.582020 -> initscore=0.331070\n",
            "[LightGBM] [Info] Start training from score 0.331070\n",
            "[LightGBM] [Warning] No further splits with positive gain, best gain: -inf\n",
            "[LightGBM] [Warning] No further splits with positive gain, best gain: -inf\n",
            "[LightGBM] [Warning] No further splits with positive gain, best gain: -inf\n",
            "[LightGBM] [Warning] No further splits with positive gain, best gain: -inf\n",
            "[LightGBM] [Warning] No further splits with positive gain, best gain: -inf\n",
            "[LightGBM] [Warning] No further splits with positive gain, best gain: -inf\n",
            "[LightGBM] [Warning] No further splits with positive gain, best gain: -inf\n",
            "[LightGBM] [Warning] No further splits with positive gain, best gain: -inf\n",
            "[LightGBM] [Warning] No further splits with positive gain, best gain: -inf\n",
            "[LightGBM] [Warning] No further splits with positive gain, best gain: -inf\n",
            "[LightGBM] [Warning] No further splits with positive gain, best gain: -inf\n",
            "[LightGBM] [Warning] No further splits with positive gain, best gain: -inf\n",
            "[LightGBM] [Warning] No further splits with positive gain, best gain: -inf\n",
            "[LightGBM] [Warning] No further splits with positive gain, best gain: -inf\n",
            "[LightGBM] [Warning] No further splits with positive gain, best gain: -inf\n",
            "[LightGBM] [Warning] No further splits with positive gain, best gain: -inf\n",
            "[LightGBM] [Warning] No further splits with positive gain, best gain: -inf\n",
            "[LightGBM] [Warning] No further splits with positive gain, best gain: -inf\n",
            "[LightGBM] [Warning] No further splits with positive gain, best gain: -inf\n",
            "[LightGBM] [Warning] No further splits with positive gain, best gain: -inf\n",
            "[LightGBM] [Warning] No further splits with positive gain, best gain: -inf\n",
            "[LightGBM] [Warning] No further splits with positive gain, best gain: -inf\n",
            "[LightGBM] [Warning] No further splits with positive gain, best gain: -inf\n",
            "[LightGBM] [Warning] No further splits with positive gain, best gain: -inf\n",
            "[LightGBM] [Warning] No further splits with positive gain, best gain: -inf\n",
            "[LightGBM] [Warning] No further splits with positive gain, best gain: -inf\n",
            "[LightGBM] [Warning] No further splits with positive gain, best gain: -inf\n",
            "[LightGBM] [Warning] No further splits with positive gain, best gain: -inf\n",
            "[LightGBM] [Warning] No further splits with positive gain, best gain: -inf\n",
            "[LightGBM] [Warning] No further splits with positive gain, best gain: -inf\n",
            "[LightGBM] [Warning] No further splits with positive gain, best gain: -inf\n",
            "[LightGBM] [Warning] No further splits with positive gain, best gain: -inf\n",
            "[LightGBM] [Warning] No further splits with positive gain, best gain: -inf\n",
            "[LightGBM] [Warning] No further splits with positive gain, best gain: -inf\n",
            "[LightGBM] [Warning] No further splits with positive gain, best gain: -inf\n",
            "[LightGBM] [Warning] No further splits with positive gain, best gain: -inf\n",
            "[LightGBM] [Warning] No further splits with positive gain, best gain: -inf\n",
            "[LightGBM] [Warning] No further splits with positive gain, best gain: -inf\n",
            "[LightGBM] [Warning] No further splits with positive gain, best gain: -inf\n",
            "[LightGBM] [Warning] No further splits with positive gain, best gain: -inf\n",
            "[LightGBM] [Warning] No further splits with positive gain, best gain: -inf\n",
            "[LightGBM] [Warning] No further splits with positive gain, best gain: -inf\n",
            "[LightGBM] [Warning] No further splits with positive gain, best gain: -inf\n",
            "[LightGBM] [Warning] No further splits with positive gain, best gain: -inf\n",
            "[LightGBM] [Warning] No further splits with positive gain, best gain: -inf\n",
            "[LightGBM] [Warning] No further splits with positive gain, best gain: -inf\n",
            "[LightGBM] [Warning] No further splits with positive gain, best gain: -inf\n",
            "[LightGBM] [Warning] No further splits with positive gain, best gain: -inf\n",
            "[LightGBM] [Warning] No further splits with positive gain, best gain: -inf\n",
            "[LightGBM] [Warning] No further splits with positive gain, best gain: -inf\n",
            "[LightGBM] [Warning] No further splits with positive gain, best gain: -inf\n",
            "[LightGBM] [Warning] No further splits with positive gain, best gain: -inf\n",
            "[LightGBM] [Warning] No further splits with positive gain, best gain: -inf\n",
            "[LightGBM] [Warning] No further splits with positive gain, best gain: -inf\n",
            "[LightGBM] [Warning] No further splits with positive gain, best gain: -inf\n",
            "[LightGBM] [Warning] No further splits with positive gain, best gain: -inf\n",
            "[LightGBM] [Warning] No further splits with positive gain, best gain: -inf\n",
            "[LightGBM] [Warning] No further splits with positive gain, best gain: -inf\n",
            "[LightGBM] [Warning] No further splits with positive gain, best gain: -inf\n",
            "[LightGBM] [Warning] No further splits with positive gain, best gain: -inf\n",
            "[LightGBM] [Warning] No further splits with positive gain, best gain: -inf\n",
            "[LightGBM] [Warning] No further splits with positive gain, best gain: -inf\n",
            "[LightGBM] [Warning] No further splits with positive gain, best gain: -inf\n",
            "[LightGBM] [Warning] No further splits with positive gain, best gain: -inf\n",
            "[LightGBM] [Warning] No further splits with positive gain, best gain: -inf\n",
            "[LightGBM] [Warning] No further splits with positive gain, best gain: -inf\n",
            "[LightGBM] [Warning] No further splits with positive gain, best gain: -inf\n",
            "[LightGBM] [Warning] No further splits with positive gain, best gain: -inf\n",
            "[LightGBM] [Warning] No further splits with positive gain, best gain: -inf\n",
            "[LightGBM] [Warning] No further splits with positive gain, best gain: -inf\n",
            "[LightGBM] [Warning] No further splits with positive gain, best gain: -inf\n",
            "[LightGBM] [Warning] No further splits with positive gain, best gain: -inf\n",
            "[LightGBM] [Warning] No further splits with positive gain, best gain: -inf\n",
            "[LightGBM] [Warning] No further splits with positive gain, best gain: -inf\n",
            "[LightGBM] [Warning] No further splits with positive gain, best gain: -inf\n",
            "[LightGBM] [Warning] No further splits with positive gain, best gain: -inf\n",
            "[LightGBM] [Warning] No further splits with positive gain, best gain: -inf\n",
            "[LightGBM] [Warning] No further splits with positive gain, best gain: -inf\n",
            "[LightGBM] [Warning] No further splits with positive gain, best gain: -inf\n",
            "[LightGBM] [Warning] No further splits with positive gain, best gain: -inf\n",
            "[LightGBM] [Warning] No further splits with positive gain, best gain: -inf\n",
            "[LightGBM] [Warning] No further splits with positive gain, best gain: -inf\n",
            "[LightGBM] [Warning] No further splits with positive gain, best gain: -inf\n",
            "[LightGBM] [Warning] No further splits with positive gain, best gain: -inf\n",
            "[LightGBM] [Warning] No further splits with positive gain, best gain: -inf\n",
            "[LightGBM] [Warning] No further splits with positive gain, best gain: -inf\n",
            "[LightGBM] [Warning] No further splits with positive gain, best gain: -inf\n",
            "[LightGBM] [Warning] No further splits with positive gain, best gain: -inf\n",
            "[LightGBM] [Warning] No further splits with positive gain, best gain: -inf\n",
            "[LightGBM] [Info] Number of positive: 264771, number of negative: 535229\n",
            "[LightGBM] [Info] Auto-choosing row-wise multi-threading, the overhead of testing was 0.021866 seconds.\n",
            "You can set `force_row_wise=true` to remove the overhead.\n",
            "And if memory is not enough, you can set `force_col_wise=true`.\n",
            "[LightGBM] [Info] Total Bins 793\n",
            "[LightGBM] [Info] Number of data points in the train set: 800000, number of used features: 8\n",
            "[LightGBM] [Info] [binary:BoostFromScore]: pavg=0.627327 -> initscore=0.520766\n",
            "[LightGBM] [Info] Start training from score 0.520766\n",
            "[LightGBM] [Warning] No further splits with positive gain, best gain: -inf\n",
            "[LightGBM] [Warning] No further splits with positive gain, best gain: -inf\n",
            "[LightGBM] [Warning] No further splits with positive gain, best gain: -inf\n",
            "[LightGBM] [Warning] No further splits with positive gain, best gain: -inf\n",
            "[LightGBM] [Warning] No further splits with positive gain, best gain: -inf\n",
            "[LightGBM] [Warning] No further splits with positive gain, best gain: -inf\n",
            "[LightGBM] [Warning] No further splits with positive gain, best gain: -inf\n",
            "[LightGBM] [Warning] No further splits with positive gain, best gain: -inf\n",
            "[LightGBM] [Warning] No further splits with positive gain, best gain: -inf\n",
            "[LightGBM] [Warning] No further splits with positive gain, best gain: -inf\n",
            "[LightGBM] [Warning] No further splits with positive gain, best gain: -inf\n",
            "[LightGBM] [Warning] No further splits with positive gain, best gain: -inf\n",
            "[LightGBM] [Warning] No further splits with positive gain, best gain: -inf\n",
            "[LightGBM] [Warning] No further splits with positive gain, best gain: -inf\n",
            "[LightGBM] [Warning] No further splits with positive gain, best gain: -inf\n",
            "[LightGBM] [Warning] No further splits with positive gain, best gain: -inf\n",
            "[LightGBM] [Warning] No further splits with positive gain, best gain: -inf\n",
            "[LightGBM] [Warning] No further splits with positive gain, best gain: -inf\n",
            "[LightGBM] [Warning] No further splits with positive gain, best gain: -inf\n",
            "[LightGBM] [Warning] No further splits with positive gain, best gain: -inf\n",
            "[LightGBM] [Warning] No further splits with positive gain, best gain: -inf\n",
            "[LightGBM] [Warning] No further splits with positive gain, best gain: -inf\n",
            "[LightGBM] [Warning] No further splits with positive gain, best gain: -inf\n",
            "[LightGBM] [Warning] No further splits with positive gain, best gain: -inf\n",
            "[LightGBM] [Warning] No further splits with positive gain, best gain: -inf\n",
            "[LightGBM] [Warning] No further splits with positive gain, best gain: -inf\n",
            "[LightGBM] [Warning] No further splits with positive gain, best gain: -inf\n",
            "[LightGBM] [Warning] No further splits with positive gain, best gain: -inf\n",
            "[LightGBM] [Warning] No further splits with positive gain, best gain: -inf\n",
            "[LightGBM] [Warning] No further splits with positive gain, best gain: -inf\n",
            "[LightGBM] [Warning] No further splits with positive gain, best gain: -inf\n",
            "[LightGBM] [Warning] No further splits with positive gain, best gain: -inf\n",
            "[LightGBM] [Warning] No further splits with positive gain, best gain: -inf\n",
            "[LightGBM] [Warning] No further splits with positive gain, best gain: -inf\n",
            "[LightGBM] [Warning] No further splits with positive gain, best gain: -inf\n",
            "[LightGBM] [Warning] No further splits with positive gain, best gain: -inf\n",
            "[LightGBM] [Warning] No further splits with positive gain, best gain: -inf\n",
            "[LightGBM] [Warning] No further splits with positive gain, best gain: -inf\n",
            "[LightGBM] [Warning] No further splits with positive gain, best gain: -inf\n",
            "[LightGBM] [Warning] No further splits with positive gain, best gain: -inf\n",
            "[LightGBM] [Warning] No further splits with positive gain, best gain: -inf\n",
            "[LightGBM] [Warning] No further splits with positive gain, best gain: -inf\n",
            "[LightGBM] [Warning] No further splits with positive gain, best gain: -inf\n",
            "[LightGBM] [Warning] No further splits with positive gain, best gain: -inf\n",
            "[LightGBM] [Warning] No further splits with positive gain, best gain: -inf\n",
            "[LightGBM] [Warning] No further splits with positive gain, best gain: -inf\n",
            "[LightGBM] [Warning] No further splits with positive gain, best gain: -inf\n",
            "[LightGBM] [Warning] No further splits with positive gain, best gain: -inf\n",
            "[LightGBM] [Warning] No further splits with positive gain, best gain: -inf\n",
            "[LightGBM] [Warning] No further splits with positive gain, best gain: -inf\n",
            "[LightGBM] [Warning] No further splits with positive gain, best gain: -inf\n",
            "[LightGBM] [Warning] No further splits with positive gain, best gain: -inf\n",
            "[LightGBM] [Warning] No further splits with positive gain, best gain: -inf\n",
            "[LightGBM] [Warning] No further splits with positive gain, best gain: -inf\n",
            "[LightGBM] [Warning] No further splits with positive gain, best gain: -inf\n",
            "[LightGBM] [Warning] No further splits with positive gain, best gain: -inf\n",
            "[LightGBM] [Warning] No further splits with positive gain, best gain: -inf\n",
            "[LightGBM] [Warning] No further splits with positive gain, best gain: -inf\n",
            "[LightGBM] [Warning] No further splits with positive gain, best gain: -inf\n",
            "[LightGBM] [Warning] No further splits with positive gain, best gain: -inf\n",
            "[LightGBM] [Warning] No further splits with positive gain, best gain: -inf\n",
            "[LightGBM] [Warning] No further splits with positive gain, best gain: -inf\n",
            "[LightGBM] [Warning] No further splits with positive gain, best gain: -inf\n",
            "[LightGBM] [Warning] No further splits with positive gain, best gain: -inf\n",
            "[LightGBM] [Warning] No further splits with positive gain, best gain: -inf\n",
            "[LightGBM] [Warning] No further splits with positive gain, best gain: -inf\n",
            "[LightGBM] [Warning] No further splits with positive gain, best gain: -inf\n",
            "[LightGBM] [Warning] No further splits with positive gain, best gain: -inf\n",
            "[LightGBM] [Warning] No further splits with positive gain, best gain: -inf\n",
            "[LightGBM] [Warning] No further splits with positive gain, best gain: -inf\n",
            "[LightGBM] [Warning] No further splits with positive gain, best gain: -inf\n",
            "[LightGBM] [Warning] No further splits with positive gain, best gain: -inf\n",
            "[LightGBM] [Warning] No further splits with positive gain, best gain: -inf\n",
            "[LightGBM] [Warning] No further splits with positive gain, best gain: -inf\n",
            "[LightGBM] [Warning] No further splits with positive gain, best gain: -inf\n",
            "[LightGBM] [Warning] No further splits with positive gain, best gain: -inf\n",
            "[LightGBM] [Warning] No further splits with positive gain, best gain: -inf\n",
            "[LightGBM] [Warning] No further splits with positive gain, best gain: -inf\n",
            "[LightGBM] [Warning] No further splits with positive gain, best gain: -inf\n",
            "[LightGBM] [Warning] No further splits with positive gain, best gain: -inf\n",
            "[LightGBM] [Warning] No further splits with positive gain, best gain: -inf\n",
            "[LightGBM] [Warning] No further splits with positive gain, best gain: -inf\n",
            "[LightGBM] [Warning] No further splits with positive gain, best gain: -inf\n",
            "[LightGBM] [Warning] No further splits with positive gain, best gain: -inf\n",
            "[LightGBM] [Warning] No further splits with positive gain, best gain: -inf\n",
            "[LightGBM] [Warning] No further splits with positive gain, best gain: -inf\n",
            "[LightGBM] [Warning] No further splits with positive gain, best gain: -inf\n",
            "[LightGBM] [Warning] No further splits with positive gain, best gain: -inf\n",
            "[LightGBM] [Warning] No further splits with positive gain, best gain: -inf\n",
            "[LightGBM] [Warning] No further splits with positive gain, best gain: -inf\n",
            "[LightGBM] [Warning] No further splits with positive gain, best gain: -inf\n",
            "[LightGBM] [Warning] No further splits with positive gain, best gain: -inf\n",
            "[LightGBM] [Warning] No further splits with positive gain, best gain: -inf\n",
            "[LightGBM] [Warning] No further splits with positive gain, best gain: -inf\n",
            "[LightGBM] [Warning] No further splits with positive gain, best gain: -inf\n",
            "[LightGBM] [Info] Number of positive: 619454, number of negative: 180546\n",
            "[LightGBM] [Info] Auto-choosing row-wise multi-threading, the overhead of testing was 0.021926 seconds.\n",
            "You can set `force_row_wise=true` to remove the overhead.\n",
            "And if memory is not enough, you can set `force_col_wise=true`.\n",
            "[LightGBM] [Info] Total Bins 793\n",
            "[LightGBM] [Info] Number of data points in the train set: 800000, number of used features: 8\n",
            "[LightGBM] [Info] [binary:BoostFromScore]: pavg=0.656486 -> initscore=0.647673\n",
            "[LightGBM] [Info] Start training from score 0.647673\n",
            "[LightGBM] [Info] Number of positive: 523370, number of negative: 276630\n",
            "[LightGBM] [Info] Auto-choosing row-wise multi-threading, the overhead of testing was 0.022670 seconds.\n",
            "You can set `force_row_wise=true` to remove the overhead.\n",
            "And if memory is not enough, you can set `force_col_wise=true`.\n",
            "[LightGBM] [Info] Total Bins 793\n",
            "[LightGBM] [Info] Number of data points in the train set: 800000, number of used features: 8\n",
            "[LightGBM] [Info] [binary:BoostFromScore]: pavg=0.654212 -> initscore=0.637608\n",
            "[LightGBM] [Info] Start training from score 0.637608\n",
            "[LightGBM] [Info] Number of positive: 354683, number of negative: 445317\n",
            "[LightGBM] [Info] Auto-choosing row-wise multi-threading, the overhead of testing was 0.026078 seconds.\n",
            "You can set `force_row_wise=true` to remove the overhead.\n",
            "And if memory is not enough, you can set `force_col_wise=true`.\n",
            "[LightGBM] [Info] Total Bins 793\n",
            "[LightGBM] [Info] Number of data points in the train set: 800000, number of used features: 8\n",
            "[LightGBM] [Info] [binary:BoostFromScore]: pavg=0.650947 -> initscore=0.623203\n",
            "[LightGBM] [Info] Start training from score 0.623203\n",
            "[LightGBM] [Info] Number of positive: 354683, number of negative: 445317\n",
            "[LightGBM] [Info] Auto-choosing row-wise multi-threading, the overhead of testing was 0.037833 seconds.\n",
            "You can set `force_row_wise=true` to remove the overhead.\n",
            "And if memory is not enough, you can set `force_col_wise=true`.\n",
            "[LightGBM] [Info] Total Bins 793\n",
            "[LightGBM] [Info] Number of data points in the train set: 800000, number of used features: 8\n",
            "[LightGBM] [Info] [binary:BoostFromScore]: pavg=0.605265 -> initscore=0.427453\n",
            "[LightGBM] [Info] Start training from score 0.427453\n",
            "[LightGBM] [Warning] No further splits with positive gain, best gain: -inf\n",
            "[LightGBM] [Warning] No further splits with positive gain, best gain: -inf\n",
            "[LightGBM] [Warning] No further splits with positive gain, best gain: -inf\n",
            "[LightGBM] [Warning] No further splits with positive gain, best gain: -inf\n",
            "[LightGBM] [Warning] No further splits with positive gain, best gain: -inf\n",
            "[LightGBM] [Warning] No further splits with positive gain, best gain: -inf\n",
            "[LightGBM] [Warning] No further splits with positive gain, best gain: -inf\n",
            "[LightGBM] [Warning] No further splits with positive gain, best gain: -inf\n",
            "[LightGBM] [Warning] No further splits with positive gain, best gain: -inf\n",
            "[LightGBM] [Warning] No further splits with positive gain, best gain: -inf\n",
            "[LightGBM] [Warning] No further splits with positive gain, best gain: -inf\n",
            "[LightGBM] [Warning] No further splits with positive gain, best gain: -inf\n",
            "[LightGBM] [Warning] No further splits with positive gain, best gain: -inf\n",
            "[LightGBM] [Warning] No further splits with positive gain, best gain: -inf\n",
            "[LightGBM] [Warning] No further splits with positive gain, best gain: -inf\n",
            "[LightGBM] [Warning] No further splits with positive gain, best gain: -inf\n",
            "[LightGBM] [Warning] No further splits with positive gain, best gain: -inf\n",
            "[LightGBM] [Warning] No further splits with positive gain, best gain: -inf\n",
            "[LightGBM] [Warning] No further splits with positive gain, best gain: -inf\n",
            "[LightGBM] [Warning] No further splits with positive gain, best gain: -inf\n",
            "[LightGBM] [Warning] No further splits with positive gain, best gain: -inf\n",
            "[LightGBM] [Warning] No further splits with positive gain, best gain: -inf\n",
            "[LightGBM] [Warning] No further splits with positive gain, best gain: -inf\n",
            "[LightGBM] [Warning] No further splits with positive gain, best gain: -inf\n",
            "[LightGBM] [Warning] No further splits with positive gain, best gain: -inf\n",
            "[LightGBM] [Warning] No further splits with positive gain, best gain: -inf\n",
            "[LightGBM] [Warning] No further splits with positive gain, best gain: -inf\n",
            "[LightGBM] [Warning] No further splits with positive gain, best gain: -inf\n",
            "[LightGBM] [Warning] No further splits with positive gain, best gain: -inf\n",
            "[LightGBM] [Warning] No further splits with positive gain, best gain: -inf\n",
            "[LightGBM] [Warning] No further splits with positive gain, best gain: -inf\n",
            "[LightGBM] [Warning] No further splits with positive gain, best gain: -inf\n",
            "[LightGBM] [Warning] No further splits with positive gain, best gain: -inf\n",
            "[LightGBM] [Warning] No further splits with positive gain, best gain: -inf\n",
            "[LightGBM] [Warning] No further splits with positive gain, best gain: -inf\n",
            "[LightGBM] [Warning] No further splits with positive gain, best gain: -inf\n",
            "[LightGBM] [Warning] No further splits with positive gain, best gain: -inf\n",
            "[LightGBM] [Warning] No further splits with positive gain, best gain: -inf\n",
            "[LightGBM] [Warning] No further splits with positive gain, best gain: -inf\n",
            "[LightGBM] [Warning] No further splits with positive gain, best gain: -inf\n",
            "[LightGBM] [Warning] No further splits with positive gain, best gain: -inf\n",
            "[LightGBM] [Warning] No further splits with positive gain, best gain: -inf\n",
            "[LightGBM] [Warning] No further splits with positive gain, best gain: -inf\n",
            "[LightGBM] [Warning] No further splits with positive gain, best gain: -inf\n",
            "[LightGBM] [Warning] No further splits with positive gain, best gain: -inf\n",
            "[LightGBM] [Warning] No further splits with positive gain, best gain: -inf\n",
            "[LightGBM] [Warning] No further splits with positive gain, best gain: -inf\n",
            "[LightGBM] [Warning] No further splits with positive gain, best gain: -inf\n",
            "[LightGBM] [Warning] No further splits with positive gain, best gain: -inf\n",
            "[LightGBM] [Warning] No further splits with positive gain, best gain: -inf\n",
            "[LightGBM] [Warning] No further splits with positive gain, best gain: -inf\n",
            "[LightGBM] [Warning] No further splits with positive gain, best gain: -inf\n",
            "[LightGBM] [Warning] No further splits with positive gain, best gain: -inf\n",
            "[LightGBM] [Warning] No further splits with positive gain, best gain: -inf\n",
            "[LightGBM] [Warning] No further splits with positive gain, best gain: -inf\n",
            "[LightGBM] [Warning] No further splits with positive gain, best gain: -inf\n",
            "[LightGBM] [Warning] No further splits with positive gain, best gain: -inf\n",
            "[LightGBM] [Warning] No further splits with positive gain, best gain: -inf\n",
            "[LightGBM] [Warning] No further splits with positive gain, best gain: -inf\n",
            "[LightGBM] [Warning] No further splits with positive gain, best gain: -inf\n",
            "[LightGBM] [Warning] No further splits with positive gain, best gain: -inf\n",
            "[LightGBM] [Warning] No further splits with positive gain, best gain: -inf\n",
            "[LightGBM] [Warning] No further splits with positive gain, best gain: -inf\n",
            "[LightGBM] [Warning] No further splits with positive gain, best gain: -inf\n",
            "[LightGBM] [Warning] No further splits with positive gain, best gain: -inf\n",
            "[LightGBM] [Warning] No further splits with positive gain, best gain: -inf\n",
            "[LightGBM] [Warning] No further splits with positive gain, best gain: -inf\n",
            "[LightGBM] [Warning] No further splits with positive gain, best gain: -inf\n",
            "[LightGBM] [Warning] No further splits with positive gain, best gain: -inf\n",
            "[LightGBM] [Warning] No further splits with positive gain, best gain: -inf\n",
            "[LightGBM] [Warning] No further splits with positive gain, best gain: -inf\n",
            "[LightGBM] [Warning] No further splits with positive gain, best gain: -inf\n",
            "[LightGBM] [Warning] No further splits with positive gain, best gain: -inf\n",
            "[LightGBM] [Warning] No further splits with positive gain, best gain: -inf\n",
            "[LightGBM] [Warning] No further splits with positive gain, best gain: -inf\n",
            "[LightGBM] [Warning] No further splits with positive gain, best gain: -inf\n",
            "[LightGBM] [Warning] No further splits with positive gain, best gain: -inf\n",
            "[LightGBM] [Warning] No further splits with positive gain, best gain: -inf\n",
            "[LightGBM] [Warning] No further splits with positive gain, best gain: -inf\n",
            "[LightGBM] [Warning] No further splits with positive gain, best gain: -inf\n",
            "[LightGBM] [Warning] No further splits with positive gain, best gain: -inf\n",
            "[LightGBM] [Warning] No further splits with positive gain, best gain: -inf\n",
            "[LightGBM] [Warning] No further splits with positive gain, best gain: -inf\n",
            "[LightGBM] [Warning] No further splits with positive gain, best gain: -inf\n",
            "[LightGBM] [Warning] No further splits with positive gain, best gain: -inf\n",
            "[LightGBM] [Warning] No further splits with positive gain, best gain: -inf\n",
            "[LightGBM] [Warning] No further splits with positive gain, best gain: -inf\n",
            "[LightGBM] [Warning] No further splits with positive gain, best gain: -inf\n",
            "[LightGBM] [Warning] No further splits with positive gain, best gain: -inf\n",
            "[LightGBM] [Warning] No further splits with positive gain, best gain: -inf\n",
            "[LightGBM] [Warning] No further splits with positive gain, best gain: -inf\n",
            "[LightGBM] [Warning] No further splits with positive gain, best gain: -inf\n",
            "[LightGBM] [Warning] No further splits with positive gain, best gain: -inf\n",
            "[LightGBM] [Warning] No further splits with positive gain, best gain: -inf\n",
            "[LightGBM] [Warning] No further splits with positive gain, best gain: -inf\n",
            "[LightGBM] [Warning] No further splits with positive gain, best gain: -inf\n",
            "[LightGBM] [Info] Number of positive: 535229, number of negative: 264771\n",
            "[LightGBM] [Info] Auto-choosing row-wise multi-threading, the overhead of testing was 0.021819 seconds.\n",
            "You can set `force_row_wise=true` to remove the overhead.\n",
            "And if memory is not enough, you can set `force_col_wise=true`.\n",
            "[LightGBM] [Info] Total Bins 793\n",
            "[LightGBM] [Info] Number of data points in the train set: 800000, number of used features: 8\n",
            "[LightGBM] [Info] [binary:BoostFromScore]: pavg=0.572264 -> initscore=0.291093\n",
            "[LightGBM] [Info] Start training from score 0.291093\n",
            "[LightGBM] [Warning] No further splits with positive gain, best gain: -inf\n",
            "[LightGBM] [Warning] No further splits with positive gain, best gain: -inf\n",
            "[LightGBM] [Warning] No further splits with positive gain, best gain: -inf\n",
            "[LightGBM] [Warning] No further splits with positive gain, best gain: -inf\n",
            "[LightGBM] [Warning] No further splits with positive gain, best gain: -inf\n",
            "[LightGBM] [Warning] No further splits with positive gain, best gain: -inf\n",
            "[LightGBM] [Warning] No further splits with positive gain, best gain: -inf\n",
            "[LightGBM] [Warning] No further splits with positive gain, best gain: -inf\n",
            "[LightGBM] [Warning] No further splits with positive gain, best gain: -inf\n",
            "[LightGBM] [Warning] No further splits with positive gain, best gain: -inf\n",
            "[LightGBM] [Warning] No further splits with positive gain, best gain: -inf\n",
            "[LightGBM] [Warning] No further splits with positive gain, best gain: -inf\n",
            "[LightGBM] [Warning] No further splits with positive gain, best gain: -inf\n",
            "[LightGBM] [Warning] No further splits with positive gain, best gain: -inf\n",
            "[LightGBM] [Warning] No further splits with positive gain, best gain: -inf\n",
            "[LightGBM] [Warning] No further splits with positive gain, best gain: -inf\n",
            "[LightGBM] [Warning] No further splits with positive gain, best gain: -inf\n",
            "[LightGBM] [Warning] No further splits with positive gain, best gain: -inf\n",
            "[LightGBM] [Warning] No further splits with positive gain, best gain: -inf\n",
            "[LightGBM] [Warning] No further splits with positive gain, best gain: -inf\n",
            "[LightGBM] [Warning] No further splits with positive gain, best gain: -inf\n",
            "[LightGBM] [Warning] No further splits with positive gain, best gain: -inf\n",
            "[LightGBM] [Warning] No further splits with positive gain, best gain: -inf\n",
            "[LightGBM] [Warning] No further splits with positive gain, best gain: -inf\n",
            "[LightGBM] [Warning] No further splits with positive gain, best gain: -inf\n",
            "[LightGBM] [Warning] No further splits with positive gain, best gain: -inf\n",
            "[LightGBM] [Warning] No further splits with positive gain, best gain: -inf\n",
            "[LightGBM] [Warning] No further splits with positive gain, best gain: -inf\n",
            "[LightGBM] [Warning] No further splits with positive gain, best gain: -inf\n",
            "[LightGBM] [Warning] No further splits with positive gain, best gain: -inf\n",
            "[LightGBM] [Warning] No further splits with positive gain, best gain: -inf\n",
            "[LightGBM] [Warning] No further splits with positive gain, best gain: -inf\n",
            "[LightGBM] [Warning] No further splits with positive gain, best gain: -inf\n",
            "[LightGBM] [Warning] No further splits with positive gain, best gain: -inf\n",
            "[LightGBM] [Warning] No further splits with positive gain, best gain: -inf\n",
            "[LightGBM] [Warning] No further splits with positive gain, best gain: -inf\n",
            "[LightGBM] [Warning] No further splits with positive gain, best gain: -inf\n",
            "[LightGBM] [Warning] No further splits with positive gain, best gain: -inf\n",
            "[LightGBM] [Warning] No further splits with positive gain, best gain: -inf\n",
            "[LightGBM] [Warning] No further splits with positive gain, best gain: -inf\n",
            "[LightGBM] [Warning] No further splits with positive gain, best gain: -inf\n",
            "[LightGBM] [Warning] No further splits with positive gain, best gain: -inf\n",
            "[LightGBM] [Warning] No further splits with positive gain, best gain: -inf\n",
            "[LightGBM] [Warning] No further splits with positive gain, best gain: -inf\n",
            "[LightGBM] [Warning] No further splits with positive gain, best gain: -inf\n",
            "[LightGBM] [Warning] No further splits with positive gain, best gain: -inf\n",
            "[LightGBM] [Warning] No further splits with positive gain, best gain: -inf\n",
            "[LightGBM] [Warning] No further splits with positive gain, best gain: -inf\n",
            "[LightGBM] [Warning] No further splits with positive gain, best gain: -inf\n",
            "[LightGBM] [Warning] No further splits with positive gain, best gain: -inf\n",
            "[LightGBM] [Warning] No further splits with positive gain, best gain: -inf\n",
            "[LightGBM] [Warning] No further splits with positive gain, best gain: -inf\n",
            "[LightGBM] [Warning] No further splits with positive gain, best gain: -inf\n",
            "[LightGBM] [Warning] No further splits with positive gain, best gain: -inf\n",
            "[LightGBM] [Warning] No further splits with positive gain, best gain: -inf\n",
            "[LightGBM] [Warning] No further splits with positive gain, best gain: -inf\n",
            "[LightGBM] [Warning] No further splits with positive gain, best gain: -inf\n",
            "[LightGBM] [Warning] No further splits with positive gain, best gain: -inf\n",
            "[LightGBM] [Warning] No further splits with positive gain, best gain: -inf\n",
            "[LightGBM] [Warning] No further splits with positive gain, best gain: -inf\n",
            "[LightGBM] [Warning] No further splits with positive gain, best gain: -inf\n",
            "[LightGBM] [Warning] No further splits with positive gain, best gain: -inf\n",
            "[LightGBM] [Warning] No further splits with positive gain, best gain: -inf\n",
            "[LightGBM] [Warning] No further splits with positive gain, best gain: -inf\n",
            "[LightGBM] [Warning] No further splits with positive gain, best gain: -inf\n",
            "[LightGBM] [Warning] No further splits with positive gain, best gain: -inf\n",
            "[LightGBM] [Warning] No further splits with positive gain, best gain: -inf\n",
            "[LightGBM] [Warning] No further splits with positive gain, best gain: -inf\n",
            "[LightGBM] [Warning] No further splits with positive gain, best gain: -inf\n",
            "[LightGBM] [Warning] No further splits with positive gain, best gain: -inf\n",
            "[LightGBM] [Warning] No further splits with positive gain, best gain: -inf\n",
            "[LightGBM] [Warning] No further splits with positive gain, best gain: -inf\n",
            "[LightGBM] [Warning] No further splits with positive gain, best gain: -inf\n",
            "[LightGBM] [Warning] No further splits with positive gain, best gain: -inf\n",
            "[LightGBM] [Warning] No further splits with positive gain, best gain: -inf\n",
            "[LightGBM] [Warning] No further splits with positive gain, best gain: -inf\n",
            "[LightGBM] [Warning] No further splits with positive gain, best gain: -inf\n",
            "[LightGBM] [Warning] No further splits with positive gain, best gain: -inf\n",
            "[LightGBM] [Warning] No further splits with positive gain, best gain: -inf\n",
            "[LightGBM] [Warning] No further splits with positive gain, best gain: -inf\n",
            "[LightGBM] [Warning] No further splits with positive gain, best gain: -inf\n",
            "[LightGBM] [Warning] No further splits with positive gain, best gain: -inf\n",
            "[LightGBM] [Warning] No further splits with positive gain, best gain: -inf\n",
            "[LightGBM] [Warning] No further splits with positive gain, best gain: -inf\n",
            "[LightGBM] [Warning] No further splits with positive gain, best gain: -inf\n",
            "[LightGBM] [Warning] No further splits with positive gain, best gain: -inf\n",
            "[LightGBM] [Warning] No further splits with positive gain, best gain: -inf\n",
            "[LightGBM] [Warning] No further splits with positive gain, best gain: -inf\n",
            "[LightGBM] [Warning] No further splits with positive gain, best gain: -inf\n",
            "[LightGBM] [Warning] No further splits with positive gain, best gain: -inf\n",
            "[LightGBM] [Warning] No further splits with positive gain, best gain: -inf\n",
            "[LightGBM] [Warning] No further splits with positive gain, best gain: -inf\n",
            "[LightGBM] [Warning] No further splits with positive gain, best gain: -inf\n",
            "[LightGBM] [Warning] No further splits with positive gain, best gain: -inf\n",
            "[LightGBM] [Info] Number of positive: 535229, number of negative: 264771\n",
            "[LightGBM] [Info] Auto-choosing row-wise multi-threading, the overhead of testing was 0.021990 seconds.\n",
            "You can set `force_row_wise=true` to remove the overhead.\n",
            "And if memory is not enough, you can set `force_col_wise=true`.\n",
            "[LightGBM] [Info] Total Bins 793\n",
            "[LightGBM] [Info] Number of data points in the train set: 800000, number of used features: 8\n",
            "[LightGBM] [Info] [binary:BoostFromScore]: pavg=0.555016 -> initscore=0.220958\n",
            "[LightGBM] [Info] Start training from score 0.220958\n",
            "[LightGBM] [Warning] No further splits with positive gain, best gain: -inf\n",
            "[LightGBM] [Warning] No further splits with positive gain, best gain: -inf\n",
            "[LightGBM] [Warning] No further splits with positive gain, best gain: -inf\n",
            "[LightGBM] [Warning] No further splits with positive gain, best gain: -inf\n",
            "[LightGBM] [Warning] No further splits with positive gain, best gain: -inf\n",
            "[LightGBM] [Warning] No further splits with positive gain, best gain: -inf\n",
            "[LightGBM] [Warning] No further splits with positive gain, best gain: -inf\n",
            "[LightGBM] [Warning] No further splits with positive gain, best gain: -inf\n",
            "[LightGBM] [Warning] No further splits with positive gain, best gain: -inf\n",
            "[LightGBM] [Warning] No further splits with positive gain, best gain: -inf\n",
            "[LightGBM] [Warning] No further splits with positive gain, best gain: -inf\n",
            "[LightGBM] [Warning] No further splits with positive gain, best gain: -inf\n",
            "[LightGBM] [Warning] No further splits with positive gain, best gain: -inf\n",
            "[LightGBM] [Warning] No further splits with positive gain, best gain: -inf\n",
            "[LightGBM] [Warning] No further splits with positive gain, best gain: -inf\n",
            "[LightGBM] [Warning] No further splits with positive gain, best gain: -inf\n",
            "[LightGBM] [Warning] No further splits with positive gain, best gain: -inf\n",
            "[LightGBM] [Warning] No further splits with positive gain, best gain: -inf\n",
            "[LightGBM] [Warning] No further splits with positive gain, best gain: -inf\n",
            "[LightGBM] [Warning] No further splits with positive gain, best gain: -inf\n",
            "[LightGBM] [Warning] No further splits with positive gain, best gain: -inf\n",
            "[LightGBM] [Warning] No further splits with positive gain, best gain: -inf\n",
            "[LightGBM] [Warning] No further splits with positive gain, best gain: -inf\n",
            "[LightGBM] [Warning] No further splits with positive gain, best gain: -inf\n",
            "[LightGBM] [Warning] No further splits with positive gain, best gain: -inf\n",
            "[LightGBM] [Warning] No further splits with positive gain, best gain: -inf\n",
            "[LightGBM] [Warning] No further splits with positive gain, best gain: -inf\n",
            "[LightGBM] [Warning] No further splits with positive gain, best gain: -inf\n",
            "[LightGBM] [Warning] No further splits with positive gain, best gain: -inf\n",
            "[LightGBM] [Warning] No further splits with positive gain, best gain: -inf\n",
            "[LightGBM] [Warning] No further splits with positive gain, best gain: -inf\n",
            "[LightGBM] [Warning] No further splits with positive gain, best gain: -inf\n",
            "[LightGBM] [Warning] No further splits with positive gain, best gain: -inf\n",
            "[LightGBM] [Warning] No further splits with positive gain, best gain: -inf\n",
            "[LightGBM] [Warning] No further splits with positive gain, best gain: -inf\n",
            "[LightGBM] [Warning] No further splits with positive gain, best gain: -inf\n",
            "[LightGBM] [Warning] No further splits with positive gain, best gain: -inf\n",
            "[LightGBM] [Warning] No further splits with positive gain, best gain: -inf\n",
            "[LightGBM] [Warning] No further splits with positive gain, best gain: -inf\n",
            "[LightGBM] [Warning] No further splits with positive gain, best gain: -inf\n",
            "[LightGBM] [Warning] No further splits with positive gain, best gain: -inf\n",
            "[LightGBM] [Warning] No further splits with positive gain, best gain: -inf\n",
            "[LightGBM] [Warning] No further splits with positive gain, best gain: -inf\n",
            "[LightGBM] [Warning] No further splits with positive gain, best gain: -inf\n",
            "[LightGBM] [Warning] No further splits with positive gain, best gain: -inf\n",
            "[LightGBM] [Warning] No further splits with positive gain, best gain: -inf\n",
            "[LightGBM] [Warning] No further splits with positive gain, best gain: -inf\n",
            "[LightGBM] [Warning] No further splits with positive gain, best gain: -inf\n",
            "[LightGBM] [Warning] No further splits with positive gain, best gain: -inf\n",
            "[LightGBM] [Warning] No further splits with positive gain, best gain: -inf\n",
            "[LightGBM] [Warning] No further splits with positive gain, best gain: -inf\n",
            "[LightGBM] [Warning] No further splits with positive gain, best gain: -inf\n",
            "[LightGBM] [Warning] No further splits with positive gain, best gain: -inf\n",
            "[LightGBM] [Warning] No further splits with positive gain, best gain: -inf\n",
            "[LightGBM] [Warning] No further splits with positive gain, best gain: -inf\n",
            "[LightGBM] [Warning] No further splits with positive gain, best gain: -inf\n",
            "[LightGBM] [Warning] No further splits with positive gain, best gain: -inf\n",
            "[LightGBM] [Warning] No further splits with positive gain, best gain: -inf\n",
            "[LightGBM] [Warning] No further splits with positive gain, best gain: -inf\n",
            "[LightGBM] [Warning] No further splits with positive gain, best gain: -inf\n",
            "[LightGBM] [Warning] No further splits with positive gain, best gain: -inf\n",
            "[LightGBM] [Warning] No further splits with positive gain, best gain: -inf\n",
            "[LightGBM] [Warning] No further splits with positive gain, best gain: -inf\n",
            "[LightGBM] [Warning] No further splits with positive gain, best gain: -inf\n",
            "[LightGBM] [Warning] No further splits with positive gain, best gain: -inf\n",
            "[LightGBM] [Warning] No further splits with positive gain, best gain: -inf\n",
            "[LightGBM] [Warning] No further splits with positive gain, best gain: -inf\n",
            "[LightGBM] [Warning] No further splits with positive gain, best gain: -inf\n",
            "[LightGBM] [Warning] No further splits with positive gain, best gain: -inf\n",
            "[LightGBM] [Warning] No further splits with positive gain, best gain: -inf\n",
            "[LightGBM] [Warning] No further splits with positive gain, best gain: -inf\n",
            "[LightGBM] [Warning] No further splits with positive gain, best gain: -inf\n",
            "[LightGBM] [Warning] No further splits with positive gain, best gain: -inf\n",
            "[LightGBM] [Warning] No further splits with positive gain, best gain: -inf\n",
            "[LightGBM] [Warning] No further splits with positive gain, best gain: -inf\n",
            "[LightGBM] [Warning] No further splits with positive gain, best gain: -inf\n",
            "[LightGBM] [Warning] No further splits with positive gain, best gain: -inf\n",
            "[LightGBM] [Warning] No further splits with positive gain, best gain: -inf\n",
            "[LightGBM] [Warning] No further splits with positive gain, best gain: -inf\n",
            "[LightGBM] [Warning] No further splits with positive gain, best gain: -inf\n",
            "[LightGBM] [Warning] No further splits with positive gain, best gain: -inf\n",
            "[LightGBM] [Warning] No further splits with positive gain, best gain: -inf\n",
            "[LightGBM] [Warning] No further splits with positive gain, best gain: -inf\n",
            "[LightGBM] [Warning] No further splits with positive gain, best gain: -inf\n",
            "[LightGBM] [Warning] No further splits with positive gain, best gain: -inf\n",
            "[LightGBM] [Warning] No further splits with positive gain, best gain: -inf\n",
            "[LightGBM] [Warning] No further splits with positive gain, best gain: -inf\n",
            "[LightGBM] [Warning] No further splits with positive gain, best gain: -inf\n",
            "[LightGBM] [Warning] No further splits with positive gain, best gain: -inf\n",
            "[LightGBM] [Warning] No further splits with positive gain, best gain: -inf\n",
            "[LightGBM] [Warning] No further splits with positive gain, best gain: -inf\n",
            "[LightGBM] [Warning] No further splits with positive gain, best gain: -inf\n",
            "[LightGBM] [Warning] No further splits with positive gain, best gain: -inf\n",
            "[LightGBM] [Warning] No further splits with positive gain, best gain: -inf\n",
            "[LightGBM] [Warning] No further splits with positive gain, best gain: -inf\n",
            "[LightGBM] [Warning] No further splits with positive gain, best gain: -inf\n",
            "[LightGBM] [Info] Number of positive: 264771, number of negative: 535229\n",
            "[LightGBM] [Info] Auto-choosing row-wise multi-threading, the overhead of testing was 0.021958 seconds.\n",
            "You can set `force_row_wise=true` to remove the overhead.\n",
            "And if memory is not enough, you can set `force_col_wise=true`.\n",
            "[LightGBM] [Info] Total Bins 793\n",
            "[LightGBM] [Info] Number of data points in the train set: 800000, number of used features: 8\n",
            "[LightGBM] [Info] [binary:BoostFromScore]: pavg=0.569743 -> initscore=0.280803\n",
            "[LightGBM] [Info] Start training from score 0.280803\n",
            "[LightGBM] [Warning] No further splits with positive gain, best gain: -inf\n",
            "[LightGBM] [Warning] No further splits with positive gain, best gain: -inf\n",
            "[LightGBM] [Warning] No further splits with positive gain, best gain: -inf\n",
            "[LightGBM] [Warning] No further splits with positive gain, best gain: -inf\n",
            "[LightGBM] [Warning] No further splits with positive gain, best gain: -inf\n",
            "[LightGBM] [Warning] No further splits with positive gain, best gain: -inf\n",
            "[LightGBM] [Warning] No further splits with positive gain, best gain: -inf\n",
            "[LightGBM] [Warning] No further splits with positive gain, best gain: -inf\n",
            "[LightGBM] [Warning] No further splits with positive gain, best gain: -inf\n",
            "[LightGBM] [Warning] No further splits with positive gain, best gain: -inf\n",
            "[LightGBM] [Warning] No further splits with positive gain, best gain: -inf\n",
            "[LightGBM] [Warning] No further splits with positive gain, best gain: -inf\n",
            "[LightGBM] [Warning] No further splits with positive gain, best gain: -inf\n",
            "[LightGBM] [Warning] No further splits with positive gain, best gain: -inf\n",
            "[LightGBM] [Warning] No further splits with positive gain, best gain: -inf\n",
            "[LightGBM] [Warning] No further splits with positive gain, best gain: -inf\n",
            "[LightGBM] [Warning] No further splits with positive gain, best gain: -inf\n",
            "[LightGBM] [Warning] No further splits with positive gain, best gain: -inf\n",
            "[LightGBM] [Warning] No further splits with positive gain, best gain: -inf\n",
            "[LightGBM] [Warning] No further splits with positive gain, best gain: -inf\n",
            "[LightGBM] [Warning] No further splits with positive gain, best gain: -inf\n",
            "[LightGBM] [Warning] No further splits with positive gain, best gain: -inf\n",
            "[LightGBM] [Warning] No further splits with positive gain, best gain: -inf\n",
            "[LightGBM] [Warning] No further splits with positive gain, best gain: -inf\n",
            "[LightGBM] [Warning] No further splits with positive gain, best gain: -inf\n",
            "[LightGBM] [Warning] No further splits with positive gain, best gain: -inf\n",
            "[LightGBM] [Warning] No further splits with positive gain, best gain: -inf\n",
            "[LightGBM] [Warning] No further splits with positive gain, best gain: -inf\n",
            "[LightGBM] [Warning] No further splits with positive gain, best gain: -inf\n",
            "[LightGBM] [Warning] No further splits with positive gain, best gain: -inf\n",
            "[LightGBM] [Warning] No further splits with positive gain, best gain: -inf\n",
            "[LightGBM] [Warning] No further splits with positive gain, best gain: -inf\n",
            "[LightGBM] [Warning] No further splits with positive gain, best gain: -inf\n",
            "[LightGBM] [Warning] No further splits with positive gain, best gain: -inf\n",
            "[LightGBM] [Warning] No further splits with positive gain, best gain: -inf\n",
            "[LightGBM] [Warning] No further splits with positive gain, best gain: -inf\n",
            "[LightGBM] [Warning] No further splits with positive gain, best gain: -inf\n",
            "[LightGBM] [Warning] No further splits with positive gain, best gain: -inf\n",
            "[LightGBM] [Warning] No further splits with positive gain, best gain: -inf\n",
            "[LightGBM] [Warning] No further splits with positive gain, best gain: -inf\n",
            "[LightGBM] [Warning] No further splits with positive gain, best gain: -inf\n",
            "[LightGBM] [Warning] No further splits with positive gain, best gain: -inf\n",
            "[LightGBM] [Warning] No further splits with positive gain, best gain: -inf\n",
            "[LightGBM] [Warning] No further splits with positive gain, best gain: -inf\n",
            "[LightGBM] [Warning] No further splits with positive gain, best gain: -inf\n",
            "[LightGBM] [Warning] No further splits with positive gain, best gain: -inf\n",
            "[LightGBM] [Warning] No further splits with positive gain, best gain: -inf\n",
            "[LightGBM] [Warning] No further splits with positive gain, best gain: -inf\n",
            "[LightGBM] [Warning] No further splits with positive gain, best gain: -inf\n",
            "[LightGBM] [Warning] No further splits with positive gain, best gain: -inf\n",
            "[LightGBM] [Warning] No further splits with positive gain, best gain: -inf\n",
            "[LightGBM] [Warning] No further splits with positive gain, best gain: -inf\n",
            "[LightGBM] [Warning] No further splits with positive gain, best gain: -inf\n",
            "[LightGBM] [Warning] No further splits with positive gain, best gain: -inf\n",
            "[LightGBM] [Warning] No further splits with positive gain, best gain: -inf\n",
            "[LightGBM] [Warning] No further splits with positive gain, best gain: -inf\n",
            "[LightGBM] [Warning] No further splits with positive gain, best gain: -inf\n",
            "[LightGBM] [Warning] No further splits with positive gain, best gain: -inf\n",
            "[LightGBM] [Warning] No further splits with positive gain, best gain: -inf\n",
            "[LightGBM] [Warning] No further splits with positive gain, best gain: -inf\n",
            "[LightGBM] [Warning] No further splits with positive gain, best gain: -inf\n",
            "[LightGBM] [Warning] No further splits with positive gain, best gain: -inf\n",
            "[LightGBM] [Warning] No further splits with positive gain, best gain: -inf\n",
            "[LightGBM] [Warning] No further splits with positive gain, best gain: -inf\n",
            "[LightGBM] [Warning] No further splits with positive gain, best gain: -inf\n",
            "[LightGBM] [Warning] No further splits with positive gain, best gain: -inf\n",
            "[LightGBM] [Warning] No further splits with positive gain, best gain: -inf\n",
            "[LightGBM] [Warning] No further splits with positive gain, best gain: -inf\n",
            "[LightGBM] [Warning] No further splits with positive gain, best gain: -inf\n",
            "[LightGBM] [Warning] No further splits with positive gain, best gain: -inf\n",
            "[LightGBM] [Warning] No further splits with positive gain, best gain: -inf\n",
            "[LightGBM] [Warning] No further splits with positive gain, best gain: -inf\n",
            "[LightGBM] [Warning] No further splits with positive gain, best gain: -inf\n",
            "[LightGBM] [Warning] No further splits with positive gain, best gain: -inf\n",
            "[LightGBM] [Warning] No further splits with positive gain, best gain: -inf\n",
            "[LightGBM] [Warning] No further splits with positive gain, best gain: -inf\n",
            "[LightGBM] [Warning] No further splits with positive gain, best gain: -inf\n",
            "[LightGBM] [Warning] No further splits with positive gain, best gain: -inf\n",
            "[LightGBM] [Warning] No further splits with positive gain, best gain: -inf\n",
            "[LightGBM] [Warning] No further splits with positive gain, best gain: -inf\n",
            "[LightGBM] [Warning] No further splits with positive gain, best gain: -inf\n",
            "[LightGBM] [Warning] No further splits with positive gain, best gain: -inf\n",
            "[LightGBM] [Warning] No further splits with positive gain, best gain: -inf\n",
            "[LightGBM] [Warning] No further splits with positive gain, best gain: -inf\n",
            "[LightGBM] [Warning] No further splits with positive gain, best gain: -inf\n",
            "[LightGBM] [Warning] No further splits with positive gain, best gain: -inf\n",
            "[LightGBM] [Warning] No further splits with positive gain, best gain: -inf\n",
            "[LightGBM] [Warning] No further splits with positive gain, best gain: -inf\n",
            "[LightGBM] [Warning] No further splits with positive gain, best gain: -inf\n",
            "[LightGBM] [Info] Number of positive: 265224, number of negative: 534776\n",
            "[LightGBM] [Info] Auto-choosing row-wise multi-threading, the overhead of testing was 0.022357 seconds.\n",
            "You can set `force_row_wise=true` to remove the overhead.\n",
            "And if memory is not enough, you can set `force_col_wise=true`.\n",
            "[LightGBM] [Info] Total Bins 793\n",
            "[LightGBM] [Info] Number of data points in the train set: 800000, number of used features: 8\n",
            "[LightGBM] [Info] [binary:BoostFromScore]: pavg=0.599964 -> initscore=0.405314\n",
            "[LightGBM] [Info] Start training from score 0.405314\n",
            "[LightGBM] [Info] Number of positive: 619454, number of negative: 180546\n",
            "[LightGBM] [Info] Auto-choosing row-wise multi-threading, the overhead of testing was 0.024119 seconds.\n",
            "You can set `force_row_wise=true` to remove the overhead.\n",
            "And if memory is not enough, you can set `force_col_wise=true`.\n",
            "[LightGBM] [Info] Total Bins 793\n",
            "[LightGBM] [Info] Number of data points in the train set: 800000, number of used features: 8\n",
            "[LightGBM] [Info] [binary:BoostFromScore]: pavg=0.640573 -> initscore=0.577853\n",
            "[LightGBM] [Info] Start training from score 0.577853\n",
            "[LightGBM] [Info] Number of positive: 523370, number of negative: 276630\n",
            "[LightGBM] [Info] Auto-choosing row-wise multi-threading, the overhead of testing was 0.023403 seconds.\n",
            "You can set `force_row_wise=true` to remove the overhead.\n",
            "And if memory is not enough, you can set `force_col_wise=true`.\n",
            "[LightGBM] [Info] Total Bins 793\n",
            "[LightGBM] [Info] Number of data points in the train set: 800000, number of used features: 8\n",
            "[LightGBM] [Info] [binary:BoostFromScore]: pavg=0.655543 -> initscore=0.643493\n",
            "[LightGBM] [Info] Start training from score 0.643493\n",
            "[LightGBM] [Info] Number of positive: 523370, number of negative: 276630\n",
            "[LightGBM] [Info] Auto-choosing row-wise multi-threading, the overhead of testing was 0.022185 seconds.\n",
            "You can set `force_row_wise=true` to remove the overhead.\n",
            "And if memory is not enough, you can set `force_col_wise=true`.\n",
            "[LightGBM] [Info] Total Bins 793\n",
            "[LightGBM] [Info] Number of data points in the train set: 800000, number of used features: 8\n",
            "[LightGBM] [Info] [binary:BoostFromScore]: pavg=0.652904 -> initscore=0.631830\n",
            "[LightGBM] [Info] Start training from score 0.631830\n",
            "[LightGBM] [Info] Number of positive: 354985, number of negative: 445015\n",
            "[LightGBM] [Info] Auto-choosing row-wise multi-threading, the overhead of testing was 0.022774 seconds.\n",
            "You can set `force_row_wise=true` to remove the overhead.\n",
            "And if memory is not enough, you can set `force_col_wise=true`.\n",
            "[LightGBM] [Info] Total Bins 793\n",
            "[LightGBM] [Info] Number of data points in the train set: 800000, number of used features: 8\n",
            "[LightGBM] [Info] [binary:BoostFromScore]: pavg=0.623770 -> initscore=0.505582\n",
            "[LightGBM] [Info] Start training from score 0.505582\n",
            "[LightGBM] [Info] Number of positive: 535229, number of negative: 264771\n",
            "[LightGBM] [Info] Auto-choosing row-wise multi-threading, the overhead of testing was 0.021982 seconds.\n",
            "You can set `force_row_wise=true` to remove the overhead.\n",
            "And if memory is not enough, you can set `force_col_wise=true`.\n",
            "[LightGBM] [Info] Total Bins 793\n",
            "[LightGBM] [Info] Number of data points in the train set: 800000, number of used features: 8\n",
            "[LightGBM] [Info] [binary:BoostFromScore]: pavg=0.585528 -> initscore=0.345509\n",
            "[LightGBM] [Info] Start training from score 0.345509\n",
            "[LightGBM] [Warning] No further splits with positive gain, best gain: -inf\n",
            "[LightGBM] [Warning] No further splits with positive gain, best gain: -inf\n",
            "[LightGBM] [Warning] No further splits with positive gain, best gain: -inf\n",
            "[LightGBM] [Warning] No further splits with positive gain, best gain: -inf\n",
            "[LightGBM] [Warning] No further splits with positive gain, best gain: -inf\n",
            "[LightGBM] [Warning] No further splits with positive gain, best gain: -inf\n",
            "[LightGBM] [Warning] No further splits with positive gain, best gain: -inf\n",
            "[LightGBM] [Warning] No further splits with positive gain, best gain: -inf\n",
            "[LightGBM] [Warning] No further splits with positive gain, best gain: -inf\n",
            "[LightGBM] [Warning] No further splits with positive gain, best gain: -inf\n",
            "[LightGBM] [Warning] No further splits with positive gain, best gain: -inf\n",
            "[LightGBM] [Warning] No further splits with positive gain, best gain: -inf\n",
            "[LightGBM] [Warning] No further splits with positive gain, best gain: -inf\n",
            "[LightGBM] [Warning] No further splits with positive gain, best gain: -inf\n",
            "[LightGBM] [Warning] No further splits with positive gain, best gain: -inf\n",
            "[LightGBM] [Warning] No further splits with positive gain, best gain: -inf\n",
            "[LightGBM] [Warning] No further splits with positive gain, best gain: -inf\n",
            "[LightGBM] [Warning] No further splits with positive gain, best gain: -inf\n",
            "[LightGBM] [Warning] No further splits with positive gain, best gain: -inf\n",
            "[LightGBM] [Warning] No further splits with positive gain, best gain: -inf\n",
            "[LightGBM] [Warning] No further splits with positive gain, best gain: -inf\n",
            "[LightGBM] [Warning] No further splits with positive gain, best gain: -inf\n",
            "[LightGBM] [Warning] No further splits with positive gain, best gain: -inf\n",
            "[LightGBM] [Warning] No further splits with positive gain, best gain: -inf\n",
            "[LightGBM] [Warning] No further splits with positive gain, best gain: -inf\n",
            "[LightGBM] [Warning] No further splits with positive gain, best gain: -inf\n",
            "[LightGBM] [Warning] No further splits with positive gain, best gain: -inf\n",
            "[LightGBM] [Warning] No further splits with positive gain, best gain: -inf\n",
            "[LightGBM] [Warning] No further splits with positive gain, best gain: -inf\n",
            "[LightGBM] [Warning] No further splits with positive gain, best gain: -inf\n",
            "[LightGBM] [Warning] No further splits with positive gain, best gain: -inf\n",
            "[LightGBM] [Warning] No further splits with positive gain, best gain: -inf\n",
            "[LightGBM] [Warning] No further splits with positive gain, best gain: -inf\n",
            "[LightGBM] [Warning] No further splits with positive gain, best gain: -inf\n",
            "[LightGBM] [Warning] No further splits with positive gain, best gain: -inf\n",
            "[LightGBM] [Warning] No further splits with positive gain, best gain: -inf\n",
            "[LightGBM] [Warning] No further splits with positive gain, best gain: -inf\n",
            "[LightGBM] [Warning] No further splits with positive gain, best gain: -inf\n",
            "[LightGBM] [Warning] No further splits with positive gain, best gain: -inf\n",
            "[LightGBM] [Warning] No further splits with positive gain, best gain: -inf\n",
            "[LightGBM] [Warning] No further splits with positive gain, best gain: -inf\n",
            "[LightGBM] [Warning] No further splits with positive gain, best gain: -inf\n",
            "[LightGBM] [Warning] No further splits with positive gain, best gain: -inf\n",
            "[LightGBM] [Warning] No further splits with positive gain, best gain: -inf\n",
            "[LightGBM] [Warning] No further splits with positive gain, best gain: -inf\n",
            "[LightGBM] [Warning] No further splits with positive gain, best gain: -inf\n",
            "[LightGBM] [Warning] No further splits with positive gain, best gain: -inf\n",
            "[LightGBM] [Warning] No further splits with positive gain, best gain: -inf\n",
            "[LightGBM] [Warning] No further splits with positive gain, best gain: -inf\n",
            "[LightGBM] [Warning] No further splits with positive gain, best gain: -inf\n",
            "[LightGBM] [Warning] No further splits with positive gain, best gain: -inf\n",
            "[LightGBM] [Warning] No further splits with positive gain, best gain: -inf\n",
            "[LightGBM] [Warning] No further splits with positive gain, best gain: -inf\n",
            "[LightGBM] [Warning] No further splits with positive gain, best gain: -inf\n",
            "[LightGBM] [Warning] No further splits with positive gain, best gain: -inf\n",
            "[LightGBM] [Warning] No further splits with positive gain, best gain: -inf\n",
            "[LightGBM] [Warning] No further splits with positive gain, best gain: -inf\n",
            "[LightGBM] [Warning] No further splits with positive gain, best gain: -inf\n",
            "[LightGBM] [Warning] No further splits with positive gain, best gain: -inf\n",
            "[LightGBM] [Warning] No further splits with positive gain, best gain: -inf\n",
            "[LightGBM] [Warning] No further splits with positive gain, best gain: -inf\n",
            "[LightGBM] [Warning] No further splits with positive gain, best gain: -inf\n",
            "[LightGBM] [Warning] No further splits with positive gain, best gain: -inf\n",
            "[LightGBM] [Warning] No further splits with positive gain, best gain: -inf\n",
            "[LightGBM] [Warning] No further splits with positive gain, best gain: -inf\n",
            "[LightGBM] [Warning] No further splits with positive gain, best gain: -inf\n",
            "[LightGBM] [Warning] No further splits with positive gain, best gain: -inf\n",
            "[LightGBM] [Warning] No further splits with positive gain, best gain: -inf\n",
            "[LightGBM] [Warning] No further splits with positive gain, best gain: -inf\n",
            "[LightGBM] [Warning] No further splits with positive gain, best gain: -inf\n",
            "[LightGBM] [Warning] No further splits with positive gain, best gain: -inf\n",
            "[LightGBM] [Warning] No further splits with positive gain, best gain: -inf\n",
            "[LightGBM] [Warning] No further splits with positive gain, best gain: -inf\n",
            "[LightGBM] [Warning] No further splits with positive gain, best gain: -inf\n",
            "[LightGBM] [Warning] No further splits with positive gain, best gain: -inf\n",
            "[LightGBM] [Warning] No further splits with positive gain, best gain: -inf\n",
            "[LightGBM] [Warning] No further splits with positive gain, best gain: -inf\n",
            "[LightGBM] [Warning] No further splits with positive gain, best gain: -inf\n",
            "[LightGBM] [Warning] No further splits with positive gain, best gain: -inf\n",
            "[LightGBM] [Warning] No further splits with positive gain, best gain: -inf\n",
            "[LightGBM] [Warning] No further splits with positive gain, best gain: -inf\n",
            "[LightGBM] [Warning] No further splits with positive gain, best gain: -inf\n",
            "[LightGBM] [Warning] No further splits with positive gain, best gain: -inf\n",
            "[LightGBM] [Warning] No further splits with positive gain, best gain: -inf\n",
            "[LightGBM] [Warning] No further splits with positive gain, best gain: -inf\n",
            "[LightGBM] [Warning] No further splits with positive gain, best gain: -inf\n",
            "[LightGBM] [Warning] No further splits with positive gain, best gain: -inf\n",
            "[LightGBM] [Warning] No further splits with positive gain, best gain: -inf\n",
            "[LightGBM] [Warning] No further splits with positive gain, best gain: -inf\n",
            "[LightGBM] [Warning] No further splits with positive gain, best gain: -inf\n",
            "[LightGBM] [Warning] No further splits with positive gain, best gain: -inf\n",
            "[LightGBM] [Info] Number of positive: 265224, number of negative: 534776\n",
            "[LightGBM] [Info] Auto-choosing col-wise multi-threading, the overhead of testing was 0.078287 seconds.\n",
            "You can set `force_col_wise=true` to remove the overhead.\n",
            "[LightGBM] [Info] Total Bins 793\n",
            "[LightGBM] [Info] Number of data points in the train set: 800000, number of used features: 8\n",
            "[LightGBM] [Info] [binary:BoostFromScore]: pavg=0.582281 -> initscore=0.332145\n",
            "[LightGBM] [Info] Start training from score 0.332145\n",
            "[LightGBM] [Info] Number of positive: 619454, number of negative: 180546\n",
            "[LightGBM] [Info] Auto-choosing row-wise multi-threading, the overhead of testing was 0.023160 seconds.\n",
            "You can set `force_row_wise=true` to remove the overhead.\n",
            "And if memory is not enough, you can set `force_col_wise=true`.\n",
            "[LightGBM] [Info] Total Bins 793\n",
            "[LightGBM] [Info] Number of data points in the train set: 800000, number of used features: 8\n",
            "[LightGBM] [Info] [binary:BoostFromScore]: pavg=0.627598 -> initscore=0.521926\n",
            "[LightGBM] [Info] Start training from score 0.521926\n",
            "[LightGBM] [Info] Number of positive: 523370, number of negative: 276630\n",
            "[LightGBM] [Info] Auto-choosing row-wise multi-threading, the overhead of testing was 0.040770 seconds.\n",
            "You can set `force_row_wise=true` to remove the overhead.\n",
            "And if memory is not enough, you can set `force_col_wise=true`.\n",
            "[LightGBM] [Info] Total Bins 793\n",
            "[LightGBM] [Info] Number of data points in the train set: 800000, number of used features: 8\n",
            "[LightGBM] [Info] [binary:BoostFromScore]: pavg=0.656896 -> initscore=0.649491\n",
            "[LightGBM] [Info] Start training from score 0.649491\n",
            "[LightGBM] [Info] Number of positive: 523672, number of negative: 276328\n",
            "[LightGBM] [Info] Auto-choosing row-wise multi-threading, the overhead of testing was 0.021820 seconds.\n",
            "You can set `force_row_wise=true` to remove the overhead.\n",
            "And if memory is not enough, you can set `force_col_wise=true`.\n",
            "[LightGBM] [Info] Total Bins 793\n",
            "[LightGBM] [Info] Number of data points in the train set: 800000, number of used features: 8\n",
            "[LightGBM] [Info] [binary:BoostFromScore]: pavg=0.654154 -> initscore=0.637347\n",
            "[LightGBM] [Info] Start training from score 0.637347\n",
            "[LightGBM] [Info] Number of positive: 354985, number of negative: 445015\n",
            "[LightGBM] [Info] Auto-choosing row-wise multi-threading, the overhead of testing was 0.022438 seconds.\n",
            "You can set `force_row_wise=true` to remove the overhead.\n",
            "And if memory is not enough, you can set `force_col_wise=true`.\n",
            "[LightGBM] [Info] Total Bins 793\n",
            "[LightGBM] [Info] Number of data points in the train set: 800000, number of used features: 8\n",
            "[LightGBM] [Info] [binary:BoostFromScore]: pavg=0.650169 -> initscore=0.619783\n",
            "[LightGBM] [Info] Start training from score 0.619783\n",
            "[LightGBM] [Info] Number of positive: 265224, number of negative: 534776\n",
            "[LightGBM] [Info] Auto-choosing row-wise multi-threading, the overhead of testing was 0.039429 seconds.\n",
            "You can set `force_row_wise=true` to remove the overhead.\n",
            "And if memory is not enough, you can set `force_col_wise=true`.\n",
            "[LightGBM] [Info] Total Bins 793\n",
            "[LightGBM] [Info] Number of data points in the train set: 800000, number of used features: 8\n",
            "[LightGBM] [Info] [binary:BoostFromScore]: pavg=0.600316 -> initscore=0.406780\n",
            "[LightGBM] [Info] Start training from score 0.406780\n",
            "[LightGBM] [Warning] No further splits with positive gain, best gain: -inf\n",
            "[LightGBM] [Warning] No further splits with positive gain, best gain: -inf\n",
            "[LightGBM] [Warning] No further splits with positive gain, best gain: -inf\n",
            "[LightGBM] [Warning] No further splits with positive gain, best gain: -inf\n",
            "[LightGBM] [Warning] No further splits with positive gain, best gain: -inf\n",
            "[LightGBM] [Warning] No further splits with positive gain, best gain: -inf\n",
            "[LightGBM] [Warning] No further splits with positive gain, best gain: -inf\n",
            "[LightGBM] [Warning] No further splits with positive gain, best gain: -inf\n",
            "[LightGBM] [Warning] No further splits with positive gain, best gain: -inf\n",
            "[LightGBM] [Warning] No further splits with positive gain, best gain: -inf\n",
            "[LightGBM] [Warning] No further splits with positive gain, best gain: -inf\n",
            "[LightGBM] [Warning] No further splits with positive gain, best gain: -inf\n",
            "[LightGBM] [Warning] No further splits with positive gain, best gain: -inf\n",
            "[LightGBM] [Warning] No further splits with positive gain, best gain: -inf\n",
            "[LightGBM] [Warning] No further splits with positive gain, best gain: -inf\n",
            "[LightGBM] [Warning] No further splits with positive gain, best gain: -inf\n",
            "[LightGBM] [Warning] No further splits with positive gain, best gain: -inf\n",
            "[LightGBM] [Warning] No further splits with positive gain, best gain: -inf\n",
            "[LightGBM] [Warning] No further splits with positive gain, best gain: -inf\n",
            "[LightGBM] [Warning] No further splits with positive gain, best gain: -inf\n",
            "[LightGBM] [Warning] No further splits with positive gain, best gain: -inf\n",
            "[LightGBM] [Warning] No further splits with positive gain, best gain: -inf\n",
            "[LightGBM] [Warning] No further splits with positive gain, best gain: -inf\n",
            "[LightGBM] [Warning] No further splits with positive gain, best gain: -inf\n",
            "[LightGBM] [Warning] No further splits with positive gain, best gain: -inf\n",
            "[LightGBM] [Warning] No further splits with positive gain, best gain: -inf\n",
            "[LightGBM] [Warning] No further splits with positive gain, best gain: -inf\n",
            "[LightGBM] [Warning] No further splits with positive gain, best gain: -inf\n",
            "[LightGBM] [Warning] No further splits with positive gain, best gain: -inf\n",
            "[LightGBM] [Warning] No further splits with positive gain, best gain: -inf\n",
            "[LightGBM] [Warning] No further splits with positive gain, best gain: -inf\n",
            "[LightGBM] [Warning] No further splits with positive gain, best gain: -inf\n",
            "[LightGBM] [Warning] No further splits with positive gain, best gain: -inf\n",
            "[LightGBM] [Warning] No further splits with positive gain, best gain: -inf\n",
            "[LightGBM] [Warning] No further splits with positive gain, best gain: -inf\n",
            "[LightGBM] [Warning] No further splits with positive gain, best gain: -inf\n",
            "[LightGBM] [Warning] No further splits with positive gain, best gain: -inf\n",
            "[LightGBM] [Warning] No further splits with positive gain, best gain: -inf\n",
            "[LightGBM] [Warning] No further splits with positive gain, best gain: -inf\n",
            "[LightGBM] [Warning] No further splits with positive gain, best gain: -inf\n",
            "[LightGBM] [Warning] No further splits with positive gain, best gain: -inf\n",
            "[LightGBM] [Warning] No further splits with positive gain, best gain: -inf\n",
            "[LightGBM] [Warning] No further splits with positive gain, best gain: -inf\n",
            "[LightGBM] [Warning] No further splits with positive gain, best gain: -inf\n",
            "[LightGBM] [Warning] No further splits with positive gain, best gain: -inf\n",
            "[LightGBM] [Warning] No further splits with positive gain, best gain: -inf\n",
            "[LightGBM] [Warning] No further splits with positive gain, best gain: -inf\n",
            "[LightGBM] [Warning] No further splits with positive gain, best gain: -inf\n",
            "[LightGBM] [Warning] No further splits with positive gain, best gain: -inf\n",
            "[LightGBM] [Warning] No further splits with positive gain, best gain: -inf\n",
            "[LightGBM] [Warning] No further splits with positive gain, best gain: -inf\n",
            "[LightGBM] [Warning] No further splits with positive gain, best gain: -inf\n",
            "[LightGBM] [Warning] No further splits with positive gain, best gain: -inf\n",
            "[LightGBM] [Warning] No further splits with positive gain, best gain: -inf\n",
            "[LightGBM] [Warning] No further splits with positive gain, best gain: -inf\n",
            "[LightGBM] [Warning] No further splits with positive gain, best gain: -inf\n",
            "[LightGBM] [Warning] No further splits with positive gain, best gain: -inf\n",
            "[LightGBM] [Warning] No further splits with positive gain, best gain: -inf\n",
            "[LightGBM] [Warning] No further splits with positive gain, best gain: -inf\n",
            "[LightGBM] [Warning] No further splits with positive gain, best gain: -inf\n",
            "[LightGBM] [Warning] No further splits with positive gain, best gain: -inf\n",
            "[LightGBM] [Warning] No further splits with positive gain, best gain: -inf\n",
            "[LightGBM] [Warning] No further splits with positive gain, best gain: -inf\n",
            "[LightGBM] [Warning] No further splits with positive gain, best gain: -inf\n",
            "[LightGBM] [Warning] No further splits with positive gain, best gain: -inf\n",
            "[LightGBM] [Warning] No further splits with positive gain, best gain: -inf\n",
            "[LightGBM] [Warning] No further splits with positive gain, best gain: -inf\n",
            "[LightGBM] [Warning] No further splits with positive gain, best gain: -inf\n",
            "[LightGBM] [Warning] No further splits with positive gain, best gain: -inf\n",
            "[LightGBM] [Warning] No further splits with positive gain, best gain: -inf\n",
            "[LightGBM] [Warning] No further splits with positive gain, best gain: -inf\n",
            "[LightGBM] [Warning] No further splits with positive gain, best gain: -inf\n",
            "[LightGBM] [Warning] No further splits with positive gain, best gain: -inf\n",
            "[LightGBM] [Warning] No further splits with positive gain, best gain: -inf\n",
            "[LightGBM] [Warning] No further splits with positive gain, best gain: -inf\n",
            "[LightGBM] [Warning] No further splits with positive gain, best gain: -inf\n",
            "[LightGBM] [Warning] No further splits with positive gain, best gain: -inf\n",
            "[LightGBM] [Warning] No further splits with positive gain, best gain: -inf\n",
            "[LightGBM] [Warning] No further splits with positive gain, best gain: -inf\n",
            "[LightGBM] [Warning] No further splits with positive gain, best gain: -inf\n",
            "[LightGBM] [Warning] No further splits with positive gain, best gain: -inf\n",
            "[LightGBM] [Warning] No further splits with positive gain, best gain: -inf\n",
            "[LightGBM] [Warning] No further splits with positive gain, best gain: -inf\n",
            "[LightGBM] [Warning] No further splits with positive gain, best gain: -inf\n",
            "[LightGBM] [Warning] No further splits with positive gain, best gain: -inf\n",
            "[LightGBM] [Warning] No further splits with positive gain, best gain: -inf\n",
            "[LightGBM] [Warning] No further splits with positive gain, best gain: -inf\n",
            "[LightGBM] [Warning] No further splits with positive gain, best gain: -inf\n",
            "[LightGBM] [Warning] No further splits with positive gain, best gain: -inf\n",
            "[LightGBM] [Warning] No further splits with positive gain, best gain: -inf\n",
            "[LightGBM] [Warning] No further splits with positive gain, best gain: -inf\n",
            "[LightGBM] [Warning] No further splits with positive gain, best gain: -inf\n",
            "[LightGBM] [Warning] No further splits with positive gain, best gain: -inf\n",
            "[LightGBM] [Info] Number of positive: 619756, number of negative: 180244\n",
            "[LightGBM] [Info] Auto-choosing row-wise multi-threading, the overhead of testing was 0.023472 seconds.\n",
            "You can set `force_row_wise=true` to remove the overhead.\n",
            "And if memory is not enough, you can set `force_col_wise=true`.\n",
            "[LightGBM] [Info] Total Bins 793\n",
            "[LightGBM] [Info] Number of data points in the train set: 800000, number of used features: 8\n",
            "[LightGBM] [Info] [binary:BoostFromScore]: pavg=0.640855 -> initscore=0.579079\n",
            "[LightGBM] [Info] Start training from score 0.579079\n",
            "[LightGBM] [Info] Number of positive: 523672, number of negative: 276328\n",
            "[LightGBM] [Info] Auto-choosing row-wise multi-threading, the overhead of testing was 0.037329 seconds.\n",
            "You can set `force_row_wise=true` to remove the overhead.\n",
            "And if memory is not enough, you can set `force_col_wise=true`.\n",
            "[LightGBM] [Info] Total Bins 793\n",
            "[LightGBM] [Info] Number of data points in the train set: 800000, number of used features: 8\n",
            "[LightGBM] [Info] [binary:BoostFromScore]: pavg=0.655423 -> initscore=0.642965\n",
            "[LightGBM] [Info] Start training from score 0.642965\n"
          ]
        }
      ]
    },
    {
      "cell_type": "code",
      "source": [
        "# Calcular la precisión\n",
        "accuracy = accuracy_score(y_test, predictions)\n",
        "print(f\"Accuracy: {accuracy}\")"
      ],
      "metadata": {
        "colab": {
          "base_uri": "https://localhost:8080/"
        },
        "id": "EmLkeojUqacf",
        "outputId": "c55fe62f-2bfe-4110-dac0-97e653bc73c8"
      },
      "execution_count": null,
      "outputs": [
        {
          "output_type": "stream",
          "name": "stdout",
          "text": [
            "Accuracy: 0.806605\n"
          ]
        }
      ]
    },
    {
      "cell_type": "code",
      "source": [
        "# Calcular la precisión por grupo de sexo y raza\n",
        "sensitive_features_test = X_test[['applicant_sex']]\n",
        "metrics = MetricFrame(metrics={'precision': precision_score, 'recall': recall_score},\n",
        "                      y_true=y_test,\n",
        "                      y_pred=predictions,\n",
        "                      sensitive_features=sensitive_features_test)\n",
        "\n",
        "# Obtener los valores de las métricas por grupo\n",
        "group_metrics = metrics.by_group\n",
        "\n",
        "# Imprimir las métricas por grupo de una manera controlada\n",
        "print(\"Precision and recall by applicant_sex:\")\n",
        "for group, metrics in group_metrics.iterrows():\n",
        "    print(f\"Applicant_sex: {group}\")\n",
        "    print(f\"Precision: {metrics['precision']}\")\n",
        "    print(f\"Recall: {metrics['recall']}\")\n",
        "    print()\n"
      ],
      "metadata": {
        "colab": {
          "base_uri": "https://localhost:8080/"
        },
        "id": "MZhcC6WxqeUa",
        "outputId": "de439548-327a-4701-a44f-7d808dd2a618"
      },
      "execution_count": null,
      "outputs": [
        {
          "output_type": "stream",
          "name": "stdout",
          "text": [
            "Precision and recall by applicant_sex:\n",
            "Applicant_sex: 0\n",
            "Precision: 0.8443543185718815\n",
            "Recall: 0.8711820437626889\n",
            "\n",
            "Applicant_sex: 1\n",
            "Precision: 0.8329454711384896\n",
            "Recall: 0.8656312981624185\n",
            "\n",
            "Applicant_sex: 2\n",
            "Precision: 0.819672131147541\n",
            "Recall: 0.9174311926605505\n",
            "\n"
          ]
        }
      ]
    },
    {
      "cell_type": "code",
      "source": [
        "from fairlearn.reductions import ExponentiatedGradient\n",
        "from sklearn.metrics import accuracy_score\n",
        "from fairlearn.metrics import MetricFrame\n",
        "\n",
        "# Modifica el nombre del parámetro de peso de muestra en tu modelo LightGBM\n",
        "lgbm_model = LGBMClassifier()\n",
        "lgbm_model.sample_weight = 'lgbm__sample_weight'\n",
        "\n",
        "# Crear el mitigador de sesgo para el modelo que ya tenemos\n",
        "expgrad = ExponentiatedGradient(\n",
        "    lgbm_model,  # Utiliza tu modelo LightGBM ya entrenado\n",
        "    constraints=DemographicParity(),  # Puedes cambiar la métrica de equidad si lo deseas\n",
        "    max_iter=5  # Especifica el número máximo de iteraciones\n",
        ")\n",
        "\n",
        "# Entrenar el mitigador de sesgo\n",
        "expgrad.fit(X_train, y_train, sensitive_features=X_train[['applicant_sex']])  # Asegúrate de proporcionar las características sensibles correctas\n",
        "\n"
      ],
      "metadata": {
        "colab": {
          "base_uri": "https://localhost:8080/",
          "height": 1000
        },
        "id": "t9EupOK4sioJ",
        "outputId": "13b704e2-0e4b-4672-8a20-bddfcb3d36da"
      },
      "execution_count": null,
      "outputs": [
        {
          "output_type": "stream",
          "name": "stdout",
          "text": [
            "[LightGBM] [Info] Number of positive: 523370, number of negative: 276630\n",
            "[LightGBM] [Info] Auto-choosing row-wise multi-threading, the overhead of testing was 0.088299 seconds.\n",
            "You can set `force_row_wise=true` to remove the overhead.\n",
            "And if memory is not enough, you can set `force_col_wise=true`.\n",
            "[LightGBM] [Info] Total Bins 788\n",
            "[LightGBM] [Info] Number of data points in the train set: 800000, number of used features: 8\n",
            "[LightGBM] [Info] [binary:BoostFromScore]: pavg=0.654212 -> initscore=0.637608\n",
            "[LightGBM] [Info] Start training from score 0.637608\n",
            "[LightGBM] [Info] Number of positive: 523370, number of negative: 276630\n",
            "[LightGBM] [Info] Auto-choosing row-wise multi-threading, the overhead of testing was 0.098900 seconds.\n",
            "You can set `force_row_wise=true` to remove the overhead.\n",
            "And if memory is not enough, you can set `force_col_wise=true`.\n",
            "[LightGBM] [Info] Total Bins 788\n",
            "[LightGBM] [Info] Number of data points in the train set: 800000, number of used features: 8\n",
            "[LightGBM] [Info] [binary:BoostFromScore]: pavg=0.654212 -> initscore=0.637608\n",
            "[LightGBM] [Info] Start training from score 0.637608\n",
            "[LightGBM] [Info] Number of positive: 523370, number of negative: 276630\n",
            "[LightGBM] [Info] Auto-choosing row-wise multi-threading, the overhead of testing was 0.050438 seconds.\n",
            "You can set `force_row_wise=true` to remove the overhead.\n",
            "And if memory is not enough, you can set `force_col_wise=true`.\n",
            "[LightGBM] [Info] Total Bins 788\n",
            "[LightGBM] [Info] Number of data points in the train set: 800000, number of used features: 8\n",
            "[LightGBM] [Info] [binary:BoostFromScore]: pavg=0.654263 -> initscore=0.637833\n",
            "[LightGBM] [Info] Start training from score 0.637833\n",
            "[LightGBM] [Info] Number of positive: 523370, number of negative: 276630\n",
            "[LightGBM] [Info] Auto-choosing row-wise multi-threading, the overhead of testing was 0.054141 seconds.\n",
            "You can set `force_row_wise=true` to remove the overhead.\n",
            "And if memory is not enough, you can set `force_col_wise=true`.\n",
            "[LightGBM] [Info] Total Bins 788\n",
            "[LightGBM] [Info] Number of data points in the train set: 800000, number of used features: 8\n",
            "[LightGBM] [Info] [binary:BoostFromScore]: pavg=0.654238 -> initscore=0.637720\n",
            "[LightGBM] [Info] Start training from score 0.637720\n",
            "[LightGBM] [Info] Number of positive: 264771, number of negative: 535229\n",
            "[LightGBM] [Info] Auto-choosing row-wise multi-threading, the overhead of testing was 0.078879 seconds.\n",
            "You can set `force_row_wise=true` to remove the overhead.\n",
            "And if memory is not enough, you can set `force_col_wise=true`.\n",
            "[LightGBM] [Info] Total Bins 788\n",
            "[LightGBM] [Info] Number of data points in the train set: 800000, number of used features: 8\n",
            "[LightGBM] [Info] [binary:BoostFromScore]: pavg=0.501154 -> initscore=0.004614\n",
            "[LightGBM] [Info] Start training from score 0.004614\n",
            "[LightGBM] [Warning] No further splits with positive gain, best gain: -inf\n",
            "[LightGBM] [Warning] No further splits with positive gain, best gain: -inf\n",
            "[LightGBM] [Warning] No further splits with positive gain, best gain: -inf\n",
            "[LightGBM] [Warning] No further splits with positive gain, best gain: -inf\n",
            "[LightGBM] [Warning] No further splits with positive gain, best gain: -inf\n",
            "[LightGBM] [Warning] No further splits with positive gain, best gain: -inf\n",
            "[LightGBM] [Warning] No further splits with positive gain, best gain: -inf\n",
            "[LightGBM] [Warning] No further splits with positive gain, best gain: -inf\n",
            "[LightGBM] [Warning] No further splits with positive gain, best gain: -inf\n",
            "[LightGBM] [Warning] No further splits with positive gain, best gain: -inf\n",
            "[LightGBM] [Warning] No further splits with positive gain, best gain: -inf\n",
            "[LightGBM] [Warning] No further splits with positive gain, best gain: -inf\n",
            "[LightGBM] [Warning] No further splits with positive gain, best gain: -inf\n",
            "[LightGBM] [Warning] No further splits with positive gain, best gain: -inf\n",
            "[LightGBM] [Warning] No further splits with positive gain, best gain: -inf\n",
            "[LightGBM] [Warning] No further splits with positive gain, best gain: -inf\n",
            "[LightGBM] [Warning] No further splits with positive gain, best gain: -inf\n",
            "[LightGBM] [Warning] No further splits with positive gain, best gain: -inf\n",
            "[LightGBM] [Warning] No further splits with positive gain, best gain: -inf\n",
            "[LightGBM] [Warning] No further splits with positive gain, best gain: -inf\n",
            "[LightGBM] [Warning] No further splits with positive gain, best gain: -inf\n",
            "[LightGBM] [Warning] No further splits with positive gain, best gain: -inf\n",
            "[LightGBM] [Warning] No further splits with positive gain, best gain: -inf\n",
            "[LightGBM] [Warning] No further splits with positive gain, best gain: -inf\n",
            "[LightGBM] [Warning] No further splits with positive gain, best gain: -inf\n",
            "[LightGBM] [Warning] No further splits with positive gain, best gain: -inf\n",
            "[LightGBM] [Warning] No further splits with positive gain, best gain: -inf\n",
            "[LightGBM] [Warning] No further splits with positive gain, best gain: -inf\n",
            "[LightGBM] [Warning] No further splits with positive gain, best gain: -inf\n",
            "[LightGBM] [Warning] No further splits with positive gain, best gain: -inf\n",
            "[LightGBM] [Warning] No further splits with positive gain, best gain: -inf\n",
            "[LightGBM] [Warning] No further splits with positive gain, best gain: -inf\n",
            "[LightGBM] [Warning] No further splits with positive gain, best gain: -inf\n",
            "[LightGBM] [Warning] No further splits with positive gain, best gain: -inf\n",
            "[LightGBM] [Warning] No further splits with positive gain, best gain: -inf\n",
            "[LightGBM] [Warning] No further splits with positive gain, best gain: -inf\n",
            "[LightGBM] [Warning] No further splits with positive gain, best gain: -inf\n",
            "[LightGBM] [Warning] No further splits with positive gain, best gain: -inf\n",
            "[LightGBM] [Warning] No further splits with positive gain, best gain: -inf\n",
            "[LightGBM] [Warning] No further splits with positive gain, best gain: -inf\n",
            "[LightGBM] [Warning] No further splits with positive gain, best gain: -inf\n",
            "[LightGBM] [Warning] No further splits with positive gain, best gain: -inf\n",
            "[LightGBM] [Warning] No further splits with positive gain, best gain: -inf\n",
            "[LightGBM] [Warning] No further splits with positive gain, best gain: -inf\n",
            "[LightGBM] [Warning] No further splits with positive gain, best gain: -inf\n",
            "[LightGBM] [Warning] No further splits with positive gain, best gain: -inf\n",
            "[LightGBM] [Warning] No further splits with positive gain, best gain: -inf\n",
            "[LightGBM] [Warning] No further splits with positive gain, best gain: -inf\n",
            "[LightGBM] [Warning] No further splits with positive gain, best gain: -inf\n",
            "[LightGBM] [Warning] No further splits with positive gain, best gain: -inf\n",
            "[LightGBM] [Warning] No further splits with positive gain, best gain: -inf\n",
            "[LightGBM] [Warning] No further splits with positive gain, best gain: -inf\n",
            "[LightGBM] [Warning] No further splits with positive gain, best gain: -inf\n",
            "[LightGBM] [Warning] No further splits with positive gain, best gain: -inf\n",
            "[LightGBM] [Warning] No further splits with positive gain, best gain: -inf\n",
            "[LightGBM] [Warning] No further splits with positive gain, best gain: -inf\n",
            "[LightGBM] [Warning] No further splits with positive gain, best gain: -inf\n",
            "[LightGBM] [Warning] No further splits with positive gain, best gain: -inf\n",
            "[LightGBM] [Warning] No further splits with positive gain, best gain: -inf\n",
            "[LightGBM] [Warning] No further splits with positive gain, best gain: -inf\n",
            "[LightGBM] [Warning] No further splits with positive gain, best gain: -inf\n",
            "[LightGBM] [Warning] No further splits with positive gain, best gain: -inf\n",
            "[LightGBM] [Warning] No further splits with positive gain, best gain: -inf\n",
            "[LightGBM] [Warning] No further splits with positive gain, best gain: -inf\n",
            "[LightGBM] [Warning] No further splits with positive gain, best gain: -inf\n",
            "[LightGBM] [Warning] No further splits with positive gain, best gain: -inf\n",
            "[LightGBM] [Warning] No further splits with positive gain, best gain: -inf\n",
            "[LightGBM] [Warning] No further splits with positive gain, best gain: -inf\n",
            "[LightGBM] [Warning] No further splits with positive gain, best gain: -inf\n",
            "[LightGBM] [Warning] No further splits with positive gain, best gain: -inf\n",
            "[LightGBM] [Warning] No further splits with positive gain, best gain: -inf\n",
            "[LightGBM] [Warning] No further splits with positive gain, best gain: -inf\n",
            "[LightGBM] [Warning] No further splits with positive gain, best gain: -inf\n",
            "[LightGBM] [Warning] No further splits with positive gain, best gain: -inf\n",
            "[LightGBM] [Warning] No further splits with positive gain, best gain: -inf\n",
            "[LightGBM] [Warning] No further splits with positive gain, best gain: -inf\n",
            "[LightGBM] [Warning] No further splits with positive gain, best gain: -inf\n",
            "[LightGBM] [Warning] No further splits with positive gain, best gain: -inf\n",
            "[LightGBM] [Warning] No further splits with positive gain, best gain: -inf\n",
            "[LightGBM] [Warning] No further splits with positive gain, best gain: -inf\n",
            "[LightGBM] [Warning] No further splits with positive gain, best gain: -inf\n",
            "[LightGBM] [Warning] No further splits with positive gain, best gain: -inf\n",
            "[LightGBM] [Warning] No further splits with positive gain, best gain: -inf\n",
            "[LightGBM] [Warning] No further splits with positive gain, best gain: -inf\n",
            "[LightGBM] [Warning] No further splits with positive gain, best gain: -inf\n",
            "[LightGBM] [Warning] No further splits with positive gain, best gain: -inf\n",
            "[LightGBM] [Warning] No further splits with positive gain, best gain: -inf\n",
            "[LightGBM] [Info] Number of positive: 523370, number of negative: 276630\n",
            "[LightGBM] [Info] Auto-choosing row-wise multi-threading, the overhead of testing was 0.063994 seconds.\n",
            "You can set `force_row_wise=true` to remove the overhead.\n",
            "And if memory is not enough, you can set `force_col_wise=true`.\n",
            "[LightGBM] [Info] Total Bins 788\n",
            "[LightGBM] [Info] Number of data points in the train set: 800000, number of used features: 8\n",
            "[LightGBM] [Info] [binary:BoostFromScore]: pavg=0.654314 -> initscore=0.638058\n",
            "[LightGBM] [Info] Start training from score 0.638058\n",
            "[LightGBM] [Info] Number of positive: 523370, number of negative: 276630\n",
            "[LightGBM] [Info] Auto-choosing row-wise multi-threading, the overhead of testing was 0.050719 seconds.\n",
            "You can set `force_row_wise=true` to remove the overhead.\n",
            "And if memory is not enough, you can set `force_col_wise=true`.\n",
            "[LightGBM] [Info] Total Bins 788\n",
            "[LightGBM] [Info] Number of data points in the train set: 800000, number of used features: 8\n",
            "[LightGBM] [Info] [binary:BoostFromScore]: pavg=0.654263 -> initscore=0.637833\n",
            "[LightGBM] [Info] Start training from score 0.637833\n",
            "[LightGBM] [Info] Number of positive: 619454, number of negative: 180546\n",
            "[LightGBM] [Info] Auto-choosing row-wise multi-threading, the overhead of testing was 0.060867 seconds.\n",
            "You can set `force_row_wise=true` to remove the overhead.\n",
            "And if memory is not enough, you can set `force_col_wise=true`.\n",
            "[LightGBM] [Info] Total Bins 788\n",
            "[LightGBM] [Info] Number of data points in the train set: 800000, number of used features: 8\n",
            "[LightGBM] [Info] [binary:BoostFromScore]: pavg=0.653534 -> initscore=0.634612\n",
            "[LightGBM] [Info] Start training from score 0.634612\n",
            "[LightGBM] [Info] Number of positive: 523370, number of negative: 276630\n",
            "[LightGBM] [Info] Auto-choosing row-wise multi-threading, the overhead of testing was 0.050723 seconds.\n",
            "You can set `force_row_wise=true` to remove the overhead.\n",
            "And if memory is not enough, you can set `force_col_wise=true`.\n",
            "[LightGBM] [Info] Total Bins 788\n",
            "[LightGBM] [Info] Number of data points in the train set: 800000, number of used features: 8\n",
            "[LightGBM] [Info] [binary:BoostFromScore]: pavg=0.654365 -> initscore=0.638283\n",
            "[LightGBM] [Info] Start training from score 0.638283\n",
            "[LightGBM] [Info] Number of positive: 523370, number of negative: 276630\n",
            "[LightGBM] [Info] Auto-choosing row-wise multi-threading, the overhead of testing was 0.076777 seconds.\n",
            "You can set `force_row_wise=true` to remove the overhead.\n",
            "And if memory is not enough, you can set `force_col_wise=true`.\n",
            "[LightGBM] [Info] Total Bins 788\n",
            "[LightGBM] [Info] Number of data points in the train set: 800000, number of used features: 8\n",
            "[LightGBM] [Info] [binary:BoostFromScore]: pavg=0.654289 -> initscore=0.637945\n",
            "[LightGBM] [Info] Start training from score 0.637945\n",
            "[LightGBM] [Info] Number of positive: 523370, number of negative: 276630\n",
            "[LightGBM] [Info] Auto-choosing row-wise multi-threading, the overhead of testing was 0.050082 seconds.\n",
            "You can set `force_row_wise=true` to remove the overhead.\n",
            "And if memory is not enough, you can set `force_col_wise=true`.\n",
            "[LightGBM] [Info] Total Bins 788\n",
            "[LightGBM] [Info] Number of data points in the train set: 800000, number of used features: 8\n",
            "[LightGBM] [Info] [binary:BoostFromScore]: pavg=0.654365 -> initscore=0.638283\n",
            "[LightGBM] [Info] Start training from score 0.638283\n",
            "[LightGBM] [Info] Number of positive: 523370, number of negative: 276630\n",
            "[LightGBM] [Info] Auto-choosing row-wise multi-threading, the overhead of testing was 0.050213 seconds.\n",
            "You can set `force_row_wise=true` to remove the overhead.\n",
            "And if memory is not enough, you can set `force_col_wise=true`.\n",
            "[LightGBM] [Info] Total Bins 788\n",
            "[LightGBM] [Info] Number of data points in the train set: 800000, number of used features: 8\n",
            "[LightGBM] [Info] [binary:BoostFromScore]: pavg=0.654595 -> initscore=0.639299\n",
            "[LightGBM] [Info] Start training from score 0.639299\n",
            "[LightGBM] [Info] Number of positive: 523370, number of negative: 276630\n",
            "[LightGBM] [Info] Auto-choosing row-wise multi-threading, the overhead of testing was 0.051453 seconds.\n",
            "You can set `force_row_wise=true` to remove the overhead.\n",
            "And if memory is not enough, you can set `force_col_wise=true`.\n",
            "[LightGBM] [Info] Total Bins 788\n",
            "[LightGBM] [Info] Number of data points in the train set: 800000, number of used features: 8\n",
            "[LightGBM] [Info] [binary:BoostFromScore]: pavg=0.654979 -> initscore=0.641000\n",
            "[LightGBM] [Info] Start training from score 0.641000\n",
            "[LightGBM] [Info] Number of positive: 523370, number of negative: 276630\n",
            "[LightGBM] [Info] Auto-choosing row-wise multi-threading, the overhead of testing was 0.051191 seconds.\n",
            "You can set `force_row_wise=true` to remove the overhead.\n",
            "And if memory is not enough, you can set `force_col_wise=true`.\n",
            "[LightGBM] [Info] Total Bins 788\n",
            "[LightGBM] [Info] Number of data points in the train set: 800000, number of used features: 8\n",
            "[LightGBM] [Info] [binary:BoostFromScore]: pavg=0.654339 -> initscore=0.638166\n",
            "[LightGBM] [Info] Start training from score 0.638166\n",
            "[LightGBM] [Info] Number of positive: 523370, number of negative: 276630\n",
            "[LightGBM] [Info] Auto-choosing row-wise multi-threading, the overhead of testing was 0.049837 seconds.\n",
            "You can set `force_row_wise=true` to remove the overhead.\n",
            "And if memory is not enough, you can set `force_col_wise=true`.\n",
            "[LightGBM] [Info] Total Bins 788\n",
            "[LightGBM] [Info] Number of data points in the train set: 800000, number of used features: 8\n",
            "[LightGBM] [Info] [binary:BoostFromScore]: pavg=0.654465 -> initscore=0.638726\n",
            "[LightGBM] [Info] Start training from score 0.638726\n",
            "[LightGBM] [Info] Number of positive: 523370, number of negative: 276630\n",
            "[LightGBM] [Info] Auto-choosing row-wise multi-threading, the overhead of testing was 0.051252 seconds.\n",
            "You can set `force_row_wise=true` to remove the overhead.\n",
            "And if memory is not enough, you can set `force_col_wise=true`.\n",
            "[LightGBM] [Info] Total Bins 788\n",
            "[LightGBM] [Info] Number of data points in the train set: 800000, number of used features: 8\n",
            "[LightGBM] [Info] [binary:BoostFromScore]: pavg=0.654846 -> initscore=0.640411\n",
            "[LightGBM] [Info] Start training from score 0.640411\n",
            "[LightGBM] [Info] Number of positive: 523370, number of negative: 276630\n",
            "[LightGBM] [Info] Auto-choosing row-wise multi-threading, the overhead of testing was 0.079167 seconds.\n",
            "You can set `force_row_wise=true` to remove the overhead.\n",
            "And if memory is not enough, you can set `force_col_wise=true`.\n",
            "[LightGBM] [Info] Total Bins 788\n",
            "[LightGBM] [Info] Number of data points in the train set: 800000, number of used features: 8\n",
            "[LightGBM] [Info] [binary:BoostFromScore]: pavg=0.655485 -> initscore=0.643239\n",
            "[LightGBM] [Info] Start training from score 0.643239\n",
            "[LightGBM] [Info] Number of positive: 523672, number of negative: 276328\n",
            "[LightGBM] [Info] Auto-choosing row-wise multi-threading, the overhead of testing was 0.050110 seconds.\n",
            "You can set `force_row_wise=true` to remove the overhead.\n",
            "And if memory is not enough, you can set `force_col_wise=true`.\n",
            "[LightGBM] [Info] Total Bins 788\n",
            "[LightGBM] [Info] Number of data points in the train set: 800000, number of used features: 8\n",
            "[LightGBM] [Info] [binary:BoostFromScore]: pavg=0.654247 -> initscore=0.637761\n",
            "[LightGBM] [Info] Start training from score 0.637761\n",
            "[LightGBM] [Info] Number of positive: 523370, number of negative: 276630\n",
            "[LightGBM] [Info] Auto-choosing row-wise multi-threading, the overhead of testing was 0.080723 seconds.\n",
            "You can set `force_row_wise=true` to remove the overhead.\n",
            "And if memory is not enough, you can set `force_col_wise=true`.\n",
            "[LightGBM] [Info] Total Bins 788\n",
            "[LightGBM] [Info] Number of data points in the train set: 800000, number of used features: 8\n",
            "[LightGBM] [Info] [binary:BoostFromScore]: pavg=0.654311 -> initscore=0.638041\n",
            "[LightGBM] [Info] Start training from score 0.638041\n",
            "[LightGBM] [Info] Number of positive: 523370, number of negative: 276630\n",
            "[LightGBM] [Info] Auto-choosing col-wise multi-threading, the overhead of testing was 0.092322 seconds.\n",
            "You can set `force_col_wise=true` to remove the overhead.\n",
            "[LightGBM] [Info] Total Bins 788\n",
            "[LightGBM] [Info] Number of data points in the train set: 800000, number of used features: 8\n",
            "[LightGBM] [Info] [binary:BoostFromScore]: pavg=0.654409 -> initscore=0.638475\n",
            "[LightGBM] [Info] Start training from score 0.638475\n",
            "[LightGBM] [Info] Number of positive: 523672, number of negative: 276328\n",
            "[LightGBM] [Info] Auto-choosing row-wise multi-threading, the overhead of testing was 0.050691 seconds.\n",
            "You can set `force_row_wise=true` to remove the overhead.\n",
            "And if memory is not enough, you can set `force_col_wise=true`.\n",
            "[LightGBM] [Info] Total Bins 788\n",
            "[LightGBM] [Info] Number of data points in the train set: 800000, number of used features: 8\n",
            "[LightGBM] [Info] [binary:BoostFromScore]: pavg=0.654569 -> initscore=0.639183\n",
            "[LightGBM] [Info] Start training from score 0.639183\n",
            "[LightGBM] [Info] Number of positive: 523672, number of negative: 276328\n",
            "[LightGBM] [Info] Auto-choosing row-wise multi-threading, the overhead of testing was 0.076707 seconds.\n",
            "You can set `force_row_wise=true` to remove the overhead.\n",
            "And if memory is not enough, you can set `force_col_wise=true`.\n",
            "[LightGBM] [Info] Total Bins 788\n",
            "[LightGBM] [Info] Number of data points in the train set: 800000, number of used features: 8\n",
            "[LightGBM] [Info] [binary:BoostFromScore]: pavg=0.654809 -> initscore=0.640247\n",
            "[LightGBM] [Info] Start training from score 0.640247\n",
            "[LightGBM] [Info] Number of positive: 523370, number of negative: 276630\n",
            "[LightGBM] [Info] Auto-choosing row-wise multi-threading, the overhead of testing was 0.050960 seconds.\n",
            "You can set `force_row_wise=true` to remove the overhead.\n",
            "And if memory is not enough, you can set `force_col_wise=true`.\n",
            "[LightGBM] [Info] Total Bins 788\n",
            "[LightGBM] [Info] Number of data points in the train set: 800000, number of used features: 8\n",
            "[LightGBM] [Info] [binary:BoostFromScore]: pavg=0.654284 -> initscore=0.637925\n",
            "[LightGBM] [Info] Start training from score 0.637925\n",
            "[LightGBM] [Info] Number of positive: 523370, number of negative: 276630\n",
            "[LightGBM] [Info] Auto-choosing row-wise multi-threading, the overhead of testing was 0.074788 seconds.\n",
            "You can set `force_row_wise=true` to remove the overhead.\n",
            "And if memory is not enough, you can set `force_col_wise=true`.\n",
            "[LightGBM] [Info] Total Bins 788\n",
            "[LightGBM] [Info] Number of data points in the train set: 800000, number of used features: 8\n",
            "[LightGBM] [Info] [binary:BoostFromScore]: pavg=0.654356 -> initscore=0.638243\n",
            "[LightGBM] [Info] Start training from score 0.638243\n",
            "[LightGBM] [Info] Number of positive: 523370, number of negative: 276630\n",
            "[LightGBM] [Info] Auto-choosing row-wise multi-threading, the overhead of testing was 0.050188 seconds.\n",
            "You can set `force_row_wise=true` to remove the overhead.\n",
            "And if memory is not enough, you can set `force_col_wise=true`.\n",
            "[LightGBM] [Info] Total Bins 788\n",
            "[LightGBM] [Info] Number of data points in the train set: 800000, number of used features: 8\n",
            "[LightGBM] [Info] [binary:BoostFromScore]: pavg=0.654572 -> initscore=0.639197\n",
            "[LightGBM] [Info] Start training from score 0.639197\n",
            "[LightGBM] [Info] Number of positive: 523370, number of negative: 276630\n",
            "[LightGBM] [Info] Auto-choosing row-wise multi-threading, the overhead of testing was 0.052613 seconds.\n",
            "You can set `force_row_wise=true` to remove the overhead.\n",
            "And if memory is not enough, you can set `force_col_wise=true`.\n",
            "[LightGBM] [Info] Total Bins 788\n",
            "[LightGBM] [Info] Number of data points in the train set: 800000, number of used features: 8\n",
            "[LightGBM] [Info] [binary:BoostFromScore]: pavg=0.654933 -> initscore=0.640795\n",
            "[LightGBM] [Info] Start training from score 0.640795\n"
          ]
        },
        {
          "output_type": "execute_result",
          "data": {
            "text/plain": [
              "ExponentiatedGradient(constraints=<fairlearn.reductions._moments.utility_parity.DemographicParity object at 0x7e51da817100>,\n",
              "                      estimator=LGBMClassifier(), max_iter=5,\n",
              "                      nu=0.00022083014448839435)"
            ],
            "text/html": [
              "<style>#sk-container-id-1 {color: black;background-color: white;}#sk-container-id-1 pre{padding: 0;}#sk-container-id-1 div.sk-toggleable {background-color: white;}#sk-container-id-1 label.sk-toggleable__label {cursor: pointer;display: block;width: 100%;margin-bottom: 0;padding: 0.3em;box-sizing: border-box;text-align: center;}#sk-container-id-1 label.sk-toggleable__label-arrow:before {content: \"▸\";float: left;margin-right: 0.25em;color: #696969;}#sk-container-id-1 label.sk-toggleable__label-arrow:hover:before {color: black;}#sk-container-id-1 div.sk-estimator:hover label.sk-toggleable__label-arrow:before {color: black;}#sk-container-id-1 div.sk-toggleable__content {max-height: 0;max-width: 0;overflow: hidden;text-align: left;background-color: #f0f8ff;}#sk-container-id-1 div.sk-toggleable__content pre {margin: 0.2em;color: black;border-radius: 0.25em;background-color: #f0f8ff;}#sk-container-id-1 input.sk-toggleable__control:checked~div.sk-toggleable__content {max-height: 200px;max-width: 100%;overflow: auto;}#sk-container-id-1 input.sk-toggleable__control:checked~label.sk-toggleable__label-arrow:before {content: \"▾\";}#sk-container-id-1 div.sk-estimator input.sk-toggleable__control:checked~label.sk-toggleable__label {background-color: #d4ebff;}#sk-container-id-1 div.sk-label input.sk-toggleable__control:checked~label.sk-toggleable__label {background-color: #d4ebff;}#sk-container-id-1 input.sk-hidden--visually {border: 0;clip: rect(1px 1px 1px 1px);clip: rect(1px, 1px, 1px, 1px);height: 1px;margin: -1px;overflow: hidden;padding: 0;position: absolute;width: 1px;}#sk-container-id-1 div.sk-estimator {font-family: monospace;background-color: #f0f8ff;border: 1px dotted black;border-radius: 0.25em;box-sizing: border-box;margin-bottom: 0.5em;}#sk-container-id-1 div.sk-estimator:hover {background-color: #d4ebff;}#sk-container-id-1 div.sk-parallel-item::after {content: \"\";width: 100%;border-bottom: 1px solid gray;flex-grow: 1;}#sk-container-id-1 div.sk-label:hover label.sk-toggleable__label {background-color: #d4ebff;}#sk-container-id-1 div.sk-serial::before {content: \"\";position: absolute;border-left: 1px solid gray;box-sizing: border-box;top: 0;bottom: 0;left: 50%;z-index: 0;}#sk-container-id-1 div.sk-serial {display: flex;flex-direction: column;align-items: center;background-color: white;padding-right: 0.2em;padding-left: 0.2em;position: relative;}#sk-container-id-1 div.sk-item {position: relative;z-index: 1;}#sk-container-id-1 div.sk-parallel {display: flex;align-items: stretch;justify-content: center;background-color: white;position: relative;}#sk-container-id-1 div.sk-item::before, #sk-container-id-1 div.sk-parallel-item::before {content: \"\";position: absolute;border-left: 1px solid gray;box-sizing: border-box;top: 0;bottom: 0;left: 50%;z-index: -1;}#sk-container-id-1 div.sk-parallel-item {display: flex;flex-direction: column;z-index: 1;position: relative;background-color: white;}#sk-container-id-1 div.sk-parallel-item:first-child::after {align-self: flex-end;width: 50%;}#sk-container-id-1 div.sk-parallel-item:last-child::after {align-self: flex-start;width: 50%;}#sk-container-id-1 div.sk-parallel-item:only-child::after {width: 0;}#sk-container-id-1 div.sk-dashed-wrapped {border: 1px dashed gray;margin: 0 0.4em 0.5em 0.4em;box-sizing: border-box;padding-bottom: 0.4em;background-color: white;}#sk-container-id-1 div.sk-label label {font-family: monospace;font-weight: bold;display: inline-block;line-height: 1.2em;}#sk-container-id-1 div.sk-label-container {text-align: center;}#sk-container-id-1 div.sk-container {/* jupyter's `normalize.less` sets `[hidden] { display: none; }` but bootstrap.min.css set `[hidden] { display: none !important; }` so we also need the `!important` here to be able to override the default hidden behavior on the sphinx rendered scikit-learn.org. See: https://github.com/scikit-learn/scikit-learn/issues/21755 */display: inline-block !important;position: relative;}#sk-container-id-1 div.sk-text-repr-fallback {display: none;}</style><div id=\"sk-container-id-1\" class=\"sk-top-container\"><div class=\"sk-text-repr-fallback\"><pre>ExponentiatedGradient(constraints=&lt;fairlearn.reductions._moments.utility_parity.DemographicParity object at 0x7e51da817100&gt;,\n",
              "                      estimator=LGBMClassifier(), max_iter=5,\n",
              "                      nu=0.00022083014448839435)</pre><b>In a Jupyter environment, please rerun this cell to show the HTML representation or trust the notebook. <br />On GitHub, the HTML representation is unable to render, please try loading this page with nbviewer.org.</b></div><div class=\"sk-container\" hidden><div class=\"sk-item sk-dashed-wrapped\"><div class=\"sk-label-container\"><div class=\"sk-label sk-toggleable\"><input class=\"sk-toggleable__control sk-hidden--visually\" id=\"sk-estimator-id-1\" type=\"checkbox\" ><label for=\"sk-estimator-id-1\" class=\"sk-toggleable__label sk-toggleable__label-arrow\">ExponentiatedGradient</label><div class=\"sk-toggleable__content\"><pre>ExponentiatedGradient(constraints=&lt;fairlearn.reductions._moments.utility_parity.DemographicParity object at 0x7e51da817100&gt;,\n",
              "                      estimator=LGBMClassifier(), max_iter=5,\n",
              "                      nu=0.00022083014448839435)</pre></div></div></div><div class=\"sk-parallel\"><div class=\"sk-parallel-item\"><div class=\"sk-item\"><div class=\"sk-label-container\"><div class=\"sk-label sk-toggleable\"><input class=\"sk-toggleable__control sk-hidden--visually\" id=\"sk-estimator-id-2\" type=\"checkbox\" ><label for=\"sk-estimator-id-2\" class=\"sk-toggleable__label sk-toggleable__label-arrow\">estimator: LGBMClassifier</label><div class=\"sk-toggleable__content\"><pre>LGBMClassifier()</pre></div></div></div><div class=\"sk-serial\"><div class=\"sk-item\"><div class=\"sk-estimator sk-toggleable\"><input class=\"sk-toggleable__control sk-hidden--visually\" id=\"sk-estimator-id-3\" type=\"checkbox\" ><label for=\"sk-estimator-id-3\" class=\"sk-toggleable__label sk-toggleable__label-arrow\">LGBMClassifier</label><div class=\"sk-toggleable__content\"><pre>LGBMClassifier()</pre></div></div></div></div></div></div></div></div></div></div>"
            ]
          },
          "metadata": {},
          "execution_count": 64
        }
      ]
    },
    {
      "cell_type": "code",
      "source": [
        "predictions_expgrad = expgrad.predict(X_test)\n"
      ],
      "metadata": {
        "id": "Ey7Dq5u5vhmM"
      },
      "execution_count": null,
      "outputs": []
    },
    {
      "cell_type": "code",
      "source": [
        "accuracy_expgrad = accuracy_score(y_test, predictions_expgrad)\n"
      ],
      "metadata": {
        "id": "WznJ2JJlvk2t"
      },
      "execution_count": null,
      "outputs": []
    },
    {
      "cell_type": "code",
      "source": [
        "print(\"Accuracy Original Model:\", accuracy_lgbm)\n",
        "print(\"Accuracy Model with Exponentiated Gradient:\", accuracy_expgrad)\n"
      ],
      "metadata": {
        "colab": {
          "base_uri": "https://localhost:8080/"
        },
        "id": "UliUmhR7voMq",
        "outputId": "5c5a534a-788c-4848-f64a-03cf8980dcfd"
      },
      "execution_count": null,
      "outputs": [
        {
          "output_type": "stream",
          "name": "stdout",
          "text": [
            "Accuracy Original Model: 0.807315\n",
            "Accuracy Model with Exponentiated Gradient: 0.80726\n"
          ]
        }
      ]
    }
  ],
  "metadata": {
    "colab": {
      "provenance": [],
      "toc_visible": true
    },
    "kernelspec": {
      "display_name": "Python 3",
      "name": "python3"
    },
    "language_info": {
      "name": "python"
    }
  },
  "nbformat": 4,
  "nbformat_minor": 0
}