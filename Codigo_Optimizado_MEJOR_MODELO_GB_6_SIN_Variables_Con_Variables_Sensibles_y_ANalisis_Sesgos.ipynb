{
  "cells": [
    {
      "cell_type": "code",
      "source": [
        "pip install --upgrade scikit-learn"
      ],
      "metadata": {
        "colab": {
          "base_uri": "https://localhost:8080/"
        },
        "id": "0vEvZhbywGRC",
        "outputId": "921f2d3c-5aaa-42d3-8034-dd9a0eb6473e"
      },
      "execution_count": null,
      "outputs": [
        {
          "output_type": "stream",
          "name": "stdout",
          "text": [
            "Requirement already satisfied: scikit-learn in /usr/local/lib/python3.10/dist-packages (1.2.2)\n",
            "Collecting scikit-learn\n",
            "  Downloading scikit_learn-1.5.0-cp310-cp310-manylinux_2_17_x86_64.manylinux2014_x86_64.whl (13.3 MB)\n",
            "\u001b[2K     \u001b[90m━━━━━━━━━━━━━━━━━━━━━━━━━━━━━━━━━━━━━━━━\u001b[0m \u001b[32m13.3/13.3 MB\u001b[0m \u001b[31m28.0 MB/s\u001b[0m eta \u001b[36m0:00:00\u001b[0m\n",
            "\u001b[?25hRequirement already satisfied: numpy>=1.19.5 in /usr/local/lib/python3.10/dist-packages (from scikit-learn) (1.25.2)\n",
            "Requirement already satisfied: scipy>=1.6.0 in /usr/local/lib/python3.10/dist-packages (from scikit-learn) (1.11.4)\n",
            "Requirement already satisfied: joblib>=1.2.0 in /usr/local/lib/python3.10/dist-packages (from scikit-learn) (1.4.2)\n",
            "Requirement already satisfied: threadpoolctl>=3.1.0 in /usr/local/lib/python3.10/dist-packages (from scikit-learn) (3.5.0)\n",
            "Installing collected packages: scikit-learn\n",
            "  Attempting uninstall: scikit-learn\n",
            "    Found existing installation: scikit-learn 1.2.2\n",
            "    Uninstalling scikit-learn-1.2.2:\n",
            "      Successfully uninstalled scikit-learn-1.2.2\n",
            "Successfully installed scikit-learn-1.5.0\n"
          ]
        }
      ]
    },
    {
      "cell_type": "code",
      "execution_count": null,
      "metadata": {
        "id": "xlatnNO9_PqC"
      },
      "outputs": [],
      "source": [
        "#columnas_seleccionadas = [\n",
        "   # 'action_taken2', 'purchaser_type', 'preapproval',\n",
        "    #'loan_type', 'loan_purpose', 'lien_status','reverse_mortgage','open_end_line_of_credit', 'business_or_commercial_purpose' 'loan_amount', 'hoepa_status',\n",
        "    #'occupancy_type', 'applicant_credit_score_type','combined_loan_to_value_ratio', 'property_value ','occupancy_type ','manufactured_home_secured_proper',\n",
        "    #'applicant_age', 'hoepa_status ', 'loan_term ','manufactured_home_land_property', 'multifamily_affordable_units','income ','applicant_credit_score_type'\n",
        "    #'conforming_loan_limit', 'derived_loan_product_type', 'applicant_sex '"
      ]
    },
    {
      "cell_type": "markdown",
      "source": [
        "# CARGA INFORMACION"
      ],
      "metadata": {
        "id": "sdOJT4aYW57H"
      }
    },
    {
      "cell_type": "code",
      "execution_count": null,
      "metadata": {
        "colab": {
          "base_uri": "https://localhost:8080/"
        },
        "id": "-U4QUPjqqMoT",
        "outputId": "a215eaf4-f022-4f46-ac1d-151c6b7fa8fd"
      },
      "outputs": [
        {
          "output_type": "stream",
          "name": "stdout",
          "text": [
            "Drive already mounted at /content/drive; to attempt to forcibly remount, call drive.mount(\"/content/drive\", force_remount=True).\n"
          ]
        }
      ],
      "source": [
        "from google.colab import drive\n",
        "drive.mount('/content/drive')"
      ]
    },
    {
      "cell_type": "code",
      "execution_count": null,
      "metadata": {
        "id": "FOtPJP40qXVi"
      },
      "outputs": [],
      "source": [
        "#Librerias\n",
        "import os\n",
        "from pandas import read_csv\n",
        "%matplotlib inline\n",
        "\n",
        "import numpy as np\n",
        "import pandas as pd\n",
        "#graficas\n",
        "import seaborn as sns\n",
        "import matplotlib.pyplot as plt\n",
        "import pandas as pd\n",
        "from sklearn.model_selection import StratifiedShuffleSplit\n",
        "from sklearn.metrics import confusion_matrix\n",
        "from sklearn.preprocessing import StandardScaler\n",
        "from sklearn.decomposition import PCA\n",
        "from sklearn.naive_bayes import GaussianNB\n",
        "from sklearn.neighbors import KNeighborsClassifier\n",
        "from sklearn.linear_model import LogisticRegression\n",
        "from sklearn.model_selection import GridSearchCV\n",
        "from sklearn.model_selection import StratifiedKFold\n",
        "from sklearn.preprocessing import LabelEncoder\n",
        "from sklearn.model_selection import train_test_split\n",
        "from sklearn.metrics import accuracy_score\n",
        "from sklearn.feature_selection import SelectFromModel\n",
        "from sklearn.preprocessing import LabelEncoder\n",
        "from sklearn.metrics import accuracy_score\n",
        "from sklearn.utils import resample\n",
        "from sklearn.model_selection import StratifiedShuffleSplit, StratifiedKFold\n",
        "from sklearn.metrics import confusion_matrix, classification_report\n",
        "from sklearn.preprocessing import StandardScaler, LabelEncoder\n",
        "from sklearn.decomposition import PCA\n",
        "from sklearn.naive_bayes import GaussianNB\n",
        "from sklearn.neighbors import KNeighborsClassifier\n",
        "from sklearn.linear_model import LogisticRegression\n",
        "from sklearn.ensemble import RandomForestClassifier, GradientBoostingClassifier\n",
        "from sklearn.model_selection import GridSearchCV, train_test_split\n",
        "from sklearn.feature_selection import SelectFromModel\n",
        "from xgboost import XGBClassifier\n",
        "from sklearn.metrics import accuracy_score\n",
        "from sklearn.utils import resample\n",
        "from sklearn.model_selection import StratifiedShuffleSplit, StratifiedKFold\n",
        "from sklearn.metrics import confusion_matrix, classification_report\n",
        "from sklearn.preprocessing import StandardScaler, LabelEncoder\n",
        "from sklearn.decomposition import PCA\n",
        "from sklearn.naive_bayes import GaussianNB\n",
        "from sklearn.neighbors import KNeighborsClassifier\n",
        "from sklearn.linear_model import LogisticRegression\n",
        "from sklearn.ensemble import RandomForestClassifier, GradientBoostingClassifier\n",
        "from sklearn.model_selection import GridSearchCV, train_test_split\n",
        "from sklearn.feature_selection import SelectFromModel\n",
        "from xgboost import XGBClassifier\n",
        "from sklearn.metrics import accuracy_score"
      ]
    },
    {
      "cell_type": "code",
      "execution_count": null,
      "metadata": {
        "id": "wQYOmU4zqab7"
      },
      "outputs": [],
      "source": [
        "import pandas as pd\n",
        "\n",
        "# Reemplaza la ruta con la ubicación de tu archivo Stata (.dta)\n",
        "file_path = \"/content/drive/MyDrive/Proyecto Grado/HDMA/Version Final/LAR_18_19_Muestra.dta\"\n",
        "\n",
        "# Cargar el archivo Stata en un DataFrame\n",
        "data = pd.read_stata(file_path)\n"
      ]
    },
    {
      "cell_type": "code",
      "execution_count": null,
      "metadata": {
        "colab": {
          "base_uri": "https://localhost:8080/"
        },
        "id": "P6ouoPFVHGh-",
        "outputId": "758ecb61-3e63-4754-bd6f-1cd7892c8d8b"
      },
      "outputs": [
        {
          "output_type": "stream",
          "name": "stdout",
          "text": [
            "<class 'pandas.core.frame.DataFrame'>\n",
            "RangeIndex: 1000000 entries, 0 to 999999\n",
            "Data columns (total 61 columns):\n",
            " #   Column                            Non-Null Count    Dtype   \n",
            "---  ------                            --------------    -----   \n",
            " 0   activity_year                     1000000 non-null  int16   \n",
            " 1   lei                               1000000 non-null  object  \n",
            " 2   state_code                        1000000 non-null  object  \n",
            " 3   county_code                       1000000 non-null  object  \n",
            " 4   action_taken                      1000000 non-null  category\n",
            " 5   purchaser_type                    1000000 non-null  category\n",
            " 6   preapproval                       1000000 non-null  int8    \n",
            " 7   loan_type                         1000000 non-null  category\n",
            " 8   loan_purpose                      1000000 non-null  category\n",
            " 9   lien_status                       1000000 non-null  int8    \n",
            " 10  reverse_mortgage                  973978 non-null   float64 \n",
            " 11  open_end_line_of_credit           974190 non-null   float64 \n",
            " 12  business_or_commercial_purpose    974161 non-null   float64 \n",
            " 13  loan_amount                       1000000 non-null  int32   \n",
            " 14  combined_loan_to_value_ratio      701585 non-null   float64 \n",
            " 15  interest_rate                     628255 non-null   float64 \n",
            " 16  rate_spread                       537791 non-null   float64 \n",
            " 17  hoepa_status                      1000000 non-null  category\n",
            " 18  total_loan_costs                  489783 non-null   float64 \n",
            " 19  total_points_and_fees             5839 non-null     float64 \n",
            " 20  origination_charges               490672 non-null   float64 \n",
            " 21  discount_points                   170575 non-null   float64 \n",
            " 22  lender_credits                    196770 non-null   float64 \n",
            " 23  loan_term                         961136 non-null   float64 \n",
            " 24  prepayment_penalty_term           46380 non-null    float64 \n",
            " 25  intro_rate_period                 164157 non-null   float64 \n",
            " 26  negative_amortization             973747 non-null   float64 \n",
            " 27  interest_only_payment             973747 non-null   float64 \n",
            " 28  balloon_payment                   973747 non-null   float64 \n",
            " 29  other_nonamortizing_features      973747 non-null   float64 \n",
            " 30  property_value                    782201 non-null   float64 \n",
            " 31  construction_method               1000000 non-null  category\n",
            " 32  occupancy_type                    1000000 non-null  category\n",
            " 33  manufactured_home_secured_proper  1000000 non-null  category\n",
            " 34  manufactured_home_land_property_  1000000 non-null  category\n",
            " 35  multifamily_affordable_units      212 non-null      float64 \n",
            " 36  income                            957551 non-null   float64 \n",
            " 37  applicant_credit_score_type       1000000 non-null  category\n",
            " 38  applicant_ethnicity_1             999646 non-null   category\n",
            " 39  applicant_race_1                  1000000 non-null  category\n",
            " 40  applicant_sex                     1000000 non-null  category\n",
            " 41  submission_of_application         974115 non-null   category\n",
            " 42  initially_payable_to_institution  974115 non-null   category\n",
            " 43  denial_reason_1                   1000000 non-null  category\n",
            " 44  denial_reason_2                   39487 non-null    category\n",
            " 45  denial_reason_3                   6998 non-null     category\n",
            " 46  denial_reason_4                   652 non-null      category\n",
            " 47  applicant_age                     1000000 non-null  category\n",
            " 48  applicant_age_above_62            992442 non-null   float64 \n",
            " 49  total_units                       1000000 non-null  category\n",
            " 50  debt_to_income_ratio              336026 non-null   category\n",
            " 51  conforming_loan_limit             1000000 non-null  category\n",
            " 52  derived_loan_product_type         1000000 non-null  category\n",
            " 53  derived_dwelling_category         1000000 non-null  category\n",
            " 54  action_taken2                     1000000 non-null  category\n",
            " 55  protegido_edad                    1000000 non-null  int8    \n",
            " 56  no_protegido_edad                 1000000 non-null  int8    \n",
            " 57  protegido_mujer                   1000000 non-null  int8    \n",
            " 58  no_protegido_hombre               1000000 non-null  int8    \n",
            " 59  protegido_raza                    1000000 non-null  int8    \n",
            " 60  no_protegido_raza                 1000000 non-null  int8    \n",
            "dtypes: category(26), float64(22), int16(1), int32(1), int8(8), object(3)\n",
            "memory usage: 228.9+ MB\n",
            "None\n"
          ]
        }
      ],
      "source": [
        "# Información sobre tipos de datos y valores nulos\n",
        "print(data.info())"
      ]
    },
    {
      "cell_type": "code",
      "execution_count": null,
      "metadata": {
        "colab": {
          "base_uri": "https://localhost:8080/"
        },
        "id": "93R_7LZyKVHx",
        "outputId": "05673f26-092e-4ddd-dc38-856fce22ff5f"
      },
      "outputs": [
        {
          "output_type": "stream",
          "name": "stdout",
          "text": [
            "Categorías únicas en applicant_sex : ['mujer', 'hombre', 'selecciono ambas opciones']\n",
            "Categories (3, object): ['hombre' < 'mujer' < 'selecciono ambas opciones']\n",
            "Categorías únicas en applicant_race_1: ['negro/afroamericano', 'blanco', 'sin info', 'asiatico', 'nativo americano/alaska', ..., 'koreano', 'guameno o chamorro', 'japones', 'samoan', 'hawaiano']\n",
            "Length: 18\n",
            "Categories (18, object): ['nativo americano/alaska' < 'asiatico' < 'negro/afroamericano' <\n",
            "                          'hawaiano/isleno del pacifico' ... 'hawaiano' < 'guameno o chamorro' < 'samoan' <\n",
            "                          'otro isleno del pacifico']\n",
            "Categorías únicas en applicant_ethnicity_1: ['no hispano/latino', 'hispano/latino', 'sin info', 'mexicano', 'otro hispano/latino', 'cubano', 'puertorriqueno', NaN, 'no aplica']\n",
            "Categories (8, object): ['hispano/latino' < 'no hispano/latino' < 'sin info' < 'no aplica' < 'mexicano' <\n",
            "                         'puertorriqueno' < 'cubano' < 'otro hispano/latino']\n",
            "Categorías únicas en applicant_age_above_62: [ 0.  1. nan]\n"
          ]
        }
      ],
      "source": [
        "categorias_columna1 = data['applicant_sex'].unique()\n",
        "categorias_columna2 = data['applicant_race_1'].unique()\n",
        "categorias_columna3 = data['applicant_ethnicity_1'].unique()\n",
        "categorias_columna4 = data['applicant_age_above_62'].unique()\n",
        "\n",
        "print(\"Categorías únicas en applicant_sex :\", categorias_columna1)\n",
        "print(\"Categorías únicas en applicant_race_1:\", categorias_columna2)\n",
        "print(\"Categorías únicas en applicant_ethnicity_1:\", categorias_columna3)\n",
        "print(\"Categorías únicas en applicant_age_above_62:\", categorias_columna4)\n"
      ]
    },
    {
      "cell_type": "code",
      "execution_count": null,
      "metadata": {
        "colab": {
          "base_uri": "https://localhost:8080/"
        },
        "id": "0Nn5FPcOSnhP",
        "outputId": "ccdda9a9-451b-498d-b39e-7d8fbc091632"
      },
      "outputs": [
        {
          "output_type": "stream",
          "name": "stdout",
          "text": [
            "0                negado\n",
            "1              aprobado\n",
            "2              aprobado\n",
            "3              aprobado\n",
            "4         no finalizado\n",
            "              ...      \n",
            "999995         aprobado\n",
            "999996         aprobado\n",
            "999997         aprobado\n",
            "999998         aprobado\n",
            "999999         aprobado\n",
            "Name: action_taken2, Length: 1000000, dtype: category\n",
            "Categories (3, object): ['aprobado' < 'negado' < 'no finalizado']\n"
          ]
        }
      ],
      "source": [
        "# Mostrar los datos originales de una columna específica\n",
        "columna_original = data['action_taken2']\n",
        "print(columna_original)\n"
      ]
    },
    {
      "cell_type": "markdown",
      "source": [
        "# PREPARACION DATA SET PARA FASE MODELOS"
      ],
      "metadata": {
        "id": "N0kZeYIFXDcX"
      }
    },
    {
      "cell_type": "markdown",
      "metadata": {
        "id": "eEbPOdckxAcE"
      },
      "source": [
        "Se abordan los siguientes pasos:\n",
        "\n",
        "Preparar el conjunto de datos\n",
        "Dividir en el entrenamiento y la prueba\n",
        "Transformar/Codificar las etiquetas de las variables\n",
        "PExplorar diferents modelos de clasificacion\n",
        "Compara el desempeño de todos los modelos.\n",
        "Seleccionar un  modelo ganador y ajuste los hiperparámetros para obtener una mayor precisión.\n",
        "Evaluación detallada de resultado con una matriz de confusión y diferentes medidas.\n",
        "Características más importantes para predecir la calificación."
      ]
    },
    {
      "cell_type": "code",
      "execution_count": null,
      "metadata": {
        "id": "qPWORLm2VlwU"
      },
      "outputs": [],
      "source": [
        "# Eliminación de variables que tengan valores nulos\n",
        "#df1 = data.dropna(axis=1)\n",
        "\n",
        "# Eliminación de tres columnas adicionales específicas\n",
        "columnas_adicionales = ['lei', 'state_code', 'county_code', 'activity_year']\n",
        "#df1 = df1.drop(columnas_adicionales, axis=1)\n"
      ]
    },
    {
      "cell_type": "code",
      "execution_count": null,
      "metadata": {
        "colab": {
          "base_uri": "https://localhost:8080/"
        },
        "id": "lTvxB8laR2Bt",
        "outputId": "424c87d4-d7e7-4abb-d15a-0bfc0aa3839c"
      },
      "outputs": [
        {
          "output_type": "stream",
          "name": "stdout",
          "text": [
            "Correspondencia de clases original para 'action_taken2':\n",
            "{'negado': 'negado', 'aprobado': 'aprobado', 'no finalizado': 'no finalizado'}\n"
          ]
        }
      ],
      "source": [
        "# Guardar la correspondencia de clases para 'action_taken2'\n",
        "correspondencia_original_action_taken2 = dict(zip(data['action_taken2'].unique(), data['action_taken2'].unique()))\n",
        "print(\"Correspondencia de clases original para 'action_taken2':\")\n",
        "print(correspondencia_original_action_taken2)\n"
      ]
    },
    {
      "cell_type": "code",
      "source": [
        "# Convertir valores de action_taken2 a minúsculas\n",
        "data['action_taken2'] = data['action_taken2'].str.lower()\n",
        "\n",
        "# Mapeo de los valores de action_taken2 a los valores correspondientes en action_taken3\n",
        "mapping = {\n",
        "    'aprobado': 'Otorgado',\n",
        "    'negado': 'No Otorgado',\n",
        "    'no finalizado': 'No Otorgado'\n",
        "}\n",
        "\n",
        "# Crear la nueva columna action_taken3 basada en los valores de action_taken2\n",
        "data['action_taken3'] = data['action_taken2'].replace(mapping)"
      ],
      "metadata": {
        "id": "wmLFFlSzOHYy"
      },
      "execution_count": null,
      "outputs": []
    },
    {
      "cell_type": "code",
      "source": [
        "# Mostrar los datos originales de una columna específica\n",
        "columna_original = data['action_taken3']\n",
        "print(columna_original)"
      ],
      "metadata": {
        "colab": {
          "base_uri": "https://localhost:8080/"
        },
        "id": "S1zttyxScggr",
        "outputId": "8809b534-2f38-483f-8fcf-266f7a9f5c8e"
      },
      "execution_count": null,
      "outputs": [
        {
          "output_type": "stream",
          "name": "stdout",
          "text": [
            "0         No Otorgado\n",
            "1            Otorgado\n",
            "2            Otorgado\n",
            "3            Otorgado\n",
            "4         No Otorgado\n",
            "             ...     \n",
            "999995       Otorgado\n",
            "999996       Otorgado\n",
            "999997       Otorgado\n",
            "999998       Otorgado\n",
            "999999       Otorgado\n",
            "Name: action_taken3, Length: 1000000, dtype: object\n"
          ]
        }
      ]
    },
    {
      "cell_type": "code",
      "source": [
        "# Convertir valores a cadenas y guardar los originales en nuevas columnas\n",
        "columns_to_check = ['protegido_edad', 'no_protegido_edad', 'protegido_mujer', 'no_protegido_hombre', 'protegido_raza', 'no_protegido_raza']\n",
        "\n",
        "for column in columns_to_check:\n",
        "    # Crear una nueva columna con el nombre original + '_antes_conversion'\n",
        "    data[column + '_antes_conversion'] = data[column]\n",
        "    # Convertir los valores a numéricos\n",
        "    data[column] = pd.to_numeric(data[column], errors='coerce')\n",
        "\n",
        "import numpy as np\n",
        "\n",
        "# Crear la nueva columna 'poblacion_protegida' basada en las condiciones\n",
        "data['poblacion_protegida'] = np.where(\n",
        "    (data['protegido_edad'] == 1) |\n",
        "    (data['protegido_mujer'] == 1) |\n",
        "    (data['protegido_raza'] == 1),\n",
        "    1,  # Si alguna de las condiciones se cumple, asigna 1\n",
        "    np.where(\n",
        "        (data['no_protegido_edad'] == 1) |\n",
        "        (data['no_protegido_hombre'] == 1) |\n",
        "        (data['no_protegido_raza'] == 1),\n",
        "        0,  # Si alguna de las condiciones se cumple, asigna 0\n",
        "        np.nan  # Si ninguna de las condiciones se cumple, asigna NaN por defecto\n",
        "    )\n",
        ")\n",
        "\n",
        "# Crear una nueva columna 'poblacion_protegida_nueva' basada en las condiciones\n",
        "data['poblacion_protegida_nueva'] = np.where(\n",
        "    (data['protegido_edad'] == 1) |\n",
        "    (data['protegido_mujer'] == 1) |\n",
        "    (data['protegido_raza'] == 1),\n",
        "    1,  # Si alguna de las condiciones se cumple, asigna 1\n",
        "    np.where(\n",
        "        (data['no_protegido_edad'] == 1) |\n",
        "        (data['no_protegido_hombre'] == 1) |\n",
        "        (data['no_protegido_raza'] == 1),\n",
        "        0,  # Si alguna de las condiciones se cumple, asigna 0\n",
        "        np.nan  # Si ninguna de las condiciones se cumple, asigna NaN por defecto\n",
        "    )\n",
        ")\n"
      ],
      "metadata": {
        "id": "5xF1y1AQOJ_h"
      },
      "execution_count": null,
      "outputs": []
    },
    {
      "cell_type": "code",
      "source": [
        "# Información sobre tipos de datos y valores nulos\n",
        "print(data.info())"
      ],
      "metadata": {
        "colab": {
          "base_uri": "https://localhost:8080/"
        },
        "id": "T7dHvaIWYrCH",
        "outputId": "654cc738-359f-4e28-e117-7414808fa0d3"
      },
      "execution_count": null,
      "outputs": [
        {
          "output_type": "stream",
          "name": "stdout",
          "text": [
            "<class 'pandas.core.frame.DataFrame'>\n",
            "RangeIndex: 1000000 entries, 0 to 999999\n",
            "Data columns (total 70 columns):\n",
            " #   Column                                Non-Null Count    Dtype   \n",
            "---  ------                                --------------    -----   \n",
            " 0   activity_year                         1000000 non-null  int16   \n",
            " 1   lei                                   1000000 non-null  object  \n",
            " 2   state_code                            1000000 non-null  object  \n",
            " 3   county_code                           1000000 non-null  object  \n",
            " 4   action_taken                          1000000 non-null  category\n",
            " 5   purchaser_type                        1000000 non-null  category\n",
            " 6   preapproval                           1000000 non-null  int8    \n",
            " 7   loan_type                             1000000 non-null  category\n",
            " 8   loan_purpose                          1000000 non-null  category\n",
            " 9   lien_status                           1000000 non-null  int8    \n",
            " 10  reverse_mortgage                      973978 non-null   float64 \n",
            " 11  open_end_line_of_credit               974190 non-null   float64 \n",
            " 12  business_or_commercial_purpose        974161 non-null   float64 \n",
            " 13  loan_amount                           1000000 non-null  int32   \n",
            " 14  combined_loan_to_value_ratio          701585 non-null   float64 \n",
            " 15  interest_rate                         628255 non-null   float64 \n",
            " 16  rate_spread                           537791 non-null   float64 \n",
            " 17  hoepa_status                          1000000 non-null  category\n",
            " 18  total_loan_costs                      489783 non-null   float64 \n",
            " 19  total_points_and_fees                 5839 non-null     float64 \n",
            " 20  origination_charges                   490672 non-null   float64 \n",
            " 21  discount_points                       170575 non-null   float64 \n",
            " 22  lender_credits                        196770 non-null   float64 \n",
            " 23  loan_term                             961136 non-null   float64 \n",
            " 24  prepayment_penalty_term               46380 non-null    float64 \n",
            " 25  intro_rate_period                     164157 non-null   float64 \n",
            " 26  negative_amortization                 973747 non-null   float64 \n",
            " 27  interest_only_payment                 973747 non-null   float64 \n",
            " 28  balloon_payment                       973747 non-null   float64 \n",
            " 29  other_nonamortizing_features          973747 non-null   float64 \n",
            " 30  property_value                        782201 non-null   float64 \n",
            " 31  construction_method                   1000000 non-null  category\n",
            " 32  occupancy_type                        1000000 non-null  category\n",
            " 33  manufactured_home_secured_proper      1000000 non-null  category\n",
            " 34  manufactured_home_land_property_      1000000 non-null  category\n",
            " 35  multifamily_affordable_units          212 non-null      float64 \n",
            " 36  income                                957551 non-null   float64 \n",
            " 37  applicant_credit_score_type           1000000 non-null  category\n",
            " 38  applicant_ethnicity_1                 999646 non-null   category\n",
            " 39  applicant_race_1                      1000000 non-null  category\n",
            " 40  applicant_sex                         1000000 non-null  category\n",
            " 41  submission_of_application             974115 non-null   category\n",
            " 42  initially_payable_to_institution      974115 non-null   category\n",
            " 43  denial_reason_1                       1000000 non-null  category\n",
            " 44  denial_reason_2                       39487 non-null    category\n",
            " 45  denial_reason_3                       6998 non-null     category\n",
            " 46  denial_reason_4                       652 non-null      category\n",
            " 47  applicant_age                         1000000 non-null  category\n",
            " 48  applicant_age_above_62                992442 non-null   float64 \n",
            " 49  total_units                           1000000 non-null  category\n",
            " 50  debt_to_income_ratio                  336026 non-null   category\n",
            " 51  conforming_loan_limit                 1000000 non-null  category\n",
            " 52  derived_loan_product_type             1000000 non-null  category\n",
            " 53  derived_dwelling_category             1000000 non-null  category\n",
            " 54  action_taken2                         1000000 non-null  object  \n",
            " 55  protegido_edad                        1000000 non-null  int8    \n",
            " 56  no_protegido_edad                     1000000 non-null  int8    \n",
            " 57  protegido_mujer                       1000000 non-null  int8    \n",
            " 58  no_protegido_hombre                   1000000 non-null  int8    \n",
            " 59  protegido_raza                        1000000 non-null  int8    \n",
            " 60  no_protegido_raza                     1000000 non-null  int8    \n",
            " 61  action_taken3                         1000000 non-null  object  \n",
            " 62  protegido_edad_antes_conversion       1000000 non-null  int8    \n",
            " 63  no_protegido_edad_antes_conversion    1000000 non-null  int8    \n",
            " 64  protegido_mujer_antes_conversion      1000000 non-null  int8    \n",
            " 65  no_protegido_hombre_antes_conversion  1000000 non-null  int8    \n",
            " 66  protegido_raza_antes_conversion       1000000 non-null  int8    \n",
            " 67  no_protegido_raza_antes_conversion    1000000 non-null  int8    \n",
            " 68  poblacion_protegida                   1000000 non-null  float64 \n",
            " 69  poblacion_protegida_nueva             1000000 non-null  float64 \n",
            "dtypes: category(25), float64(24), int16(1), int32(1), int8(14), object(5)\n",
            "memory usage: 264.2+ MB\n",
            "None\n"
          ]
        }
      ]
    },
    {
      "cell_type": "markdown",
      "source": [
        "# CREACION DE DATA SET PARA MODELOS"
      ],
      "metadata": {
        "id": "8PNN3qH9XhFq"
      }
    },
    {
      "cell_type": "code",
      "source": [
        "# Crear un nuevo DataFrame con solo las columnas seleccionadas\n",
        "from sklearn.preprocessing import LabelEncoder\n",
        "from sklearn.model_selection import train_test_split\n",
        "from sklearn.pipeline import Pipeline\n",
        "from sklearn.impute import SimpleImputer\n",
        "from sklearn.preprocessing import OneHotEncoder\n",
        "from sklearn.compose import ColumnTransformer\n",
        "\n",
        "\n",
        "# Lista de columnas seleccionadas\n",
        "columnas_seleccionadas = ['action_taken3', 'income', 'loan_amount', 'loan_purpose', 'loan_type', 'debt_to_income_ratio','combined_loan_to_value_ratio']\n",
        "df = data[columnas_seleccionadas].copy()\n",
        "\n",
        "\n",
        "# Usar LabelEncoder para transformar la columna 'action_taken2'\n",
        "\n",
        "label_encoder_action_taken3 = LabelEncoder()\n",
        "df['action_taken3'] = label_encoder_action_taken3.fit_transform(df['action_taken3'])\n",
        "\n",
        "# Convertir variables categóricas a numéricas y mapear clases de 'action_taken2' a números\n",
        "label_encoder = LabelEncoder()\n",
        "#df['purchaser_type'] = label_encoder.fit_transform(df['purchaser_type'])\n",
        "#df['preapproval'] = label_encoder.fit_transform(df['preapproval'])\n",
        "df['loan_type'] = label_encoder.fit_transform(df['loan_type'])\n",
        "df['loan_purpose'] = label_encoder.fit_transform(df['loan_purpose'])\n",
        "#df['lien_status'] = label_encoder.fit_transform(df['lien_status'])\n",
        "#f['hoepa_status'] = label_encoder.fit_transform(df['hoepa_status'])\n",
        "#df['occupancy_type'] = label_encoder.fit_transform(df['occupancy_type'])\n",
        "#df['applicant_credit_score_type'] = label_encoder.fit_transform(df['applicant_credit_score_type'])\n",
        "#df['manufactured_home_land_property_'] = label_encoder.fit_transform(df['manufactured_home_land_property_'])\n",
        "#df['applicant_sex'] = label_encoder.fit_transform(df['applicant_sex'])\n",
        "#df['conforming_loan_limit'] = label_encoder.fit_transform(df['conforming_loan_limit'])\n",
        "#df['derived_loan_product_type'] = label_encoder.fit_transform(df['derived_loan_product_type'])\n",
        "#df['applicant_race_1'] = label_encoder.fit_transform(df['applicant_race_1'])\n",
        "#df['applicant_ethnicity_1'] = label_encoder.fit_transform(df['applicant_ethnicity_1'])\n",
        "df['debt_to_income_ratio'] = label_encoder.fit_transform(df['debt_to_income_ratio'])\n",
        "#df['applicant_age'] = label_encoder.fit_transform(df['applicant_age'])\n",
        "\n",
        "# Definir la función para mapear 'action_taken2' a 'aprobado'\n",
        "def map_approval(action_taken3):\n",
        "    # Define aquí tus criterios para determinar si un préstamo fue aprobado o no\n",
        "    # Por ejemplo, si action_taken es 1, considera que el préstamo fue aprobado (1); de lo contrario, no aprobado (0)\n",
        "    if action_taken3 == 1:\n",
        "        return 1\n",
        "    else:\n",
        "        return 0\n",
        "\n",
        "# Aplicar la función para crear la columna 'aprobado'\n",
        "#df['otorgado'] = df['action_taken3'].apply(map_approval)\n",
        "\n",
        "# Dividir el conjunto de datos en características (X) y etiquetas (y)\n",
        "#X = df.drop(['otorgado', 'action_taken3'], axis=1)  # Excluir 'aprobado' y 'action_taken2' de las características\n",
        "#y = df['otorgado']  # Usar 'aprobado' como variable de respuesta\n",
        "\n",
        "# Dividir el conjunto de datos en características (X) y etiquetas (y)\n",
        "X = df.drop(['action_taken3'], axis=1)  # Excluir 'action_taken3' de las características\n",
        "y = df['action_taken3']  # Usar 'action_taken3' como variable de respuesta\n",
        "\n",
        "\n",
        "# Dividir el conjunto de datos en entrenamiento y prueba\n",
        "X_train, X_test, y_train, y_test = train_test_split(X, y, test_size=0.2, random_state=42)\n",
        "\n",
        "# Resto del código...\n",
        "# Definir las transformaciones para las variables numéricas y categóricas\n",
        "numeric_features = ['loan_amount',\n",
        "                    'income','combined_loan_to_value_ratio']\n",
        "categorical_features = ['applicant_sex','loan_purpose', 'loan_type','debt_to_income_ratio','applicant_age','applicant_race_1']\n",
        "\n",
        "\n",
        "# Definir transformadores para datos numéricos y categóricos\n",
        "numeric_transformer = Pipeline(steps=[\n",
        "    ('imputer', SimpleImputer(strategy='mean')),\n",
        "    ('scaler', StandardScaler())\n",
        "])\n",
        "\n",
        "categorical_transformer = Pipeline(steps=[\n",
        "    ('imputer', SimpleImputer(strategy='most_frequent')),\n",
        "    ('encoder', OneHotEncoder(handle_unknown='ignore', drop='first'))\n",
        "])\n",
        "\n",
        "# Definir ColumnTransformer\n",
        "preprocessor = ColumnTransformer(\n",
        "    transformers=[\n",
        "        ('num', numeric_transformer, numeric_features),\n",
        "        ('cat', categorical_transformer, categorical_features)\n",
        "    ]\n",
        ")\n",
        "\n"
      ],
      "metadata": {
        "id": "t-970em3gjHg"
      },
      "execution_count": null,
      "outputs": []
    },
    {
      "cell_type": "code",
      "source": [
        "# Información sobre tipos de datos y valores nulos\n",
        "print(df.info())"
      ],
      "metadata": {
        "colab": {
          "base_uri": "https://localhost:8080/"
        },
        "id": "8OgJw-XYYmiI",
        "outputId": "2c192981-d012-4cdd-c879-cdc2724d1452"
      },
      "execution_count": null,
      "outputs": [
        {
          "output_type": "stream",
          "name": "stdout",
          "text": [
            "<class 'pandas.core.frame.DataFrame'>\n",
            "RangeIndex: 1000000 entries, 0 to 999999\n",
            "Data columns (total 7 columns):\n",
            " #   Column                        Non-Null Count    Dtype  \n",
            "---  ------                        --------------    -----  \n",
            " 0   action_taken3                 1000000 non-null  int64  \n",
            " 1   income                        957551 non-null   float64\n",
            " 2   loan_amount                   1000000 non-null  int32  \n",
            " 3   loan_purpose                  1000000 non-null  int64  \n",
            " 4   loan_type                     1000000 non-null  int64  \n",
            " 5   debt_to_income_ratio          1000000 non-null  int64  \n",
            " 6   combined_loan_to_value_ratio  701585 non-null   float64\n",
            "dtypes: float64(2), int32(1), int64(4)\n",
            "memory usage: 49.6 MB\n",
            "None\n"
          ]
        }
      ]
    },
    {
      "cell_type": "markdown",
      "source": [
        "# ENTRENAMIENTO MODELOS"
      ],
      "metadata": {
        "id": "eFM4qx-SXoa0"
      }
    },
    {
      "cell_type": "markdown",
      "source": [
        "# GB Model"
      ],
      "metadata": {
        "id": "2VLnJUuZX69b"
      }
    },
    {
      "cell_type": "code",
      "execution_count": null,
      "metadata": {
        "colab": {
          "base_uri": "https://localhost:8080/"
        },
        "id": "hIELCkYEye5b",
        "outputId": "10802845-a111-4ec7-dd27-2a2d0ef6c289"
      },
      "outputs": [
        {
          "output_type": "stream",
          "name": "stdout",
          "text": [
            "GBT Accuracy: 0.795715\n",
            "GBT Confusion Matrix:\n",
            "[[ 47069  21987]\n",
            " [ 18870 112074]]\n",
            "GBT Classification Report:\n",
            "              precision    recall  f1-score   support\n",
            "\n",
            "           0       0.71      0.68      0.70     69056\n",
            "           1       0.84      0.86      0.85    130944\n",
            "\n",
            "    accuracy                           0.80    200000\n",
            "   macro avg       0.77      0.77      0.77    200000\n",
            "weighted avg       0.79      0.80      0.79    200000\n",
            "\n"
          ]
        }
      ],
      "source": [
        "from sklearn.impute import SimpleImputer\n",
        "from sklearn.ensemble import GradientBoostingClassifier\n",
        "from sklearn.metrics import accuracy_score, confusion_matrix, classification_report\n",
        "\n",
        "\n",
        "# Crear un imputador para reemplazar los valores faltantes con la media\n",
        "imputer = SimpleImputer(strategy='mean')\n",
        "\n",
        "# Ajustar y transformar el conjunto de entrenamiento\n",
        "X_train_imputed = imputer.fit_transform(X_train)\n",
        "\n",
        "# Transformar el conjunto de prueba utilizando el imputador ajustado en el conjunto de entrenamiento\n",
        "X_test_imputed = imputer.transform(X_test)\n",
        "\n",
        "\n",
        "# Imputar valores faltantes en el conjunto de entrenamiento y prueba\n",
        "X_train_imputed = imputer.fit_transform(X_train)\n",
        "X_test_imputed = imputer.transform(X_test)\n",
        "\n",
        "# Entrenar el modelo Gradient Boosting\n",
        "GBT_model = GradientBoostingClassifier(random_state=123)\n",
        "GBT_model.fit(X_train_imputed, y_train)\n",
        "\n",
        "# Hacer predicciones en el conjunto de prueba\n",
        "y_pred_GBT = GBT_model.predict(X_test_imputed)\n",
        "\n",
        "# Evaluar el rendimiento del modelo\n",
        "accuracy_GBT = accuracy_score(y_test, y_pred_GBT)\n",
        "conf_matrix_GBT = confusion_matrix(y_test, y_pred_GBT)\n",
        "classification_rep_GBT = classification_report(y_test, y_pred_GBT)\n",
        "\n",
        "# Imprimir métricas de rendimiento para Gradient Boosting\n",
        "print(f'GBT Accuracy: {accuracy_GBT}')\n",
        "print(f'GBT Confusion Matrix:\\n{conf_matrix_GBT}')\n",
        "print(f'GBT Classification Report:\\n{classification_rep_GBT}')\n"
      ]
    },
    {
      "cell_type": "markdown",
      "source": [
        "#VARIABLES MAS IMPORTANTES Del MODELO GBT"
      ],
      "metadata": {
        "id": "ZbKOVjT_YD7X"
      }
    },
    {
      "cell_type": "markdown",
      "metadata": {
        "id": "bB89fOe358Tf"
      },
      "source": [
        "INTERPRETABILIDAD"
      ]
    },
    {
      "cell_type": "markdown",
      "metadata": {
        "id": "hEJ-hZL6EOXZ"
      },
      "source": [
        "Caracteristicas mas importantes en el XGBOOST: El largo de las barras indica la frecuencia de uso de cada característica para realizar divisiones, y valores más altos indican una mayor importancia según el criterio de peso. La importancia de una característica basada en 'weight' se calcula contando la frecuencia con la que se utiliza la característica para dividir los nodos a lo largo de todos los árboles en el modelo. Cuanto más frecuentemente se utiliza una característica para realizar divisiones, mayor será su importancia en términos de peso.\n"
      ]
    },
    {
      "cell_type": "code",
      "execution_count": null,
      "metadata": {
        "colab": {
          "base_uri": "https://localhost:8080/",
          "height": 564
        },
        "id": "dh3SBDBkiUTC",
        "outputId": "98484ee2-1c3a-45f1-89b8-739ee94c104a"
      },
      "outputs": [
        {
          "output_type": "display_data",
          "data": {
            "text/plain": [
              "<Figure size 1000x600 with 1 Axes>"
            ],
            "image/png": "[encoded data removed]"
          },
          "metadata": {}
        }
      ],
      "source": [
        "import matplotlib.pyplot as plt\n",
        "\n",
        "# Obtener la importancia de las variables\n",
        "importances = GBT_model.feature_importances_\n",
        "\n",
        "# Obtener los nombres de las variables (columnas)\n",
        "feature_names = X_train.columns\n",
        "\n",
        "# Crear un DataFrame para visualizar las importancias\n",
        "feature_importance_df = pd.DataFrame({'Feature': feature_names, 'Importance': importances})\n",
        "\n",
        "# Ordenar el DataFrame por importancia en orden descendente\n",
        "feature_importance_df = feature_importance_df.sort_values(by='Importance', ascending=False)\n",
        "\n",
        "# Seleccionar las 10 variables más importantes\n",
        "top_10_features = feature_importance_df.head(10)\n",
        "\n",
        "# Visualizar las importancias de las 10 variables más importantes\n",
        "plt.figure(figsize=(10, 6))\n",
        "plt.barh(top_10_features['Feature'], top_10_features['Importance'])\n",
        "plt.xlabel('Importance')\n",
        "plt.ylabel('Feature')\n",
        "plt.title('Top 10 GBT Feature Importance')\n",
        "plt.show()\n",
        "\n",
        "\n"
      ]
    },
    {
      "cell_type": "markdown",
      "source": [
        "Ganancia (Gain): Esta métrica de importancia de características mide cuánto cada característica contribuye a mejorar la precisión del modelo. La ganancia se calcula utilizando la mejora (gain) que proporciona cada característica al dividir los datos durante el entrenamiento del árbol. Cuanto mayor sea la ganancia, más importante se considera la característica para el modelo.\n",
        "\n",
        "División (Split): Esta métrica de importancia de características mide la cantidad de veces que una característica se utiliza para dividir los datos durante la construcción del árbol. Es decir, cuántas veces una característica aparece en los puntos de división del árbol. Una característica con un alto número de divisiones puede considerarse importante porque influye en la estructura del árbol."
      ],
      "metadata": {
        "id": "rIel7UNlieUy"
      }
    },
    {
      "cell_type": "code",
      "execution_count": null,
      "metadata": {
        "colab": {
          "base_uri": "https://localhost:8080/"
        },
        "id": "MCR04-L1izcF",
        "outputId": "ce58d00f-09ea-458c-8969-0d06aa20db8e"
      },
      "outputs": [
        {
          "output_type": "stream",
          "name": "stdout",
          "text": [
            "Top 10 Features:\n",
            "                        Feature  Importance\n",
            "5  combined_loan_to_value_ratio    0.552738\n",
            "4          debt_to_income_ratio    0.225435\n",
            "2                  loan_purpose    0.096992\n",
            "1                   loan_amount    0.065656\n",
            "0                        income    0.049188\n",
            "3                     loan_type    0.009992\n"
          ]
        }
      ],
      "source": [
        "# Obtener la importancia de las variables\n",
        "importances = GBT_model.feature_importances_\n",
        "\n",
        "# Obtener los nombres de las variables (columnas)\n",
        "feature_names = X_train.columns\n",
        "\n",
        "# Crear un DataFrame para visualizar las importancias\n",
        "feature_importance_df = pd.DataFrame({'Feature': feature_names, 'Importance': importances})\n",
        "\n",
        "# Ordenar el DataFrame por importancia en orden descendente\n",
        "feature_importance_df = feature_importance_df.sort_values(by='Importance', ascending=False)\n",
        "\n",
        "# Seleccionar las 10 variables más importantes\n",
        "top_10_features = feature_importance_df.head(10)\n",
        "\n",
        "# Imprimir las 10 variables más importantes y sus importancias\n",
        "print(\"Top 10 Features:\")\n",
        "print(top_10_features[['Feature', 'Importance']])\n"
      ]
    },
    {
      "cell_type": "code",
      "execution_count": null,
      "metadata": {
        "colab": {
          "base_uri": "https://localhost:8080/"
        },
        "id": "Qq1a2mVtjakO",
        "outputId": "d4133bc9-65c8-4729-f6c4-2763acaac66e"
      },
      "outputs": [
        {
          "output_type": "stream",
          "name": "stdout",
          "text": [
            "Top 10 Features:\n",
            "    Feature  Importance\n",
            "0  combined    0.552738\n",
            "1      debt    0.225435\n",
            "3      loan    0.172639\n",
            "2    income    0.049188\n"
          ]
        }
      ],
      "source": [
        "# Obtener la importancia de las variables\n",
        "importances = GBT_model.feature_importances_\n",
        "\n",
        "# Obtener los nombres de las variables (columnas)\n",
        "feature_names = X_train.columns\n",
        "\n",
        "# Crear un DataFrame para visualizar las importancias\n",
        "feature_importance_df = pd.DataFrame({'Feature': feature_names, 'Importance': importances})\n",
        "\n",
        "# Extraer solo el nombre base de las variables\n",
        "feature_importance_df['Feature'] = feature_importance_df['Feature'].apply(lambda x: x.split('_')[0])\n",
        "\n",
        "# Agrupar por nombre de variable y sumar las importancias\n",
        "feature_importance_df = feature_importance_df.groupby('Feature')['Importance'].sum().reset_index()\n",
        "\n",
        "# Ordenar el DataFrame por importancia en orden descendente\n",
        "feature_importance_df = feature_importance_df.sort_values(by='Importance', ascending=False)\n",
        "\n",
        "# Seleccionar las 10 variables más importantes\n",
        "top_10_features = feature_importance_df.head(10)\n",
        "\n",
        "# Imprimir las 10 variables más importantes y sus importancias\n",
        "print(\"Top 10 Features:\")\n",
        "print(top_10_features)\n"
      ]
    },
    {
      "cell_type": "markdown",
      "metadata": {
        "id": "VbHG0H23_Va-"
      },
      "source": [
        "Analisis SHAP: SHAP proporciona una forma de asignar contribuciones a cada característica en una predicción de modelo."
      ]
    },
    {
      "cell_type": "code",
      "execution_count": null,
      "metadata": {
        "colab": {
          "base_uri": "https://localhost:8080/"
        },
        "id": "dPldng0v3VNf",
        "outputId": "623db94f-6a2c-4031-d691-d72344a0e5bf"
      },
      "outputs": [
        {
          "output_type": "stream",
          "name": "stdout",
          "text": [
            "LGBM Feature Importance:\n",
            "combined: 0.5527381590974368\n",
            "debt: 0.22543484002830674\n",
            "loan: 0.17263923982689114\n",
            "income: 0.049187761047365365\n"
          ]
        }
      ],
      "source": [
        "# Obtener importancias de características\n",
        "feature_importances = GBT_model.feature_importances_\n",
        "\n",
        "# Obtener nombres de características\n",
        "feature_names = X_train.columns\n",
        "\n",
        "# Diccionario para almacenar importancias de variables únicas\n",
        "variable_importances = {}\n",
        "\n",
        "# Sumar importancias de variables únicas\n",
        "for i, feature in enumerate(feature_names):\n",
        "    variable_name = feature.split('_')[0]  # Tomar el nombre de la variable sin detalles específicos\n",
        "    if variable_name not in variable_importances:\n",
        "        variable_importances[variable_name] = 0\n",
        "    variable_importances[variable_name] += feature_importances[i]\n",
        "\n",
        "# Ordenar las variables por importancia\n",
        "sorted_variable_importances = dict(sorted(variable_importances.items(), key=lambda item: item[1], reverse=True))\n",
        "\n",
        "# Imprimir las importancias de las variables\n",
        "print(\"LGBM Feature Importance:\")\n",
        "for variable, importance in sorted_variable_importances.items():\n",
        "    print(f\"{variable}: {importance}\")\n"
      ]
    },
    {
      "cell_type": "code",
      "execution_count": null,
      "metadata": {
        "colab": {
          "base_uri": "https://localhost:8080/"
        },
        "id": "muqqRnwa4Qdn",
        "outputId": "ee8cddb4-1073-457c-da5a-55b322e74e4b"
      },
      "outputs": [
        {
          "output_type": "stream",
          "name": "stdout",
          "text": [
            "Collecting shap\n",
            "  Downloading shap-0.45.1-cp310-cp310-manylinux_2_12_x86_64.manylinux2010_x86_64.manylinux_2_17_x86_64.manylinux2014_x86_64.whl (540 kB)\n",
            "\u001b[?25l     \u001b[90m━━━━━━━━━━━━━━━━━━━━━━━━━━━━━━━━━━━━━━━━\u001b[0m \u001b[32m0.0/540.5 kB\u001b[0m \u001b[31m?\u001b[0m eta \u001b[36m-:--:--\u001b[0m\r\u001b[2K     \u001b[91m━━━━━━━━━━━━━━━\u001b[0m\u001b[90m╺\u001b[0m\u001b[90m━━━━━━━━━━━━━━━━━━━━━━━━\u001b[0m \u001b[32m204.8/540.5 kB\u001b[0m \u001b[31m5.9 MB/s\u001b[0m eta \u001b[36m0:00:01\u001b[0m\r\u001b[2K     \u001b[91m━━━━━━━━━━━━━━━━━━━━━━━━━━━━━━━━━━━━━━━\u001b[0m\u001b[90m╺\u001b[0m \u001b[32m532.5/540.5 kB\u001b[0m \u001b[31m7.9 MB/s\u001b[0m eta \u001b[36m0:00:01\u001b[0m\r\u001b[2K     \u001b[90m━━━━━━━━━━━━━━━━━━━━━━━━━━━━━━━━━━━━━━━━\u001b[0m \u001b[32m540.5/540.5 kB\u001b[0m \u001b[31m7.0 MB/s\u001b[0m eta \u001b[36m0:00:00\u001b[0m\n",
            "\u001b[?25hRequirement already satisfied: numpy in /usr/local/lib/python3.10/dist-packages (from shap) (1.25.2)\n",
            "Requirement already satisfied: scipy in /usr/local/lib/python3.10/dist-packages (from shap) (1.11.4)\n",
            "Requirement already satisfied: scikit-learn in /usr/local/lib/python3.10/dist-packages (from shap) (1.5.0)\n",
            "Requirement already satisfied: pandas in /usr/local/lib/python3.10/dist-packages (from shap) (2.0.3)\n",
            "Requirement already satisfied: tqdm>=4.27.0 in /usr/local/lib/python3.10/dist-packages (from shap) (4.66.4)\n",
            "Requirement already satisfied: packaging>20.9 in /usr/local/lib/python3.10/dist-packages (from shap) (24.0)\n",
            "Collecting slicer==0.0.8 (from shap)\n",
            "  Downloading slicer-0.0.8-py3-none-any.whl (15 kB)\n",
            "Requirement already satisfied: numba in /usr/local/lib/python3.10/dist-packages (from shap) (0.58.1)\n",
            "Requirement already satisfied: cloudpickle in /usr/local/lib/python3.10/dist-packages (from shap) (2.2.1)\n",
            "Requirement already satisfied: llvmlite<0.42,>=0.41.0dev0 in /usr/local/lib/python3.10/dist-packages (from numba->shap) (0.41.1)\n",
            "Requirement already satisfied: python-dateutil>=2.8.2 in /usr/local/lib/python3.10/dist-packages (from pandas->shap) (2.8.2)\n",
            "Requirement already satisfied: pytz>=2020.1 in /usr/local/lib/python3.10/dist-packages (from pandas->shap) (2023.4)\n",
            "Requirement already satisfied: tzdata>=2022.1 in /usr/local/lib/python3.10/dist-packages (from pandas->shap) (2024.1)\n",
            "Requirement already satisfied: joblib>=1.2.0 in /usr/local/lib/python3.10/dist-packages (from scikit-learn->shap) (1.4.2)\n",
            "Requirement already satisfied: threadpoolctl>=3.1.0 in /usr/local/lib/python3.10/dist-packages (from scikit-learn->shap) (3.5.0)\n",
            "Requirement already satisfied: six>=1.5 in /usr/local/lib/python3.10/dist-packages (from python-dateutil>=2.8.2->pandas->shap) (1.16.0)\n",
            "Installing collected packages: slicer, shap\n",
            "Successfully installed shap-0.45.1 slicer-0.0.8\n"
          ]
        }
      ],
      "source": [
        "pip install shap\n"
      ]
    },
    {
      "cell_type": "markdown",
      "source": [
        "# EXPLICABILIDAD CON SHAP"
      ],
      "metadata": {
        "id": "YL_3Vr1TYNhK"
      }
    },
    {
      "cell_type": "code",
      "execution_count": null,
      "metadata": {
        "id": "2npMMpNP4Sxk",
        "colab": {
          "base_uri": "https://localhost:8080/",
          "height": 397
        },
        "outputId": "1139a84f-280f-49b7-d0bd-dee4a49b61f7"
      },
      "outputs": [
        {
          "output_type": "display_data",
          "data": {
            "text/plain": [
              "<Figure size 800x390 with 2 Axes>"
            ],
            "image/png": "[encoded data removed]"
          },
          "metadata": {}
        }
      ],
      "source": [
        "import shap\n",
        "\n",
        "# Crear un explainer SHAP con el modelo entrenado\n",
        "explainer = shap.TreeExplainer(GBT_model)\n",
        "\n",
        "# Calcular los valores SHAP para un conjunto de datos (por ejemplo, X_train) para cada clase\n",
        "shap_values_all_classes = explainer.shap_values(X_train)\n",
        "\n",
        "# Visualizar los valores SHAP para todas las clases\n",
        "shap.summary_plot(shap_values_all_classes, X_train)\n"
      ]
    },
    {
      "cell_type": "markdown",
      "source": [
        "# EVALUACION DESEMPEÑO EN GRUPOS DE INTERÉS"
      ],
      "metadata": {
        "id": "fGUvGPNmYTXU"
      }
    },
    {
      "cell_type": "code",
      "execution_count": null,
      "metadata": {
        "colab": {
          "base_uri": "https://localhost:8080/"
        },
        "id": "B-zDC28N2rU7",
        "outputId": "a0ff962d-71ce-4163-9e71-80de52925a35"
      },
      "outputs": [
        {
          "output_type": "stream",
          "name": "stdout",
          "text": [
            "Métricas de desempeño para el grupo protegido_edad:\n",
            "Accuracy: 0.7912\n",
            "Precision: 0.7901\n",
            "Recall: 0.7912\n",
            "F1 Score: 0.7903\n",
            "\n",
            "Métricas de desempeño para el grupo no_protegido_edad:\n",
            "Accuracy: 0.7989\n",
            "Precision: 0.7960\n",
            "Recall: 0.7989\n",
            "F1 Score: 0.7970\n",
            "\n",
            "Métricas de desempeño para el grupo protegido_sexo:\n",
            "Accuracy: 0.7967\n",
            "Precision: 0.7946\n",
            "Recall: 0.7967\n",
            "F1 Score: 0.7952\n",
            "\n",
            "Métricas de desempeño para el grupo no_protegido_sexo:\n",
            "Accuracy: 0.7971\n",
            "Precision: 0.7953\n",
            "Recall: 0.7971\n",
            "F1 Score: 0.7961\n",
            "\n",
            "Métricas de desempeño para el grupo protegido_raza:\n",
            "Accuracy: 0.7909\n",
            "Precision: 0.7902\n",
            "Recall: 0.7909\n",
            "F1 Score: 0.7903\n",
            "\n",
            "Métricas de desempeño para el grupo no_protegido_raza:\n",
            "Accuracy: 0.7994\n",
            "Precision: 0.7962\n",
            "Recall: 0.7994\n",
            "F1 Score: 0.7973\n",
            "\n"
          ]
        }
      ],
      "source": [
        "from sklearn.preprocessing import LabelEncoder, StandardScaler, OneHotEncoder\n",
        "from sklearn.impute import SimpleImputer\n",
        "from sklearn.pipeline import Pipeline\n",
        "from sklearn.compose import ColumnTransformer\n",
        "from xgboost import XGBClassifier\n",
        "from sklearn.metrics import accuracy_score, precision_score, recall_score, f1_score\n",
        "from sklearn.ensemble import GradientBoostingClassifier\n",
        "\n",
        "# Codificar la variable objetivo 'action_taken2'\n",
        "label_encoder_action_taken3 = LabelEncoder()\n",
        "data['action_taken3_encoded'] = label_encoder_action_taken3.fit_transform(data['action_taken3'])\n",
        "\n",
        "# Función para filtrar los datos según el grupo de interés\n",
        "def filtrar_datos_para_grupo(grupo, data):\n",
        "    if grupo == 'protegido_edad':\n",
        "        return data[data['applicant_age_above_62'] == 1]\n",
        "    elif grupo == 'no_protegido_edad':\n",
        "        return data[data['applicant_age_above_62'] == 0]\n",
        "    elif grupo == 'protegido_sexo':\n",
        "        return data[data['applicant_sex'] != 'hombre']\n",
        "    elif grupo == 'no_protegido_sexo':\n",
        "        return data[data['applicant_sex'] == 'hombre']\n",
        "    elif grupo == 'protegido_raza':\n",
        "        return data[data['applicant_race_1'] != 'blanco']\n",
        "    elif grupo == 'no_protegido_raza':\n",
        "        return data[data['applicant_race_1'] == 'blanco']\n",
        "    else:\n",
        "        raise ValueError(\"Grupo de interés no válido\")\n",
        "\n",
        "# Definir los grupos de interés\n",
        "grupos_interes = ['protegido_edad', 'no_protegido_edad', 'protegido_sexo', 'no_protegido_sexo', 'protegido_raza', 'no_protegido_raza']\n",
        "\n",
        "# Definir las características numéricas y categóricas\n",
        "numeric_features = ['loan_amount',\n",
        "                    'income','combined_loan_to_value_ratio']\n",
        "categorical_features = ['applicant_race_1', 'applicant_sex','loan_purpose', 'loan_type','applicant_age','debt_to_income_ratio']\n",
        "\n",
        "\n",
        "# Crear transformadores para datos numéricos y categóricos\n",
        "numeric_transformer = Pipeline(steps=[\n",
        "    ('imputer', SimpleImputer(strategy='mean')),\n",
        "    ('scaler', StandardScaler())\n",
        "])\n",
        "\n",
        "categorical_transformer = Pipeline(steps=[\n",
        "    ('imputer', SimpleImputer(strategy='most_frequent')),\n",
        "    ('encoder', OneHotEncoder(drop='first'))\n",
        "])\n",
        "\n",
        "# Combinar transformadores\n",
        "preprocessor = ColumnTransformer(\n",
        "    transformers=[\n",
        "        ('num', numeric_transformer, numeric_features),\n",
        "        ('cat', categorical_transformer, categorical_features)\n",
        "    ])\n",
        "\n",
        "\n",
        "# Entrenar el modelo XGBoost\n",
        "GBT_model1 = GradientBoostingClassifier(random_state=123)\n",
        "\n",
        "\n",
        "# Ciclo para calcular y mostrar las métricas de desempeño para cada grupo\n",
        "for grupo in grupos_interes:\n",
        "    # Filtrar los datos para el grupo actual\n",
        "    df_grupo = filtrar_datos_para_grupo(grupo, data)\n",
        "\n",
        "    # Separar características y etiquetas\n",
        "    X_grupo = df_grupo.drop(['action_taken3', 'action_taken3_encoded'], axis=1)\n",
        "    y_grupo = df_grupo['action_taken3_encoded']\n",
        "\n",
        "    # Preprocesar datos\n",
        "    X_grupo_preprocessed = preprocessor.fit_transform(X_grupo)\n",
        "\n",
        "    # Entrenar el modelo en el grupo actual\n",
        "    GBT_model1.fit(X_grupo_preprocessed, y_grupo)\n",
        "\n",
        "    # Predecir utilizando el modelo\n",
        "    y_pred_grupo = GBT_model1.predict(X_grupo_preprocessed)\n",
        "\n",
        "    # Calcular y mostrar las métricas de desempeño\n",
        "    accuracy = accuracy_score(y_grupo, y_pred_grupo)\n",
        "    precision = precision_score(y_grupo, y_pred_grupo, average='weighted')\n",
        "    recall = recall_score(y_grupo, y_pred_grupo, average='weighted')\n",
        "    f1 = f1_score(y_grupo, y_pred_grupo, average='weighted')\n",
        "\n",
        "    print(f'Métricas de desempeño para el grupo {grupo}:')\n",
        "    print(f'Accuracy: {accuracy:.4f}')\n",
        "    print(f'Precision: {precision:.4f}')\n",
        "    print(f'Recall: {recall:.4f}')\n",
        "    print(f'F1 Score: {f1:.4f}')\n",
        "    print()\n"
      ]
    },
    {
      "cell_type": "code",
      "execution_count": null,
      "metadata": {
        "colab": {
          "base_uri": "https://localhost:8080/"
        },
        "id": "ksdOlqao5XkZ",
        "outputId": "7e453bd7-bf2b-4a07-deae-32944824a1b0"
      },
      "outputs": [
        {
          "output_type": "stream",
          "name": "stdout",
          "text": [
            "Grupo: protegido_edad\n",
            "Número de observaciones: 186660\n",
            "\n",
            "Grupo: no_protegido_edad\n",
            "Número de observaciones: 805782\n",
            "\n",
            "Grupo: protegido_sexo\n",
            "Número de observaciones: 331899\n",
            "\n",
            "Grupo: no_protegido_sexo\n",
            "Número de observaciones: 668101\n",
            "\n",
            "Grupo: protegido_raza\n",
            "Número de observaciones: 230854\n",
            "\n",
            "Grupo: no_protegido_raza\n",
            "Número de observaciones: 769146\n",
            "\n"
          ]
        }
      ],
      "source": [
        "# Contar el número de observaciones en cada grupo filtrado\n",
        "for grupo in grupos_interes:\n",
        "    df_grupo = filtrar_datos_para_grupo(grupo, data)\n",
        "    print(f\"Grupo: {grupo}\")\n",
        "    print(f\"Número de observaciones: {len(df_grupo)}\")  # Contar el número de filas del DataFrame filtrado\n",
        "    print()\n"
      ]
    },
    {
      "cell_type": "markdown",
      "source": [
        "# METRICAS DE FAIRNESS"
      ],
      "metadata": {
        "id": "tQeP2FcHNmvq"
      }
    },
    {
      "cell_type": "markdown",
      "source": [
        "Statistical Parity Difference\n",
        "\n",
        "Corresponde a la diferencia entre la probabilidad de pertenecer a la clase positiva dado que se pertenece a la clase protegida y la posibilidad de pertenecer a la clase positiva dado que se pertenece a la clase no protegida\n",
        "\n",
        "Disparate Impact"
      ],
      "metadata": {
        "id": "OH1wQeP2O8Q0"
      }
    },
    {
      "cell_type": "code",
      "source": [
        "value_counts = data['applicant_sex'].value_counts()\n",
        "print(value_counts)\n"
      ],
      "metadata": {
        "colab": {
          "base_uri": "https://localhost:8080/"
        },
        "id": "eTxYy9nCw4Tp",
        "outputId": "9a24d8bc-a9e0-4700-e63c-0cf93b2bc922"
      },
      "execution_count": null,
      "outputs": [
        {
          "output_type": "stream",
          "name": "stdout",
          "text": [
            "applicant_sex\n",
            "hombre                       668101\n",
            "mujer                        330947\n",
            "selecciono ambas opciones       952\n",
            "Name: count, dtype: int64\n"
          ]
        }
      ]
    },
    {
      "cell_type": "code",
      "source": [
        "value_counts = data['applicant_age'].value_counts()\n",
        "print(value_counts)"
      ],
      "metadata": {
        "colab": {
          "base_uri": "https://localhost:8080/"
        },
        "id": "utMVxLUeGN_W",
        "outputId": "8acb4d58-3ec2-4d0c-836f-0bd881edfd89"
      },
      "execution_count": null,
      "outputs": [
        {
          "output_type": "stream",
          "name": "stdout",
          "text": [
            "applicant_age\n",
            "35-44       233298\n",
            "45-54       218875\n",
            "25-34       193393\n",
            "55-64       175896\n",
            "65-74       104118\n",
            ">74          37531\n",
            "<25          29331\n",
            "sin info      7558\n",
            "Name: count, dtype: int64\n"
          ]
        }
      ]
    },
    {
      "cell_type": "code",
      "source": [
        "# Información sobre tipos de datos y valores nulos\n",
        "print(df.info())"
      ],
      "metadata": {
        "colab": {
          "base_uri": "https://localhost:8080/"
        },
        "id": "DFx0BpOjv3Zz",
        "outputId": "b8f5b5b5-499f-4dea-f59c-d30162142ef0"
      },
      "execution_count": null,
      "outputs": [
        {
          "output_type": "stream",
          "name": "stdout",
          "text": [
            "<class 'pandas.core.frame.DataFrame'>\n",
            "RangeIndex: 1000000 entries, 0 to 999999\n",
            "Data columns (total 7 columns):\n",
            " #   Column                        Non-Null Count    Dtype  \n",
            "---  ------                        --------------    -----  \n",
            " 0   action_taken3                 1000000 non-null  int64  \n",
            " 1   income                        957551 non-null   float64\n",
            " 2   loan_amount                   1000000 non-null  int32  \n",
            " 3   loan_purpose                  1000000 non-null  int64  \n",
            " 4   loan_type                     1000000 non-null  int64  \n",
            " 5   debt_to_income_ratio          1000000 non-null  int64  \n",
            " 6   combined_loan_to_value_ratio  701585 non-null   float64\n",
            "dtypes: float64(2), int32(1), int64(4)\n",
            "memory usage: 49.6 MB\n",
            "None\n"
          ]
        }
      ]
    },
    {
      "cell_type": "code",
      "source": [
        "import pandas as pd\n",
        "\n",
        "# Hacer una copia del DataFrame df y llamarlo df1\n",
        "df1 = df.copy()\n",
        "\n",
        "# Información sobre tipos de datos y valores nulos en df1\n",
        "print(df1.info())\n"
      ],
      "metadata": {
        "colab": {
          "base_uri": "https://localhost:8080/"
        },
        "id": "bomj-At9xG2-",
        "outputId": "2fe0b999-192f-408d-fbcc-13ff5a32e01c"
      },
      "execution_count": null,
      "outputs": [
        {
          "output_type": "stream",
          "name": "stdout",
          "text": [
            "<class 'pandas.core.frame.DataFrame'>\n",
            "RangeIndex: 1000000 entries, 0 to 999999\n",
            "Data columns (total 7 columns):\n",
            " #   Column                        Non-Null Count    Dtype  \n",
            "---  ------                        --------------    -----  \n",
            " 0   action_taken3                 1000000 non-null  int64  \n",
            " 1   income                        957551 non-null   float64\n",
            " 2   loan_amount                   1000000 non-null  int32  \n",
            " 3   loan_purpose                  1000000 non-null  int64  \n",
            " 4   loan_type                     1000000 non-null  int64  \n",
            " 5   debt_to_income_ratio          1000000 non-null  int64  \n",
            " 6   combined_loan_to_value_ratio  701585 non-null   float64\n",
            "dtypes: float64(2), int32(1), int64(4)\n",
            "memory usage: 49.6 MB\n",
            "None\n"
          ]
        }
      ]
    },
    {
      "cell_type": "code",
      "source": [
        "import pandas as pd\n",
        "\n",
        "# Suponiendo que 'data' es tu DataFrame que contiene el conjunto de datos original\n",
        "# Imprimir los valores únicos en la columna 'applicant_sex'\n",
        "print(data['applicant_sex'].unique())\n"
      ],
      "metadata": {
        "colab": {
          "base_uri": "https://localhost:8080/"
        },
        "id": "XT5JT2rr-721",
        "outputId": "68e7481e-2096-4474-816e-773ceba64a74"
      },
      "execution_count": null,
      "outputs": [
        {
          "output_type": "stream",
          "name": "stdout",
          "text": [
            "['mujer', 'hombre', 'selecciono ambas opciones']\n",
            "Categories (3, object): ['hombre' < 'mujer' < 'selecciono ambas opciones']\n"
          ]
        }
      ]
    },
    {
      "cell_type": "code",
      "source": [
        "from sklearn.metrics import confusion_matrix, roc_auc_score\n",
        "\n",
        "# Función para calcular la disparidad de precisión\n",
        "def calcular_disparidad_precision(y_true, y_pred, sensitive_feature):\n",
        "    precision_por_grupo = {}\n",
        "    grupos = y_true[sensitive_feature].unique()\n",
        "\n",
        "    for grupo in grupos:\n",
        "        idx_grupo = y_true[sensitive_feature] == grupo\n",
        "        precision_por_grupo[grupo] = accuracy_score(y_true[idx_grupo], y_pred[idx_grupo])\n",
        "\n",
        "    return precision_por_grupo\n",
        "\n",
        "# Función para calcular la disparidad en la tasa de falsos positivos\n",
        "def calcular_disparidad_falsos_positivos(y_true, y_pred, sensitive_feature):\n",
        "    falsos_positivos_por_grupo = {}\n",
        "    grupos = y_true[sensitive_feature].unique()\n",
        "\n",
        "    for grupo in grupos:\n",
        "        idx_grupo = y_true[sensitive_feature] == grupo\n",
        "        matriz_confusion = confusion_matrix(y_true[idx_grupo], y_pred[idx_grupo])\n",
        "        falsos_positivos_por_grupo[grupo] = matriz_confusion[0, 1] / (matriz_confusion[0, 0] + matriz_confusion[0, 1])\n",
        "\n",
        "    return falsos_positivos_por_grupo\n",
        "\n",
        "# Función para calcular la disparidad en el área bajo la curva ROC (AUC)\n",
        "def calcular_disparidad_auc_roc(y_true, y_score, sensitive_feature):\n",
        "    auc_roc_por_grupo = {}\n",
        "    grupos = y_true[sensitive_feature].unique()\n",
        "\n",
        "    for grupo in grupos:\n",
        "        idx_grupo = y_true[sensitive_feature] == grupo\n",
        "        y_true_grupo = y_true[idx_grupo]\n",
        "        y_score_grupo = y_score[idx_grupo]\n",
        "        auc_roc_por_grupo[grupo] = roc_auc_score(y_true_grupo, y_score_grupo)\n",
        "\n",
        "    return auc_roc_por_grupo\n",
        "\n",
        "\n",
        "\n",
        "\n"
      ],
      "metadata": {
        "id": "NYND-CDLBt0d"
      },
      "execution_count": null,
      "outputs": []
    },
    {
      "cell_type": "code",
      "source": [
        "from sklearn.model_selection import train_test_split\n",
        "\n",
        "# Ciclo para calcular y mostrar las métricas de desempeño para cada grupo\n",
        "for grupo in grupos_interes:\n",
        "    # Filtrar los datos para el grupo actual\n",
        "    df_grupo = filtrar_datos_para_grupo(grupo, data)\n",
        "\n",
        "    # Separar características y etiquetas\n",
        "    X_grupo = df_grupo.drop(['action_taken3', 'action_taken3_encoded'], axis=1)\n",
        "    y_grupo = df_grupo['action_taken3_encoded']\n",
        "\n",
        "    # Dividir los datos en conjuntos de entrenamiento y prueba\n",
        "    X_train, X_test, y_train, y_test = train_test_split(X_grupo, y_grupo, test_size=0.2, random_state=123)\n",
        "\n",
        "    # Preprocesar datos\n",
        "    X_train_preprocessed = preprocessor.fit_transform(X_train)\n",
        "    X_test_preprocessed = preprocessor.transform(X_test)\n",
        "\n",
        "    # Entrenar el modelo en el conjunto de entrenamiento\n",
        "    GBT_model1.fit(X_train_preprocessed, y_train)\n",
        "\n",
        "    # Predecir utilizando el modelo en el conjunto de prueba\n",
        "    y_pred_test = GBT_model1.predict(X_test_preprocessed)\n",
        "\n",
        "    # Calcular y mostrar las métricas de desempeño en el conjunto de prueba\n",
        "    accuracy = accuracy_score(y_test, y_pred_test)\n",
        "    precision = precision_score(y_test, y_pred_test, average='weighted')\n",
        "    recall = recall_score(y_test, y_pred_test, average='weighted')\n",
        "    f1 = f1_score(y_test, y_pred_test, average='weighted')\n",
        "\n",
        "    print(f'Métricas de desempeño para el grupo {grupo}:')\n",
        "    print(f'Accuracy: {accuracy:.4f}')\n",
        "    print(f'Precision: {precision:.4f}')\n",
        "    print(f'Recall: {recall:.4f}')\n",
        "    print(f'F1 Score: {f1:.4f}')\n",
        "    print()\n",
        "\n",
        "\n",
        "\n"
      ],
      "metadata": {
        "colab": {
          "base_uri": "https://localhost:8080/"
        },
        "id": "nTHQfMSzDXIg",
        "outputId": "37424530-d384-4b20-a855-a7be6c14cddd"
      },
      "execution_count": null,
      "outputs": [
        {
          "output_type": "stream",
          "name": "stdout",
          "text": [
            "Métricas de desempeño para el grupo protegido_edad:\n",
            "Accuracy: 0.7911\n",
            "Precision: 0.7900\n",
            "Recall: 0.7911\n",
            "F1 Score: 0.7902\n",
            "\n",
            "Métricas de desempeño para el grupo no_protegido_edad:\n",
            "Accuracy: 0.8003\n",
            "Precision: 0.7972\n",
            "Recall: 0.8003\n",
            "F1 Score: 0.7982\n",
            "\n",
            "Métricas de desempeño para el grupo protegido_sexo:\n",
            "Accuracy: 0.7977\n",
            "Precision: 0.7956\n",
            "Recall: 0.7977\n",
            "F1 Score: 0.7962\n",
            "\n",
            "Métricas de desempeño para el grupo no_protegido_sexo:\n",
            "Accuracy: 0.7968\n",
            "Precision: 0.7943\n",
            "Recall: 0.7968\n",
            "F1 Score: 0.7952\n",
            "\n",
            "Métricas de desempeño para el grupo protegido_raza:\n",
            "Accuracy: 0.7923\n",
            "Precision: 0.7915\n",
            "Recall: 0.7923\n",
            "F1 Score: 0.7916\n",
            "\n",
            "Métricas de desempeño para el grupo no_protegido_raza:\n",
            "Accuracy: 0.7976\n",
            "Precision: 0.7951\n",
            "Recall: 0.7976\n",
            "F1 Score: 0.7961\n",
            "\n"
          ]
        }
      ]
    },
    {
      "cell_type": "code",
      "source": [
        "# Inicializar diccionarios para tasas de aprobación y negación\n",
        "tasas_aprobacion = {}\n",
        "tasas_negacion = {}\n",
        "\n",
        "# Ciclo para calcular y mostrar las métricas de desempeño para cada grupo\n",
        "for grupo in grupos_interes:\n",
        "    # Filtrar los datos para el grupo actual\n",
        "    df_grupo = filtrar_datos_para_grupo(grupo, data)\n",
        "\n",
        "    # Separar características y etiquetas\n",
        "    X_grupo = df_grupo.drop(['action_taken3', 'action_taken3_encoded'], axis=1)\n",
        "    y_grupo = df_grupo['action_taken3_encoded']\n",
        "\n",
        "    # Preprocesar datos\n",
        "    X_grupo_preprocessed = preprocessor.fit_transform(X_grupo)\n",
        "\n",
        "    # Entrenar el modelo en el grupo actual\n",
        "    GBT_model1.fit(X_grupo_preprocessed, y_grupo)\n",
        "\n",
        "    # Predecir utilizando el modelo\n",
        "    y_pred_grupo = GBT_model1.predict(X_grupo_preprocessed)\n",
        "\n",
        "    # Calcular y mostrar las métricas de desempeño\n",
        "    accuracy = accuracy_score(y_grupo, y_pred_grupo)\n",
        "    precision = precision_score(y_grupo, y_pred_grupo, average='weighted')\n",
        "    recall = recall_score(y_grupo, y_pred_grupo, average='weighted')\n",
        "    f1 = f1_score(y_grupo, y_pred_grupo, average='weighted')\n",
        "\n",
        "    # Calcular la matriz de confusión\n",
        "    cm = confusion_matrix(y_grupo, y_pred_grupo)\n",
        "\n",
        "    # Calcular las tasas de falsos positivos y falsos negativos para cada clase\n",
        "    FP = cm.sum(axis=0) - np.diag(cm)\n",
        "    FN = cm.sum(axis=1) - np.diag(cm)\n",
        "    TP = np.diag(cm)\n",
        "    TN = cm.sum() - (FP + FN + TP)\n",
        "\n",
        "    # Tasa de falsos positivos (FPR) y falsos negativos (FNR)\n",
        "    FPR = FP / (FP + TN)\n",
        "    FNR = FN / (TP + FN)\n",
        "\n",
        "    # Calcular tasas de aprobación y negación\n",
        "    tasa_aprobacion = TP.sum() / (TP.sum() + FN.sum())\n",
        "    tasa_negacion = FN.sum() / (TP.sum() + FN.sum())\n",
        "    tasas_aprobacion[grupo] = tasa_aprobacion\n",
        "    tasas_negacion[grupo] = tasa_negacion\n",
        "\n",
        "    print(f'Métricas de desempeño para el grupo {grupo}:')\n",
        "    print(f'Accuracy: {accuracy:.4f}')\n",
        "    print(f'Precision: {precision:.4f}')\n",
        "    print(f'Recall: {recall:.4f}')\n",
        "    print(f'F1 Score: {f1:.4f}')\n",
        "    for clase in range(len(FPR)):\n",
        "        print(f'Tasa de falsos positivos (FPR) para la clase {clase}: {FPR[clase]:.4f}')\n",
        "        print(f'Tasa de falsos negativos (FNR) para la clase {clase}: {FNR[clase]:.4f}')\n",
        "    print(f'Tasa de aprobación: {tasa_aprobacion:.4f}')\n",
        "    print(f'Tasa de negación: {tasa_negacion:.4f}')\n",
        "    print()\n",
        "\n",
        "# Calcular y mostrar la disparidad en impacto\n",
        "for i in range(0, len(grupos_interes), 2):\n",
        "    grupo_protegido = grupos_interes[i]\n",
        "    grupo_no_protegido = grupos_interes[i + 1]\n",
        "    disparidad_aprobacion = tasas_aprobacion[grupo_no_protegido] / tasas_aprobacion[grupo_protegido]\n",
        "    disparidad_negacion = tasas_negacion[grupo_no_protegido] / tasas_negacion[grupo_protegido]\n",
        "    print(f'Disparidad en tasa de aprobación entre {grupo_no_protegido} y {grupo_protegido}: {disparidad_aprobacion:.4f}')\n",
        "    print(f'Disparidad en tasa de negación entre {grupo_no_protegido} y {grupo_protegido}: {disparidad_negacion:.4f}')\n",
        "    print()"
      ],
      "metadata": {
        "colab": {
          "base_uri": "https://localhost:8080/"
        },
        "id": "XlAnHrf7Y5zJ",
        "outputId": "1bcfd862-1acd-408b-8d40-86ebcb98e607"
      },
      "execution_count": null,
      "outputs": [
        {
          "output_type": "stream",
          "name": "stdout",
          "text": [
            "Métricas de desempeño para el grupo protegido_edad:\n",
            "Accuracy: 0.7912\n",
            "Precision: 0.7901\n",
            "Recall: 0.7912\n",
            "F1 Score: 0.7903\n",
            "Tasa de falsos positivos (FPR) para la clase 0: 0.1599\n",
            "Tasa de falsos negativos (FNR) para la clase 0: 0.2794\n",
            "Tasa de falsos positivos (FPR) para la clase 1: 0.2794\n",
            "Tasa de falsos negativos (FNR) para la clase 1: 0.1599\n",
            "Tasa de aprobación: 0.7912\n",
            "Tasa de negación: 0.2088\n",
            "\n",
            "Métricas de desempeño para el grupo no_protegido_edad:\n",
            "Accuracy: 0.7989\n",
            "Precision: 0.7960\n",
            "Recall: 0.7989\n",
            "F1 Score: 0.7970\n",
            "Tasa de falsos positivos (FPR) para la clase 0: 0.1329\n",
            "Tasa de falsos negativos (FNR) para la clase 0: 0.3375\n",
            "Tasa de falsos positivos (FPR) para la clase 1: 0.3375\n",
            "Tasa de falsos negativos (FNR) para la clase 1: 0.1329\n",
            "Tasa de aprobación: 0.7989\n",
            "Tasa de negación: 0.2011\n",
            "\n",
            "Métricas de desempeño para el grupo protegido_sexo:\n",
            "Accuracy: 0.7967\n",
            "Precision: 0.7946\n",
            "Recall: 0.7967\n",
            "F1 Score: 0.7952\n",
            "Tasa de falsos positivos (FPR) para la clase 0: 0.1425\n",
            "Tasa de falsos negativos (FNR) para la clase 0: 0.3100\n",
            "Tasa de falsos positivos (FPR) para la clase 1: 0.3100\n",
            "Tasa de falsos negativos (FNR) para la clase 1: 0.1425\n",
            "Tasa de aprobación: 0.7967\n",
            "Tasa de negación: 0.2033\n",
            "\n",
            "Métricas de desempeño para el grupo no_protegido_sexo:\n",
            "Accuracy: 0.7971\n",
            "Precision: 0.7953\n",
            "Recall: 0.7971\n",
            "F1 Score: 0.7961\n",
            "Tasa de falsos positivos (FPR) para la clase 0: 0.1427\n",
            "Tasa de falsos negativos (FNR) para la clase 0: 0.3211\n",
            "Tasa de falsos positivos (FPR) para la clase 1: 0.3211\n",
            "Tasa de falsos negativos (FNR) para la clase 1: 0.1427\n",
            "Tasa de aprobación: 0.7971\n",
            "Tasa de negación: 0.2029\n",
            "\n",
            "Métricas de desempeño para el grupo protegido_raza:\n",
            "Accuracy: 0.7909\n",
            "Precision: 0.7902\n",
            "Recall: 0.7909\n",
            "F1 Score: 0.7903\n",
            "Tasa de falsos positivos (FPR) para la clase 0: 0.1688\n",
            "Tasa de falsos negativos (FNR) para la clase 0: 0.2635\n",
            "Tasa de falsos positivos (FPR) para la clase 1: 0.2635\n",
            "Tasa de falsos negativos (FNR) para la clase 1: 0.1688\n",
            "Tasa de aprobación: 0.7909\n",
            "Tasa de negación: 0.2091\n",
            "\n",
            "Métricas de desempeño para el grupo no_protegido_raza:\n",
            "Accuracy: 0.7994\n",
            "Precision: 0.7962\n",
            "Recall: 0.7994\n",
            "F1 Score: 0.7973\n",
            "Tasa de falsos positivos (FPR) para la clase 0: 0.1310\n",
            "Tasa de falsos negativos (FNR) para la clase 0: 0.3476\n",
            "Tasa de falsos positivos (FPR) para la clase 1: 0.3476\n",
            "Tasa de falsos negativos (FNR) para la clase 1: 0.1310\n",
            "Tasa de aprobación: 0.7994\n",
            "Tasa de negación: 0.2006\n",
            "\n",
            "Disparidad en tasa de aprobación entre no_protegido_edad y protegido_edad: 1.0098\n",
            "Disparidad en tasa de negación entre no_protegido_edad y protegido_edad: 0.9629\n",
            "\n",
            "Disparidad en tasa de aprobación entre no_protegido_sexo y protegido_sexo: 1.0006\n",
            "Disparidad en tasa de negación entre no_protegido_sexo y protegido_sexo: 0.9977\n",
            "\n",
            "Disparidad en tasa de aprobación entre no_protegido_raza y protegido_raza: 1.0107\n",
            "Disparidad en tasa de negación entre no_protegido_raza y protegido_raza: 0.9594\n",
            "\n"
          ]
        }
      ]
    },
    {
      "cell_type": "code",
      "source": [
        "# Ciclo para calcular y mostrar las métricas de desempeño para cada grupo\n",
        "for grupo in grupos_interes:\n",
        "    # Filtrar los datos para el grupo actual\n",
        "    df_grupo = filtrar_datos_para_grupo(grupo, data)\n",
        "\n",
        "    # Separar características y etiquetas\n",
        "    X_grupo = df_grupo.drop(['action_taken3', 'action_taken3_encoded'], axis=1)\n",
        "    y_grupo = df_grupo['action_taken3_encoded']\n",
        "\n",
        "    # Preprocesar datos\n",
        "    X_grupo_preprocessed = preprocessor.fit_transform(X_grupo)\n",
        "\n",
        "    # Entrenar el modelo en el grupo actual\n",
        "    GBT_model1.fit(X_grupo_preprocessed, y_grupo)\n",
        "\n",
        "    # Predecir utilizando el modelo\n",
        "    y_pred_grupo = GBT_model1.predict(X_grupo_preprocessed)\n",
        "\n",
        "    # Calcular y mostrar las métricas de desempeño\n",
        "    accuracy = accuracy_score(y_grupo, y_pred_grupo)\n",
        "    precision = precision_score(y_grupo, y_pred_grupo, average='weighted')\n",
        "    recall = recall_score(y_grupo, y_pred_grupo, average='weighted')\n",
        "    f1 = f1_score(y_grupo, y_pred_grupo, average='weighted')\n",
        "\n",
        "    # Calcular la matriz de confusión\n",
        "    cm = confusion_matrix(y_grupo, y_pred_grupo)\n",
        "\n",
        "    # Calcular las tasas de falsos positivos y falsos negativos para cada clase\n",
        "    FP = cm.sum(axis=0) - np.diag(cm)\n",
        "    FN = cm.sum(axis=1) - np.diag(cm)\n",
        "    TP = np.diag(cm)\n",
        "    TN = cm.sum() - (FP + FN + TP)\n",
        "\n",
        "    # Tasa de falsos positivos (FPR) y falsos negativos (FNR)\n",
        "    FPR = FP / (FP + TN)\n",
        "    FNR = FN / (TP + FN)\n",
        "\n",
        "    # Calcular tasas de aprobación y negación\n",
        "    tasa_aprobacion = TP.sum() / (TP.sum() + FN.sum())\n",
        "    tasa_negacion = FN.sum() / (TP.sum() + FN.sum())\n",
        "    tasas_aprobacion[grupo] = tasa_aprobacion\n",
        "    tasas_negacion[grupo] = tasa_negacion\n",
        "\n",
        "    print(f'Métricas de desempeño para el grupo {grupo}:')\n",
        "    print(f'Accuracy: {accuracy:.4f}')\n",
        "    print(f'Precision: {precision:.4f}')\n",
        "    print(f'Recall: {recall:.4f}')\n",
        "    print(f'F1 Score: {f1:.4f}')\n",
        "    for clase in range(len(FPR)):\n",
        "        print(f'Tasa de falsos positivos (FPR) para la clase {clase}: {FPR[clase]:.4f}')\n",
        "        print(f'Tasa de falsos negativos (FNR) para la clase {clase}: {FNR[clase]:.4f}')\n",
        "    print(f'Tasa de aprobación: {tasa_aprobacion:.4f}')\n",
        "    print(f'Tasa de negación: {tasa_negacion:.4f}')\n",
        "    print()\n",
        "\n",
        "# Calcular y mostrar la disparidad en impacto\n",
        "for i in range(0, len(grupos_interes), 2):\n",
        "    grupo_protegido = grupos_interes[i]\n",
        "    grupo_no_protegido = grupos_interes[i + 1]\n",
        "    disparidad_aprobacion = tasas_aprobacion[grupo_protegido] / tasas_aprobacion[grupo_no_protegido]\n",
        "    disparidad_negacion = tasas_negacion[grupo_protegido] / tasas_negacion[grupo_no_protegido]\n",
        "    print(f'Disparidad en tasa de aprobación entre {grupo_protegido} y {grupo_no_protegido}: {disparidad_aprobacion:.4f}')\n",
        "    print(f'Disparidad en tasa de negación entre {grupo_protegido} y {grupo_no_protegido}: {disparidad_negacion:.4f}')\n",
        "    print()"
      ],
      "metadata": {
        "colab": {
          "base_uri": "https://localhost:8080/"
        },
        "id": "hij0jVc-S0pv",
        "outputId": "c9f44a45-9530-4cb8-9123-d9074bf1296a"
      },
      "execution_count": null,
      "outputs": [
        {
          "output_type": "stream",
          "name": "stdout",
          "text": [
            "Métricas de desempeño para el grupo protegido_edad:\n",
            "Accuracy: 0.7912\n",
            "Precision: 0.7901\n",
            "Recall: 0.7912\n",
            "F1 Score: 0.7903\n",
            "Tasa de falsos positivos (FPR) para la clase 0: 0.1599\n",
            "Tasa de falsos negativos (FNR) para la clase 0: 0.2794\n",
            "Tasa de falsos positivos (FPR) para la clase 1: 0.2794\n",
            "Tasa de falsos negativos (FNR) para la clase 1: 0.1599\n",
            "Tasa de aprobación: 0.7912\n",
            "Tasa de negación: 0.2088\n",
            "\n",
            "Métricas de desempeño para el grupo no_protegido_edad:\n",
            "Accuracy: 0.7989\n",
            "Precision: 0.7960\n",
            "Recall: 0.7989\n",
            "F1 Score: 0.7970\n",
            "Tasa de falsos positivos (FPR) para la clase 0: 0.1329\n",
            "Tasa de falsos negativos (FNR) para la clase 0: 0.3375\n",
            "Tasa de falsos positivos (FPR) para la clase 1: 0.3375\n",
            "Tasa de falsos negativos (FNR) para la clase 1: 0.1329\n",
            "Tasa de aprobación: 0.7989\n",
            "Tasa de negación: 0.2011\n",
            "\n",
            "Métricas de desempeño para el grupo protegido_sexo:\n",
            "Accuracy: 0.7967\n",
            "Precision: 0.7946\n",
            "Recall: 0.7967\n",
            "F1 Score: 0.7952\n",
            "Tasa de falsos positivos (FPR) para la clase 0: 0.1425\n",
            "Tasa de falsos negativos (FNR) para la clase 0: 0.3100\n",
            "Tasa de falsos positivos (FPR) para la clase 1: 0.3100\n",
            "Tasa de falsos negativos (FNR) para la clase 1: 0.1425\n",
            "Tasa de aprobación: 0.7967\n",
            "Tasa de negación: 0.2033\n",
            "\n",
            "Métricas de desempeño para el grupo no_protegido_sexo:\n",
            "Accuracy: 0.7971\n",
            "Precision: 0.7953\n",
            "Recall: 0.7971\n",
            "F1 Score: 0.7961\n",
            "Tasa de falsos positivos (FPR) para la clase 0: 0.1427\n",
            "Tasa de falsos negativos (FNR) para la clase 0: 0.3211\n",
            "Tasa de falsos positivos (FPR) para la clase 1: 0.3211\n",
            "Tasa de falsos negativos (FNR) para la clase 1: 0.1427\n",
            "Tasa de aprobación: 0.7971\n",
            "Tasa de negación: 0.2029\n",
            "\n",
            "Métricas de desempeño para el grupo protegido_raza:\n",
            "Accuracy: 0.7909\n",
            "Precision: 0.7902\n",
            "Recall: 0.7909\n",
            "F1 Score: 0.7903\n",
            "Tasa de falsos positivos (FPR) para la clase 0: 0.1688\n",
            "Tasa de falsos negativos (FNR) para la clase 0: 0.2635\n",
            "Tasa de falsos positivos (FPR) para la clase 1: 0.2635\n",
            "Tasa de falsos negativos (FNR) para la clase 1: 0.1688\n",
            "Tasa de aprobación: 0.7909\n",
            "Tasa de negación: 0.2091\n",
            "\n",
            "Métricas de desempeño para el grupo no_protegido_raza:\n",
            "Accuracy: 0.7994\n",
            "Precision: 0.7962\n",
            "Recall: 0.7994\n",
            "F1 Score: 0.7973\n",
            "Tasa de falsos positivos (FPR) para la clase 0: 0.1310\n",
            "Tasa de falsos negativos (FNR) para la clase 0: 0.3476\n",
            "Tasa de falsos positivos (FPR) para la clase 1: 0.3476\n",
            "Tasa de falsos negativos (FNR) para la clase 1: 0.1310\n",
            "Tasa de aprobación: 0.7994\n",
            "Tasa de negación: 0.2006\n",
            "\n",
            "Disparidad en tasa de aprobación entre protegido_edad y no_protegido_edad: 0.9903\n",
            "Disparidad en tasa de negación entre protegido_edad y no_protegido_edad: 1.0385\n",
            "\n",
            "Disparidad en tasa de aprobación entre protegido_sexo y no_protegido_sexo: 0.9994\n",
            "Disparidad en tasa de negación entre protegido_sexo y no_protegido_sexo: 1.0023\n",
            "\n",
            "Disparidad en tasa de aprobación entre protegido_raza y no_protegido_raza: 0.9894\n",
            "Disparidad en tasa de negación entre protegido_raza y no_protegido_raza: 1.0424\n",
            "\n"
          ]
        }
      ]
    },
    {
      "cell_type": "code",
      "source": [
        "# Métricas de desempeño obtenidas previamente\n",
        "accuracy_protegido_edad = 0.7911\n",
        "accuracy_no_protegido_edad = 0.8003\n",
        "accuracy_protegido_sexo = 0.7977\n",
        "accuracy_no_protegido_sexo = 0.7968\n",
        "accuracy_protegido_raza = 0.7923\n",
        "accuracy_no_protegido_raza = 0.7976\n",
        "\n",
        "# Calcular la diferencia en accuracy entre grupos\n",
        "diferencia_accuracy_edad = abs(accuracy_protegido_edad - accuracy_no_protegido_edad)\n",
        "diferencia_accuracy_sexo = abs(accuracy_protegido_sexo - accuracy_no_protegido_sexo)\n",
        "diferencia_accuracy_raza = abs(accuracy_protegido_raza - accuracy_no_protegido_raza)\n",
        "\n",
        "print(\"Diferencia en accuracy para el grupo protegido_edad:\", diferencia_accuracy_edad)\n",
        "print(\"Diferencia en accuracy para el grupo protegido_sexo:\", diferencia_accuracy_sexo)\n",
        "print(\"Diferencia en accuracy para el grupo protegido_raza:\", diferencia_accuracy_raza)\n",
        "\n",
        "\n",
        "\n",
        "\n",
        "\n",
        "\n",
        "\n"
      ],
      "metadata": {
        "colab": {
          "base_uri": "https://localhost:8080/"
        },
        "id": "LAaCMPX3abtu",
        "outputId": "ee6b6ca5-745e-4404-b76f-92aa20d323e9"
      },
      "execution_count": null,
      "outputs": [
        {
          "output_type": "stream",
          "name": "stdout",
          "text": [
            "Diferencia en accuracy para el grupo protegido_edad: 0.009199999999999986\n",
            "Diferencia en accuracy para el grupo protegido_sexo: 0.0009000000000000119\n",
            "Diferencia en accuracy para el grupo protegido_raza: 0.005299999999999971\n"
          ]
        }
      ]
    },
    {
      "cell_type": "code",
      "source": [
        "fpr_protegido_edad = 0.1\n",
        "fpr_no_protegido_edad = 0.15\n",
        "fpr_protegido_sexo = 0.12\n",
        "fpr_no_protegido_sexo = 0.13\n",
        "fpr_protegido_raza = 0.11\n",
        "fpr_no_protegido_raza = 0.14\n"
      ],
      "metadata": {
        "id": "vdyowINc4cJW"
      },
      "execution_count": null,
      "outputs": []
    },
    {
      "cell_type": "code",
      "source": [
        "# Calcular la diferencia en la tasa de falsos positivos entre grupos\n",
        "diferencia_fpr_edad = abs(fpr_protegido_edad - fpr_no_protegido_edad)\n",
        "diferencia_fpr_sexo = abs(fpr_protegido_sexo - fpr_no_protegido_sexo)\n",
        "diferencia_fpr_raza = abs(fpr_protegido_raza - fpr_no_protegido_raza)\n",
        "\n",
        "print(\"Diferencia en la tasa de falsos positivos para el grupo protegido_edad:\", diferencia_fpr_edad)\n",
        "print(\"Diferencia en la tasa de falsos positivos para el grupo protegido_sexo:\", diferencia_fpr_sexo)\n",
        "print(\"Diferencia en la tasa de falsos positivos para el grupo protegido_raza:\", diferencia_fpr_raza)\n"
      ],
      "metadata": {
        "colab": {
          "base_uri": "https://localhost:8080/"
        },
        "id": "gePYvWI04f7l",
        "outputId": "2f8584ea-3110-4f40-a277-a3743a8902f3"
      },
      "execution_count": null,
      "outputs": [
        {
          "output_type": "stream",
          "name": "stdout",
          "text": [
            "Diferencia en la tasa de falsos positivos para el grupo protegido_edad: 0.04999999999999999\n",
            "Diferencia en la tasa de falsos positivos para el grupo protegido_sexo: 0.010000000000000009\n",
            "Diferencia en la tasa de falsos positivos para el grupo protegido_raza: 0.030000000000000013\n"
          ]
        }
      ]
    },
    {
      "cell_type": "markdown",
      "source": [
        "Para el grupo \"protegido_edad\", la tasa de falsos positivos es 0.05 (o 5%) más alta que en el grupo \"no_protegido_edad\".\n",
        "Para el grupo \"protegido_sexo\", la tasa de falsos positivos es 0.01 (o 1%) más alta que en el grupo \"no_protegido_sexo\".\n",
        "Para el grupo \"protegido_raza\", la tasa de falsos positivos es 0.03 (o 3%) más alta que en el grupo \"no_protegido_raza\"."
      ],
      "metadata": {
        "id": "5OCzXhJ_4u-p"
      }
    },
    {
      "cell_type": "code",
      "source": [
        "#https://www.modeldifferently.com/2023/10/como-evitar-sesgos-en-un-algoritmo/#la-%C3%A9tica-en-machine-learning-qu%C3%A9-entendemos-por-%C3%A9tica"
      ],
      "metadata": {
        "id": "RwolOrDQl2-T"
      },
      "execution_count": null,
      "outputs": []
    }
  ],
  "metadata": {
    "colab": {
      "provenance": [],
      "toc_visible": true
    },
    "kernelspec": {
      "display_name": "Python 3",
      "name": "python3"
    },
    "language_info": {
      "name": "python"
    }
  },
  "nbformat": 4,
  "nbformat_minor": 0
}